{
  "nbformat": 4,
  "nbformat_minor": 0,
  "metadata": {
    "colab": {
      "name": "What_is_NLP_Ch17_Transformer.ipynb",
      "provenance": [],
      "collapsed_sections": [
        "xwEIcfUWuo0T",
        "jPX5xunZBT-m",
        "GVrbR86ZPAG8",
        "vtWWxYVbT1ga",
        "KgIahi72ivdA",
        "LwqlUGZa1o61",
        "BxSE-TkWMGz9",
        "sq01-wCZPmOW",
        "O3GHtj0Xah7n",
        "AgIxPEZxfNcx",
        "1nrqZAjdgZjj",
        "iJ-4ldgkhKHl",
        "z9KWh4bGhkBW",
        "pTLjvdUriNQL",
        "EyjvqTRlYH1r",
        "86gPgaokZGZ_",
        "yJQX88Pn-Yua",
        "D1DLnB3SAN2l",
        "9vRwnVCgA84s"
      ]
    },
    "kernelspec": {
      "name": "python3",
      "display_name": "Python 3"
    },
    "language_info": {
      "name": "python"
    }
  },
  "cells": [
    {
      "cell_type": "markdown",
      "metadata": {
        "id": "xQpOACm6svem"
      },
      "source": [
        "seq2seq의 단점을 개선하면서도 인코더-디코더 구조를 유지하는 트랜스포머 모델을 통해 챗봇 구현"
      ]
    },
    {
      "cell_type": "markdown",
      "metadata": {
        "id": "vqTgJGmEuosF"
      },
      "source": [
        "## 1) 트랜스포머\n",
        "* 2017년 구글의 \"Attention is all you need\" 논문에 나온 모델\n",
        "* seq2seq 구조인 인코더-디코더를 따르면서도, 논문의 이름처럼 어텐션만으로 구현한 모델\n",
        "  * RNN을 사용하지 않고 인코더-디코더 구조를 설계하였음에도 성능도 RNN보다 우수하다는 특징"
      ]
    },
    {
      "cell_type": "code",
      "metadata": {
        "id": "ApWMQqlMu5Qr"
      },
      "source": [
        "import numpy as np\n",
        "import matplotlib.pyplot as plt\n",
        "import tensorflow as tf"
      ],
      "execution_count": 8,
      "outputs": []
    },
    {
      "cell_type": "markdown",
      "metadata": {
        "id": "xwEIcfUWuo0T"
      },
      "source": [
        "### 1. 기존 seq2seq 모델의 한계\n",
        "* 인코더가 입력 시퀀스를 **하나의 벡터로 압축**하는 과정에서 **입력 시퀀스의 정보가 일부 손실**된다는 단점. 이를 보정하기 위해서 어텐션 사용\n",
        "* 그런데 어텐션을 RNN의 보정을 위한 용도가 아니라, **아예 어텐션으로 인코더와 디코더 만들기**\n",
        "\n",
        "### 2. 트랜스포머의 주요 하이퍼파라미터\n",
        "* **d model** : 트랜스포머의 인코더와 디코더에서의 정해진 입력과 출력의 크기 의미. 임베딩 벡터의 차원 또한 d model이며, 각 인코더와 디코더가 다음 층의 인코더와 디코더로 값을 보낼 때도 이 차원 유지. \n",
        "* **num_layers** : 트랜스포머에서 하나의 인코더와 디코더를 층으로 생각하였을 때, 트랜스포머 모델에서 인코더와 디코더가 총 몇 층으로 구성되었는지를 의미. 논문에서는 각각 총 6개씩 싸음\n",
        "* **num_heads** : 트랜스포머에서는 어텐션을 사용할 때, 1번 하는 것보다 여러 개로 분할해서 병렬로 어텐션을 수행하고 결과값을 다시 하나로 합치는 방식 선택. 이때 이 병렬의 개수 의미.\n",
        "* **d ff**: 트랜스포머 내부에는 피드 포워드 신경망이 존재. 이때 은닉층의 크기 의미. 피드 포워드 신경망의 입력층과 출력층의 크기는 d model"
      ]
    },
    {
      "cell_type": "markdown",
      "metadata": {
        "id": "aH-v1mAAzIVw"
      },
      "source": [
        "### 3. 트랜스포머\n",
        "* RNN 사용하지 않지만 기존의 seq2seq처럼 인코더에서 입력 시퀀스를 입력받고, 디코더에서 출력 시퀀스를 출력하는 인코더-디코더 구조 유지\n",
        "* 다른 점은 인코더와 디코더라는 단위가 **N개 존재**할 수 있다는 점\n",
        "* 이전 seq2seq 구조에서는 인코더와 디코더에서 각각 하나의 RNN이 t개의 시점(time-step)을 가지는 구조였다면, 이번에는 인코더와 디코더라는 단위가 N개로 구성되는 구조. 트랜스포머를 제안한 논문에서는 인코더와 디코더의 개수를 각각 6개 사용\n",
        "* 트랜스포머의 인코더와 디코더는 단순히 각 단어의 임베딩 벡터들을 입력받는 것이 아니라 임베딩 벡터에서 조정된 값을 입력받는데 이에 대해서 알아보기 위해 입력 부분 확대\n",
        "\n",
        "### 4. 포지셔널 인코딩\n",
        "* 트랜스포머의 내부를 이해하기 전에 우선 트랜스포머의 입력에 대해서 알아봄\n",
        "* RNN이 자연어처리에서 유용했던 이유는 **단어의 위치에 따라 단어를 순차적으로 입력**받아서 처리하는 RNN의 특성으로 인해 각 단어의 **위치 정보(positional information)**를 가질 수 있다는 점\n",
        "\n",
        "* **하지만** 트랜스포머는 단어 입력을 순차적으로 받는 방식이 아니므로 단어의 위치 정보를 다른 방식으로 알려줄 필요가 있음\n",
        "  * 트랜스포머는 단어의 위치 정보를 얻기 위해서 **각 단어의 임베딩 벡터에 위치 정보들을 더하여 모델의 입력으로 사용**. 이를 **포지셔녈 인코딩(positional encoding)**이라고 함\n",
        "    * 임베딩 벡터가 인코더의 입력으로 사용되기 전에 인코딩 값이 더해지는 과정\n",
        "    * 트랜스포머는 **사인 함수와 코사인 함수의 값**을 임베딩 벡터에 더해주므로서 단어의 순서 정보를 더하여 줌\n",
        "    * 임베딩 벡터와 포지셔널 인코딩의 덧셈은 사실 임베딩 벡터가 모여 만들어진 '문장 벡터 행렬'과 포지셔널 인코딩 행렬의 덧셈 연산을 통해 이루어짐\n",
        "      * pos: 입력 문장에서의 임베딩 벡터의 위치\n",
        "      * i: 임베딩 벡터 내의 차원의 인덱스 의미\n",
        "        * 임베딩 벡터 내의 각 차원의 인덱스가 짝수면 사인 함수의 값, 홀수면 코사인 함수의 값\n",
        "      * d model: 트랜스포머의 모든 층의 출력 차원을 의미하는 트랜스포머의 하이퍼파라미터. 앞으로 보게 될 트랜스포머의 각종 구조에서 d model의 값이 계속해서 등장하는 이유. 임베딩 벡터 또한 d model의 차원을 가짐.\n",
        "  * 임베딩 벡터에 포지셔널 인코딩값을 더하면 같은 단어라고 하더라도 문장 내의 위치에 따라서 트랜스포머의 입력으로 들어가는 임베딩 벡터의 값이 달라짐. 결국 트랜스포머의 입력은 순서 정보가 고려된 임베딩 벡터."
      ]
    },
    {
      "cell_type": "code",
      "metadata": {
        "id": "_AnMC_gJsrYP"
      },
      "source": [
        "# 최종 버전\n",
        "class PositionalEncoding(tf.keras.layers.Layer):\n",
        "  def __init__(self, position, d_model):\n",
        "    super(PositionalEncoding, self).__init__()\n",
        "    self.pos_encoding = self.positional_encoding(position, d_model)\n",
        "\n",
        "  def get_angles(self, position, i, d_model):\n",
        "    angles = 1 / tf.pow(10000, (2 * (i // 2)) / tf.cast(d_model, tf.float32))\n",
        "    return position * angles\n",
        "\n",
        "  def positional_encoding(self, position, d_model):\n",
        "    angle_rads = self.get_angles(\n",
        "        position=tf.range(position, dtype=tf.float32)[:, tf.newaxis],\n",
        "        i=tf.range(d_model, dtype=tf.float32)[tf.newaxis, :],\n",
        "        d_model=d_model)\n",
        "\n",
        "    # 배열의 짝수 인덱스(2i)에는 사인 함수 적용\n",
        "    sines = tf.math.sin(angle_rads[:, 0::2])\n",
        "\n",
        "    # 배열의 홀수 인덱스(2i+1)에는 코사인 함수 적용\n",
        "    cosines = tf.math.cos(angle_rads[:, 1::2])\n",
        "\n",
        "    angle_rads = np.zeros(angle_rads.shape)\n",
        "    angle_rads[:, 0::2] = sines\n",
        "    angle_rads[:, 1::2] = cosines\n",
        "    pos_encoding = tf.constant(angle_rads)\n",
        "    pos_encoding = pos_encoding[tf.newaxis, ...]\n",
        "\n",
        "    print(pos_encoding.shape)\n",
        "    return tf.cast(pos_encoding, tf.float32)\n",
        "\n",
        "  def call(self, inputs):\n",
        "    return inputs + self.pos_encoding[:, :tf.shape(inputs)[1], :]"
      ],
      "execution_count": 54,
      "outputs": []
    },
    {
      "cell_type": "code",
      "metadata": {
        "colab": {
          "base_uri": "https://localhost:8080/",
          "height": 300
        },
        "id": "tPTL3_QUAz8P",
        "outputId": "82cbf9f2-e538-4db2-b1e6-cd8b171935ad"
      },
      "source": [
        "# 50 x 128의 크기를 가지는 포지셔널 인코딩 행렬을 시각화하여 어떤 형태를 가지는지 확인\n",
        "# 입력 문장의 단어가 50개이면서, 각 단어가 128차원의 임베딩 벡터를 가질 때 사용할 수 있는 행렬\n",
        "\n",
        "# 문장의 길이 50, 임베딩 벡터의 차원 128\n",
        "sample_pos_encoding = PositionalEncoding(50, 128)\n",
        "\n",
        "plt.pcolormesh(sample_pos_encoding.pos_encoding.numpy()[0], cmap='RdBu')\n",
        "plt.xlabel('Depth')\n",
        "plt.xlim((0, 128))\n",
        "plt.ylabel('Position')\n",
        "plt.colorbar()\n",
        "plt.show()"
      ],
      "execution_count": 55,
      "outputs": [
        {
          "output_type": "stream",
          "name": "stdout",
          "text": [
            "(1, 50, 128)\n"
          ]
        },
        {
          "output_type": "display_data",
          "data": {
            "image/png": "[encoded data removed]",
            "text/plain": [
              "<Figure size 432x288 with 2 Axes>"
            ]
          },
          "metadata": {
            "needs_background": "light"
          }
        }
      ]
    },
    {
      "cell_type": "markdown",
      "metadata": {
        "id": "jPX5xunZBT-m"
      },
      "source": [
        "### 5. Attention\n",
        "* 셀프 어텐션은 인코더에서 이루어짐. 본질적으로 Query, Key, Value가 동일한 경우.\n",
        "* 인코더-디코더 어텐션에서는 Query가 디코더의 벡터인 반면, Key와 Value가 인코더의 벡터이므로 셀프 어텐션이라고 부르지 않음\n",
        "  * Query, Key 등이 같다는 것은 벡터의 값이 같다는 것이 아니라 벡터의 출처가 같다는 의미\n",
        "    - 인코더의 셀프 어텐션: Query = Key = Value\n",
        "    - 디코더의 마스크드 셀프 어텐션: Query = Key = Value\n",
        "    - 디코더의 인코더-디코더 어텐션: Query : 디코더 벡터 / Key = Value  : 인코더 벡터\n",
        "\n",
        "### 6. Enoder\n",
        "* 하이퍼파라미터인 num_layers 개수의 인코더 층을 쌓음\n",
        "* 논문에서는 총 6개의 인코더 층을 사용\n",
        "* 하나의 인코더 층은 총 2개의 서브층(sublayer)로 나뉘어짐: **셀프 어텐션과 피드 포워드 신경망**\n",
        "* 멀티 헤드 셀프 어텐션: 셀프 어텐션을 병렬적으로 사용\n",
        "* 포지션 와이즈 피드 포워드 신경망: 우리가 알고있는 일반적인 피드 포워드 신경망\n",
        "\n",
        "### 7. 인코더의 셀프 어텐션\n",
        "#### 1) 셀프 어텐션의 의미와 이점\n",
        "* 어텐션 함수는 주어진 Query에 대해서 모든 Key와의 유사도를 각각 구함. 그리고 구해낸 이 유사도를 가중치로 하여 키와 맵핑되어 있는 각각의 Value에 반영. 그리고 유사도가 반영된 Value를 모두 가중합하여 리턴.\n",
        "* 셀프 어텐션은 어텐션을 자기 자신에게 수행한다는 의미. 앞서 배운 seq2seq에서 어텐션을 사용할 경우의 Q, K, V의 정의 다시 생각\n",
        "  * Q = Query : t 시점의 디코더 셀에서의 은닉 상태\n",
        "  * K = Keys : 모든 시점의 인코더 셀의 은닉 상태들\n",
        "  * V = Values : 모든 시점의 인코더 셀의 은닉 상태들\n",
        "* 그런데 사실 t 시점이라는 것은 계속 변화하면서 반복적으로 쿼리를 수행하므로 결국 전체 시점에 대해서 일반화 가능\n",
        "  * Q = Querys : 모든 시점의 디코더 셀에서의 은닉 상태들\n",
        "  * K = Keys : 모든 시점의 인코더 셀의 은닉 상태들\n",
        "  * V = Values : 모든 시점의 인코더 셀의 은닉 상태들\n",
        "* 기존에는 디코더 셀의 은닉 상태가 Q이고 인코더 셀의 은닉 상태가 K라는 점에서 Q와 K가 서로 다른 값을 가지고 있었음. 그런데 셀프 어텐션에서는 Q, K, V가 전부 동일.\n",
        "  * Q, K, V : 입력 문장의 모든 단어 벡터들\n",
        "\n",
        "#### 2) Q, K, V 벡터 얻기\n",
        "\n",
        "#### 3) Scaled dot-product Attention\n",
        "* Q, K, V 벡터를 얻었다면 지금부터는 기존에 배운 어텐션 메커니즘과 동일. 각 Q 벡터는 모든 K 벡터에 대해서 어텐션 스코어를 구하고, 어텐션 분포를 구한 뒤에 이를 사용하여 모든 V 벡터를 가중합하여 어텐션 값 또는 컨텍스트 벡터를 구하게 됨. 그리고 이를 모든 Q 벡터에 대해서 반복\n",
        "* 트랜스포머에서는 어텐션 챕터에서 사용했던 내적만을 사용하는 어텐션 함수가 아니라 여기에 특정값으로 나눠준 어텐션 함수(아래)를 사용. 이러한 함수를 스케일드 닷-프로덕트 어텐션이라고 함\n",
        "  > score(q, k) = q·k/root(n)\n",
        "* ... 어텐션 스코어에 소프트맥스 함수를 사용하여 어텐션 분포(Attention Distribution)을 구하고, 각 V벡터와 가중합하여 어텐션 값(Attention Value)를 구함. 이를 단어 I에 대한 어텐션 값 또는 단어 I에 대한 컨텍스트 벡터(context vector)라고도 부름\n",
        "\n",
        "#### 4) 행렬 연산으로 일괄 처리하기\n",
        "* 사실 각 단어에 대한 Q, K, V 벡터를 구하고 스케일드 닷-프로덕트 어텐션을 수행하였던 위의 과정들은 벡터 연산이 아니라 행렬 연산을 사용하면 일괄 계산이 가능. 지금까지 벡터 연산으로 설명하였던 이유는 이해를 돕기 위한 과정이고, 실제로는 행렬 연산으로 구현됨\n",
        "  * 각 단어 벡터마다 일일히 가중치 행렬을 곱하는 것이 아니라 **문장 행렬**에 가중치 행렬을 곱하여 Q 행렬, K 행렬, V 행렬을 구함\n",
        "  * 이렇게 어텐션 스코어 행렬 구했으면 남은 것은 어텐션 분포를 구하고, 이를 사용하여 모든 단어에 대한 어텐션 값을 구하는 일\n",
        "  * 이는 간단하게 어텐션 스코어 행렬에 소프트맥스 함수를 사용하고, V 행렬을 곱하는 것으로 해결\n",
        "\n",
        "#### 5) 스케일드 닷-프로덕트 어텐션 구현하기"
      ]
    },
    {
      "cell_type": "code",
      "metadata": {
        "id": "91LxRoFjBLRe"
      },
      "source": [
        "def scaled_dot_product_attention(query, key, value, mask):\n",
        "  # query 크기 : (batch_size, num_heads, query의 문장 길이, d_model/num_heads)\n",
        "  # key 크기 : (batch_size, num_heads, key의 문장 길이, d_model/num_heads)\n",
        "  # value 크기 : (batch_size, num_heads, value의 문장 길이, d_model/num_heads)\n",
        "  # padding_mask : (batch_size, 1, 1, key의 문장 길이)\n",
        "\n",
        "  # Q와 K의 곱. 어텐션 스코어 행렬.\n",
        "  matmul_qk = tf.matmul(query, key, transpose_b=True)\n",
        "\n",
        "  # 스케일링\n",
        "  # dk의 루트값으로 나눠준다.\n",
        "  depth = tf.cast(tf.shape(key)[-1], tf.float32)\n",
        "  logits = matmul_qk / tf.math.sqrt(depth)\n",
        "\n",
        "  # 마스킹. 어텐션 스코어 행렬의 마스킹 할 위치에 매우 작은 음수값을 넣는다.\n",
        "  # 매우 작은 값이므로 소프트맥스 함수를 지나면 행렬의 해당 위치의 값은 0이 된다.\n",
        "  if mask is not None:\n",
        "    logits += (mask * -1e9)\n",
        "\n",
        "  # 소프트맥스 함수는 마지막 차원인 key의 문장 길이 방향으로 수행된다.\n",
        "  # attention weight : (batch_size, num_heads, query의 문장 길이, key의 문장 길이)\n",
        "  attention_weights = tf.nn.softmax(logits, axis=-1)\n",
        "\n",
        "  # output : (batch_size, num_heads, query의 문장 길이, d_model/num_heads)\n",
        "  output = tf.matmul(attention_weights, value)\n",
        "\n",
        "  return output, attention_weights"
      ],
      "execution_count": 56,
      "outputs": []
    },
    {
      "cell_type": "markdown",
      "metadata": {
        "id": "YnzzbFPzJ9Rm"
      },
      "source": [
        "* Q 행렬과 K 행렬을 전치한 행렬 곱하기\n",
        "* 소프트맥스 함수를 사용하여 어텐션 분포 행렬을 얻은 뒤에 V 행렬과 곱함\n",
        "* 코드에서 mask가 사용되는 if문은 아직 배우지 않은 내용으로 지금은 무시하고 넘어감\n"
      ]
    },
    {
      "cell_type": "code",
      "metadata": {
        "id": "bMWh0gXqJ3mi"
      },
      "source": [
        "# scaled_dot_product_attention 함수가 정상 작동하는지 테스트\n",
        "# 우선 temp_q, temp_k, temp_v라는 임의의 Query, Key, Value 행렬을 만들고\n",
        "# 이를 scaled_dot_product_attention 함수에 입력으로 넣어 함수가 리턴하는 값을 출력\n",
        "\n",
        "# 임의의 Query, Key, Value인 Q, K, V 행렬 생성\n",
        "np.set_printoptions(suppress=True)\n",
        "temp_k = tf.constant([[10,0,0],\n",
        "                      [0,10,0],\n",
        "                      [0,0,10],\n",
        "                      [0,0,10]], dtype=tf.float32)  # (4, 3)\n",
        "\n",
        "temp_v = tf.constant([[   1,0],\n",
        "                      [  10,0],\n",
        "                      [ 100,5],\n",
        "                      [1000,6]], dtype=tf.float32)  # (4, 2)\n",
        "                      \n",
        "temp_q = tf.constant([[0, 10, 0]], dtype=tf.float32)  # (1, 3)"
      ],
      "execution_count": 57,
      "outputs": []
    },
    {
      "cell_type": "code",
      "metadata": {
        "colab": {
          "base_uri": "https://localhost:8080/"
        },
        "id": "1zN-i-RpKhDY",
        "outputId": "bc2e5df5-5252-4379-8d89-844d1d5a47a9"
      },
      "source": [
        "# 여기서 주목할 점은 Query에 해당하는 temp_q의 값 [0, 10, 0]은 \n",
        "# Key에 해당하는 temp_K의 두번째 값 [0, 10, 0]과 일치한다는 점\n",
        "# 어텐션 분포와 어텐션 값은 과연 어떤 값이 나올까\n",
        "\n",
        "# 함수 실행\n",
        "temp_out, temp_attn = scaled_dot_product_attention(temp_q, temp_k, temp_v, None)\n",
        "print(temp_attn) # 어텐션 분포(어텐션 가중치의 나열)\n",
        "print(temp_out) # 어텐션 값"
      ],
      "execution_count": 58,
      "outputs": [
        {
          "output_type": "stream",
          "name": "stdout",
          "text": [
            "tf.Tensor([[0. 1. 0. 0.]], shape=(1, 4), dtype=float32)\n",
            "tf.Tensor([[10.  0.]], shape=(1, 2), dtype=float32)\n"
          ]
        }
      ]
    },
    {
      "cell_type": "code",
      "metadata": {
        "colab": {
          "base_uri": "https://localhost:8080/"
        },
        "id": "vPypVgKXK45F",
        "outputId": "13e4f191-5205-4ae3-d2ee-6d8779ef46dd"
      },
      "source": [
        "# Query의 값은 Key의 세번째 갑소가 네번째 값 두 개의 값과 모두 유사하다는 의미에서\n",
        "# 어텐션 분포는 [0, 0, 0.5, 0.5]의 값을 가짐\n",
        "# 결과적으로 나오는 값 [550, 5.5]는 Value의 세번째 값 [100,5]에 0.5를 곱한 값과\n",
        "# [1000,6]dp 0.5를 곱한 값의 원소별 합\n",
        "# 이번에는 하나가 아닌 3개의 Query의 값을 함수의 입력으로 사용\n",
        "\n",
        "temp_q = tf.constant([[0, 0, 10], [0, 10, 0], [10, 10, 0]], dtype=tf.float32)  # (3, 3)\n",
        "temp_out, temp_attn = scaled_dot_product_attention(temp_q, temp_k, temp_v, None)\n",
        "print(temp_attn) # 어텐션 분포(어텐션 가중치의 나열)\n",
        "print(temp_out) #어텐션 ㄱ밧"
      ],
      "execution_count": 59,
      "outputs": [
        {
          "output_type": "stream",
          "name": "stdout",
          "text": [
            "tf.Tensor(\n",
            "[[0.  0.  0.5 0.5]\n",
            " [0.  1.  0.  0. ]\n",
            " [0.5 0.5 0.  0. ]], shape=(3, 4), dtype=float32)\n",
            "tf.Tensor(\n",
            "[[550.    5.5]\n",
            " [ 10.    0. ]\n",
            " [  5.5   0. ]], shape=(3, 2), dtype=float32)\n"
          ]
        }
      ]
    },
    {
      "cell_type": "markdown",
      "metadata": {
        "id": "GVrbR86ZPAG8"
      },
      "source": [
        "#### 6) Multi-head Attention\n",
        "* 앞서 배운 어텐션에서는 d model의 차원을 가진 단어 벡터를 num_heads로 나눈 차원을 가지는 Q, K, V 벡터로 바꾸고 어텐션을 수행. \n",
        "* 논문 기준으로는 512의 차원이 각 단어 벡터를 8로 나누어 64차원의 Q, K, V 벡터로 바꾸어서 어텐션을 수행한 셈인데, 이제 num_heads의 의미와 왜 d model의 차원을 가진 단어 벡터를 가지고 어텐션을 하지 않고 차원을 축소시킨 벡터로 어텐션을 수행하였는지 이해해보기\n",
        "* 트랜스포머 연구진은 한 번의 어텐션을 하는 것보다 여러 번의 어텐션을 병렬로 사용하는 것이 더 효과적이라고 판단. 그래서 d model의 차원을 num_heads개로 나누어 d model / num_heads의 차원을 가지는 Q, K, V에 대해서 num_heads 개의 병렬 어텐션 수행. 논문에서는 8.\n",
        "  * 이때 각각의 어텐션 값 행렬을 어텐션 헤드라고 부름. 이때 가중치 행렬 W Q, W K, W V의 값은 8개의 어텐션 헤드마다 전부 다름\n",
        "#### Q. 병렬 어텐션으로 얻을 수 있는 효과?\n",
        "  * 머리가 여러 개이기 때문에 여러 시점에서 상대방을 볼 수 있음\n",
        "  * 어텐션을 병렬로 수행하여 다른 시각으로 정보들을 수집\n",
        "\n",
        "\n",
        "* 병렬 어텐션을 모두 수행하였다면 모든 어텐션 헤드를 연결(concatenate)함  \n",
        "* 트랜스포머는 다수의 인코더를 쌓은 형태인데 인코더에서의 입력의 크기가 출력에서도 동일 크기로 계속 유지되어야만 다음 인코더에서도 다시 입력이 될 수 있기 때문"
      ]
    },
    {
      "cell_type": "markdown",
      "metadata": {
        "id": "vtWWxYVbT1ga"
      },
      "source": [
        "#### 7) 멀티 헤드 어텐션 구현하기\n",
        "* 크게 두 종류의 가중치 행렬\n",
        "1. Q, K, V 행렬을 만들기 위한 가중치 행렬인 **WQ, WK, WV 행렬**\n",
        "2. 바로 어텐션 헤드들을 연결(concatenate) 후에 곱해주는 **WO 행렬**\n",
        "  * 가중치 행렬을 곱하는 것을 구현 상에서는 입력을 밀집층(Dense layer)를 지나게 하므로서 구현\n",
        "  * 케라스 코드 상으로 지금까지 줄기차게 사용해왔던 Dense()에 해당\n",
        "  > Dense(units)\n",
        "\n",
        "* 크게 다섯 가지 파트로 구성\n",
        "1. WQ, WK, WV에 해당하는 d_model 크기의 밀집층(Dense layer)를 지나게 함\n",
        "2. 지정된 헤드 수(num_heads)만큼 나눈다(split)\n",
        "3. 스케일드 닷 프로덕트 어텐션\n",
        "4. 나눠졌던 헤드들을 연결(concatenate)한다\n",
        "5. WO에 해당하는 밀집층을 지나게 한다\n",
        "\n"
      ]
    },
    {
      "cell_type": "code",
      "metadata": {
        "id": "12pjbmGHLKmo"
      },
      "source": [
        "class MultiHeadAttention(tf.keras.layers.Layer):\n",
        "\n",
        "  def __init__(self, d_model, num_heads, name=\"multi_head_attention\"):\n",
        "    super(MultiHeadAttention, self).__init__(name=name)\n",
        "    self.num_heads = num_heads\n",
        "    self.d_model = d_model\n",
        "\n",
        "    assert d_model % self.num_heads == 0\n",
        "\n",
        "    # d_model을 num_heads로 나눈 값.\n",
        "    # 논문 기준 : 64\n",
        "    self.depth = d_model // self.num_heads\n",
        "\n",
        "    # WQ, WK, WV에 해당하는 밀집층 정의\n",
        "    self.query_dense = tf.keras.layers.Dense(units=d_model)\n",
        "    self.key_dense = tf.keras.layers.Dense(units=d_model)\n",
        "    self.value_dense = tf.keras.layers.Dense(units=d_model)\n",
        "\n",
        "    # WO에 해당하는 밀집층 정의\n",
        "    self.dense = tf.keras.layers.Dense(units=d_model)\n",
        "\n",
        "  # num_heads 개수만큼 q, k, v를 split하는 함수\n",
        "  def split_heads(self, inputs, batch_size):\n",
        "    inputs = tf.reshape(\n",
        "        inputs, shape=(batch_size, -1, self.num_heads, self.depth))\n",
        "    return tf.transpose(inputs, perm=[0, 2, 1, 3])\n",
        "\n",
        "  def call(self, inputs):\n",
        "    query, key, value, mask = inputs['query'], inputs['key'], inputs[\n",
        "        'value'], inputs['mask']\n",
        "    batch_size = tf.shape(query)[0]\n",
        "\n",
        "    # 1. WQ, WK, WV에 해당하는 밀집층 지나기\n",
        "    # q : (batch_size, query의 문장 길이, d_model)\n",
        "    # k : (batch_size, key의 문장 길이, d_model)\n",
        "    # v : (batch_size, value의 문장 길이, d_model)\n",
        "    # 참고) 인코더(k, v)-디코더(q) 어텐션에서는 query 길이와 key, value의 길이는 다를 수 있다.\n",
        "    query = self.query_dense(query)\n",
        "    key = self.key_dense(key)\n",
        "    value = self.value_dense(value)\n",
        "\n",
        "    # 2. 헤드 나누기\n",
        "    # q : (batch_size, num_heads, query의 문장 길이, d_model/num_heads)\n",
        "    # k : (batch_size, num_heads, key의 문장 길이, d_model/num_heads)\n",
        "    # v : (batch_size, num_heads, value의 문장 길이, d_model/num_heads)\n",
        "    query = self.split_heads(query, batch_size)\n",
        "    key = self.split_heads(key, batch_size)\n",
        "    value = self.split_heads(value, batch_size)\n",
        "\n",
        "    # 3. 스케일드 닷 프로덕트 어텐션. 앞서 구현한 함수 사용.\n",
        "    # (batch_size, num_heads, query의 문장 길이, d_model/num_heads)\n",
        "    scaled_attention, _ = scaled_dot_product_attention(query, key, value, mask)\n",
        "    # (batch_size, query의 문장 길이, num_heads, d_model/num_heads)\n",
        "    scaled_attention = tf.transpose(scaled_attention, perm=[0, 2, 1, 3])\n",
        "\n",
        "    # 4. 헤드 연결(concatenate)하기\n",
        "    # (batch_size, query의 문장 길이, d_model)\n",
        "    concat_attention = tf.reshape(scaled_attention,\n",
        "                                  (batch_size, -1, self.d_model))\n",
        "\n",
        "    # 5. WO에 해당하는 밀집층 지나기\n",
        "    # (batch_size, query의 문장 길이, d_model)\n",
        "    outputs = self.dense(concat_attention)\n",
        "\n",
        "    return outputs"
      ],
      "execution_count": 60,
      "outputs": []
    },
    {
      "cell_type": "markdown",
      "metadata": {
        "id": "KgIahi72ivdA"
      },
      "source": [
        "#### 8) 패딩 마스크 Padding mask\n",
        "* scaled dot product attention 함수 내부를 보면 mask라는 값을 인자로 받아서, 이 mask값에다가 -1e9라는 아주 작은 음수값을 곱한 후 어텐션 스코어 행렬을 더해줌. 이 연산의 정체는?"
      ]
    },
    {
      "cell_type": "code",
      "metadata": {
        "id": "q1UHWJzqBrnR"
      },
      "source": [
        "def scaled_dot_product_attention(query, key, value, mask):\n",
        "  중략..\n",
        "  logits += (mask * -1e9) # 어텐션 스코어 행렬인 logits에 mask*-1e9 값을 더해주고 있다\n",
        "  중략.."
      ],
      "execution_count": null,
      "outputs": []
    },
    {
      "cell_type": "markdown",
      "metadata": {
        "id": "VprZiosWjD0i"
      },
      "source": [
        "* 이는 입력 문장에 <PAD> 토큰이 있을 경우 어텐션에서 사실상 제외하기 위한 연산. \n",
        "* <PAD>는 실질적인 의미를 가진 단어가 아니라서 트랜스포머에서는 Key의 경우에 <PAD> 토큰이 존재한다면 이에 대해서는 유사도를 구하지 않도록 마스킹(Masking)을 해주기로 함\n",
        "  * 마스킹: 어텐션에서 제외하기 위해 값을 가린다는 의미\n",
        "* 어텐션 스코어 행렬에서 행에 해당하는 문장은 Query, 열에 해다아는 문장은 Key\n",
        "  * Key에 <PAD>가 있는 경우에는 해당 열 전체를 마스킹\n",
        "  * How? 어텐션 스코어 행렬의 마스킹 위치에 **매우 작은 음수값**을 넣어주는 것\n",
        "* 현재 어텐션 스코어 함수는 소프트맥스 함수를 지나지 않은 상태.\n",
        "  * 어텐션 스코어 함수는 소프트맥스 함수를 지나고, 그 후 value 행렬과 곱해지게 됨\n",
        "  * 그런데 현대 마스킹 위치에 매우 작은 음수 값이 들어가 있으므로 어텐션 스코어 행렬이 소프트맥스 함수를 지난 후에는 해당 위치의 값은 0에 굉장히 가까운 값이 되어 단어 간 유사도를 구하는 일에 <PAD> 토큰이 반영되지 않게 됨\n",
        "* 패딩 마스크 구현 방법: 입력된 정수 시퀀스에서 패딩 토큰의 인덱스인지, 아닌지를 판별하는 함수를 구현하는 것"
      ]
    },
    {
      "cell_type": "code",
      "metadata": {
        "id": "sCxlR5h52btC"
      },
      "source": [
        "# 정수 시퀀스에서 0인 경우에는 1로 변환, 그렇지 않은 경우에는 0으로 변환\n",
        "\n",
        "def create_padding_mask(x):\n",
        "  mask = tf.cast(tf.math.equal(x, 0), tf.float32)\n",
        "  # (batch_size, 1, 1, key의 문장 길이)\n",
        "  return mask[: , tf.newaxis, tf.newaxis, :]"
      ],
      "execution_count": 61,
      "outputs": []
    },
    {
      "cell_type": "code",
      "metadata": {
        "id": "aW3ZFkdq2qtk",
        "colab": {
          "base_uri": "https://localhost:8080/"
        },
        "outputId": "6f12cefa-247d-4057-ea92-da41cfa91557"
      },
      "source": [
        "print(create_padding_mask(tf.constant([[1, 21, 777, 0, 0]])))"
      ],
      "execution_count": 62,
      "outputs": [
        {
          "output_type": "stream",
          "name": "stdout",
          "text": [
            "tf.Tensor([[[[0. 0. 0. 1. 1.]]]], shape=(1, 1, 1, 5), dtype=float32)\n"
          ]
        }
      ]
    },
    {
      "cell_type": "markdown",
      "metadata": {
        "id": "5cFJu0C7206G"
      },
      "source": [
        "* 위 벡터를 통해서 1의 값을 가진 위치의 열을 어텐션 스코어 행렬에서 마스킹하는 용도로 사용할 수 있음\n",
        "* 위 벡터를 스케일드 닷 프로덕트 어텐션의 인자로 전달하면, 스케일드 닷 프로덕트 어텐션에서는 위 벡터에다가 매우 작은 음수값인 -1e9를 곱하고, 이를 행렬에 더해주어 해당 열을 전부 마스킹하게 되는 것\n",
        "* 첫번째 서브층인 멀티 헤드 어텐션을 구현함. 앞서 인코더는 두 개의 서브 서브층(subplayer)로 나뉘어진다고 언급한 적이 있는데, 이제 두번째 서브층인 **포지션-와이드 피드 포워드 신경망**에 대해서 알아봄"
      ]
    },
    {
      "cell_type": "markdown",
      "metadata": {
        "id": "hFY7Tupz3ZK0"
      },
      "source": [
        "### 8. 포지션-와이즈 피드 포워드 신경망(Position-wise FFNN)\n",
        "* FFNN은 사실 인코더와 디코더에서 공통적으로 가지고 있는 서브층. 쉽게 말하면 완전 연결 FFNN.\n",
        "  > FFNN(x) = MAX(0, xW1 + b1)W2 + b2\n",
        "  "
      ]
    },
    {
      "cell_type": "code",
      "metadata": {
        "id": "FDNptNRQ3QHj",
        "colab": {
          "base_uri": "https://localhost:8080/",
          "height": 199
        },
        "outputId": "d029d2ba-ec61-4c79-b060-ed06412820e1"
      },
      "source": [
        "# 다음의 코드는 인코더와 디코더 내부에서 사용할 예정입니다.\n",
        "outputs = tf.keras.layers.Dense(units=dff, activation='relu')(attention)\n",
        "outputs = tf.keras.layers.Dense(units=d_model)(outputs)"
      ],
      "execution_count": 71,
      "outputs": [
        {
          "output_type": "error",
          "ename": "NameError",
          "evalue": "ignored",
          "traceback": [
            "\u001b[0;31m---------------------------------------------------------------------------\u001b[0m",
            "\u001b[0;31mNameError\u001b[0m                                 Traceback (most recent call last)",
            "\u001b[0;32m<ipython-input-71-41b6f32dd10a>\u001b[0m in \u001b[0;36m<module>\u001b[0;34m()\u001b[0m\n\u001b[1;32m      1\u001b[0m \u001b[0;31m# 다음의 코드는 인코더와 디코더 내부에서 사용할 예정입니다.\u001b[0m\u001b[0;34m\u001b[0m\u001b[0;34m\u001b[0m\u001b[0;34m\u001b[0m\u001b[0m\n\u001b[0;32m----> 2\u001b[0;31m \u001b[0moutputs\u001b[0m \u001b[0;34m=\u001b[0m \u001b[0mtf\u001b[0m\u001b[0;34m.\u001b[0m\u001b[0mkeras\u001b[0m\u001b[0;34m.\u001b[0m\u001b[0mlayers\u001b[0m\u001b[0;34m.\u001b[0m\u001b[0mDense\u001b[0m\u001b[0;34m(\u001b[0m\u001b[0munits\u001b[0m\u001b[0;34m=\u001b[0m\u001b[0mdff\u001b[0m\u001b[0;34m,\u001b[0m \u001b[0mactivation\u001b[0m\u001b[0;34m=\u001b[0m\u001b[0;34m'relu'\u001b[0m\u001b[0;34m)\u001b[0m\u001b[0;34m(\u001b[0m\u001b[0mattention\u001b[0m\u001b[0;34m)\u001b[0m\u001b[0;34m\u001b[0m\u001b[0;34m\u001b[0m\u001b[0m\n\u001b[0m\u001b[1;32m      3\u001b[0m \u001b[0moutputs\u001b[0m \u001b[0;34m=\u001b[0m \u001b[0mtf\u001b[0m\u001b[0;34m.\u001b[0m\u001b[0mkeras\u001b[0m\u001b[0;34m.\u001b[0m\u001b[0mlayers\u001b[0m\u001b[0;34m.\u001b[0m\u001b[0mDense\u001b[0m\u001b[0;34m(\u001b[0m\u001b[0munits\u001b[0m\u001b[0;34m=\u001b[0m\u001b[0md_model\u001b[0m\u001b[0;34m)\u001b[0m\u001b[0;34m(\u001b[0m\u001b[0moutputs\u001b[0m\u001b[0;34m)\u001b[0m\u001b[0;34m\u001b[0m\u001b[0;34m\u001b[0m\u001b[0m\n",
            "\u001b[0;31mNameError\u001b[0m: name 'dff' is not defined"
          ]
        }
      ]
    },
    {
      "cell_type": "markdown",
      "metadata": {
        "id": "LwqlUGZa1o61"
      },
      "source": [
        "### 9. 잔차 연결과 층 정규화\n",
        "* 두 개의 서브층을 가진 인코더에 추가적으로 사용하는 기법이 바로 Add and Norm\n",
        "  * Residual connection and layer normalization\n",
        "#### 1) 잔차 연결(Residual connection)\n",
        "* F(x) : 트랜스포머에서는 서브층에 해당\n",
        "  * 잔차 연결은 서브층의 입력과 출력을 더하는 것\n",
        "  * 트래스포머의 서브층의 입력과 출력은 동일한 차원을 갖고 있으므로, 서브층의 입력과 서브층의 출력은 덧셈 연산을 할 수 있음. 이것이 바로 인코더 그림에서 각 화살표가 서브층이 입력에서 출력으로 향하도록 그려졌던 이유\n",
        "  * 잔차 연결은 컴퓨터 비전 분야에서 주로 사용되는 모델의 학습을 돕는 기법\n",
        "> x + Subplayer(x)\n",
        "  * 가령, 서브층이 멀티 헤드 어텐션이었다면 잔차 연결 연산은 다음과 같음\n",
        "  > H(x) = x + Multi - head Attention(x)\n",
        "#### 2) 층 정규화(Layer Normalization)\n",
        "* 잔차 연결을 거친 결과는 이어서 층 정규화 과정을 거치게 됨. 잔차 연결의 입력을 x, 잔차 연결과 층 정규화 두 가지 연산을 모두 수행한 후의 결과 행렬을 LN\n",
        "* 잔차 연결 후 층 정규화 연산을 수식으로 표현하자면 다음과 같음\n",
        "  > LN =  LayerNorm(x + Subplayer(x))\n",
        "* 층 정규화: **텐서의 마지막 차원**에 대해서 평균과 분산을 구하고, 이를 가지고 어떤 수식을 통해 값을 정규화하여 학습을 도움. 텐서의 마지막 차원 = 트랜스포머에서는 d model의 차원\n",
        "* 층 정규화 수행 후 벡터 xi는 ln i라는 벡터로 정규화가 됨\n",
        "  > ln i = LayerNorm(x i)\n",
        "* 층 정규화의 수식\n",
        "  * 1. 평균과 분산을 통한 정규화\n",
        "  * 2. 감마와 벡터 도입\n",
        "### 10. 인코더 구현하기"
      ]
    },
    {
      "cell_type": "code",
      "metadata": {
        "id": "xy4iNfSD1msR"
      },
      "source": [
        "def encoder_layer(dff, d_model, num_heads, dropout, name=\"encoder_layer\"):\n",
        "  inputs = tf.keras.Input(shape=(None, d_model), name=\"inputs\")\n",
        "\n",
        "  # 인코더는 패딩 마스크 사용\n",
        "  padding_mask = tf.keras.Input(shape=(1, 1, None), name=\"padding_mask\")\n",
        "\n",
        "  # 멀티-헤드 어텐션 (첫번째 서브층 / 셀프 어텐션)\n",
        "  attention = MultiHeadAttention(\n",
        "      d_model, num_heads, name=\"attention\")({\n",
        "          'query': inputs, 'key': inputs, 'value': inputs, # Q = K = V\n",
        "          'mask': padding_mask # 패딩 마스크 사용\n",
        "      })\n",
        "\n",
        "  # 드롭아웃 + 잔차 연결과 층 정규화\n",
        "  attention = tf.keras.layers.Dropout(rate=dropout)(attention)\n",
        "  attention = tf.keras.layers.LayerNormalization(\n",
        "      epsilon=1e-6)(inputs + attention)\n",
        "\n",
        "  # 포지션 와이즈 피드 포워드 신경망 (두번째 서브층)\n",
        "  outputs = tf.keras.layers.Dense(units=dff, activation='relu')(attention)\n",
        "  outputs = tf.keras.layers.Dense(units=d_model)(outputs)\n",
        "\n",
        "  # 드롭아웃 + 잔차 연결과 층 정규화\n",
        "  outputs = tf.keras.layers.Dropout(rate=dropout)(outputs)\n",
        "  outputs = tf.keras.layers.LayerNormalization(\n",
        "      epsilon=1e-6)(attention + outputs)\n",
        "\n",
        "  return tf.keras.Model(\n",
        "      inputs=[inputs, padding_mask], outputs=outputs, name=name)"
      ],
      "execution_count": 72,
      "outputs": []
    },
    {
      "cell_type": "markdown",
      "metadata": {
        "id": "BxSE-TkWMGz9"
      },
      "source": [
        "* 인코더의 입력으로 들어가는 문장에 패딩이 있을 수 있으므로, 어텐션 시 패딩 토큰을 제외하도록 패딩 마스크 사용\n",
        "  * MultiHeadAttention 함수의 mask의 인자값으로 padding_mask가 들어가는 이유\n",
        "* 인코더는 두 개의 서브층으로 이루어짐. 멀티 헤드 어텐션과 피드 포워드 신경망\n",
        "  * 각 서브층 이후에는 드롭 아웃, 잔차 연결과 층 정규화 수행\n",
        "* 위 코드는 하나의 인코더 층을 구현하는 코드. 실제 트랜스포머는 num_layers 개수만큼 인코더 층을 사용하므로 이를 여러 번 쌓는 코드 별도 구현 필요\n",
        "### 11. 인코더 쌓기\n",
        "* num_layers 만큼 쌓고, 마지막 인코더 층에서 얻는 (seq_len, d_model) 크기의 행렬을 디코더로 보내주므로서 트랜스포머 인코더의 인코딩 연산이 끝나게 됨"
      ]
    },
    {
      "cell_type": "code",
      "metadata": {
        "id": "g9AGlhSHCnH3"
      },
      "source": [
        "# @@@@수정됨\n",
        "def encoder(vocab_size, num_layers, dff,\n",
        "            d_model, num_heads, dropout,\n",
        "            name=\"encoder\"):\n",
        "  inputs = tf.keras.Input(shape=(None,), name=\"inputs\")\n",
        "\n",
        "  # 인코더는 패딩 마스크 사용\n",
        "  padding_mask = tf.keras.Input(shape=(1, 1, None), name=\"padding_mask\")\n",
        "\n",
        "  # 포지셔널 인코딩 + 드롭아웃\n",
        "  embeddings = tf.keras.layers.Embedding(vocab_size, d_model)(inputs)\n",
        "  embeddings *= tf.math.sqrt(tf.cast(d_model, tf.float32))\n",
        "  embeddings = PositionalEncoding(vocab_size, d_model)(embeddings)\n",
        "  outputs = tf.keras.layers.Dropout(rate=dropout)(embeddings)\n",
        "\n",
        "  # 인코더를 num_layers개 쌓기\n",
        "  for i in range(num_layers):\n",
        "    outputs = encoder_layer(dff=dff, d_model=d_model, num_heads=num_heads,\n",
        "        dropout=dropout, name=\"encoder_layer_{}\".format(i),\n",
        "    )([outputs, padding_mask])\n",
        "\n",
        "  return tf.keras.Model(\n",
        "      inputs=[inputs, padding_mask], outputs=outputs, name=name)"
      ],
      "execution_count": 73,
      "outputs": []
    },
    {
      "cell_type": "markdown",
      "metadata": {
        "id": "sq01-wCZPmOW"
      },
      "source": [
        "### 12. 인코더에서 디코더로(From Encoder To Decoder)\n",
        "* num_layers 만큼의 층 연산을 순차적으로 한 후에 마지막 층의 인코더의 출력을 디코더에게 전달\n",
        "* 디코더 또한 총 num_layers만큼의 연산을 하는데, 이때마다 인코더가 보낸 출력을 각 디코더 층 연산에 사용\n",
        "### 13. 디코더의 첫번째 서브층: 셀프 어텐션과 룩-어헤드 마스크\n",
        "* 디코더: 인코더와 동일하게 임베딩 층과 포지셔널 인코딩을 거친 후의 문장 행렬이 입력됨\n",
        "* 트랜스포머 또한 seq2seq와 마찬가지로 **교사 강요(Teacher Forcing)**을 사용하여 훈련되므로 학습 과정에서 디코더는 번역할 문장에 해당되는 <sos> je suis étudiant 의 문장 행렬을 한 번에 입력받음\n",
        "* 디코더는 이 문장 행렬로부터 각 시점의 단어를 예측하도록 훈련됨\n"
      ]
    },
    {
      "cell_type": "markdown",
      "metadata": {
        "id": "H5Lq6eeeUSod"
      },
      "source": [
        "* 문제가 있음: seq2seq의 디코더에 사용되는 RNN 계열의 신경망은 **입력 단어를 매 시점마다 순차적으로 받으므로 다음 단어 예측에 현재 시점 이전에 입력된 단어들만 참고** 가능\n",
        "* 반면, 트랜스포머는 문장 행렬로 입력을 한 번에 받음\n",
        "  * 현재 시점의 단어를 예측하고자 할 때, 입력 문장 핼렬로부터 미래 시점의 단어까지도 참고할 수 있는 현상 발생\n",
        "  * ex. suis를 예측해야 하는 시점. seq2seq 디코더라면 현재까지 디코더로 입력된 단어는 <sos>와 je뿐. 반면, 트랜스포머는 이미 문장 행렬로 <sos> je suis etudiant를 입력\n",
        "  * 이를 위해 트랜스포머의 디코더에서는 현재 시점의 예측에서 현재 시점보다 미래에 있는 단어들을 참고하지 못하도록 **룩-어헤드 마스크(look-ahead mask)**를 도입. 직역하면 '미리보기에 대한 마스크'라고 할 수 있음\n",
        "    * 룩-어헤드 마스크는 디코더의 첫번째 서브층에서 이루어짐. \n",
        "    * 디코더의 첫번째 서브층인 멀티 헤드 셀프 어텐션 층은 인코더의 첫번째 서브층인 멀티 헤드 셀프 어텐션 층과 동일한 연산을 수행\n",
        "    * **오직 다른 점: 어텐션 스코어 행렬에서 마스킹을 적용한다는 점**만 다름\n",
        "    * 셀프 어텐션을 통해 어텐션 스코어 행렬을 얻고, 이제 자기 자신보다 미래에 있는 단어들은 참고하지 모사도록 다음과 같이 마스킹\n",
        "    * 룩 어헤드 마스크 구현: 패딩 마스크와 마찬가지로 앞서 구현한 스케일드 닷 프로덕트 어텐션 함수에 mask라는 인자 전달\n",
        "      * 패딩 마스킹 써야하는 경우에도 스케일드 닷 프로덕트 어텐션 함수에 패딩 마스크를 전달하고, 룩-어헤드 마스킹을 써야하는 경우에는 스케일드 닷 프로덕트 어텐션 함수에 룩-어헤드 마스크 전달"
      ]
    },
    {
      "cell_type": "code",
      "metadata": {
        "id": "xHCjKDioBx6k"
      },
      "source": [
        "# 스케일드 닷 프로덕트 어텐션 함수를 다시 복습\n",
        "def scaled_dot_product_attention(query, key, value, mask):\n",
        "  ...중략...\n",
        "  logits += (mask * -1e9) # 어텐션 스코어 행렬인 logits에 mask*-1e9 값을 더해주고 있음\n",
        "  ...중략..."
      ],
      "execution_count": null,
      "outputs": []
    },
    {
      "cell_type": "markdown",
      "metadata": {
        "id": "dEcvJCPSW-Oy"
      },
      "source": [
        "* 트랜스포머에는 총 세 가지 어텐션이 존재\n",
        "  * 모두 **멀티 헤드 어텐션**을 수행\n",
        "  * 멀티 헤드 어텐션 함수 내부에서 **스케일드 닷 프로덕트 어텐션 함수**를 호출하는 데 각 어텐션 시 함수에 전달하는 **마스킹**은 다음과 같음\n",
        "    * 1. 인코더의 셀프 어텐션: 패딩 마스크를 전달\n",
        "    * 2. 디코더의 첫번째 서브층인 *마스크드 셀프 어텐션*: 룩-어헤드 마스크를 전달 <-- 지금 배우고 있음\n",
        "    * 3. 디코더의 두번째 서브층인 *인코더-디코더 어텐션*: 패딩 마스크를 전달\n",
        "* 룩-어헤드 마스크를 한다고 해서 패딩 마스크가 불필요한 것이 아니므로 *룩-어헤드 마스크는 패딩 마스크를 포함하도록 구현*\n",
        "* 룩-어헤드 마스크를 구현하는 방법은 패딩 마스크 때와 마찬가지로 마스킹을 하고자 하는 위치에는 1을, 마스킹을 하지 않는 위치에는 0을 리턴\n",
        "\n",
        "\n"
      ]
    },
    {
      "cell_type": "code",
      "metadata": {
        "id": "x3v-e22naAay"
      },
      "source": [
        "# 디코더의 첫번째 서브층(sublayer)에서 미래 토큰을 Mask하는 함수\n",
        "def create_look_ahead_mask(x):\n",
        "  seq_len = tf.shape(x)[1]\n",
        "  look_ahead_mask = 1 - tf.linalg.band_part(tf.ones((seq_len, seq_len)), -1, 0)\n",
        "  padding_mask = create_padding_mask(x) # 패딩 마스크도 포함\n",
        "  return tf.maximum(look_ahead_mask, padding_mask)"
      ],
      "execution_count": 75,
      "outputs": []
    },
    {
      "cell_type": "markdown",
      "metadata": {
        "id": "F4qg35N1aXKC"
      },
      "source": [
        "* 임의의 정수 시퀀스 입력을 넣어서 결과를 봅시다. 패딩 마스크를 테스트 하기위해 세번째 위치에 정수 0을 넣었음"
      ]
    },
    {
      "cell_type": "code",
      "metadata": {
        "id": "JQ6qKZpOacz6",
        "colab": {
          "base_uri": "https://localhost:8080/"
        },
        "outputId": "981d1d0b-700e-4e08-ec41-0f19ffc0ebc6"
      },
      "source": [
        "print(create_look_ahead_mask(tf.constant([[1, 2, 0, 4, 5]])))"
      ],
      "execution_count": 76,
      "outputs": [
        {
          "output_type": "stream",
          "name": "stdout",
          "text": [
            "tf.Tensor(\n",
            "[[[[0. 1. 1. 1. 1.]\n",
            "   [0. 0. 1. 1. 1.]\n",
            "   [0. 0. 1. 1. 1.]\n",
            "   [0. 0. 1. 0. 1.]\n",
            "   [0. 0. 1. 0. 0.]]]], shape=(1, 1, 5, 5), dtype=float32)\n"
          ]
        }
      ]
    },
    {
      "cell_type": "markdown",
      "metadata": {
        "id": "O3GHtj0Xah7n"
      },
      "source": [
        "### 14. 디코더의 두번째 서브층: 인코더-디코더 어텐션\n",
        "* 디코더의 두번째 서브층에 대해서 이해해보기\n",
        "  * 멀티 헤드 어텐션을 수행하다는 점에서 이전의 어텐션들(인코더와 디코더의 첫번째 서브층)과 같지만, **셀프 어텐션은 아님**\n",
        "* 셀프 어텐션은 Query, Key, Value가 같은 경우를 말하는데, **인코더-디코더 어텐션은 Query가 디코더인 행렬인 반면, Key와 Value는 인코더 행렬이기 때문**\n",
        "  * 인코더의 첫번째 서브층 : Query = Key = Value\n",
        "  * 디코더의 첫번째 서브층 : Query = Key = Value\n",
        "  * 디코더의 두번째 서브층 : Query : 디코더 행렬 / Key = Value : 인코더 행렬\n",
        "* 디코더의 두 번째 서브층을 확대해보면, 다음과 같이 인코더로부터 두 개의 화살표가 그려져 있음\n",
        "  * 두 개의 화살표는 각각 Key와 Value를 의미하며, 이는 인코더의 마지막 층에서 온 행렬로부터 얻음\n",
        "  * 반면, Query는 디코더의 첫번째 서브층의 결과 행렬로부터 얻는다는 점이 다름\n",
        "  * Query가 디코더 행렬, Key가 인코더 행렬일 때, 어텐션 스코어 행렬을 구하는 과정은 다음과 같음\n",
        "* 멀티 헤드 어텐션을 수행하는 과정은 다른 어텐션들과 같음\n",
        "### 15. 디코더 구현하기\n"
      ]
    },
    {
      "cell_type": "code",
      "metadata": {
        "id": "5VYMefdner-B"
      },
      "source": [
        "def decoder_layer(dff, d_model, num_heads, dropout, name=\"decoder_layer\"):\n",
        "  inputs = tf.keras.Input(shape=(None, d_model), name=\"inputs\")\n",
        "  enc_outputs = tf.keras.Input(shape=(None, d_model), name=\"encoder_outputs\")\n",
        "\n",
        "  # 디코더는 룩어헤드 마스크(첫번째 서브층)와 패딩 마스크(두번째 서브층) 둘 다 사용.\n",
        "  look_ahead_mask = tf.keras.Input(\n",
        "      shape=(1, None, None), name=\"look_ahead_mask\")\n",
        "  padding_mask = tf.keras.Input(shape=(1, 1, None), name='padding_mask')\n",
        "\n",
        "  # 멀티-헤드 어텐션 (첫번째 서브층 / 마스크드 셀프 어텐션)\n",
        "  attention1 = MultiHeadAttention(\n",
        "      d_model, num_heads, name=\"attention_1\")(inputs={\n",
        "          'query': inputs, 'key': inputs, 'value': inputs, # Q = K = V\n",
        "          'mask': look_ahead_mask # 룩어헤드 마스크\n",
        "      })\n",
        "\n",
        "  # 잔차 연결과 층 정규화\n",
        "  attention1 = tf.keras.layers.LayerNormalization(\n",
        "      epsilon=1e-6)(attention1 + inputs)\n",
        "\n",
        "  # 멀티-헤드 어텐션 (두번째 서브층 / 디코더-인코더 어텐션)\n",
        "  attention2 = MultiHeadAttention(\n",
        "      d_model, num_heads, name=\"attention_2\")(inputs={\n",
        "          'query': attention1, 'key': enc_outputs, 'value': enc_outputs, # Q != K = V\n",
        "          'mask': padding_mask # 패딩 마스크\n",
        "      })\n",
        "\n",
        "  # 드롭아웃 + 잔차 연결과 층 정규화\n",
        "  attention2 = tf.keras.layers.Dropout(rate=dropout)(attention2)\n",
        "  attention2 = tf.keras.layers.LayerNormalization(\n",
        "      epsilon=1e-6)(attention2 + attention1)\n",
        "\n",
        "  # 포지션 와이즈 피드 포워드 신경망 (세번째 서브층)\n",
        "  outputs = tf.keras.layers.Dense(units=dff, activation='relu')(attention2)\n",
        "  outputs = tf.keras.layers.Dense(units=d_model)(outputs)\n",
        "\n",
        "  # 드롭아웃 + 잔차 연결과 층 정규화\n",
        "  outputs = tf.keras.layers.Dropout(rate=dropout)(outputs)\n",
        "  outputs = tf.keras.layers.LayerNormalization(\n",
        "      epsilon=1e-6)(outputs + attention2)\n",
        "\n",
        "  return tf.keras.Model(\n",
        "      inputs=[inputs, enc_outputs, look_ahead_mask, padding_mask],\n",
        "      outputs=outputs,\n",
        "      name=name)"
      ],
      "execution_count": 77,
      "outputs": []
    },
    {
      "cell_type": "markdown",
      "metadata": {
        "id": "SJLAYccjevl0"
      },
      "source": [
        "* 디코더는 총 세 개의 서브층\n",
        "  * 첫 번째와 두 번째 서브층 모두 멀티 헤드 어텐션이지만, 첫 번째 서브층은 mask의 인자값으로 look_ahead_mask가 들어가는 반면, 두 번째 서브층은 mask의 인자값으로 padding_mask가 들어가는 것을 확인\n",
        "  * 이는 첫번째 서브층은 마스크드 셀프 어텐션을 수행하기 때문\n",
        "  * 세 개의 서브층 모두 서브층 연산 후에는 드롭 아웃, 잔차 연결, 층 정규화가 수행되는 것을 확인\n"
      ]
    },
    {
      "cell_type": "markdown",
      "metadata": {
        "id": "AgIxPEZxfNcx"
      },
      "source": [
        "### 16. 디코더 쌓기"
      ]
    },
    {
      "cell_type": "code",
      "metadata": {
        "id": "kGR5S9OlfMar"
      },
      "source": [
        "def decoder(vocab_size, num_layers, dff,\n",
        "            d_model, num_heads, dropout,\n",
        "            name='decoder'):\n",
        "  inputs = tf.keras.Input(shape=(None,), name='inputs')\n",
        "  enc_outputs = tf.keras.Input(shape=(None, d_model), name='encoder_outputs')\n",
        "\n",
        "  # 디코더는 룩어헤드 마스크(첫번째 서브층)와 패딩 마스크(두번째 서브층) 둘 다 사용.\n",
        "  look_ahead_mask = tf.keras.Input(\n",
        "      shape=(1, None, None), name='look_ahead_mask')\n",
        "  padding_mask = tf.keras.Input(shape=(1, 1, None), name='padding_mask')\n",
        "\n",
        "  # 포지셔널 인코딩 + 드롭아웃\n",
        "  embeddings = tf.keras.layers.Embedding(vocab_size, d_model)(inputs)\n",
        "  embeddings *= tf.math.sqrt(tf.cast(d_model, tf.float32))\n",
        "  embeddings = PositionalEncoding(vocab_size, d_model)(embeddings)\n",
        "  outputs = tf.keras.layers.Dropout(rate=dropout)(embeddings)\n",
        "\n",
        "  # 디코더를 num_layers개 쌓기\n",
        "  for i in range(num_layers):\n",
        "    outputs = decoder_layer(dff=dff, d_model=d_model, num_heads=num_heads,\n",
        "        dropout=dropout, name='decoder_layer_{}'.format(i),\n",
        "    )(inputs=[outputs, enc_outputs, look_ahead_mask, padding_mask])\n",
        "\n",
        "  return tf.keras.Model(\n",
        "      inputs=[inputs, enc_outputs, look_ahead_mask, padding_mask],\n",
        "      outputs=outputs,\n",
        "      name=name)"
      ],
      "execution_count": 78,
      "outputs": []
    },
    {
      "cell_type": "markdown",
      "metadata": {
        "id": "1nrqZAjdgZjj"
      },
      "source": [
        "### 17. 트랜스포머 구현하기\n",
        "* 지금까지 구현한 인코더와 디코더 함수를 조합하여 트랜스포머를 조립할 차례\n",
        "* 인코더의 출력은 디코더에서 인코더-디코더 어텐션에서 사용되기 위해 디코더로 전달\n",
        "* 그리도 디코더 끝단에는 다중 클래스 분류 문제를 풀 수 있도록 vocab_size 만큼의 뉴런을 가지는 신경망 추가"
      ]
    },
    {
      "cell_type": "code",
      "metadata": {
        "id": "tv-b3DongmNj"
      },
      "source": [
        "def transformer(vocab_size, num_layers, dff,\n",
        "                d_model, num_heads, dropout,\n",
        "                name=\"transformer\"):\n",
        "\n",
        "  # 인코더의 입력\n",
        "  inputs = tf.keras.Input(shape=(None,), name=\"inputs\")\n",
        "\n",
        "  # 디코더의 입력\n",
        "  dec_inputs = tf.keras.Input(shape=(None,), name=\"dec_inputs\")\n",
        "\n",
        "  # 인코더의 패딩 마스크\n",
        "  enc_padding_mask = tf.keras.layers.Lambda(\n",
        "      create_padding_mask, output_shape=(1, 1, None),\n",
        "      name='enc_padding_mask')(inputs)\n",
        "\n",
        "  # 디코더의 룩어헤드 마스크(첫번째 서브층)\n",
        "  look_ahead_mask = tf.keras.layers.Lambda(\n",
        "      create_look_ahead_mask, output_shape=(1, None, None),\n",
        "      name='look_ahead_mask')(dec_inputs)\n",
        "\n",
        "  # 디코더의 패딩 마스크(두번째 서브층)\n",
        "  dec_padding_mask = tf.keras.layers.Lambda(\n",
        "      create_padding_mask, output_shape=(1, 1, None),\n",
        "      name='dec_padding_mask')(inputs)\n",
        "\n",
        "  # 인코더의 출력은 enc_outputs. 디코더로 전달된다.\n",
        "  enc_outputs = encoder(vocab_size=vocab_size, num_layers=num_layers, dff=dff,\n",
        "      d_model=d_model, num_heads=num_heads, dropout=dropout,\n",
        "  )(inputs=[inputs, enc_padding_mask]) # 인코더의 입력은 입력 문장과 패딩 마스크\n",
        "\n",
        "  # 디코더의 출력은 dec_outputs. 출력층으로 전달된다.\n",
        "  dec_outputs = decoder(vocab_size=vocab_size, num_layers=num_layers, dff=dff,\n",
        "      d_model=d_model, num_heads=num_heads, dropout=dropout,\n",
        "  )(inputs=[dec_inputs, enc_outputs, look_ahead_mask, dec_padding_mask])\n",
        "\n",
        "  # 다음 단어 예측을 위한 출력층\n",
        "  outputs = tf.keras.layers.Dense(units=vocab_size, name=\"outputs\")(dec_outputs)\n",
        "\n",
        "  return tf.keras.Model(inputs=[inputs, dec_inputs], outputs=outputs, name=name)"
      ],
      "execution_count": 79,
      "outputs": []
    },
    {
      "cell_type": "markdown",
      "metadata": {
        "id": "iJ-4ldgkhKHl"
      },
      "source": [
        "### 18. 트랜스포머 하이퍼파라미터 정하기\n",
        "*임의로 9000의 단어 집합의 크기\n",
        "* 단어 집합의 크기로부터 룩업 테이블을 수행할 임베딩 테이블과 포지셔널 인코딩 행렬의 행의 크기 결정 가능"
      ]
    },
    {
      "cell_type": "code",
      "metadata": {
        "id": "Si20PQ2ihkxm",
        "colab": {
          "base_uri": "https://localhost:8080/",
          "height": 477
        },
        "outputId": "6bf0e92a-9c54-484a-80b1-d7b37e2149ae"
      },
      "source": [
        "small_transformer = transformer(\n",
        "    vocab_size = 9000,\n",
        "    num_layers = 4,\n",
        "    dff = 512,\n",
        "    d_model = 128,\n",
        "    num_heads = 4,\n",
        "    dropout = 0.3,\n",
        "    name=\"small_transformer\")\n",
        "\n",
        "tf.keras.utils.plot_model(small_transformer, to_file='small_transformer.png', show_shapes=True)"
      ],
      "execution_count": 80,
      "outputs": [
        {
          "output_type": "stream",
          "name": "stdout",
          "text": [
            "(1, 9000, 128)\n",
            "(1, 9000, 128)\n"
          ]
        },
        {
          "output_type": "execute_result",
          "data": {
            "image/png": "[encoded data removed]",
            "text/plain": [
              "<IPython.core.display.Image object>"
            ]
          },
          "metadata": {},
          "execution_count": 80
        }
      ]
    },
    {
      "cell_type": "markdown",
      "metadata": {
        "id": "z9KWh4bGhkBW"
      },
      "source": [
        "### 19. 손실 함수 정의하기\n",
        "* 다중 크래스 분류 문제를 풀 예정이므로 크로스 엔트로피 함수를 손실 함수로 정의"
      ]
    },
    {
      "cell_type": "markdown",
      "metadata": {
        "id": "pTLjvdUriNQL"
      },
      "source": [
        "### 20. 학습률\n",
        "* 트랜스포머의 경우 학습률(learning rate)은 고정된 값을 유지하는 것이 아니라, 학습 경과에 따라 변화도록 설계"
      ]
    },
    {
      "cell_type": "code",
      "metadata": {
        "id": "7DgCW2_k-8KM"
      },
      "source": [
        "def loss_function(y_true, y_pred):\n",
        "  y_true = tf.reshape(y_true, shape=(-1, MAX_LENGTH - 1))\n",
        "\n",
        "  loss = tf.keras.losses.SparseCategoricalCrossentropy(\n",
        "      from_logits=True, reduction='none')(y_true, y_pred)\n",
        "\n",
        "  mask = tf.cast(tf.not_equal(y_true, 0), tf.float32)\n",
        "  loss = tf.multiply(loss, mask)\n",
        "\n",
        "  return tf.reduce_mean(loss)"
      ],
      "execution_count": 85,
      "outputs": []
    },
    {
      "cell_type": "code",
      "metadata": {
        "id": "kkkz7qka_tSU"
      },
      "source": [
        "class CustomSchedule(tf.keras.optimizers.schedules.LearningRateSchedule):\n",
        "\n",
        "  def __init__(self, d_model, warmup_steps=4000):\n",
        "    super(CustomSchedule, self).__init__()\n",
        "    self.d_model = d_model\n",
        "    self.d_model = tf.cast(self.d_model, tf.float32)\n",
        "    self.warmup_steps = warmup_steps\n",
        "\n",
        "  def __call__(self, step):\n",
        "    arg1 = tf.math.rsqrt(step)\n",
        "    arg2 = step * (self.warmup_steps**-1.5)\n",
        "\n",
        "    return tf.math.rsqrt(self.d_model) * tf.math.minimum(arg1, arg2)"
      ],
      "execution_count": 86,
      "outputs": []
    },
    {
      "cell_type": "code",
      "metadata": {
        "colab": {
          "base_uri": "https://localhost:8080/",
          "height": 296
        },
        "id": "k4lA_Efe_uOx",
        "outputId": "04074ef6-03a3-4452-d036-d8999fbb73a9"
      },
      "source": [
        "sample_learning_rate = CustomSchedule(d_model=128)\n",
        "\n",
        "plt.plot(sample_learning_rate(tf.range(200000, dtype=tf.float32)))\n",
        "plt.ylabel(\"Learning Rate\")\n",
        "plt.xlabel(\"Train Step\")"
      ],
      "execution_count": 87,
      "outputs": [
        {
          "output_type": "execute_result",
          "data": {
            "text/plain": [
              "Text(0.5, 0, 'Train Step')"
            ]
          },
          "metadata": {},
          "execution_count": 87
        },
        {
          "output_type": "display_data",
          "data": {
            "image/png": "[encoded data removed]",
            "text/plain": [
              "<Figure size 432x288 with 1 Axes>"
            ]
          },
          "metadata": {
            "needs_background": "light"
          }
        }
      ]
    },
    {
      "cell_type": "markdown",
      "metadata": {
        "id": "EyjvqTRlYH1r"
      },
      "source": [
        "## 2) Transformer Chatbot Tutorial\n",
        "### 1. Load Data"
      ]
    },
    {
      "cell_type": "code",
      "metadata": {
        "id": "w5t8V9phYOdn"
      },
      "source": [
        "import pandas as pd\n",
        "import numpy as np\n",
        "import matplotlib.pyplot as plt\n",
        "import re\n",
        "import urllib.request\n",
        "import time\n",
        "import tensorflow_datasets as tfds\n",
        "import tensorflow as tf"
      ],
      "execution_count": 92,
      "outputs": []
    },
    {
      "cell_type": "code",
      "metadata": {
        "id": "FSqoYB2NYS4e",
        "colab": {
          "base_uri": "https://localhost:8080/",
          "height": 205
        },
        "outputId": "ddb04843-c410-4113-b15e-bb4875977660"
      },
      "source": [
        "urllib.request.urlretrieve(\"https://raw.githubusercontent.com/songys/Chatbot_data/master/ChatbotData.csv\", filename=\"ChatBotData.csv\")\n",
        "train_data = pd.read_csv('ChatBotData.csv')\n",
        "train_data.head()"
      ],
      "execution_count": 93,
      "outputs": [
        {
          "output_type": "execute_result",
          "data": {
            "text/html": [
              "<div>\n",
              "<style scoped>\n",
              "    .dataframe tbody tr th:only-of-type {\n",
              "        vertical-align: middle;\n",
              "    }\n",
              "\n",
              "    .dataframe tbody tr th {\n",
              "        vertical-align: top;\n",
              "    }\n",
              "\n",
              "    .dataframe thead th {\n",
              "        text-align: right;\n",
              "    }\n",
              "</style>\n",
              "<table border=\"1\" class=\"dataframe\">\n",
              "  <thead>\n",
              "    <tr style=\"text-align: right;\">\n",
              "      <th></th>\n",
              "      <th>Q</th>\n",
              "      <th>A</th>\n",
              "      <th>label</th>\n",
              "    </tr>\n",
              "  </thead>\n",
              "  <tbody>\n",
              "    <tr>\n",
              "      <th>0</th>\n",
              "      <td>12시 땡!</td>\n",
              "      <td>하루가 또 가네요.</td>\n",
              "      <td>0</td>\n",
              "    </tr>\n",
              "    <tr>\n",
              "      <th>1</th>\n",
              "      <td>1지망 학교 떨어졌어</td>\n",
              "      <td>위로해 드립니다.</td>\n",
              "      <td>0</td>\n",
              "    </tr>\n",
              "    <tr>\n",
              "      <th>2</th>\n",
              "      <td>3박4일 놀러가고 싶다</td>\n",
              "      <td>여행은 언제나 좋죠.</td>\n",
              "      <td>0</td>\n",
              "    </tr>\n",
              "    <tr>\n",
              "      <th>3</th>\n",
              "      <td>3박4일 정도 놀러가고 싶다</td>\n",
              "      <td>여행은 언제나 좋죠.</td>\n",
              "      <td>0</td>\n",
              "    </tr>\n",
              "    <tr>\n",
              "      <th>4</th>\n",
              "      <td>PPL 심하네</td>\n",
              "      <td>눈살이 찌푸려지죠.</td>\n",
              "      <td>0</td>\n",
              "    </tr>\n",
              "  </tbody>\n",
              "</table>\n",
              "</div>"
            ],
            "text/plain": [
              "                 Q            A  label\n",
              "0           12시 땡!   하루가 또 가네요.      0\n",
              "1      1지망 학교 떨어졌어    위로해 드립니다.      0\n",
              "2     3박4일 놀러가고 싶다  여행은 언제나 좋죠.      0\n",
              "3  3박4일 정도 놀러가고 싶다  여행은 언제나 좋죠.      0\n",
              "4          PPL 심하네   눈살이 찌푸려지죠.      0"
            ]
          },
          "metadata": {},
          "execution_count": 93
        }
      ]
    },
    {
      "cell_type": "code",
      "metadata": {
        "id": "LeDS5GFDYVWD",
        "colab": {
          "base_uri": "https://localhost:8080/"
        },
        "outputId": "9c7c17da-31d3-4bde-d609-56f484696e8d"
      },
      "source": [
        "print('챗봇 샘플의 개수 :', len(train_data))"
      ],
      "execution_count": 94,
      "outputs": [
        {
          "output_type": "stream",
          "name": "stdout",
          "text": [
            "챗봇 샘플의 개수 : 11823\n"
          ]
        }
      ]
    },
    {
      "cell_type": "code",
      "metadata": {
        "id": "bNNuKg6fYWb2",
        "colab": {
          "base_uri": "https://localhost:8080/"
        },
        "outputId": "31d3b6df-5e83-4866-a27f-5ec11b88b280"
      },
      "source": [
        "print(train_data.isnull().sum())\n",
        "\n",
        "# Null값은 별도로 존재하지 않음\n",
        "# 토큰화를 위해서 형태소 분석기 ㄴㄴ, 다른 방법인 학습 기반의 토크나이저 사용할 예정"
      ],
      "execution_count": 95,
      "outputs": [
        {
          "output_type": "stream",
          "name": "stdout",
          "text": [
            "Q        0\n",
            "A        0\n",
            "label    0\n",
            "dtype: int64\n"
          ]
        }
      ]
    },
    {
      "cell_type": "code",
      "metadata": {
        "id": "PZooNc-3YXIi"
      },
      "source": [
        "questions = []\n",
        "for sentence in train_data['Q']:\n",
        "  # 구두점에 대해서 띄어쓰기\n",
        "  # ex) 12시 땡! -> 12시 땡 !\n",
        "  sentence = re.sub(r\"([?.!,])\", r\" \\1 \", sentence)\n",
        "  sentence = sentence.strip()\n",
        "  questions.append(sentence)"
      ],
      "execution_count": 96,
      "outputs": []
    },
    {
      "cell_type": "code",
      "metadata": {
        "id": "0YuMARo4Yxm8"
      },
      "source": [
        "answers = []\n",
        "for sentence in train_data['A']:\n",
        "  # 구두점에 대해서 띄어쓰기\n",
        "  # ex) 12시 땡! -> 12시 땡 !\n",
        "  sentence = re.sub(r\"([?.!,])\", r\" \\1 \", sentence)\n",
        "  sentence = sentence.strip()\n",
        "  answers.append(sentence)"
      ],
      "execution_count": 97,
      "outputs": []
    },
    {
      "cell_type": "markdown",
      "metadata": {
        "id": "uT0r8pzzY9mw"
      },
      "source": [
        "* 질문과 대답에 대해서 상위 5개만 출력하여 구두점들이 띄어쓰기를 통해 분리되었는지 확인해보기"
      ]
    },
    {
      "cell_type": "code",
      "metadata": {
        "colab": {
          "base_uri": "https://localhost:8080/"
        },
        "id": "2XkfuC6M9jyw",
        "outputId": "e854e77a-f3f1-4d6b-bdbb-f94f94d3be4a"
      },
      "source": [
        "print(questions[:5])\n",
        "print(answers[:5])"
      ],
      "execution_count": 98,
      "outputs": [
        {
          "output_type": "stream",
          "name": "stdout",
          "text": [
            "['12시 땡 !', '1지망 학교 떨어졌어', '3박4일 놀러가고 싶다', '3박4일 정도 놀러가고 싶다', 'PPL 심하네']\n",
            "['하루가 또 가네요 .', '위로해 드립니다 .', '여행은 언제나 좋죠 .', '여행은 언제나 좋죠 .', '눈살이 찌푸려지죠 .']\n"
          ]
        }
      ]
    },
    {
      "cell_type": "markdown",
      "metadata": {
        "id": "86gPgaokZGZ_"
      },
      "source": [
        "### 2. 단어 집합 생성\n",
        "* 14챕터 서브워드 토크나이저 챕터에서 배웠던 **서브워드 텍스트 인코더**를 사용해보기\n",
        "  * 자주 사용되는 서브워드 단위로 토큰을 분리하는 토크나이저로 학습 데이터로부터 학습하여 서브워드로 구성된 단어 집합 생성"
      ]
    },
    {
      "cell_type": "code",
      "metadata": {
        "id": "33n7f0_091oe"
      },
      "source": [
        "# 서브워드 텍스트 인코더를 사용하여 질문, 답변 데이터로부터 단어 집합 생성\n",
        "tokenizer = tfds.deprecated.text.SubwordTextEncoder.build_from_corpus(\n",
        "    questions + answers, target_vocab_size = 2 ** 13)"
      ],
      "execution_count": 99,
      "outputs": []
    },
    {
      "cell_type": "markdown",
      "metadata": {
        "id": "WdoKx_03911d"
      },
      "source": [
        "* 단어 집합이 생성되었음. 그런데 seq2seq 챕터에서 배웠던 것처럼 인코더-디코더 모델 계열에서는 디코더의 입력으로 사용할 시작을 의미하는 시작 토큰 SOS와 종료 토큰 EOS 또한 존재함\n",
        "* 해당 토큰들도 단어 집합에 포함시킬 필요가 있으므로 이 두 토큰에 정수를 부여"
      ]
    },
    {
      "cell_type": "code",
      "metadata": {
        "id": "qva5dh5sZk9l"
      },
      "source": [
        "# 시작 토큰과 종료 토큰에 대한 정수 부여\n",
        "START_TOKEN, END_TOKEN = [tokenizer.vocab_size], [tokenizer.vocab_size + 1]\n",
        "\n",
        "# 시작 토큰과 종료 토큰을 고려하여 단어 집합의 크기를 +2\n",
        "VOCAB_SIZE = tokenizer.vocab_size + 2"
      ],
      "execution_count": 100,
      "outputs": []
    },
    {
      "cell_type": "code",
      "metadata": {
        "colab": {
          "base_uri": "https://localhost:8080/"
        },
        "id": "SREe940S-SKX",
        "outputId": "0f401d5a-87b6-49f8-a454-8ecb5680a975"
      },
      "source": [
        "print('시작 토큰 번호 :',START_TOKEN)\n",
        "print('종료 토큰 번호 :',END_TOKEN)\n",
        "print('단어 집합의 크기 :',VOCAB_SIZE)"
      ],
      "execution_count": 101,
      "outputs": [
        {
          "output_type": "stream",
          "name": "stdout",
          "text": [
            "시작 토큰 번호 : [8178]\n",
            "종료 토큰 번호 : [8179]\n",
            "단어 집합의 크기 : 8180\n"
          ]
        }
      ]
    },
    {
      "cell_type": "markdown",
      "metadata": {
        "id": "yJQX88Pn-Yua"
      },
      "source": [
        "### 3. 정수 인코딩과 패딩\n",
        "* 단어 집합을 생성한 후에는 서브워드텍스트인코더와 토크나이저로 정수 인코딩을 진행 가능\n",
        "  * 이는 토크나이저의 .encode()를 사용하여 가능"
      ]
    },
    {
      "cell_type": "code",
      "metadata": {
        "colab": {
          "base_uri": "https://localhost:8080/"
        },
        "id": "rxvUicCm-YAX",
        "outputId": "4173cf4d-b4a6-4141-8a64-7f2b6fb72f91"
      },
      "source": [
        "# 텍스트 시퀀슬르 정수 시퀀스로 변환\n",
        "print('임의의 질문 샘플을 정수 인코딩 : {}'.format(tokenizer.encode(questions[20])))"
      ],
      "execution_count": 102,
      "outputs": [
        {
          "output_type": "stream",
          "name": "stdout",
          "text": [
            "임의의 질문 샘플을 정수 인코딩 : [5766, 611, 3509, 141, 685, 3747, 849]\n"
          ]
        }
      ]
    },
    {
      "cell_type": "code",
      "metadata": {
        "colab": {
          "base_uri": "https://localhost:8080/"
        },
        "id": "pcJUDtZq-obQ",
        "outputId": "b278ba6b-4e92-4fc0-d8e6-675985b6230e"
      },
      "source": [
        "# 20번 질문 샘플로 정수 인코딩 뒤 다시 디코딩\n",
        "# 서브워드 텍스트 인코더 토크나이저의 .encode()와 .decode() 테스트해보기\n",
        "# 임의의 입력 문장을 sample_string에 저장\n",
        "sample_string = questions[20]\n",
        "\n",
        "# encode(): 텍스트 시퀀스 --> 정수 시퀀스\n",
        "tokenized_string = tokenizer.encode(sample_string)\n",
        "print('정수 인코딩 후의 문장 {}'.format(tokenized_string))\n",
        "\n",
        "# decode(): 정수 시퀀스 --> 텍스트 시퀀스\n",
        "original_string = tokenizer.decode(tokenized_string)\n",
        "print ('기존 문장: {}'.format(original_string))"
      ],
      "execution_count": 103,
      "outputs": [
        {
          "output_type": "stream",
          "name": "stdout",
          "text": [
            "정수 인코딩 후의 문장 [5766, 611, 3509, 141, 685, 3747, 849]\n",
            "기존 문장: 가스비 비싼데 감기 걸리겠어\n"
          ]
        }
      ]
    },
    {
      "cell_type": "code",
      "metadata": {
        "colab": {
          "base_uri": "https://localhost:8080/"
        },
        "id": "DJtbQV4W_CoS",
        "outputId": "12a916dc-37d9-4d89-c84c-a56d85ff3111"
      },
      "source": [
        "# 각 정수가 어떤 서브워드로 맵핑되는지 출력\n",
        "# 서브워드 텍스트 인코더는 의미있는 단위의 서브워드로 토크나이징함\n",
        "# 띄어쓰기 단위 아니고 형태소 분석 단위 아님\n",
        "for ts in tokenized_string:\n",
        "  print('{} ----> {}'.format(ts, tokenizer.decode([ts])))"
      ],
      "execution_count": 104,
      "outputs": [
        {
          "output_type": "stream",
          "name": "stdout",
          "text": [
            "5766 ----> 가스\n",
            "611 ----> 비 \n",
            "3509 ----> 비싼\n",
            "141 ----> 데 \n",
            "685 ----> 감기 \n",
            "3747 ----> 걸리\n",
            "849 ----> 겠어\n"
          ]
        }
      ]
    },
    {
      "cell_type": "code",
      "metadata": {
        "id": "cVLr6rUa_QrC"
      },
      "source": [
        "# 샘플 1개를 가지고 정수 인코딩과 디코딩 수행\n",
        "# 이번에는 전체 데이터에 대해서 정수 인코딩과 패딩 진행\n",
        "# 이를 위한 함수 tokenize_and_filter()를 만듦. 임의로 패딩의 길이는 40\n",
        "\n",
        "MAX_LENGTH = 40\n",
        "\n",
        "def tokenize_and_filter(inputs, outputs):\n",
        "  tokenized_inputs, tokenized_outputs = [], []\n",
        "\n",
        "  for (sentence1, sentence2) in zip(inputs, outputs):\n",
        "    # encode(토큰화 + 정수 인코딩), 시작 토큰과 종료 토큰 추가\n",
        "    sentence1 = START_TOKEN + tokenizer.encode(sentence1) + END_TOKEN\n",
        "    sentence2 = START_TOKEN + tokenizer.encode(sentence2) + END_TOKEN\n",
        "\n",
        "    tokenized_inputs.append(sentence1)\n",
        "    tokenized_outputs.append(sentence2)\n",
        "\n",
        "  # 패딩\n",
        "  tokenized_inputs = tf.keras.preprocessing.sequence.pad_sequences(\n",
        "      tokenized_inputs, maxlen=MAX_LENGTH, padding='post')\n",
        "  tokenized_outputs = tf.keras.preprocessing.sequence.pad_sequences(\n",
        "      tokenized_outputs, maxlen=MAX_LENGTH, padding='post')\n",
        "  \n",
        "  return tokenized_inputs, tokenized_outputs"
      ],
      "execution_count": 105,
      "outputs": []
    },
    {
      "cell_type": "code",
      "metadata": {
        "id": "DgFFJZEFAALP"
      },
      "source": [
        "questions, answers = tokenize_and_filter(questions, answers)"
      ],
      "execution_count": 106,
      "outputs": []
    },
    {
      "cell_type": "code",
      "metadata": {
        "colab": {
          "base_uri": "https://localhost:8080/"
        },
        "id": "AcCnK0n4ADHY",
        "outputId": "392c6224-fb94-4627-ad67-2d32db1a0ccd"
      },
      "source": [
        "print('질문 데이터의 크기(shape) :', questions.shape)\n",
        "print('답변 데이터의 크기(shape) :', answers.shape)"
      ],
      "execution_count": 107,
      "outputs": [
        {
          "output_type": "stream",
          "name": "stdout",
          "text": [
            "질문 데이터의 크기(shape) : (11823, 40)\n",
            "답변 데이터의 크기(shape) : (11823, 40)\n"
          ]
        }
      ]
    },
    {
      "cell_type": "code",
      "metadata": {
        "colab": {
          "base_uri": "https://localhost:8080/"
        },
        "id": "brZhw2rMALEj",
        "outputId": "cbbc9fe6-19f2-411f-b817-ad7c98aa0d45"
      },
      "source": [
        "# 0번 샘플을 임의로 출력\n",
        "print(questions[0])\n",
        "print(answers[0])"
      ],
      "execution_count": 108,
      "outputs": [
        {
          "output_type": "stream",
          "name": "stdout",
          "text": [
            "[8178 7915 4207 3060   41 8179    0    0    0    0    0    0    0    0\n",
            "    0    0    0    0    0    0    0    0    0    0    0    0    0    0\n",
            "    0    0    0    0    0    0    0    0    0    0    0    0]\n",
            "[8178 3844   74 7894    1 8179    0    0    0    0    0    0    0    0\n",
            "    0    0    0    0    0    0    0    0    0    0    0    0    0    0\n",
            "    0    0    0    0    0    0    0    0    0    0    0    0]\n"
          ]
        }
      ]
    },
    {
      "cell_type": "markdown",
      "metadata": {
        "id": "D1DLnB3SAN2l"
      },
      "source": [
        "### 4. 인코더와 디코더의 입력, 그리고 레이블 만들기"
      ]
    },
    {
      "cell_type": "code",
      "metadata": {
        "id": "tsBFJs0xAQRE"
      },
      "source": [
        "# 텐서플로 데이터셋 이용해서 셔플을 수행하되, 배치 코기로 데이터를 묶음\n",
        "# 이 과정에서 교사 강요(Teacher forcing)을 사용하기 위해서 디코더의 입력과 실제값 시퀀스 구성\n",
        "\n",
        "BATCH_SIZE = 64\n",
        "BUFFER_SIZE = 20000\n",
        "\n",
        "# 디코더의 실제값 시퀀스에서는 시작 토큰 제거해야 함\n",
        "dataset = tf.data.Dataset.from_tensor_slices((\n",
        "    {\n",
        "        'inputs': questions,\n",
        "        'dec_inputs': answers[:, :-1] # 디코더의 입력. 마지막 패딩 토큰이 제거됨\n",
        "    },\n",
        "    {\n",
        "        'outputs': answers[:, 1:] # 맨 처음 토큰이 제거됨. 시작 토큰이 제거됨\n",
        "    }\n",
        "))\n",
        "\n",
        "dataset = dataset.cache()\n",
        "dataset = dataset.shuffle(BUFFER_SIZE)\n",
        "dataset = dataset.batch(BATCH_SIZE)\n",
        "dataset = dataset.prefetch(tf.data.experimental.AUTOTUNE)"
      ],
      "execution_count": 109,
      "outputs": []
    },
    {
      "cell_type": "code",
      "metadata": {
        "colab": {
          "base_uri": "https://localhost:8080/"
        },
        "id": "TvJwkbdoA1C4",
        "outputId": "b0696e9a-6ccc-4a37-bbf1-b3f2161478eb"
      },
      "source": [
        "# 임의의 샘플에 대해서 [:, :-1]과 [:, 1:]이 어떤 의미를 가지는지 테스트해본다.\n",
        "print(answers[0]) # 기존 샘플\n",
        "print(answers[:1][:, :-1]) # 마지막 패딩 토큰 제거하면서 길이가 39가 된다.\n",
        "print(answers[:1][:, 1:]) # 맨 처음 토큰이 제거된다. 다시 말해 시작 토큰이 제거된다. 길이는 역시 39가 된다."
      ],
      "execution_count": 110,
      "outputs": [
        {
          "output_type": "stream",
          "name": "stdout",
          "text": [
            "[8178 3844   74 7894    1 8179    0    0    0    0    0    0    0    0\n",
            "    0    0    0    0    0    0    0    0    0    0    0    0    0    0\n",
            "    0    0    0    0    0    0    0    0    0    0    0    0]\n",
            "[[8178 3844   74 7894    1 8179    0    0    0    0    0    0    0    0\n",
            "     0    0    0    0    0    0    0    0    0    0    0    0    0    0\n",
            "     0    0    0    0    0    0    0    0    0    0    0]]\n",
            "[[3844   74 7894    1 8179    0    0    0    0    0    0    0    0    0\n",
            "     0    0    0    0    0    0    0    0    0    0    0    0    0    0\n",
            "     0    0    0    0    0    0    0    0    0    0    0]]\n"
          ]
        }
      ]
    },
    {
      "cell_type": "markdown",
      "metadata": {
        "id": "9vRwnVCgA84s"
      },
      "source": [
        "### 5. 트랜스포머 만들기"
      ]
    },
    {
      "cell_type": "code",
      "metadata": {
        "colab": {
          "base_uri": "https://localhost:8080/"
        },
        "id": "aAdHzQZnA57f",
        "outputId": "d9658a37-7fcd-4e43-da24-120050d62fb8"
      },
      "source": [
        "tf.keras.backend.clear_session()\n",
        "\n",
        "# Hyper-parameters\n",
        "D_MODEL = 256\n",
        "NUM_LAYERS = 2\n",
        "NUM_HEADS = 8\n",
        "DFF = 512\n",
        "DROPOUT = 0.1\n",
        "\n",
        "model = transformer(\n",
        "    vocab_size=VOCAB_SIZE,\n",
        "    num_layers=NUM_LAYERS,\n",
        "    dff=DFF,\n",
        "    d_model=D_MODEL,\n",
        "    num_heads=NUM_HEADS,\n",
        "    dropout=DROPOUT)"
      ],
      "execution_count": 111,
      "outputs": [
        {
          "output_type": "stream",
          "name": "stdout",
          "text": [
            "(1, 8180, 256)\n",
            "(1, 8180, 256)\n"
          ]
        }
      ]
    },
    {
      "cell_type": "code",
      "metadata": {
        "id": "zFjhscutBE5L"
      },
      "source": [
        "# 학습률과 옵티마이저를 정의하고 모델 컴파일\n",
        "learning_rate = CustomSchedule(D_MODEL)\n",
        "\n",
        "optimizer = tf.keras.optimizers.Adam(\n",
        "    learning_rate, beta_1=0.9, beta_2=0.98, epsilon=1e-9)\n",
        "\n",
        "def accuracy(y_true, y_pred):\n",
        "  # 레이블의 크기는 (batch_size, MAX_LENGTH - 1)\n",
        "  y_true = tf.reshape(y_true, shape=(-1, MAX_LENGTH -1))\n",
        "  return tf.keras.metrics.sparse_categorical_accuracy(y_true, y_pred)\n",
        "\n",
        "model.compile(optimizer=optimizer, loss=loss_function, metrics=[accuracy])"
      ],
      "execution_count": 113,
      "outputs": []
    },
    {
      "cell_type": "code",
      "metadata": {
        "colab": {
          "base_uri": "https://localhost:8080/"
        },
        "id": "pXk05TZOBbmo",
        "outputId": "e60ecf03-da32-44e0-aa19-e34f5d1dc29d"
      },
      "source": [
        "EPOCHS = 10\n",
        "model.fit(dataset, epochs=EPOCHS)"
      ],
      "execution_count": 115,
      "outputs": [
        {
          "output_type": "stream",
          "name": "stdout",
          "text": [
            "Epoch 1/10\n",
            "185/185 [==============================] - 347s 2s/step - loss: 0.8397 - accuracy: 0.0595\n",
            "Epoch 2/10\n",
            "185/185 [==============================] - 346s 2s/step - loss: 0.7768 - accuracy: 0.0647\n",
            "Epoch 3/10\n",
            "185/185 [==============================] - 347s 2s/step - loss: 0.7074 - accuracy: 0.0716\n",
            "Epoch 4/10\n",
            "185/185 [==============================] - 345s 2s/step - loss: 0.6316 - accuracy: 0.0802\n",
            "Epoch 5/10\n",
            "185/185 [==============================] - 347s 2s/step - loss: 0.5514 - accuracy: 0.0892\n",
            "Epoch 6/10\n",
            "185/185 [==============================] - 344s 2s/step - loss: 0.4678 - accuracy: 0.0991\n",
            "Epoch 7/10\n",
            "185/185 [==============================] - 344s 2s/step - loss: 0.3851 - accuracy: 0.1099\n",
            "Epoch 8/10\n",
            "185/185 [==============================] - 344s 2s/step - loss: 0.3065 - accuracy: 0.1208\n",
            "Epoch 9/10\n",
            "185/185 [==============================] - 344s 2s/step - loss: 0.2359 - accuracy: 0.1316\n",
            "Epoch 10/10\n",
            "185/185 [==============================] - 343s 2s/step - loss: 0.1766 - accuracy: 0.1409\n"
          ]
        },
        {
          "output_type": "execute_result",
          "data": {
            "text/plain": [
              "<keras.callbacks.History at 0x7f5529071990>"
            ]
          },
          "metadata": {},
          "execution_count": 115
        }
      ]
    },
    {
      "cell_type": "markdown",
      "metadata": {
        "id": "jvpnugPHGXv8"
      },
      "source": [
        "### 6. 챗봇 평가하기"
      ]
    },
    {
      "cell_type": "code",
      "metadata": {
        "id": "e_X_4HRNGO6V"
      },
      "source": [
        "def evaluate(sentence):\n",
        "  sentence = preprocess_sentence(sentence)\n",
        "\n",
        "  sentence = tf.expand_dims(\n",
        "      START_TOKEN + tokenizer.encode(sentence) + END_TOKEN, axis=0)\n",
        "\n",
        "  output = tf.expand_dims(START_TOKEN, 0)\n",
        "\n",
        "  # 디코더의 예측 시작\n",
        "  for i in range(MAX_LENGTH):\n",
        "    predictions = model(inputs=[sentence, output], training=False)\n",
        "\n",
        "    # 현재(마지막) 시점의 예측 단어를 받아온다.\n",
        "    predictions = predictions[:, -1:, :]\n",
        "    predicted_id = tf.cast(tf.argmax(predictions, axis=-1), tf.int32)\n",
        "\n",
        "    # 만약 마지막 시점의 예측 단어가 종료 토큰이라면 예측을 중단\n",
        "    if tf.equal(predicted_id, END_TOKEN[0]):\n",
        "      break\n",
        "\n",
        "    # 마지막 시점의 예측 단어를 출력에 연결한다.\n",
        "    # 이는 for문을 통해서 디코더의 입력으로 사용될 예정이다.\n",
        "    output = tf.concat([output, predicted_id], axis=-1)\n",
        "\n",
        "  return tf.squeeze(output, axis=0)"
      ],
      "execution_count": 116,
      "outputs": []
    },
    {
      "cell_type": "code",
      "metadata": {
        "id": "pk7XsjtCGZP8"
      },
      "source": [
        "def predict(sentence):\n",
        "  prediction = evaluate(sentence)\n",
        "\n",
        "  predicted_sentence = tokenizer.decode(\n",
        "      [i for i in prediction if i < tokenizer.vocab_size])\n",
        "\n",
        "  print('Input: {}'.format(sentence))\n",
        "  print('Output: {}'.format(predicted_sentence))\n",
        "\n",
        "  return predicted_sentence"
      ],
      "execution_count": 117,
      "outputs": []
    },
    {
      "cell_type": "code",
      "metadata": {
        "id": "P3SusEq2Ga3x"
      },
      "source": [
        "def preprocess_sentence(sentence):\n",
        "  sentence = re.sub(r\"([?.!,])\", r\" \\1 \", sentence)\n",
        "  sentence = sentence.strip()\n",
        "  return sentence"
      ],
      "execution_count": 118,
      "outputs": []
    },
    {
      "cell_type": "code",
      "metadata": {
        "colab": {
          "base_uri": "https://localhost:8080/"
        },
        "id": "6duzR0FfGcWi",
        "outputId": "9e8c0267-6b66-4316-beaa-d1c38850956b"
      },
      "source": [
        "output = predict(\"영화 볼래?\")"
      ],
      "execution_count": 119,
      "outputs": [
        {
          "output_type": "stream",
          "name": "stdout",
          "text": [
            "Input: 영화 볼래?\n",
            "Output: 최신 영화가 좋을 것 같아요 .\n"
          ]
        }
      ]
    },
    {
      "cell_type": "code",
      "metadata": {
        "colab": {
          "base_uri": "https://localhost:8080/"
        },
        "id": "r_5VmWZBGdnj",
        "outputId": "bc29526d-3a09-4a14-9bb1-f4a345b90679"
      },
      "source": [
        "output = predict(\"고민이 있어\")"
      ],
      "execution_count": 120,
      "outputs": [
        {
          "output_type": "stream",
          "name": "stdout",
          "text": [
            "Input: 고민이 있어\n",
            "Output: 생각을 많이 하면 좀 소개시켜드릴게요 .\n"
          ]
        }
      ]
    },
    {
      "cell_type": "code",
      "metadata": {
        "colab": {
          "base_uri": "https://localhost:8080/"
        },
        "id": "0_xARU-HGe_Q",
        "outputId": "d428a827-ae7c-48ee-861a-561cb9af7cdf"
      },
      "source": [
        "output = predict(\"너무 화가나\")"
      ],
      "execution_count": 121,
      "outputs": [
        {
          "output_type": "stream",
          "name": "stdout",
          "text": [
            "Input: 너무 화가나\n",
            "Output: 자신을 비난하지 마세요 .\n"
          ]
        }
      ]
    },
    {
      "cell_type": "code",
      "metadata": {
        "colab": {
          "base_uri": "https://localhost:8080/"
        },
        "id": "iaNBSKlXGf2H",
        "outputId": "b346e2c5-95a4-4dd1-d921-d3353124965e"
      },
      "source": [
        "output = predict(\"카페갈래?\")"
      ],
      "execution_count": 122,
      "outputs": [
        {
          "output_type": "stream",
          "name": "stdout",
          "text": [
            "Input: 카페갈래?\n",
            "Output: 같이 마셔요 .\n"
          ]
        }
      ]
    },
    {
      "cell_type": "code",
      "metadata": {
        "colab": {
          "base_uri": "https://localhost:8080/"
        },
        "id": "EP9Njm45GhHi",
        "outputId": "97ea1948-bad5-4774-9bb9-f4d03bcfe396"
      },
      "source": [
        "output = predict(\"게임하고싶당\")"
      ],
      "execution_count": 123,
      "outputs": [
        {
          "output_type": "stream",
          "name": "stdout",
          "text": [
            "Input: 게임하고싶당\n",
            "Output: 저도 싶어요 .\n"
          ]
        }
      ]
    },
    {
      "cell_type": "code",
      "metadata": {
        "colab": {
          "base_uri": "https://localhost:8080/"
        },
        "id": "YFJ1X-l7GiTr",
        "outputId": "ab6bc007-e060-4032-8c9c-7d0abc2fb1cd"
      },
      "source": [
        "output = predict(\"게임하자\")"
      ],
      "execution_count": 124,
      "outputs": [
        {
          "output_type": "stream",
          "name": "stdout",
          "text": [
            "Input: 게임하자\n",
            "Output: 급 다이어트 해봐요 .\n"
          ]
        }
      ]
    },
    {
      "cell_type": "code",
      "metadata": {
        "id": "ccpepL3uGjMG"
      },
      "source": [
        ""
      ],
      "execution_count": null,
      "outputs": []
    }
  ]
}