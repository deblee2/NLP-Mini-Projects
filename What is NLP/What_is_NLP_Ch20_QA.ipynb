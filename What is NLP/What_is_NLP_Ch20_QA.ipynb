{
  "nbformat": 4,
  "nbformat_minor": 0,
  "metadata": {
    "colab": {
      "name": "What_is_NLP_Ch20_QA.ipynb",
      "provenance": [],
      "collapsed_sections": []
    },
    "kernelspec": {
      "name": "python3",
      "display_name": "Python 3"
    },
    "language_info": {
      "name": "python"
    }
  },
  "cells": [
    {
      "cell_type": "markdown",
      "metadata": {
        "id": "wJExLFmhVBCj"
      },
      "source": [
        "## 20. 질의응답 Question Answering, QA\n",
        "* 페이스북의 Babi QA 셋을 메모리 네트워크를 통해 품\n",
        "* BERT를 이용하여 MRC(기계 독해 이해력) 테스트인 스쿼드(SQuAD, Stanford Question Answering Dataset) 풀어보기"
      ]
    },
    {
      "cell_type": "markdown",
      "metadata": {
        "id": "6arqB2MPVPYJ"
      },
      "source": [
        "### 1) 메모리 네트워크 Memory Network, MemN을 이용한 QA\n",
        "#### 1. Babi 데이터셋\n",
        "* 스토리, 질문, 답으로 이루어짐\n",
        "* 질문이 나왔어도 스토리는 계속 이어지고 질문도 이어짐  \n",
        "\n",
        "#### 2. 메모리 네트워크 구조\n",
        "* 두 개의 입력: 스토리 문장과 질문 문장\n",
        "* 각각의 임베딩 과정을 거쳐야 함  \n",
        "* 이후 내적(dot product)를 통해 각 단어 간 유사도를 구하고, 소프트맥스 함수를 지나서 Embedding A로 임베딩 된 스토리 문장에 더해짐  "
      ]
    },
    {
      "cell_type": "markdown",
      "metadata": {
        "id": "w7YQ2rHdW32q"
      },
      "source": [
        "* 표현 바꿔서) 스토리 문장: Value와 Key, 질문 문장: Query \n",
        "* Query는 Key와 유사도를 구하고, 소프트맥스 함수를 통해 값을 정규화하여 Value에 더해서 이 유사도값을 반영해줌\n",
        "* 결국 지금까지의 연산 과정은 **어텐션 메커니즘**의 의도를 가지고 있음  \n"
      ]
    },
    {
      "cell_type": "markdown",
      "metadata": {
        "id": "pDJHeGlSXPWg"
      },
      "source": [
        "* (1) 어텐션 메커니즘을 통해서 질문 문장과의 유사도를 반영한 **스토리 문장 표현**을 얻기 위한 여정\n",
        "* (2) 이를 질문 문장을 임베딩한 **질문 표현**과 연결(concatenate)\n",
        "* (3) 이 표현을 LSTM과 밀집층(dense layer)의 입력으로 사용하여 정답 예측"
      ]
    },
    {
      "cell_type": "markdown",
      "metadata": {
        "id": "tjMwYZ90XTxQ"
      },
      "source": [
        "#### 3. Babi 데이터셋 전처리하기"
      ]
    },
    {
      "cell_type": "code",
      "metadata": {
        "id": "UHVzhl6iVOXw"
      },
      "source": [
        "from tensorflow.keras.utils import get_file\n",
        "from tensorflow.keras.preprocessing.sequence import pad_sequences\n",
        "from tensorflow.keras.utils import to_categorical\n",
        "import numpy as np\n",
        "import tarfile\n",
        "from nltk import FreqDist\n",
        "from functools import reduce\n",
        "import os\n",
        "import re\n",
        "import matplotlib.pyplot as plt"
      ],
      "execution_count": 1,
      "outputs": []
    },
    {
      "cell_type": "code",
      "metadata": {
        "id": "recdUIj8Xo_1"
      },
      "source": [
        "# 케라스의 get_file을 통해 데이터셋을 다운로드\n",
        "path = get_file('babi-tasks-v1-2.tar.gz', origin='https://s3.amazonaws.com/text-datasets/'\n",
        "                'babi_tasks_1-20_v1-2.tar.gz')"
      ],
      "execution_count": 2,
      "outputs": []
    },
    {
      "cell_type": "code",
      "metadata": {
        "id": "b_r-EgE4XwHj"
      },
      "source": [
        "# 압축을 풀고 훈련 데이터와 테스트 데이터를 각각 얻음\n",
        "with tarfile.open(path) as tar:\n",
        "  tar.extractall()\n",
        "  tar.close()\n",
        "\n",
        "DATA_DIR = 'tasks_1-20_v1-2/en-10k'\n",
        "TRAIN_FILE = os.path.join(DATA_DIR, \"qa1_single-supporting-fact_train.txt\")\n",
        "TEST_FILE = os.path.join(DATA_DIR, \"qa1_single-supporting-fact_test.txt\")"
      ],
      "execution_count": 3,
      "outputs": []
    },
    {
      "cell_type": "code",
      "metadata": {
        "colab": {
          "base_uri": "https://localhost:8080/"
        },
        "id": "LorWezvqYdIX",
        "outputId": "196a9b5c-c8fc-44e0-e255-e3b53929f2a6"
      },
      "source": [
        "# 훈련 데이터로부터 상위 20개의 라인 읽고 출력\n",
        "i = 0\n",
        "lines = open(TRAIN_FILE, \"rb\")\n",
        "for line in lines:\n",
        "    line = line.decode(\"utf-8\").strip()\n",
        "    # lno, text = line.split(\" \", 1) # ID와 TEXT 분리\n",
        "    i = i + 1\n",
        "    print(line)\n",
        "    if i == 20:\n",
        "      break"
      ],
      "execution_count": 4,
      "outputs": [
        {
          "output_type": "stream",
          "name": "stdout",
          "text": [
            "1 Mary moved to the bathroom.\n",
            "2 John went to the hallway.\n",
            "3 Where is Mary? \tbathroom\t1\n",
            "4 Daniel went back to the hallway.\n",
            "5 Sandra moved to the garden.\n",
            "6 Where is Daniel? \thallway\t4\n",
            "7 John moved to the office.\n",
            "8 Sandra journeyed to the bathroom.\n",
            "9 Where is Daniel? \thallway\t4\n",
            "10 Mary moved to the hallway.\n",
            "11 Daniel travelled to the office.\n",
            "12 Where is Daniel? \toffice\t11\n",
            "13 John went back to the garden.\n",
            "14 John moved to the bedroom.\n",
            "15 Where is Sandra? \tbathroom\t8\n",
            "1 Sandra travelled to the office.\n",
            "2 Sandra went to the bathroom.\n",
            "3 Where is Sandra? \tbathroom\t2\n",
            "4 Mary went to the bedroom.\n",
            "5 Daniel moved to the hallway.\n"
          ]
        }
      ]
    },
    {
      "cell_type": "markdown",
      "metadata": {
        "id": "KP8m-GF9bFpj"
      },
      "source": [
        "* 숫자 1부터 15까지 한 개의 스토리\n",
        "* 중간 중간에 질문이 나오고 있음\n",
        "* 질문 옆에는 질문에 해당하는 정답이 적혀 있고, 정답 옆의 번호는 해당 정답이 몇 번의 라인에 있엇는지 알려줌"
      ]
    },
    {
      "cell_type": "code",
      "metadata": {
        "id": "TVtudZL7ZdN2"
      },
      "source": [
        "# 전처리를 거쳐 스토리, 질문, 답변을 전부 별도로 저장\n",
        "def read_data(dir):\n",
        "  stories, questions, answers = [], [], []\n",
        "  story_temp = [] #현재 시점의 스토리 임시 저장\n",
        "  lines = open(dir, \"rb\")\n",
        "\n",
        "  for line in lines:\n",
        "    line = line.decode(\"utf-8\") # b' 제거\n",
        "    line = line.strip() #'\\n' 제거\n",
        "    idx, text = line.split(\" \", 1) # 맨 앞에 있는 id number 분리\n",
        "    # 여기까지는 모든 줄에 적용되는 전처리\n",
        "\n",
        "    if int(idx) == 1:\n",
        "      story_temp = []\n",
        "\n",
        "    if \"\\t\" in text: #현재 읽는 줄이 질문 (tab) 답변 (tab)인 경우\n",
        "      question, answer, _ = text.split(\"\\t\") #질문과 답변을 각각 저장\n",
        "      stories.append([x for x in story_temp if x]) #지금까지의 누적 스토리를 스토리에 저장\n",
        "      questions.append(question)\n",
        "      answers.append(answer)\n",
        "    \n",
        "    else: #현재 읽는 줄이 스토리인 경우\n",
        "      story_temp.append(text)\n",
        "  \n",
        "  lines.close()\n",
        "  return stories, questions, answers\n"
      ],
      "execution_count": 5,
      "outputs": []
    },
    {
      "cell_type": "code",
      "metadata": {
        "id": "JhPQQADrpaog"
      },
      "source": [
        "train_data = read_data(TRAIN_FILE)\n",
        "test_data = read_data(TEST_FILE)"
      ],
      "execution_count": 6,
      "outputs": []
    },
    {
      "cell_type": "code",
      "metadata": {
        "id": "5YYiUuF-pgoJ"
      },
      "source": [
        "train_stories, train_questions, train_answers = read_data(TRAIN_FILE)\n",
        "test_stories, test_questions, test_answers = read_data(TEST_FILE)"
      ],
      "execution_count": 7,
      "outputs": []
    },
    {
      "cell_type": "code",
      "metadata": {
        "colab": {
          "base_uri": "https://localhost:8080/"
        },
        "id": "r3ViwwsQpp2S",
        "outputId": "688e73b4-983f-475e-887d-3e04aec42abd"
      },
      "source": [
        "print('훈련용 스토리의 개수 :', len(train_stories))\n",
        "print('훈련용 질문의 개수 :',len(train_questions))\n",
        "print('훈련용 답변의 개수 :',len(train_answers))\n",
        "print('테스트용 스토리의 개수 :',len(test_stories))\n",
        "print('테스트용 질문의 개수 :',len(test_questions))\n",
        "print('테스트용 답변의 개수 :',len(test_answers))"
      ],
      "execution_count": 8,
      "outputs": [
        {
          "output_type": "stream",
          "name": "stdout",
          "text": [
            "훈련용 스토리의 개수 : 10000\n",
            "훈련용 질문의 개수 : 10000\n",
            "훈련용 답변의 개수 : 10000\n",
            "테스트용 스토리의 개수 : 1000\n",
            "테스트용 질문의 개수 : 1000\n",
            "테스트용 답변의 개수 : 1000\n"
          ]
        }
      ]
    },
    {
      "cell_type": "code",
      "metadata": {
        "colab": {
          "base_uri": "https://localhost:8080/"
        },
        "id": "RuegnHubwGbA",
        "outputId": "d4930f85-f519-45f7-905e-82fd8cfc53a7"
      },
      "source": [
        "train_stories[3576]"
      ],
      "execution_count": 9,
      "outputs": [
        {
          "output_type": "execute_result",
          "data": {
            "text/plain": [
              "['John went back to the garden.',\n",
              " 'Mary went to the kitchen.',\n",
              " 'Sandra went back to the bedroom.',\n",
              " 'John travelled to the bedroom.']"
            ]
          },
          "metadata": {},
          "execution_count": 9
        }
      ]
    },
    {
      "cell_type": "code",
      "metadata": {
        "colab": {
          "base_uri": "https://localhost:8080/",
          "height": 34
        },
        "id": "4InhvSk8wJS3",
        "outputId": "4da9c646-c50f-42e1-c71e-fd9ea6cc1946"
      },
      "source": [
        "train_questions[3576]"
      ],
      "execution_count": 10,
      "outputs": [
        {
          "output_type": "execute_result",
          "data": {
            "application/vnd.google.colaboratory.intrinsic+json": {
              "type": "string"
            },
            "text/plain": [
              "'Where is John? '"
            ]
          },
          "metadata": {},
          "execution_count": 10
        }
      ]
    },
    {
      "cell_type": "code",
      "metadata": {
        "colab": {
          "base_uri": "https://localhost:8080/",
          "height": 34
        },
        "id": "XG2w50KawMau",
        "outputId": "4c453c85-d619-4339-8f46-3f4ae04b1fcc"
      },
      "source": [
        "train_answers[3576]"
      ],
      "execution_count": 11,
      "outputs": [
        {
          "output_type": "execute_result",
          "data": {
            "application/vnd.google.colaboratory.intrinsic+json": {
              "type": "string"
            },
            "text/plain": [
              "'bedroom'"
            ]
          },
          "metadata": {},
          "execution_count": 11
        }
      ]
    },
    {
      "cell_type": "code",
      "metadata": {
        "id": "LvGqlyqlwOuw"
      },
      "source": [
        "def tokenize(sent):\n",
        "    return [ x.strip() for x in re.split('(\\W+)', sent) if x and x.strip()]"
      ],
      "execution_count": 12,
      "outputs": []
    },
    {
      "cell_type": "code",
      "metadata": {
        "id": "Vcc5jMF_9zwh"
      },
      "source": [
        "def preprocess_data(train_data, test_data):\n",
        "    counter = FreqDist()\n",
        "\n",
        "    # 두 문장의 story를 하나의 문장으로 통합하는 함수\n",
        "    flatten = lambda data: reduce(lambda x, y: x + y, data)\n",
        "\n",
        "    # 각 샘플의 길이를 저장하는 리스트\n",
        "    story_len = []\n",
        "    question_len = []\n",
        "\n",
        "    for stories, questions, answers in [train_data, test_data]:\n",
        "        for story in stories:\n",
        "            stories = tokenize(flatten(story)) # 스토리의 문장들을 펼친 후 토큰화\n",
        "            story_len.append(len(stories)) # 각 story의 길이 저장\n",
        "            for word in stories: # 단어 집합에 단어 추가\n",
        "                counter[word] += 1\n",
        "        for question in questions:\n",
        "            question = tokenize(question)\n",
        "            question_len.append(len(question))\n",
        "            for word in question:\n",
        "                counter[word] += 1\n",
        "        for answer in answers:\n",
        "            answer = tokenize(answer)\n",
        "            for word in answer:\n",
        "                counter[word] += 1\n",
        "\n",
        "    # 단어 집합 생성\n",
        "    word2idx = {word : (idx + 1) for idx, (word, _) in enumerate(counter.most_common())}\n",
        "    idx2word = {idx : word for word, idx in word2idx.items()}\n",
        "\n",
        "    # 가장 긴 샘플의 길이\n",
        "    story_max_len = np.max(story_len)\n",
        "    question_max_len = np.max(question_len)\n",
        "\n",
        "    return word2idx, idx2word, story_max_len, question_max_len"
      ],
      "execution_count": 13,
      "outputs": []
    },
    {
      "cell_type": "code",
      "metadata": {
        "id": "A3wXuXMq7Jnu"
      },
      "source": [
        "word2idx, idx2word, story_max_len, question_max_len = preprocess_data(train_data, test_data)"
      ],
      "execution_count": 14,
      "outputs": []
    },
    {
      "cell_type": "code",
      "metadata": {
        "colab": {
          "base_uri": "https://localhost:8080/"
        },
        "id": "qPC4Lifg7Kw2",
        "outputId": "4dadc4db-d596-4230-bd22-6479b36f9de1"
      },
      "source": [
        "print(word2idx)"
      ],
      "execution_count": 15,
      "outputs": [
        {
          "output_type": "stream",
          "name": "stdout",
          "text": [
            "{'to': 1, 'the': 2, '.': 3, 'went': 4, 'Sandra': 5, 'John': 6, 'Daniel': 7, 'Mary': 8, 'travelled': 9, 'journeyed': 10, 'back': 11, 'bathroom': 12, 'garden': 13, 'hallway': 14, 'moved': 15, 'office': 16, 'kitchen': 17, 'bedroom': 18, 'Where': 19, 'is': 20, '?': 21}\n"
          ]
        }
      ]
    },
    {
      "cell_type": "code",
      "metadata": {
        "id": "RJdHU5JE-Ehr"
      },
      "source": [
        "vocab_size = len(word2idx) + 1"
      ],
      "execution_count": 16,
      "outputs": []
    },
    {
      "cell_type": "code",
      "metadata": {
        "colab": {
          "base_uri": "https://localhost:8080/"
        },
        "id": "LCXUjTbd-HrB",
        "outputId": "37341c43-f0d3-4f65-e706-98c8073a7d0c"
      },
      "source": [
        "print('스토리의 최대 길이 :',story_max_len)\n",
        "print('질문의 최대 길이 :',question_max_len)"
      ],
      "execution_count": 17,
      "outputs": [
        {
          "output_type": "stream",
          "name": "stdout",
          "text": [
            "스토리의 최대 길이 : 68\n",
            "질문의 최대 길이 : 4\n"
          ]
        }
      ]
    },
    {
      "cell_type": "code",
      "metadata": {
        "id": "_OvPp0Z6-JAm"
      },
      "source": [
        "def vectorize(data, word2idx, story_maxlen, question_maxlen):\n",
        "    Xs, Xq, Y = [], [], []\n",
        "    flatten = lambda data: reduce(lambda x, y: x + y, data)\n",
        "\n",
        "    stories, questions, answers = data\n",
        "    for story, question, answer in zip(stories, questions, answers):\n",
        "        xs = [word2idx[w] for w in tokenize(flatten(story))]\n",
        "        xq = [word2idx[w] for w in tokenize(question)]\n",
        "        Xs.append(xs)\n",
        "        Xq.append(xq)\n",
        "        Y.append(word2idx[answer])\n",
        "\n",
        "        # 스토리와 질문은 각각의 최대 길이로 패딩\n",
        "        # 정답은 원-핫 인코딩\n",
        "    return pad_sequences(Xs, maxlen=story_maxlen),\\\n",
        "           pad_sequences(Xq, maxlen=question_maxlen),\\\n",
        "           to_categorical(Y, num_classes=len(word2idx) + 1)"
      ],
      "execution_count": 18,
      "outputs": []
    },
    {
      "cell_type": "code",
      "metadata": {
        "id": "ZmQ023xR-yIT"
      },
      "source": [
        "Xstrain, Xqtrain, Ytrain = vectorize(train_data, word2idx, story_max_len, question_max_len)\n",
        "Xstest, Xqtest, Ytest = vectorize(test_data, word2idx, story_max_len, question_max_len)"
      ],
      "execution_count": 19,
      "outputs": []
    },
    {
      "cell_type": "code",
      "metadata": {
        "colab": {
          "base_uri": "https://localhost:8080/"
        },
        "id": "8ixlX9tO-9Io",
        "outputId": "eb28b72e-85e1-4933-ae65-118a0048389e"
      },
      "source": [
        "print(Xstrain.shape, Xqtrain.shape, Ytrain.shape, Xstest.shape, Xqtest.shape, Ytest.shape)"
      ],
      "execution_count": 20,
      "outputs": [
        {
          "output_type": "stream",
          "name": "stdout",
          "text": [
            "(10000, 68) (10000, 4) (10000, 22) (1000, 68) (1000, 4) (1000, 22)\n"
          ]
        }
      ]
    },
    {
      "cell_type": "markdown",
      "metadata": {
        "id": "5DmeDaVE_R3y"
      },
      "source": [
        "#### 4. 메모리 네트워크로 QA 테스크 풀기"
      ]
    },
    {
      "cell_type": "code",
      "metadata": {
        "id": "SnxvIicW_H_O"
      },
      "source": [
        "from tensorflow.keras.models import Sequential, Model\n",
        "from tensorflow.keras.layers import Embedding\n",
        "from tensorflow.keras.layers import Permute, dot, add, concatenate\n",
        "from tensorflow.keras.layers import LSTM, Dense, Dropout, Input, Activation"
      ],
      "execution_count": 21,
      "outputs": []
    },
    {
      "cell_type": "code",
      "metadata": {
        "id": "5ujiK-X4_ZKg"
      },
      "source": [
        "# 에포크 횟수\n",
        "train_epochs = 120\n",
        "# 배치 크기\n",
        "batch_size = 32\n",
        "# 임베딩 크기\n",
        "embed_size = 50\n",
        "# LSTM의 크기\n",
        "lstm_size = 64\n",
        "# 과적합 방지 기법인 드롭아웃 적용 비율\n",
        "dropout_rate = 0.30"
      ],
      "execution_count": 22,
      "outputs": []
    },
    {
      "cell_type": "code",
      "metadata": {
        "colab": {
          "base_uri": "https://localhost:8080/"
        },
        "id": "IGy1nb-D_oxF",
        "outputId": "dc6b02ef-2a95-4fd9-835f-b4ae451e38dd"
      },
      "source": [
        "# 플레이스 홀더. 입력을 담는 변수\n",
        "input_sequence = Input((story_max_len,))\n",
        "question = Input((question_max_len,))\n",
        "\n",
        "print('Stories :', input_sequence)\n",
        "print('Question:', question)"
      ],
      "execution_count": 23,
      "outputs": [
        {
          "output_type": "stream",
          "name": "stdout",
          "text": [
            "Stories : KerasTensor(type_spec=TensorSpec(shape=(None, 68), dtype=tf.float32, name='input_1'), name='input_1', description=\"created by layer 'input_1'\")\n",
            "Question: KerasTensor(type_spec=TensorSpec(shape=(None, 4), dtype=tf.float32, name='input_2'), name='input_2', description=\"created by layer 'input_2'\")\n"
          ]
        }
      ]
    },
    {
      "cell_type": "code",
      "metadata": {
        "id": "RleCosIJ_8Q-"
      },
      "source": [
        "# 스토리를 위한 첫번째 임베딩. 그림에서의 Embedding A\n",
        "input_encoder_m = Sequential()\n",
        "input_encoder_m.add(Embedding(input_dim=vocab_size, \n",
        "                              output_dim=embed_size))\n",
        "input_encoder_m.add(Dropout(dropout_rate))\n",
        "\n",
        "# 결과: (samples, story_max_len, embedding_dim) / 샘플의 수, 문장의 최대 길이, 임베딩 벡터의 차원\n",
        "\n",
        "# 스토리를 위한 두번째 임베딩. 그림에서의 Embedding C\n",
        "# 임베딩 벡터의 차원을 question_max_len(질문의 최대 길이)로 한다\n",
        "input_encoder_c = Sequential()\n",
        "input_encoder_c.add(Embedding(input_dim=vocab_size, \n",
        "                              output_dim=question_max_len))\n",
        "input_encoder_c.add(Dropout(dropout_rate))\n",
        "# 결과: (samples, story_max_len, question_max_len) / 샘플의 수, 문장의 최대 길이, 질문의 최대 길이(임베딩 벡터의 차원)"
      ],
      "execution_count": 24,
      "outputs": []
    },
    {
      "cell_type": "code",
      "metadata": {
        "id": "sCQAV3XiAvtD"
      },
      "source": [
        "# 질문을 위한 임베딩. 그림에서의 Embedding B\n",
        "question_encoder = Sequential()\n",
        "question_encoder.add(Embedding(input_dim=vocab_size, \n",
        "                               output_dim=embed_size, \n",
        "                               input_length=question_max_len))\n",
        "question_encoder.add(Dropout(dropout_rate))\n",
        "# 결과: (samples, question_max_len, embedding_dim) / 샘플의 수, 질문의 최대 길이, 임베딩 벡터의 차원"
      ],
      "execution_count": 25,
      "outputs": []
    },
    {
      "cell_type": "code",
      "metadata": {
        "colab": {
          "base_uri": "https://localhost:8080/"
        },
        "id": "FueUDw-gBDd_",
        "outputId": "c713d334-3097-42fc-d946-46c993250b12"
      },
      "source": [
        "# 실질적인 임베딩 과정\n",
        "input_encoded_m = input_encoder_m(input_sequence)\n",
        "input_encoded_c = input_encoder_c(input_sequence)\n",
        "question_encoded = question_encoder(question)\n",
        "\n",
        "print('Input encoded m', input_encoded_m)\n",
        "print('Input encoded c', input_encoded_c)\n",
        "print('Question encoded', question_encoded)"
      ],
      "execution_count": 26,
      "outputs": [
        {
          "output_type": "stream",
          "name": "stdout",
          "text": [
            "Input encoded m KerasTensor(type_spec=TensorSpec(shape=(None, 68, 50), dtype=tf.float32, name=None), name='sequential/dropout/Identity:0', description=\"created by layer 'sequential'\")\n",
            "Input encoded c KerasTensor(type_spec=TensorSpec(shape=(None, 68, 4), dtype=tf.float32, name=None), name='sequential_1/dropout_1/Identity:0', description=\"created by layer 'sequential_1'\")\n",
            "Question encoded KerasTensor(type_spec=TensorSpec(shape=(None, 4, 50), dtype=tf.float32, name=None), name='sequential_2/dropout_2/Identity:0', description=\"created by layer 'sequential_2'\")\n"
          ]
        }
      ]
    },
    {
      "cell_type": "code",
      "metadata": {
        "colab": {
          "base_uri": "https://localhost:8080/"
        },
        "id": "NLK12cArBYO_",
        "outputId": "296b0bd2-b10f-4345-cc49-b6560a593786"
      },
      "source": [
        "# 스토리 단어들과 질문 단어들 간의 유사도를 구하는 과정\n",
        "# 유사도는 내적을 사용한다.\n",
        "match = dot([input_encoded_m, question_encoded], axes=-1, normalize=False)\n",
        "match = Activation('softmax')(match)\n",
        "print('Match shape', match)\n",
        "# 결과 : (samples, story_maxlen, question_max_len) / 샘플의 수, 문장의 최대 길이, 질문의 최대 길이\n"
      ],
      "execution_count": 27,
      "outputs": [
        {
          "output_type": "stream",
          "name": "stdout",
          "text": [
            "Match shape KerasTensor(type_spec=TensorSpec(shape=(None, 68, 4), dtype=tf.float32, name=None), name='activation/Softmax:0', description=\"created by layer 'activation'\")\n"
          ]
        }
      ]
    },
    {
      "cell_type": "code",
      "metadata": {
        "colab": {
          "base_uri": "https://localhost:8080/"
        },
        "id": "cW8gqKoJFZNE",
        "outputId": "abda0c56-e5cf-4699-dbe9-ce9597d376a4"
      },
      "source": [
        "# add the match matrix with the second input vector sequence\n",
        "response = add([match, input_encoded_c])  # (samples, story_max_len, question_max_len)\n",
        "response = Permute((2, 1))(response)  # (samples, question_max_len, story_max_len)\n",
        "print('Response shape', response)\n"
      ],
      "execution_count": 28,
      "outputs": [
        {
          "output_type": "stream",
          "name": "stdout",
          "text": [
            "Response shape KerasTensor(type_spec=TensorSpec(shape=(None, 4, 68), dtype=tf.float32, name=None), name='permute/transpose:0', description=\"created by layer 'permute'\")\n"
          ]
        }
      ]
    },
    {
      "cell_type": "code",
      "metadata": {
        "colab": {
          "base_uri": "https://localhost:8080/"
        },
        "id": "rzjTcPU2Fjgq",
        "outputId": "0077973d-7b28-41aa-8bc0-cd2b18081fab"
      },
      "source": [
        "\n",
        "# concatenate the response vector with the question vector sequence\n",
        "answer = concatenate([response, question_encoded])\n",
        "print('Answer shape', answer)\n"
      ],
      "execution_count": 29,
      "outputs": [
        {
          "output_type": "stream",
          "name": "stdout",
          "text": [
            "Answer shape KerasTensor(type_spec=TensorSpec(shape=(None, 4, 118), dtype=tf.float32, name=None), name='concatenate/concat:0', description=\"created by layer 'concatenate'\")\n"
          ]
        }
      ]
    },
    {
      "cell_type": "code",
      "metadata": {
        "id": "w_kuqN2TFtBF"
      },
      "source": [
        "answer = LSTM(lstm_size)(answer)  # Generate tensors of shape 32\n",
        "answer = Dropout(dropout_rate)(answer)\n",
        "answer = Dense(vocab_size)(answer)  # (samples, vocab_size)\n",
        "# we output a probability distribution over the vocabulary\n",
        "answer = Activation('softmax')(answer)"
      ],
      "execution_count": 30,
      "outputs": []
    },
    {
      "cell_type": "code",
      "metadata": {
        "colab": {
          "base_uri": "https://localhost:8080/"
        },
        "id": "hqdkQ9DyC_lb",
        "outputId": "901da23b-50ac-472c-f2a5-2c7387d93355"
      },
      "source": [
        "# build the final model\n",
        "model = Model([input_sequence, question], answer)\n",
        "model.compile(optimizer='rmsprop', loss='categorical_crossentropy',\n",
        "              metrics=['acc'])\n",
        "\n",
        "print(model.summary())\n",
        "\n",
        "# start training the model\n",
        "history = model.fit([Xstrain, Xqtrain],\n",
        "         Ytrain, batch_size, train_epochs,\n",
        "         validation_data=([Xstest, Xqtest], Ytest))\n",
        "\n",
        "# save model\n",
        "model.save('model.h5')"
      ],
      "execution_count": 31,
      "outputs": [
        {
          "output_type": "stream",
          "name": "stdout",
          "text": [
            "Model: \"model\"\n",
            "__________________________________________________________________________________________________\n",
            "Layer (type)                    Output Shape         Param #     Connected to                     \n",
            "==================================================================================================\n",
            "input_1 (InputLayer)            [(None, 68)]         0                                            \n",
            "__________________________________________________________________________________________________\n",
            "input_2 (InputLayer)            [(None, 4)]          0                                            \n",
            "__________________________________________________________________________________________________\n",
            "sequential (Sequential)         (None, None, 50)     1100        input_1[0][0]                    \n",
            "__________________________________________________________________________________________________\n",
            "sequential_2 (Sequential)       (None, 4, 50)        1100        input_2[0][0]                    \n",
            "__________________________________________________________________________________________________\n",
            "dot (Dot)                       (None, 68, 4)        0           sequential[0][0]                 \n",
            "                                                                 sequential_2[0][0]               \n",
            "__________________________________________________________________________________________________\n",
            "activation (Activation)         (None, 68, 4)        0           dot[0][0]                        \n",
            "__________________________________________________________________________________________________\n",
            "sequential_1 (Sequential)       (None, None, 4)      88          input_1[0][0]                    \n",
            "__________________________________________________________________________________________________\n",
            "add (Add)                       (None, 68, 4)        0           activation[0][0]                 \n",
            "                                                                 sequential_1[0][0]               \n",
            "__________________________________________________________________________________________________\n",
            "permute (Permute)               (None, 4, 68)        0           add[0][0]                        \n",
            "__________________________________________________________________________________________________\n",
            "concatenate (Concatenate)       (None, 4, 118)       0           permute[0][0]                    \n",
            "                                                                 sequential_2[0][0]               \n",
            "__________________________________________________________________________________________________\n",
            "lstm (LSTM)                     (None, 64)           46848       concatenate[0][0]                \n",
            "__________________________________________________________________________________________________\n",
            "dropout_3 (Dropout)             (None, 64)           0           lstm[0][0]                       \n",
            "__________________________________________________________________________________________________\n",
            "dense (Dense)                   (None, 22)           1430        dropout_3[0][0]                  \n",
            "__________________________________________________________________________________________________\n",
            "activation_1 (Activation)       (None, 22)           0           dense[0][0]                      \n",
            "==================================================================================================\n",
            "Total params: 50,566\n",
            "Trainable params: 50,566\n",
            "Non-trainable params: 0\n",
            "__________________________________________________________________________________________________\n",
            "None\n",
            "Epoch 1/120\n",
            "313/313 [==============================] - 6s 11ms/step - loss: 1.8828 - acc: 0.1656 - val_loss: 1.7752 - val_acc: 0.2690\n",
            "Epoch 2/120\n",
            "313/313 [==============================] - 3s 10ms/step - loss: 1.7075 - acc: 0.2549 - val_loss: 1.6668 - val_acc: 0.2760\n",
            "Epoch 3/120\n",
            "313/313 [==============================] - 3s 10ms/step - loss: 1.6003 - acc: 0.3552 - val_loss: 1.4900 - val_acc: 0.4450\n",
            "Epoch 4/120\n",
            "313/313 [==============================] - 3s 10ms/step - loss: 1.5083 - acc: 0.4144 - val_loss: 1.4821 - val_acc: 0.4160\n",
            "Epoch 5/120\n",
            "313/313 [==============================] - 3s 10ms/step - loss: 1.4469 - acc: 0.4451 - val_loss: 1.3573 - val_acc: 0.5050\n",
            "Epoch 6/120\n",
            "313/313 [==============================] - 3s 9ms/step - loss: 1.3878 - acc: 0.4625 - val_loss: 1.3300 - val_acc: 0.5000\n",
            "Epoch 7/120\n",
            "313/313 [==============================] - 3s 10ms/step - loss: 1.3760 - acc: 0.4678 - val_loss: 1.3108 - val_acc: 0.4980\n",
            "Epoch 8/120\n",
            "313/313 [==============================] - 3s 9ms/step - loss: 1.3382 - acc: 0.4844 - val_loss: 1.2944 - val_acc: 0.5180\n",
            "Epoch 9/120\n",
            "313/313 [==============================] - 3s 9ms/step - loss: 1.3324 - acc: 0.4843 - val_loss: 1.2799 - val_acc: 0.5230\n",
            "Epoch 10/120\n",
            "313/313 [==============================] - 3s 10ms/step - loss: 1.3139 - acc: 0.4917 - val_loss: 1.2601 - val_acc: 0.5250\n",
            "Epoch 11/120\n",
            "313/313 [==============================] - 3s 10ms/step - loss: 1.2801 - acc: 0.5078 - val_loss: 1.2595 - val_acc: 0.5120\n",
            "Epoch 12/120\n",
            "313/313 [==============================] - 3s 9ms/step - loss: 1.2593 - acc: 0.5122 - val_loss: 1.2295 - val_acc: 0.5310\n",
            "Epoch 13/120\n",
            "313/313 [==============================] - 3s 9ms/step - loss: 1.2432 - acc: 0.5153 - val_loss: 1.2099 - val_acc: 0.5330\n",
            "Epoch 14/120\n",
            "313/313 [==============================] - 3s 10ms/step - loss: 1.2166 - acc: 0.5226 - val_loss: 1.1982 - val_acc: 0.5120\n",
            "Epoch 15/120\n",
            "313/313 [==============================] - 3s 10ms/step - loss: 1.2071 - acc: 0.5147 - val_loss: 1.1957 - val_acc: 0.5170\n",
            "Epoch 16/120\n",
            "313/313 [==============================] - 3s 9ms/step - loss: 1.1915 - acc: 0.5226 - val_loss: 1.1831 - val_acc: 0.5190\n",
            "Epoch 17/120\n",
            "313/313 [==============================] - 3s 10ms/step - loss: 1.1861 - acc: 0.5151 - val_loss: 1.1858 - val_acc: 0.5170\n",
            "Epoch 18/120\n",
            "313/313 [==============================] - 3s 10ms/step - loss: 1.1724 - acc: 0.5278 - val_loss: 1.1735 - val_acc: 0.5210\n",
            "Epoch 19/120\n",
            "313/313 [==============================] - 3s 10ms/step - loss: 1.1619 - acc: 0.5224 - val_loss: 1.1711 - val_acc: 0.5200\n",
            "Epoch 20/120\n",
            "313/313 [==============================] - 3s 10ms/step - loss: 1.1570 - acc: 0.5256 - val_loss: 1.1879 - val_acc: 0.5000\n",
            "Epoch 21/120\n",
            "313/313 [==============================] - 3s 10ms/step - loss: 1.1418 - acc: 0.5269 - val_loss: 1.1630 - val_acc: 0.5240\n",
            "Epoch 22/120\n",
            "313/313 [==============================] - 3s 10ms/step - loss: 1.1387 - acc: 0.5328 - val_loss: 1.1579 - val_acc: 0.5230\n",
            "Epoch 23/120\n",
            "313/313 [==============================] - 3s 10ms/step - loss: 1.1335 - acc: 0.5279 - val_loss: 1.1405 - val_acc: 0.5330\n",
            "Epoch 24/120\n",
            "313/313 [==============================] - 3s 10ms/step - loss: 1.1257 - acc: 0.5310 - val_loss: 1.1459 - val_acc: 0.5170\n",
            "Epoch 25/120\n",
            "313/313 [==============================] - 3s 9ms/step - loss: 1.1143 - acc: 0.5307 - val_loss: 1.1583 - val_acc: 0.5170\n",
            "Epoch 26/120\n",
            "313/313 [==============================] - 3s 9ms/step - loss: 1.1059 - acc: 0.5437 - val_loss: 1.1601 - val_acc: 0.5080\n",
            "Epoch 27/120\n",
            "313/313 [==============================] - 3s 10ms/step - loss: 1.1035 - acc: 0.5411 - val_loss: 1.1311 - val_acc: 0.5260\n",
            "Epoch 28/120\n",
            "313/313 [==============================] - 3s 10ms/step - loss: 1.0980 - acc: 0.5394 - val_loss: 1.1463 - val_acc: 0.5230\n",
            "Epoch 29/120\n",
            "313/313 [==============================] - 3s 10ms/step - loss: 1.0835 - acc: 0.5507 - val_loss: 1.1542 - val_acc: 0.5210\n",
            "Epoch 30/120\n",
            "313/313 [==============================] - 3s 10ms/step - loss: 1.0618 - acc: 0.5632 - val_loss: 1.1206 - val_acc: 0.5480\n",
            "Epoch 31/120\n",
            "313/313 [==============================] - 3s 10ms/step - loss: 1.0445 - acc: 0.5757 - val_loss: 1.1004 - val_acc: 0.5610\n",
            "Epoch 32/120\n",
            "313/313 [==============================] - 3s 10ms/step - loss: 1.0168 - acc: 0.5935 - val_loss: 1.0745 - val_acc: 0.5850\n",
            "Epoch 33/120\n",
            "313/313 [==============================] - 3s 9ms/step - loss: 0.9625 - acc: 0.6260 - val_loss: 1.0018 - val_acc: 0.6210\n",
            "Epoch 34/120\n",
            "313/313 [==============================] - 3s 10ms/step - loss: 0.9211 - acc: 0.6500 - val_loss: 0.9560 - val_acc: 0.6520\n",
            "Epoch 35/120\n",
            "313/313 [==============================] - 3s 10ms/step - loss: 0.8580 - acc: 0.6818 - val_loss: 0.8617 - val_acc: 0.7060\n",
            "Epoch 36/120\n",
            "313/313 [==============================] - 3s 10ms/step - loss: 0.8052 - acc: 0.7089 - val_loss: 0.8149 - val_acc: 0.7030\n",
            "Epoch 37/120\n",
            "313/313 [==============================] - 3s 10ms/step - loss: 0.7563 - acc: 0.7276 - val_loss: 0.7928 - val_acc: 0.7330\n",
            "Epoch 38/120\n",
            "313/313 [==============================] - 3s 10ms/step - loss: 0.7108 - acc: 0.7409 - val_loss: 0.8142 - val_acc: 0.7130\n",
            "Epoch 39/120\n",
            "313/313 [==============================] - 3s 10ms/step - loss: 0.6746 - acc: 0.7550 - val_loss: 0.7149 - val_acc: 0.7380\n",
            "Epoch 40/120\n",
            "313/313 [==============================] - 3s 10ms/step - loss: 0.6443 - acc: 0.7646 - val_loss: 0.6962 - val_acc: 0.7440\n",
            "Epoch 41/120\n",
            "313/313 [==============================] - 3s 10ms/step - loss: 0.6175 - acc: 0.7730 - val_loss: 0.6723 - val_acc: 0.7360\n",
            "Epoch 42/120\n",
            "313/313 [==============================] - 3s 10ms/step - loss: 0.5993 - acc: 0.7782 - val_loss: 0.6613 - val_acc: 0.7400\n",
            "Epoch 43/120\n",
            "313/313 [==============================] - 3s 10ms/step - loss: 0.5738 - acc: 0.7869 - val_loss: 0.6521 - val_acc: 0.7600\n",
            "Epoch 44/120\n",
            "313/313 [==============================] - 3s 10ms/step - loss: 0.5633 - acc: 0.7963 - val_loss: 0.6379 - val_acc: 0.7590\n",
            "Epoch 45/120\n",
            "313/313 [==============================] - 3s 10ms/step - loss: 0.5362 - acc: 0.8012 - val_loss: 0.6260 - val_acc: 0.7570\n",
            "Epoch 46/120\n",
            "313/313 [==============================] - 3s 10ms/step - loss: 0.5128 - acc: 0.8095 - val_loss: 0.6123 - val_acc: 0.7600\n",
            "Epoch 47/120\n",
            "313/313 [==============================] - 3s 10ms/step - loss: 0.5054 - acc: 0.8116 - val_loss: 0.6367 - val_acc: 0.7610\n",
            "Epoch 48/120\n",
            "313/313 [==============================] - 3s 10ms/step - loss: 0.4789 - acc: 0.8226 - val_loss: 0.5918 - val_acc: 0.7700\n",
            "Epoch 49/120\n",
            "313/313 [==============================] - 3s 10ms/step - loss: 0.4713 - acc: 0.8258 - val_loss: 0.5632 - val_acc: 0.7780\n",
            "Epoch 50/120\n",
            "313/313 [==============================] - 3s 10ms/step - loss: 0.4599 - acc: 0.8302 - val_loss: 0.5619 - val_acc: 0.7880\n",
            "Epoch 51/120\n",
            "313/313 [==============================] - 3s 10ms/step - loss: 0.4374 - acc: 0.8403 - val_loss: 0.5454 - val_acc: 0.7830\n",
            "Epoch 52/120\n",
            "313/313 [==============================] - 3s 10ms/step - loss: 0.4275 - acc: 0.8440 - val_loss: 0.5469 - val_acc: 0.7990\n",
            "Epoch 53/120\n",
            "313/313 [==============================] - 3s 10ms/step - loss: 0.4075 - acc: 0.8475 - val_loss: 0.5204 - val_acc: 0.7990\n",
            "Epoch 54/120\n",
            "313/313 [==============================] - 3s 10ms/step - loss: 0.3914 - acc: 0.8561 - val_loss: 0.5212 - val_acc: 0.7950\n",
            "Epoch 55/120\n",
            "313/313 [==============================] - 3s 10ms/step - loss: 0.3790 - acc: 0.8602 - val_loss: 0.5405 - val_acc: 0.7930\n",
            "Epoch 56/120\n",
            "313/313 [==============================] - 3s 10ms/step - loss: 0.3638 - acc: 0.8639 - val_loss: 0.4867 - val_acc: 0.8120\n",
            "Epoch 57/120\n",
            "313/313 [==============================] - 3s 10ms/step - loss: 0.3610 - acc: 0.8654 - val_loss: 0.4996 - val_acc: 0.8010\n",
            "Epoch 58/120\n",
            "313/313 [==============================] - 3s 10ms/step - loss: 0.3455 - acc: 0.8737 - val_loss: 0.4756 - val_acc: 0.8180\n",
            "Epoch 59/120\n",
            "313/313 [==============================] - 3s 10ms/step - loss: 0.3342 - acc: 0.8764 - val_loss: 0.4803 - val_acc: 0.8160\n",
            "Epoch 60/120\n",
            "313/313 [==============================] - 3s 10ms/step - loss: 0.3294 - acc: 0.8790 - val_loss: 0.4537 - val_acc: 0.8250\n",
            "Epoch 61/120\n",
            "313/313 [==============================] - 3s 10ms/step - loss: 0.3170 - acc: 0.8840 - val_loss: 0.4741 - val_acc: 0.8220\n",
            "Epoch 62/120\n",
            "313/313 [==============================] - 3s 10ms/step - loss: 0.3041 - acc: 0.8887 - val_loss: 0.4484 - val_acc: 0.8330\n",
            "Epoch 63/120\n",
            "313/313 [==============================] - 3s 9ms/step - loss: 0.3003 - acc: 0.8906 - val_loss: 0.4571 - val_acc: 0.8240\n",
            "Epoch 64/120\n",
            "313/313 [==============================] - 3s 10ms/step - loss: 0.2909 - acc: 0.8931 - val_loss: 0.4617 - val_acc: 0.8250\n",
            "Epoch 65/120\n",
            "313/313 [==============================] - 3s 10ms/step - loss: 0.2821 - acc: 0.8953 - val_loss: 0.4488 - val_acc: 0.8270\n",
            "Epoch 66/120\n",
            "313/313 [==============================] - 3s 10ms/step - loss: 0.2738 - acc: 0.8991 - val_loss: 0.4461 - val_acc: 0.8380\n",
            "Epoch 67/120\n",
            "313/313 [==============================] - 3s 10ms/step - loss: 0.2650 - acc: 0.9025 - val_loss: 0.4313 - val_acc: 0.8410\n",
            "Epoch 68/120\n",
            "313/313 [==============================] - 3s 10ms/step - loss: 0.2587 - acc: 0.9059 - val_loss: 0.4664 - val_acc: 0.8320\n",
            "Epoch 69/120\n",
            "313/313 [==============================] - 3s 10ms/step - loss: 0.2554 - acc: 0.9052 - val_loss: 0.4697 - val_acc: 0.8330\n",
            "Epoch 70/120\n",
            "313/313 [==============================] - 3s 10ms/step - loss: 0.2505 - acc: 0.9097 - val_loss: 0.4838 - val_acc: 0.8330\n",
            "Epoch 71/120\n",
            "313/313 [==============================] - 3s 10ms/step - loss: 0.2414 - acc: 0.9131 - val_loss: 0.4594 - val_acc: 0.8370\n",
            "Epoch 72/120\n",
            "313/313 [==============================] - 3s 10ms/step - loss: 0.2364 - acc: 0.9161 - val_loss: 0.4631 - val_acc: 0.8410\n",
            "Epoch 73/120\n",
            "313/313 [==============================] - 3s 10ms/step - loss: 0.2362 - acc: 0.9145 - val_loss: 0.4775 - val_acc: 0.8290\n",
            "Epoch 74/120\n",
            "313/313 [==============================] - 3s 10ms/step - loss: 0.2215 - acc: 0.9209 - val_loss: 0.4549 - val_acc: 0.8460\n",
            "Epoch 75/120\n",
            "313/313 [==============================] - 3s 10ms/step - loss: 0.2146 - acc: 0.9235 - val_loss: 0.4460 - val_acc: 0.8470\n",
            "Epoch 76/120\n",
            "313/313 [==============================] - 3s 10ms/step - loss: 0.2132 - acc: 0.9220 - val_loss: 0.4477 - val_acc: 0.8420\n",
            "Epoch 77/120\n",
            "313/313 [==============================] - 3s 10ms/step - loss: 0.2061 - acc: 0.9246 - val_loss: 0.4589 - val_acc: 0.8500\n",
            "Epoch 78/120\n",
            "313/313 [==============================] - 3s 10ms/step - loss: 0.2060 - acc: 0.9239 - val_loss: 0.4553 - val_acc: 0.8490\n",
            "Epoch 79/120\n",
            "313/313 [==============================] - 3s 10ms/step - loss: 0.2032 - acc: 0.9254 - val_loss: 0.4651 - val_acc: 0.8370\n",
            "Epoch 80/120\n",
            "313/313 [==============================] - 3s 9ms/step - loss: 0.1912 - acc: 0.9309 - val_loss: 0.4521 - val_acc: 0.8430\n",
            "Epoch 81/120\n",
            "313/313 [==============================] - 3s 10ms/step - loss: 0.1923 - acc: 0.9295 - val_loss: 0.4689 - val_acc: 0.8500\n",
            "Epoch 82/120\n",
            "313/313 [==============================] - 3s 10ms/step - loss: 0.1800 - acc: 0.9371 - val_loss: 0.4712 - val_acc: 0.8520\n",
            "Epoch 83/120\n",
            "313/313 [==============================] - 3s 10ms/step - loss: 0.1798 - acc: 0.9360 - val_loss: 0.4547 - val_acc: 0.8560\n",
            "Epoch 84/120\n",
            "313/313 [==============================] - 3s 10ms/step - loss: 0.1850 - acc: 0.9332 - val_loss: 0.4586 - val_acc: 0.8510\n",
            "Epoch 85/120\n",
            "313/313 [==============================] - 3s 10ms/step - loss: 0.1721 - acc: 0.9374 - val_loss: 0.5035 - val_acc: 0.8380\n",
            "Epoch 86/120\n",
            "313/313 [==============================] - 3s 10ms/step - loss: 0.1723 - acc: 0.9365 - val_loss: 0.4774 - val_acc: 0.8450\n",
            "Epoch 87/120\n",
            "313/313 [==============================] - 3s 10ms/step - loss: 0.1618 - acc: 0.9402 - val_loss: 0.4689 - val_acc: 0.8510\n",
            "Epoch 88/120\n",
            "313/313 [==============================] - 3s 10ms/step - loss: 0.1641 - acc: 0.9425 - val_loss: 0.4842 - val_acc: 0.8430\n",
            "Epoch 89/120\n",
            "313/313 [==============================] - 3s 11ms/step - loss: 0.1527 - acc: 0.9444 - val_loss: 0.5012 - val_acc: 0.8400\n",
            "Epoch 90/120\n",
            "313/313 [==============================] - 3s 10ms/step - loss: 0.1510 - acc: 0.9467 - val_loss: 0.4883 - val_acc: 0.8390\n",
            "Epoch 91/120\n",
            "313/313 [==============================] - 3s 10ms/step - loss: 0.1533 - acc: 0.9451 - val_loss: 0.4710 - val_acc: 0.8550\n",
            "Epoch 92/120\n",
            "313/313 [==============================] - 3s 10ms/step - loss: 0.1538 - acc: 0.9462 - val_loss: 0.4474 - val_acc: 0.8620\n",
            "Epoch 93/120\n",
            "313/313 [==============================] - 3s 10ms/step - loss: 0.1428 - acc: 0.9491 - val_loss: 0.4611 - val_acc: 0.8590\n",
            "Epoch 94/120\n",
            "313/313 [==============================] - 3s 10ms/step - loss: 0.1360 - acc: 0.9536 - val_loss: 0.5342 - val_acc: 0.8430\n",
            "Epoch 95/120\n",
            "313/313 [==============================] - 3s 10ms/step - loss: 0.1378 - acc: 0.9511 - val_loss: 0.5105 - val_acc: 0.8520\n",
            "Epoch 96/120\n",
            "313/313 [==============================] - 3s 10ms/step - loss: 0.1288 - acc: 0.9522 - val_loss: 0.5021 - val_acc: 0.8490\n",
            "Epoch 97/120\n",
            "313/313 [==============================] - 3s 10ms/step - loss: 0.1312 - acc: 0.9543 - val_loss: 0.4706 - val_acc: 0.8680\n",
            "Epoch 98/120\n",
            "313/313 [==============================] - 3s 10ms/step - loss: 0.1315 - acc: 0.9519 - val_loss: 0.4782 - val_acc: 0.8640\n",
            "Epoch 99/120\n",
            "313/313 [==============================] - 3s 10ms/step - loss: 0.1275 - acc: 0.9547 - val_loss: 0.5250 - val_acc: 0.8420\n",
            "Epoch 100/120\n",
            "313/313 [==============================] - 3s 10ms/step - loss: 0.1285 - acc: 0.9549 - val_loss: 0.5154 - val_acc: 0.8570\n",
            "Epoch 101/120\n",
            "313/313 [==============================] - 3s 10ms/step - loss: 0.1224 - acc: 0.9575 - val_loss: 0.5176 - val_acc: 0.8490\n",
            "Epoch 102/120\n",
            "313/313 [==============================] - 3s 10ms/step - loss: 0.1189 - acc: 0.9594 - val_loss: 0.5078 - val_acc: 0.8570\n",
            "Epoch 103/120\n",
            "313/313 [==============================] - 3s 10ms/step - loss: 0.1165 - acc: 0.9583 - val_loss: 0.5108 - val_acc: 0.8590\n",
            "Epoch 104/120\n",
            "313/313 [==============================] - 3s 10ms/step - loss: 0.1167 - acc: 0.9579 - val_loss: 0.4969 - val_acc: 0.8590\n",
            "Epoch 105/120\n",
            "313/313 [==============================] - 3s 11ms/step - loss: 0.1122 - acc: 0.9616 - val_loss: 0.4843 - val_acc: 0.8600\n",
            "Epoch 106/120\n",
            "313/313 [==============================] - 3s 10ms/step - loss: 0.1131 - acc: 0.9596 - val_loss: 0.5026 - val_acc: 0.8700\n",
            "Epoch 107/120\n",
            "313/313 [==============================] - 3s 10ms/step - loss: 0.1025 - acc: 0.9650 - val_loss: 0.4941 - val_acc: 0.8640\n",
            "Epoch 108/120\n",
            "313/313 [==============================] - 3s 10ms/step - loss: 0.1031 - acc: 0.9646 - val_loss: 0.5060 - val_acc: 0.8570\n",
            "Epoch 109/120\n",
            "313/313 [==============================] - 3s 10ms/step - loss: 0.0983 - acc: 0.9661 - val_loss: 0.5017 - val_acc: 0.8660\n",
            "Epoch 110/120\n",
            "313/313 [==============================] - 3s 10ms/step - loss: 0.1049 - acc: 0.9628 - val_loss: 0.4881 - val_acc: 0.8640\n",
            "Epoch 111/120\n",
            "313/313 [==============================] - 3s 10ms/step - loss: 0.0980 - acc: 0.9687 - val_loss: 0.5393 - val_acc: 0.8520\n",
            "Epoch 112/120\n",
            "313/313 [==============================] - 3s 10ms/step - loss: 0.0976 - acc: 0.9683 - val_loss: 0.5089 - val_acc: 0.8570\n",
            "Epoch 113/120\n",
            "313/313 [==============================] - 3s 10ms/step - loss: 0.1048 - acc: 0.9621 - val_loss: 0.5001 - val_acc: 0.8650\n",
            "Epoch 114/120\n",
            "313/313 [==============================] - 3s 11ms/step - loss: 0.0937 - acc: 0.9679 - val_loss: 0.5282 - val_acc: 0.8730\n",
            "Epoch 115/120\n",
            "313/313 [==============================] - 3s 10ms/step - loss: 0.0928 - acc: 0.9666 - val_loss: 0.5589 - val_acc: 0.8550\n",
            "Epoch 116/120\n",
            "313/313 [==============================] - 3s 11ms/step - loss: 0.0939 - acc: 0.9695 - val_loss: 0.5168 - val_acc: 0.8560\n",
            "Epoch 117/120\n",
            "313/313 [==============================] - 3s 11ms/step - loss: 0.0910 - acc: 0.9692 - val_loss: 0.5069 - val_acc: 0.8720\n",
            "Epoch 118/120\n",
            "313/313 [==============================] - 3s 10ms/step - loss: 0.0941 - acc: 0.9688 - val_loss: 0.5204 - val_acc: 0.8600\n",
            "Epoch 119/120\n",
            "313/313 [==============================] - 3s 10ms/step - loss: 0.0845 - acc: 0.9747 - val_loss: 0.5108 - val_acc: 0.8660\n",
            "Epoch 120/120\n",
            "313/313 [==============================] - 3s 11ms/step - loss: 0.0849 - acc: 0.9714 - val_loss: 0.5234 - val_acc: 0.8740\n"
          ]
        },
        {
          "output_type": "stream",
          "name": "stderr",
          "text": [
            "/usr/local/lib/python3.7/dist-packages/keras/utils/generic_utils.py:497: CustomMaskWarning: Custom mask layers require a config and must override get_config. When loading, the custom mask layer must be passed to the custom_objects argument.\n",
            "  category=CustomMaskWarning)\n"
          ]
        }
      ]
    },
    {
      "cell_type": "code",
      "metadata": {
        "colab": {
          "base_uri": "https://localhost:8080/"
        },
        "id": "-9ZDeFVxDdn9",
        "outputId": "e0d4effa-b5d1-4c6a-ab9a-85f8a0e7a0c5"
      },
      "source": [
        "print(\"\\n 테스트 정확도: %.4f\" % (model.evaluate([Xstest, Xqtest], Ytest)[1]))"
      ],
      "execution_count": 32,
      "outputs": [
        {
          "output_type": "stream",
          "name": "stdout",
          "text": [
            "32/32 [==============================] - 0s 3ms/step - loss: 0.5234 - acc: 0.8740\n",
            "\n",
            " 테스트 정확도: 0.8740\n"
          ]
        }
      ]
    },
    {
      "cell_type": "code",
      "metadata": {
        "colab": {
          "base_uri": "https://localhost:8080/",
          "height": 296
        },
        "id": "_na2ImM6H0vd",
        "outputId": "4f56201b-8dbf-4839-8869-11c360e8ecf9"
      },
      "source": [
        "# Plot accuracy and loss plot\n",
        "plt.subplot(211)\n",
        "plt.title(\"Accuracy\")\n",
        "plt.plot(history.history[\"acc\"], color=\"g\", label=\"train\")\n",
        "plt.plot(history.history[\"val_acc\"], color=\"b\", label=\"validation\")\n",
        "plt.legend(loc=\"best\")\n",
        "\n",
        "plt.subplot(212)\n",
        "plt.title(\"Loss\")\n",
        "plt.plot(history.history[\"loss\"], color=\"g\", label=\"train\")\n",
        "plt.plot(history.history[\"val_loss\"], color=\"b\", label=\"validation\")\n",
        "plt.legend(loc=\"best\")\n",
        "\n",
        "plt.tight_layout()\n",
        "plt.show()\n",
        "\n",
        "# labels\n",
        "ytest = np.argmax(Ytest, axis=1)\n",
        "\n",
        "# get predictions\n",
        "Ytest_ = model.predict([Xstest, Xqtest])\n",
        "ytest_ = np.argmax(Ytest_, axis=1)"
      ],
      "execution_count": 33,
      "outputs": [
        {
          "output_type": "display_data",
          "data": {
            "image/png": "[encoded data removed]",
            "text/plain": [
              "<Figure size 432x288 with 2 Axes>"
            ]
          },
          "metadata": {
            "needs_background": "light"
          }
        }
      ]
    },
    {
      "cell_type": "markdown",
      "metadata": {
        "id": "YkM956CgIDsN"
      },
      "source": [
        "### 2) MemN으로 한국어 QA\n",
        "* 한국어 Babi 데이터셋에 대해서 이전 챕터에서 구현한 메모리 네트워크 \n",
        "테스트\n",
        "\n",
        "#### 1. 커스터마이즈드 KoNLPy 사용하기\n"
      ]
    },
    {
      "cell_type": "code",
      "metadata": {
        "colab": {
          "base_uri": "https://localhost:8080/"
        },
        "id": "Ydf29KdDH_G2",
        "outputId": "3b9e442f-da19-43df-ddd9-685daf348a0a"
      },
      "source": [
        "# 사용자 사전 추가가 매우 쉬운 패키지\n",
        "!pip install customized_konlpy"
      ],
      "execution_count": 34,
      "outputs": [
        {
          "output_type": "stream",
          "name": "stdout",
          "text": [
            "Collecting customized_konlpy\n",
            "  Downloading customized_konlpy-0.0.64-py3-none-any.whl (881 kB)\n",
            "\u001b[K     |████████████████████████████████| 881 kB 5.0 MB/s \n",
            "\u001b[?25hCollecting Jpype1>=0.6.1\n",
            "  Downloading JPype1-1.3.0-cp37-cp37m-manylinux_2_5_x86_64.manylinux1_x86_64.whl (448 kB)\n",
            "\u001b[K     |████████████████████████████████| 448 kB 56.5 MB/s \n",
            "\u001b[?25hCollecting konlpy>=0.4.4\n",
            "  Downloading konlpy-0.5.2-py2.py3-none-any.whl (19.4 MB)\n",
            "\u001b[K     |████████████████████████████████| 19.4 MB 6.1 MB/s \n",
            "\u001b[?25hRequirement already satisfied: typing-extensions in /usr/local/lib/python3.7/dist-packages (from Jpype1>=0.6.1->customized_konlpy) (3.7.4.3)\n",
            "Requirement already satisfied: numpy>=1.6 in /usr/local/lib/python3.7/dist-packages (from konlpy>=0.4.4->customized_konlpy) (1.19.5)\n",
            "Requirement already satisfied: tweepy>=3.7.0 in /usr/local/lib/python3.7/dist-packages (from konlpy>=0.4.4->customized_konlpy) (3.10.0)\n",
            "Collecting beautifulsoup4==4.6.0\n",
            "  Downloading beautifulsoup4-4.6.0-py3-none-any.whl (86 kB)\n",
            "\u001b[K     |████████████████████████████████| 86 kB 4.7 MB/s \n",
            "\u001b[?25hRequirement already satisfied: lxml>=4.1.0 in /usr/local/lib/python3.7/dist-packages (from konlpy>=0.4.4->customized_konlpy) (4.2.6)\n",
            "Collecting colorama\n",
            "  Downloading colorama-0.4.4-py2.py3-none-any.whl (16 kB)\n",
            "Requirement already satisfied: requests[socks]>=2.11.1 in /usr/local/lib/python3.7/dist-packages (from tweepy>=3.7.0->konlpy>=0.4.4->customized_konlpy) (2.23.0)\n",
            "Requirement already satisfied: six>=1.10.0 in /usr/local/lib/python3.7/dist-packages (from tweepy>=3.7.0->konlpy>=0.4.4->customized_konlpy) (1.15.0)\n",
            "Requirement already satisfied: requests-oauthlib>=0.7.0 in /usr/local/lib/python3.7/dist-packages (from tweepy>=3.7.0->konlpy>=0.4.4->customized_konlpy) (1.3.0)\n",
            "Requirement already satisfied: oauthlib>=3.0.0 in /usr/local/lib/python3.7/dist-packages (from requests-oauthlib>=0.7.0->tweepy>=3.7.0->konlpy>=0.4.4->customized_konlpy) (3.1.1)\n",
            "Requirement already satisfied: certifi>=2017.4.17 in /usr/local/lib/python3.7/dist-packages (from requests[socks]>=2.11.1->tweepy>=3.7.0->konlpy>=0.4.4->customized_konlpy) (2021.5.30)\n",
            "Requirement already satisfied: urllib3!=1.25.0,!=1.25.1,<1.26,>=1.21.1 in /usr/local/lib/python3.7/dist-packages (from requests[socks]>=2.11.1->tweepy>=3.7.0->konlpy>=0.4.4->customized_konlpy) (1.24.3)\n",
            "Requirement already satisfied: chardet<4,>=3.0.2 in /usr/local/lib/python3.7/dist-packages (from requests[socks]>=2.11.1->tweepy>=3.7.0->konlpy>=0.4.4->customized_konlpy) (3.0.4)\n",
            "Requirement already satisfied: idna<3,>=2.5 in /usr/local/lib/python3.7/dist-packages (from requests[socks]>=2.11.1->tweepy>=3.7.0->konlpy>=0.4.4->customized_konlpy) (2.10)\n",
            "Requirement already satisfied: PySocks!=1.5.7,>=1.5.6 in /usr/local/lib/python3.7/dist-packages (from requests[socks]>=2.11.1->tweepy>=3.7.0->konlpy>=0.4.4->customized_konlpy) (1.7.1)\n",
            "Installing collected packages: Jpype1, colorama, beautifulsoup4, konlpy, customized-konlpy\n",
            "  Attempting uninstall: beautifulsoup4\n",
            "    Found existing installation: beautifulsoup4 4.6.3\n",
            "    Uninstalling beautifulsoup4-4.6.3:\n",
            "      Successfully uninstalled beautifulsoup4-4.6.3\n",
            "Successfully installed Jpype1-1.3.0 beautifulsoup4-4.6.0 colorama-0.4.4 customized-konlpy-0.0.64 konlpy-0.5.2\n"
          ]
        }
      ]
    },
    {
      "cell_type": "code",
      "metadata": {
        "colab": {
          "base_uri": "https://localhost:8080/"
        },
        "id": "7BQzydDNITJP",
        "outputId": "3cce5219-8440-4914-bffd-ac92de6aeff7"
      },
      "source": [
        "from ckonlpy.tag import Twitter\n",
        "\n",
        "twitter = Twitter()\n",
        "twitter.morphs('은경이는 사무실로 갔습니다.')"
      ],
      "execution_count": 36,
      "outputs": [
        {
          "output_type": "stream",
          "name": "stderr",
          "text": [
            "/usr/local/lib/python3.7/dist-packages/konlpy/tag/_okt.py:16: UserWarning: \"Twitter\" has changed to \"Okt\" since KoNLPy v0.4.5.\n",
            "  warn('\"Twitter\" has changed to \"Okt\" since KoNLPy v0.4.5.')\n"
          ]
        },
        {
          "output_type": "execute_result",
          "data": {
            "text/plain": [
              "['은', '경이', '는', '사무실', '로', '갔습니다', '.']"
            ]
          },
          "metadata": {},
          "execution_count": 36
        }
      ]
    },
    {
      "cell_type": "code",
      "metadata": {
        "id": "fcOt7_egIeQk"
      },
      "source": [
        "twitter.add_dictionary('은경이', 'Noun')"
      ],
      "execution_count": 37,
      "outputs": []
    },
    {
      "cell_type": "code",
      "metadata": {
        "colab": {
          "base_uri": "https://localhost:8080/"
        },
        "id": "avQi5qPZIkQ9",
        "outputId": "7d4261ce-a91a-4315-a024-5a77ee0143fc"
      },
      "source": [
        "twitter.morphs('은경이는 사무실로 갔습니다.')"
      ],
      "execution_count": 38,
      "outputs": [
        {
          "output_type": "execute_result",
          "data": {
            "text/plain": [
              "['은경이', '는', '사무실', '로', '갔습니다', '.']"
            ]
          },
          "metadata": {},
          "execution_count": 38
        }
      ]
    },
    {
      "cell_type": "markdown",
      "metadata": {
        "id": "x-ilZE5OIoXg"
      },
      "source": [
        "#### 2. 한국어 Babi 데이터셋 로드와 전처리"
      ]
    },
    {
      "cell_type": "code",
      "metadata": {
        "id": "Jht-ouNrImkV"
      },
      "source": [
        "from ckonlpy.tag import Twitter\n",
        "from tensorflow.keras.utils import get_file\n",
        "from tensorflow.keras.preprocessing.sequence import pad_sequences\n",
        "from tensorflow.keras.utils import to_categorical\n",
        "import numpy as np\n",
        "from nltk import FreqDist\n",
        "from functools import reduce\n",
        "import os\n",
        "import re\n",
        "import matplotlib.pyplot as plt"
      ],
      "execution_count": 39,
      "outputs": []
    },
    {
      "cell_type": "code",
      "metadata": {
        "colab": {
          "resources": {
            "http://localhost:8080/nbextensions/google.colab/files.js": {
              "data": "Ly8gQ29weXJpZ2h0IDIwMTcgR29vZ2xlIExMQwovLwovLyBMaWNlbnNlZCB1bmRlciB0aGUgQXBhY2hlIExpY2Vuc2UsIFZlcnNpb24gMi4wICh0aGUgIkxpY2Vuc2UiKTsKLy8geW91IG1heSBub3QgdXNlIHRoaXMgZmlsZSBleGNlcHQgaW4gY29tcGxpYW5jZSB3aXRoIHRoZSBMaWNlbnNlLgovLyBZb3UgbWF5IG9idGFpbiBhIGNvcHkgb2YgdGhlIExpY2Vuc2UgYXQKLy8KLy8gICAgICBodHRwOi8vd3d3LmFwYWNoZS5vcmcvbGljZW5zZXMvTElDRU5TRS0yLjAKLy8KLy8gVW5sZXNzIHJlcXVpcmVkIGJ5IGFwcGxpY2FibGUgbGF3IG9yIGFncmVlZCB0byBpbiB3cml0aW5nLCBzb2Z0d2FyZQovLyBkaXN0cmlidXRlZCB1bmRlciB0aGUgTGljZW5zZSBpcyBkaXN0cmlidXRlZCBvbiBhbiAiQVMgSVMiIEJBU0lTLAovLyBXSVRIT1VUIFdBUlJBTlRJRVMgT1IgQ09ORElUSU9OUyBPRiBBTlkgS0lORCwgZWl0aGVyIGV4cHJlc3Mgb3IgaW1wbGllZC4KLy8gU2VlIHRoZSBMaWNlbnNlIGZvciB0aGUgc3BlY2lmaWMgbGFuZ3VhZ2UgZ292ZXJuaW5nIHBlcm1pc3Npb25zIGFuZAovLyBsaW1pdGF0aW9ucyB1bmRlciB0aGUgTGljZW5zZS4KCi8qKgogKiBAZmlsZW92ZXJ2aWV3IEhlbHBlcnMgZm9yIGdvb2dsZS5jb2xhYiBQeXRob24gbW9kdWxlLgogKi8KKGZ1bmN0aW9uKHNjb3BlKSB7CmZ1bmN0aW9uIHNwYW4odGV4dCwgc3R5bGVBdHRyaWJ1dGVzID0ge30pIHsKICBjb25zdCBlbGVtZW50ID0gZG9jdW1lbnQuY3JlYXRlRWxlbWVudCgnc3BhbicpOwogIGVsZW1lbnQudGV4dENvbnRlbnQgPSB0ZXh0OwogIGZvciAoY29uc3Qga2V5IG9mIE9iamVjdC5rZXlzKHN0eWxlQXR0cmlidXRlcykpIHsKICAgIGVsZW1lbnQuc3R5bGVba2V5XSA9IHN0eWxlQXR0cmlidXRlc1trZXldOwogIH0KICByZXR1cm4gZWxlbWVudDsKfQoKLy8gTWF4IG51bWJlciBvZiBieXRlcyB3aGljaCB3aWxsIGJlIHVwbG9hZGVkIGF0IGEgdGltZS4KY29uc3QgTUFYX1BBWUxPQURfU0laRSA9IDEwMCAqIDEwMjQ7CgpmdW5jdGlvbiBfdXBsb2FkRmlsZXMoaW5wdXRJZCwgb3V0cHV0SWQpIHsKICBjb25zdCBzdGVwcyA9IHVwbG9hZEZpbGVzU3RlcChpbnB1dElkLCBvdXRwdXRJZCk7CiAgY29uc3Qgb3V0cHV0RWxlbWVudCA9IGRvY3VtZW50LmdldEVsZW1lbnRCeUlkKG91dHB1dElkKTsKICAvLyBDYWNoZSBzdGVwcyBvbiB0aGUgb3V0cHV0RWxlbWVudCB0byBtYWtlIGl0IGF2YWlsYWJsZSBmb3IgdGhlIG5leHQgY2FsbAogIC8vIHRvIHVwbG9hZEZpbGVzQ29udGludWUgZnJvbSBQeXRob24uCiAgb3V0cHV0RWxlbWVudC5zdGVwcyA9IHN0ZXBzOwoKICByZXR1cm4gX3VwbG9hZEZpbGVzQ29udGludWUob3V0cHV0SWQpOwp9CgovLyBUaGlzIGlzIHJvdWdobHkgYW4gYXN5bmMgZ2VuZXJhdG9yIChub3Qgc3VwcG9ydGVkIGluIHRoZSBicm93c2VyIHlldCksCi8vIHdoZXJlIHRoZXJlIGFyZSBtdWx0aXBsZSBhc3luY2hyb25vdXMgc3RlcHMgYW5kIHRoZSBQeXRob24gc2lkZSBpcyBnb2luZwovLyB0byBwb2xsIGZvciBjb21wbGV0aW9uIG9mIGVhY2ggc3RlcC4KLy8gVGhpcyB1c2VzIGEgUHJvbWlzZSB0byBibG9jayB0aGUgcHl0aG9uIHNpZGUgb24gY29tcGxldGlvbiBvZiBlYWNoIHN0ZXAsCi8vIHRoZW4gcGFzc2VzIHRoZSByZXN1bHQgb2YgdGhlIHByZXZpb3VzIHN0ZXAgYXMgdGhlIGlucHV0IHRvIHRoZSBuZXh0IHN0ZXAuCmZ1bmN0aW9uIF91cGxvYWRGaWxlc0NvbnRpbnVlKG91dHB1dElkKSB7CiAgY29uc3Qgb3V0cHV0RWxlbWVudCA9IGRvY3VtZW50LmdldEVsZW1lbnRCeUlkKG91dHB1dElkKTsKICBjb25zdCBzdGVwcyA9IG91dHB1dEVsZW1lbnQuc3RlcHM7CgogIGNvbnN0IG5leHQgPSBzdGVwcy5uZXh0KG91dHB1dEVsZW1lbnQubGFzdFByb21pc2VWYWx1ZSk7CiAgcmV0dXJuIFByb21pc2UucmVzb2x2ZShuZXh0LnZhbHVlLnByb21pc2UpLnRoZW4oKHZhbHVlKSA9PiB7CiAgICAvLyBDYWNoZSB0aGUgbGFzdCBwcm9taXNlIHZhbHVlIHRvIG1ha2UgaXQgYXZhaWxhYmxlIHRvIHRoZSBuZXh0CiAgICAvLyBzdGVwIG9mIHRoZSBnZW5lcmF0b3IuCiAgICBvdXRwdXRFbGVtZW50Lmxhc3RQcm9taXNlVmFsdWUgPSB2YWx1ZTsKICAgIHJldHVybiBuZXh0LnZhbHVlLnJlc3BvbnNlOwogIH0pOwp9CgovKioKICogR2VuZXJhdG9yIGZ1bmN0aW9uIHdoaWNoIGlzIGNhbGxlZCBiZXR3ZWVuIGVhY2ggYXN5bmMgc3RlcCBvZiB0aGUgdXBsb2FkCiAqIHByb2Nlc3MuCiAqIEBwYXJhbSB7c3RyaW5nfSBpbnB1dElkIEVsZW1lbnQgSUQgb2YgdGhlIGlucHV0IGZpbGUgcGlja2VyIGVsZW1lbnQuCiAqIEBwYXJhbSB7c3RyaW5nfSBvdXRwdXRJZCBFbGVtZW50IElEIG9mIHRoZSBvdXRwdXQgZGlzcGxheS4KICogQHJldHVybiB7IUl0ZXJhYmxlPCFPYmplY3Q+fSBJdGVyYWJsZSBvZiBuZXh0IHN0ZXBzLgogKi8KZnVuY3Rpb24qIHVwbG9hZEZpbGVzU3RlcChpbnB1dElkLCBvdXRwdXRJZCkgewogIGNvbnN0IGlucHV0RWxlbWVudCA9IGRvY3VtZW50LmdldEVsZW1lbnRCeUlkKGlucHV0SWQpOwogIGlucHV0RWxlbWVudC5kaXNhYmxlZCA9IGZhbHNlOwoKICBjb25zdCBvdXRwdXRFbGVtZW50ID0gZG9jdW1lbnQuZ2V0RWxlbWVudEJ5SWQob3V0cHV0SWQpOwogIG91dHB1dEVsZW1lbnQuaW5uZXJIVE1MID0gJyc7CgogIGNvbnN0IHBpY2tlZFByb21pc2UgPSBuZXcgUHJvbWlzZSgocmVzb2x2ZSkgPT4gewogICAgaW5wdXRFbGVtZW50LmFkZEV2ZW50TGlzdGVuZXIoJ2NoYW5nZScsIChlKSA9PiB7CiAgICAgIHJlc29sdmUoZS50YXJnZXQuZmlsZXMpOwogICAgfSk7CiAgfSk7CgogIGNvbnN0IGNhbmNlbCA9IGRvY3VtZW50LmNyZWF0ZUVsZW1lbnQoJ2J1dHRvbicpOwogIGlucHV0RWxlbWVudC5wYXJlbnRFbGVtZW50LmFwcGVuZENoaWxkKGNhbmNlbCk7CiAgY2FuY2VsLnRleHRDb250ZW50ID0gJ0NhbmNlbCB1cGxvYWQnOwogIGNvbnN0IGNhbmNlbFByb21pc2UgPSBuZXcgUHJvbWlzZSgocmVzb2x2ZSkgPT4gewogICAgY2FuY2VsLm9uY2xpY2sgPSAoKSA9PiB7CiAgICAgIHJlc29sdmUobnVsbCk7CiAgICB9OwogIH0pOwoKICAvLyBXYWl0IGZvciB0aGUgdXNlciB0byBwaWNrIHRoZSBmaWxlcy4KICBjb25zdCBmaWxlcyA9IHlpZWxkIHsKICAgIHByb21pc2U6IFByb21pc2UucmFjZShbcGlja2VkUHJvbWlzZSwgY2FuY2VsUHJvbWlzZV0pLAogICAgcmVzcG9uc2U6IHsKICAgICAgYWN0aW9uOiAnc3RhcnRpbmcnLAogICAgfQogIH07CgogIGNhbmNlbC5yZW1vdmUoKTsKCiAgLy8gRGlzYWJsZSB0aGUgaW5wdXQgZWxlbWVudCBzaW5jZSBmdXJ0aGVyIHBpY2tzIGFyZSBub3QgYWxsb3dlZC4KICBpbnB1dEVsZW1lbnQuZGlzYWJsZWQgPSB0cnVlOwoKICBpZiAoIWZpbGVzKSB7CiAgICByZXR1cm4gewogICAgICByZXNwb25zZTogewogICAgICAgIGFjdGlvbjogJ2NvbXBsZXRlJywKICAgICAgfQogICAgfTsKICB9CgogIGZvciAoY29uc3QgZmlsZSBvZiBmaWxlcykgewogICAgY29uc3QgbGkgPSBkb2N1bWVudC5jcmVhdGVFbGVtZW50KCdsaScpOwogICAgbGkuYXBwZW5kKHNwYW4oZmlsZS5uYW1lLCB7Zm9udFdlaWdodDogJ2JvbGQnfSkpOwogICAgbGkuYXBwZW5kKHNwYW4oCiAgICAgICAgYCgke2ZpbGUudHlwZSB8fCAnbi9hJ30pIC0gJHtmaWxlLnNpemV9IGJ5dGVzLCBgICsKICAgICAgICBgbGFzdCBtb2RpZmllZDogJHsKICAgICAgICAgICAgZmlsZS5sYXN0TW9kaWZpZWREYXRlID8gZmlsZS5sYXN0TW9kaWZpZWREYXRlLnRvTG9jYWxlRGF0ZVN0cmluZygpIDoKICAgICAgICAgICAgICAgICAgICAgICAgICAgICAgICAgICAgJ24vYSd9IC0gYCkpOwogICAgY29uc3QgcGVyY2VudCA9IHNwYW4oJzAlIGRvbmUnKTsKICAgIGxpLmFwcGVuZENoaWxkKHBlcmNlbnQpOwoKICAgIG91dHB1dEVsZW1lbnQuYXBwZW5kQ2hpbGQobGkpOwoKICAgIGNvbnN0IGZpbGVEYXRhUHJvbWlzZSA9IG5ldyBQcm9taXNlKChyZXNvbHZlKSA9PiB7CiAgICAgIGNvbnN0IHJlYWRlciA9IG5ldyBGaWxlUmVhZGVyKCk7CiAgICAgIHJlYWRlci5vbmxvYWQgPSAoZSkgPT4gewogICAgICAgIHJlc29sdmUoZS50YXJnZXQucmVzdWx0KTsKICAgICAgfTsKICAgICAgcmVhZGVyLnJlYWRBc0FycmF5QnVmZmVyKGZpbGUpOwogICAgfSk7CiAgICAvLyBXYWl0IGZvciB0aGUgZGF0YSB0byBiZSByZWFkeS4KICAgIGxldCBmaWxlRGF0YSA9IHlpZWxkIHsKICAgICAgcHJvbWlzZTogZmlsZURhdGFQcm9taXNlLAogICAgICByZXNwb25zZTogewogICAgICAgIGFjdGlvbjogJ2NvbnRpbnVlJywKICAgICAgfQogICAgfTsKCiAgICAvLyBVc2UgYSBjaHVua2VkIHNlbmRpbmcgdG8gYXZvaWQgbWVzc2FnZSBzaXplIGxpbWl0cy4gU2VlIGIvNjIxMTU2NjAuCiAgICBsZXQgcG9zaXRpb24gPSAwOwogICAgZG8gewogICAgICBjb25zdCBsZW5ndGggPSBNYXRoLm1pbihmaWxlRGF0YS5ieXRlTGVuZ3RoIC0gcG9zaXRpb24sIE1BWF9QQVlMT0FEX1NJWkUpOwogICAgICBjb25zdCBjaHVuayA9IG5ldyBVaW50OEFycmF5KGZpbGVEYXRhLCBwb3NpdGlvbiwgbGVuZ3RoKTsKICAgICAgcG9zaXRpb24gKz0gbGVuZ3RoOwoKICAgICAgY29uc3QgYmFzZTY0ID0gYnRvYShTdHJpbmcuZnJvbUNoYXJDb2RlLmFwcGx5KG51bGwsIGNodW5rKSk7CiAgICAgIHlpZWxkIHsKICAgICAgICByZXNwb25zZTogewogICAgICAgICAgYWN0aW9uOiAnYXBwZW5kJywKICAgICAgICAgIGZpbGU6IGZpbGUubmFtZSwKICAgICAgICAgIGRhdGE6IGJhc2U2NCwKICAgICAgICB9LAogICAgICB9OwoKICAgICAgbGV0IHBlcmNlbnREb25lID0gZmlsZURhdGEuYnl0ZUxlbmd0aCA9PT0gMCA/CiAgICAgICAgICAxMDAgOgogICAgICAgICAgTWF0aC5yb3VuZCgocG9zaXRpb24gLyBmaWxlRGF0YS5ieXRlTGVuZ3RoKSAqIDEwMCk7CiAgICAgIHBlcmNlbnQudGV4dENvbnRlbnQgPSBgJHtwZXJjZW50RG9uZX0lIGRvbmVgOwoKICAgIH0gd2hpbGUgKHBvc2l0aW9uIDwgZmlsZURhdGEuYnl0ZUxlbmd0aCk7CiAgfQoKICAvLyBBbGwgZG9uZS4KICB5aWVsZCB7CiAgICByZXNwb25zZTogewogICAgICBhY3Rpb246ICdjb21wbGV0ZScsCiAgICB9CiAgfTsKfQoKc2NvcGUuZ29vZ2xlID0gc2NvcGUuZ29vZ2xlIHx8IHt9OwpzY29wZS5nb29nbGUuY29sYWIgPSBzY29wZS5nb29nbGUuY29sYWIgfHwge307CnNjb3BlLmdvb2dsZS5jb2xhYi5fZmlsZXMgPSB7CiAgX3VwbG9hZEZpbGVzLAogIF91cGxvYWRGaWxlc0NvbnRpbnVlLAp9Owp9KShzZWxmKTsK",
              "ok": true,
              "headers": [
                [
                  "content-type",
                  "application/javascript"
                ]
              ],
              "status": 200,
              "status_text": ""
            }
          },
          "base_uri": "https://localhost:8080/",
          "height": 104
        },
        "id": "mdFL6f8UI1aJ",
        "outputId": "e4eacddc-f278-4e2d-e6ea-d1ad916f9959"
      },
      "source": [
        "from google.colab import files \n",
        "uploaded = files.upload()"
      ],
      "execution_count": 40,
      "outputs": [
        {
          "output_type": "display_data",
          "data": {
            "text/html": [
              "\n",
              "     <input type=\"file\" id=\"files-0df0040a-ef13-4a7f-bf47-af3af86d31e0\" name=\"files[]\" multiple disabled\n",
              "        style=\"border:none\" />\n",
              "     <output id=\"result-0df0040a-ef13-4a7f-bf47-af3af86d31e0\">\n",
              "      Upload widget is only available when the cell has been executed in the\n",
              "      current browser session. Please rerun this cell to enable.\n",
              "      </output>\n",
              "      <script src=\"/nbextensions/google.colab/files.js\"></script> "
            ],
            "text/plain": [
              "<IPython.core.display.HTML object>"
            ]
          },
          "metadata": {}
        },
        {
          "output_type": "stream",
          "name": "stdout",
          "text": [
            "Saving qa1_single-supporting-fact_test_kor.txt to qa1_single-supporting-fact_test_kor.txt\n",
            "Saving qa1_single-supporting-fact_train_kor.txt to qa1_single-supporting-fact_train_kor.txt\n"
          ]
        }
      ]
    },
    {
      "cell_type": "code",
      "metadata": {
        "id": "8iFWJFNkJAFW"
      },
      "source": [
        "TRAIN_FILE = os.path.join(\"/content/qa1_single-supporting-fact_train_kor.txt\")\n",
        "TEST_FILE = os.path.join(\"/content/qa1_single-supporting-fact_test_kor.txt\")"
      ],
      "execution_count": 48,
      "outputs": []
    },
    {
      "cell_type": "code",
      "metadata": {
        "colab": {
          "base_uri": "https://localhost:8080/"
        },
        "id": "eBWjvj46JKJm",
        "outputId": "caa3fa8b-dd94-4cfd-e3b0-0849ece74393"
      },
      "source": [
        "# 훈련 데이터로부터 상위 20개의 문장 출력\n",
        "i = 0\n",
        "lines = open(TRAIN_FILE,  \"rb\")\n",
        "for line in lines:\n",
        "  line = line.decode(\"utf-8\").strip()\n",
        "  i = i + 1\n",
        "  print(line)\n",
        "  if i == 20:\n",
        "    break"
      ],
      "execution_count": 49,
      "outputs": [
        {
          "output_type": "stream",
          "name": "stdout",
          "text": [
            "1 필웅이는 화장실로 갔습니다.\n",
            "2 은경이는 복도로 이동했습니다.\n",
            "3 필웅이는 어디야? \t화장실\t1\n",
            "4 수종이는 복도로 복귀했습니다.\n",
            "5 경임이는 정원으로 갔습니다.\n",
            "6 수종이는 어디야? \t복도\t4\n",
            "7 은경이는 사무실로 갔습니다.\n",
            "8 경임이는 화장실로 뛰어갔습니다.\n",
            "9 수종이는 어디야? \t복도\t4\n",
            "10 필웅이는 복도로 갔습니다.\n",
            "11 수종이는 사무실로 가버렸습니다.\n",
            "12 수종이는 어디야? \t사무실\t11\n",
            "13 은경이는 정원으로 복귀했습니다.\n",
            "14 은경이는 침실로 갔습니다.\n",
            "15 경임이는 어디야? \t화장실\t8\n",
            "1 경임이는 사무실로 가버렸습니다.\n",
            "2 경임이는 화장실로 이동했습니다.\n",
            "3 경임이는 어디야? \t화장실\t2\n",
            "4 필웅이는 침실로 이동했습니다.\n",
            "5 수종이는 복도로 갔습니다.\n"
          ]
        }
      ]
    },
    {
      "cell_type": "code",
      "metadata": {
        "id": "86DR_FgWJVWR"
      },
      "source": [
        "# 전처리를 거쳐 스토리, 질문, 답변을 전부 별도로 저장\n",
        "def read_data(dir):\n",
        "  stories, questions, answers = [], [], []\n",
        "  story_temp = [] #현재 시점의 스토리 임시 저장\n",
        "  lines = open(dir, \"rb\")\n",
        "\n",
        "  for line in lines:\n",
        "    line = line.decode(\"utf-8\") # b' 제거\n",
        "    line = line.strip() #'\\n' 제거\n",
        "    idx, text = line.split(\" \", 1) # 맨 앞에 있는 id number 분리\n",
        "    # 여기까지는 모든 줄에 적용되는 전처리\n",
        "\n",
        "    if int(idx) == 1:\n",
        "      story_temp = []\n",
        "\n",
        "    if \"\\t\" in text: #현재 읽는 줄이 질문 (tab) 답변 (tab)인 경우\n",
        "      question, answer, _ = text.split(\"\\t\") #질문과 답변을 각각 저장\n",
        "      stories.append([x for x in story_temp if x]) #지금까지의 누적 스토리를 스토리에 저장\n",
        "      questions.append(question)\n",
        "      answers.append(answer)\n",
        "    \n",
        "    else: #현재 읽는 줄이 스토리인 경우\n",
        "      story_temp.append(text)\n",
        "  \n",
        "  lines.close()\n",
        "  return stories, questions, answers\n"
      ],
      "execution_count": 50,
      "outputs": []
    },
    {
      "cell_type": "code",
      "metadata": {
        "id": "qkSdx2s5Jdxs"
      },
      "source": [
        "train_data = read_data(TRAIN_FILE)\n",
        "test_data = read_data(TEST_FILE)"
      ],
      "execution_count": 51,
      "outputs": []
    },
    {
      "cell_type": "code",
      "metadata": {
        "id": "t_BuBRq3JfLF"
      },
      "source": [
        "train_stories, train_questions, train_answers = read_data(TRAIN_FILE)\n",
        "test_stories, test_questions, test_answers = read_data(TEST_FILE)"
      ],
      "execution_count": 52,
      "outputs": []
    },
    {
      "cell_type": "code",
      "metadata": {
        "colab": {
          "base_uri": "https://localhost:8080/"
        },
        "id": "U1X4udciJg4j",
        "outputId": "328ebd1e-f7d4-4ccf-e9fc-03c5f1417dff"
      },
      "source": [
        "print('훈련용 스토리의 개수 :', len(train_stories))\n",
        "print('훈련용 질문의 개수 :',len(train_questions))\n",
        "print('훈련용 답변의 개수 :',len(train_answers))\n",
        "print('테스트용 스토리의 개수 :',len(test_stories))\n",
        "print('테스트용 질문의 개수 :',len(test_questions))\n",
        "print('테스트용 답변의 개수 :',len(test_answers))"
      ],
      "execution_count": 53,
      "outputs": [
        {
          "output_type": "stream",
          "name": "stdout",
          "text": [
            "훈련용 스토리의 개수 : 10000\n",
            "훈련용 질문의 개수 : 10000\n",
            "훈련용 답변의 개수 : 10000\n",
            "테스트용 스토리의 개수 : 1000\n",
            "테스트용 질문의 개수 : 1000\n",
            "테스트용 답변의 개수 : 1000\n"
          ]
        }
      ]
    },
    {
      "cell_type": "code",
      "metadata": {
        "colab": {
          "base_uri": "https://localhost:8080/"
        },
        "id": "k1QI5d8gJijI",
        "outputId": "d61dc58e-c095-4df2-ac3e-ccd387cb1fb7"
      },
      "source": [
        "train_stories[3572]"
      ],
      "execution_count": 54,
      "outputs": [
        {
          "output_type": "execute_result",
          "data": {
            "text/plain": [
              "['은경이는 부엌으로 가버렸습니다.',\n",
              " '필웅이는 사무실로 가버렸습니다.',\n",
              " '수종이는 복도로 뛰어갔습니다.',\n",
              " '은경이는 사무실로 복귀했습니다.',\n",
              " '경임이는 사무실로 이동했습니다.',\n",
              " '경임이는 침실로 갔습니다.']"
            ]
          },
          "metadata": {},
          "execution_count": 54
        }
      ]
    },
    {
      "cell_type": "code",
      "metadata": {
        "colab": {
          "base_uri": "https://localhost:8080/",
          "height": 34
        },
        "id": "n2Fuqz9PJkLG",
        "outputId": "d45d99c5-81cb-485f-8b8f-8cfc2c686395"
      },
      "source": [
        "train_questions[3572]"
      ],
      "execution_count": 55,
      "outputs": [
        {
          "output_type": "execute_result",
          "data": {
            "application/vnd.google.colaboratory.intrinsic+json": {
              "type": "string"
            },
            "text/plain": [
              "'은경이는 어디야? '"
            ]
          },
          "metadata": {},
          "execution_count": 55
        }
      ]
    },
    {
      "cell_type": "code",
      "metadata": {
        "colab": {
          "base_uri": "https://localhost:8080/",
          "height": 34
        },
        "id": "ha9CcwL-J-NV",
        "outputId": "919016bd-95df-443b-f3d8-924b965a8b66"
      },
      "source": [
        "train_answers[3572]"
      ],
      "execution_count": 56,
      "outputs": [
        {
          "output_type": "execute_result",
          "data": {
            "application/vnd.google.colaboratory.intrinsic+json": {
              "type": "string"
            },
            "text/plain": [
              "'사무실'"
            ]
          },
          "metadata": {},
          "execution_count": 56
        }
      ]
    },
    {
      "cell_type": "code",
      "metadata": {
        "id": "UmzgV94cOm1I"
      },
      "source": [
        "def tokenize(sent):\n",
        "    return [ x.strip() for x in re.split('(\\W+)', sent) if x and x.strip()]"
      ],
      "execution_count": 75,
      "outputs": []
    },
    {
      "cell_type": "code",
      "metadata": {
        "id": "4ltUgqeEOm1J"
      },
      "source": [
        "def preprocess_data(train_data, test_data):\n",
        "    counter = FreqDist()\n",
        "\n",
        "    # 두 문장의 story를 하나의 문장으로 통합하는 함수\n",
        "    flatten = lambda data: reduce(lambda x, y: x + y, data)\n",
        "\n",
        "    # 각 샘플의 길이를 저장하는 리스트\n",
        "    story_len = []\n",
        "    question_len = []\n",
        "\n",
        "    for stories, questions, answers in [train_data, test_data]:\n",
        "        for story in stories:\n",
        "            stories = tokenize(flatten(story)) # 스토리의 문장들을 펼친 후 토큰화\n",
        "            story_len.append(len(stories)) # 각 story의 길이 저장\n",
        "            for word in stories: # 단어 집합에 단어 추가\n",
        "                counter[word] += 1\n",
        "        for question in questions:\n",
        "            question = tokenize(question)\n",
        "            question_len.append(len(question))\n",
        "            for word in question:\n",
        "                counter[word] += 1\n",
        "        for answer in answers:\n",
        "            answer = tokenize(answer)\n",
        "            for word in answer:\n",
        "                counter[word] += 1\n",
        "\n",
        "    # 단어 집합 생성\n",
        "    word2idx = {word : (idx + 1) for idx, (word, _) in enumerate(counter.most_common())}\n",
        "    idx2word = {idx : word for word, idx in word2idx.items()}\n",
        "\n",
        "    # 가장 긴 샘플의 길이\n",
        "    story_max_len = np.max(story_len)\n",
        "    question_max_len = np.max(question_len)\n",
        "\n",
        "    return word2idx, idx2word, story_max_len, question_max_len"
      ],
      "execution_count": 76,
      "outputs": []
    },
    {
      "cell_type": "code",
      "metadata": {
        "id": "aF37JxNdOm1K"
      },
      "source": [
        "word2idx, idx2word, story_max_len, question_max_len = preprocess_data(train_data, test_data)"
      ],
      "execution_count": 77,
      "outputs": []
    },
    {
      "cell_type": "code",
      "metadata": {
        "colab": {
          "base_uri": "https://localhost:8080/"
        },
        "id": "w4NZIZzVOm1K",
        "outputId": "1b6afc06-fb17-4250-a455-c01fbff0fff4"
      },
      "source": [
        "print(word2idx)"
      ],
      "execution_count": 78,
      "outputs": [
        {
          "output_type": "stream",
          "name": "stdout",
          "text": [
            "{'.': 1, '경임이는': 2, '은경이는': 3, '수종이는': 4, '필웅이는': 5, '이동했습니다': 6, '가버렸습니다': 7, '뛰어갔습니다': 8, '복귀했습니다': 9, '갔습니다': 10, '화장실로': 11, '정원으로': 12, '복도로': 13, '어디야': 14, '?': 15, '부엌으로': 16, '사무실로': 17, '침실로': 18, '화장실': 19, '정원': 20, '사무실': 21, '침실': 22, '복도': 23, '부엌': 24}\n"
          ]
        }
      ]
    },
    {
      "cell_type": "code",
      "metadata": {
        "colab": {
          "base_uri": "https://localhost:8080/"
        },
        "id": "h04j-OPWPAxE",
        "outputId": "c985c5a4-6b4d-4dfe-b4a6-edac6029a764"
      },
      "source": [
        "# 형태소 분석기를 사용해서 이름이 분리되지 않도록 함\n",
        "twitter = Twitter()"
      ],
      "execution_count": 81,
      "outputs": [
        {
          "output_type": "stream",
          "name": "stderr",
          "text": [
            "/usr/local/lib/python3.7/dist-packages/konlpy/tag/_okt.py:16: UserWarning: \"Twitter\" has changed to \"Okt\" since KoNLPy v0.4.5.\n",
            "  warn('\"Twitter\" has changed to \"Okt\" since KoNLPy v0.4.5.')\n"
          ]
        }
      ]
    },
    {
      "cell_type": "code",
      "metadata": {
        "colab": {
          "base_uri": "https://localhost:8080/"
        },
        "id": "KZovEpxSPGpe",
        "outputId": "4717a9b2-6f80-43e4-c95b-4035628d6a3d"
      },
      "source": [
        "print(twitter.morphs('은경이는 화장실로 이동했습니다.'))\n",
        "print(twitter.morphs('경임이는 정원으로 가버렸습니다.'))\n",
        "print(twitter.morphs('수종이는 복도로 뛰어갔습니다.'))\n",
        "print(twitter.morphs('필웅이는 부엌으로 복귀했습니다.'))\n",
        "print(twitter.morphs('수종이는 사무실로 갔습니다.'))\n",
        "print(twitter.morphs('은경이는 침실로 갔습니다.'))"
      ],
      "execution_count": 82,
      "outputs": [
        {
          "output_type": "stream",
          "name": "stdout",
          "text": [
            "['은', '경이', '는', '화장실', '로', '이동', '했습니다', '.']\n",
            "['경', '임', '이', '는', '정원', '으로', '가버렸습니다', '.']\n",
            "['수종', '이', '는', '복도', '로', '뛰어갔습니다', '.']\n",
            "['필웅이', '는', '부엌', '으로', '복귀', '했습니다', '.']\n",
            "['수종', '이', '는', '사무실', '로', '갔습니다', '.']\n",
            "['은', '경이', '는', '침실', '로', '갔습니다', '.']\n"
          ]
        }
      ]
    },
    {
      "cell_type": "code",
      "metadata": {
        "id": "atJS6RyMPMAA"
      },
      "source": [
        "twitter.add_dictionary('은경이', 'Noun')\n",
        "twitter.add_dictionary('경임이', 'Noun')\n",
        "twitter.add_dictionary('수종이', 'Noun')"
      ],
      "execution_count": 83,
      "outputs": []
    },
    {
      "cell_type": "code",
      "metadata": {
        "colab": {
          "base_uri": "https://localhost:8080/"
        },
        "id": "8KxeVzkcPOaN",
        "outputId": "5dd64572-1ff1-4454-c51f-dc53587a5e91"
      },
      "source": [
        "print(twitter.morphs('은경이는 화장실로 이동했습니다.'))\n",
        "print(twitter.morphs('경임이는 정원으로 가버렸습니다.'))\n",
        "print(twitter.morphs('수종이는 복도로 뛰어갔습니다.'))\n",
        "print(twitter.morphs('필웅이는 부엌으로 복귀했습니다.'))\n",
        "print(twitter.morphs('수종이는 사무실로 갔습니다.'))\n",
        "print(twitter.morphs('은경이는 침실로 갔습니다.'))"
      ],
      "execution_count": 84,
      "outputs": [
        {
          "output_type": "stream",
          "name": "stdout",
          "text": [
            "['은경이', '는', '화장실', '로', '이동', '했습니다', '.']\n",
            "['경임이', '는', '정원', '으로', '가버렸습니다', '.']\n",
            "['수종이', '는', '복도', '로', '뛰어갔습니다', '.']\n",
            "['필웅이', '는', '부엌', '으로', '복귀', '했습니다', '.']\n",
            "['수종이', '는', '사무실', '로', '갔습니다', '.']\n",
            "['은경이', '는', '침실', '로', '갔습니다', '.']\n"
          ]
        }
      ]
    },
    {
      "cell_type": "code",
      "metadata": {
        "id": "xaGmtNwrPRav"
      },
      "source": [
        "# 이를 새로운 토큰화 함수로 정의"
      ],
      "execution_count": null,
      "outputs": []
    },
    {
      "cell_type": "code",
      "metadata": {
        "id": "WJjTzQpvPa3D"
      },
      "source": [
        "def tokenize(sent):\n",
        "    return [ x.strip() for x in re.split('(\\W+)', sent) if x and x.strip()]"
      ],
      "execution_count": 85,
      "outputs": []
    },
    {
      "cell_type": "code",
      "metadata": {
        "id": "u6njZDeCPa3E"
      },
      "source": [
        "def preprocess_data(train_data, test_data):\n",
        "    counter = FreqDist()\n",
        "\n",
        "    # 두 문장의 story를 하나의 문장으로 통합하는 함수\n",
        "    flatten = lambda data: reduce(lambda x, y: x + y, data)\n",
        "\n",
        "    # 각 샘플의 길이를 저장하는 리스트\n",
        "    story_len = []\n",
        "    question_len = []\n",
        "\n",
        "    for stories, questions, answers in [train_data, test_data]:\n",
        "        for story in stories:\n",
        "            stories = tokenize(flatten(story)) # 스토리의 문장들을 펼친 후 토큰화\n",
        "            story_len.append(len(stories)) # 각 story의 길이 저장\n",
        "            for word in stories: # 단어 집합에 단어 추가\n",
        "                counter[word] += 1\n",
        "        for question in questions:\n",
        "            question = tokenize(question)\n",
        "            question_len.append(len(question))\n",
        "            for word in question:\n",
        "                counter[word] += 1\n",
        "        for answer in answers:\n",
        "            answer = tokenize(answer)\n",
        "            for word in answer:\n",
        "                counter[word] += 1\n",
        "\n",
        "    # 단어 집합 생성\n",
        "    word2idx = {word : (idx + 1) for idx, (word, _) in enumerate(counter.most_common())}\n",
        "    idx2word = {idx : word for word, idx in word2idx.items()}\n",
        "\n",
        "    # 가장 긴 샘플의 길이\n",
        "    story_max_len = np.max(story_len)\n",
        "    question_max_len = np.max(question_len)\n",
        "\n",
        "    return word2idx, idx2word, story_max_len, question_max_len"
      ],
      "execution_count": 86,
      "outputs": []
    },
    {
      "cell_type": "code",
      "metadata": {
        "id": "K5bfX6RQPa3F"
      },
      "source": [
        "# 형태소 분석기를 토큰화 함수를 번경하였기 때문에 이전보다 시간이 더 소요됨\n",
        "word2idx, idx2word, story_max_len, question_max_len = preprocess_data(train_data, test_data)"
      ],
      "execution_count": 87,
      "outputs": []
    },
    {
      "cell_type": "code",
      "metadata": {
        "colab": {
          "base_uri": "https://localhost:8080/"
        },
        "id": "d0mtmM9lPa3G",
        "outputId": "5ad03a17-ff49-4234-d29b-5bdbed9f6ec7"
      },
      "source": [
        "print(word2idx)"
      ],
      "execution_count": 90,
      "outputs": [
        {
          "output_type": "stream",
          "name": "stdout",
          "text": [
            "{'.': 1, '경임이는': 2, '은경이는': 3, '수종이는': 4, '필웅이는': 5, '이동했습니다': 6, '가버렸습니다': 7, '뛰어갔습니다': 8, '복귀했습니다': 9, '갔습니다': 10, '화장실로': 11, '정원으로': 12, '복도로': 13, '어디야': 14, '?': 15, '부엌으로': 16, '사무실로': 17, '침실로': 18, '화장실': 19, '정원': 20, '사무실': 21, '침실': 22, '복도': 23, '부엌': 24}\n"
          ]
        }
      ]
    },
    {
      "cell_type": "code",
      "metadata": {
        "colab": {
          "base_uri": "https://localhost:8080/"
        },
        "id": "AtLcI5EYK0oH",
        "outputId": "ca22eb17-df4a-43ca-e68e-75dd7cf50f89"
      },
      "source": [
        "# 단어 집합의 크기 정의\n",
        "vocab_size = len(word2idx) + 1\n",
        "print(vocab_size)"
      ],
      "execution_count": 91,
      "outputs": [
        {
          "output_type": "stream",
          "name": "stdout",
          "text": [
            "25\n"
          ]
        }
      ]
    },
    {
      "cell_type": "code",
      "metadata": {
        "colab": {
          "base_uri": "https://localhost:8080/"
        },
        "id": "9FnHPHa2O2Re",
        "outputId": "647329e0-451f-4159-d0e8-c3fbfaebba4a"
      },
      "source": [
        "print('스토리의 최대 길이 :',story_max_len)\n",
        "print('질문의 최대 길이 :',question_max_len)"
      ],
      "execution_count": 92,
      "outputs": [
        {
          "output_type": "stream",
          "name": "stdout",
          "text": [
            "스토리의 최대 길이 : 40\n",
            "질문의 최대 길이 : 3\n"
          ]
        }
      ]
    },
    {
      "cell_type": "code",
      "metadata": {
        "id": "DS7Uxd3yO3iC"
      },
      "source": [
        "def vectorize(data, word2idx, story_maxlen, question_maxlen):\n",
        "    Xs, Xq, Y = [], [], []\n",
        "    flatten = lambda data: reduce(lambda x, y: x + y, data)\n",
        "\n",
        "    stories, questions, answers = data\n",
        "    for story, question, answer in zip(stories, questions, answers):\n",
        "        xs = [word2idx[w] for w in tokenize(flatten(story))]\n",
        "        xq = [word2idx[w] for w in tokenize(question)]\n",
        "        Xs.append(xs)\n",
        "        Xq.append(xq)\n",
        "        Y.append(word2idx[answer])\n",
        "\n",
        "        # 스토리와 질문은 각각의 최대 길이로 패딩\n",
        "        # 정답은 원-핫 인코딩\n",
        "    return pad_sequences(Xs, maxlen=story_maxlen),\\\n",
        "           pad_sequences(Xq, maxlen=question_maxlen),\\\n",
        "           to_categorical(Y, num_classes=len(word2idx) + 1)"
      ],
      "execution_count": 93,
      "outputs": []
    },
    {
      "cell_type": "code",
      "metadata": {
        "id": "Yyij8VM2Pw8d"
      },
      "source": [
        "Xstrain, Xqtrain, Ytrain = vectorize(train_data, word2idx, story_max_len, question_max_len)\n",
        "Xstest, Xqtest, Ytest = vectorize(test_data, word2idx, story_max_len, question_max_len)"
      ],
      "execution_count": 94,
      "outputs": []
    },
    {
      "cell_type": "code",
      "metadata": {
        "colab": {
          "base_uri": "https://localhost:8080/"
        },
        "id": "3-yzdjYDPyo3",
        "outputId": "7baf985c-5aaf-40b3-9915-7c6cc757bae9"
      },
      "source": [
        "print(Xstrain.shape, Xqtrain.shape, Ytrain.shape, Xstest.shape, Xqtest.shape, Ytest.shape)"
      ],
      "execution_count": 95,
      "outputs": [
        {
          "output_type": "stream",
          "name": "stdout",
          "text": [
            "(10000, 40) (10000, 3) (10000, 25) (1000, 40) (1000, 3) (1000, 25)\n"
          ]
        }
      ]
    },
    {
      "cell_type": "markdown",
      "metadata": {
        "id": "LHa4Q6KTP1bB"
      },
      "source": [
        "#### 3. 메모리 네트워크로 QA 테스크 풀기"
      ]
    },
    {
      "cell_type": "code",
      "metadata": {
        "id": "2H_OAcdwPzkn"
      },
      "source": [
        "from tensorflow.keras.models import Sequential, Model\n",
        "from tensorflow.keras.layers import Embedding\n",
        "from tensorflow.keras.layers import Permute, dot, add, concatenate\n",
        "from tensorflow.keras.layers import LSTM, Dense, Dropout, Input, Activation"
      ],
      "execution_count": 96,
      "outputs": []
    },
    {
      "cell_type": "code",
      "metadata": {
        "id": "XViff2feP4-A"
      },
      "source": [
        "# 에포크 횟수\n",
        "train_epochs = 120\n",
        "# 배치 크기\n",
        "batch_size = 32\n",
        "# 임베딩 크기\n",
        "embed_size = 50\n",
        "# LSTM의 크기\n",
        "lstm_size = 64\n",
        "# 과적합 방지 기법인 드롭아웃 적용 비율\n",
        "dropout_rate = 0.30"
      ],
      "execution_count": 97,
      "outputs": []
    },
    {
      "cell_type": "code",
      "metadata": {
        "colab": {
          "base_uri": "https://localhost:8080/"
        },
        "id": "CxmOYY7kP6xH",
        "outputId": "86a89cd8-a0e9-40f4-f55a-ed2653720e0b"
      },
      "source": [
        "# 플레이스 홀더. 입력을 담는 변수\n",
        "input_sequence = Input((story_max_len,))\n",
        "question = Input((question_max_len,))\n",
        "\n",
        "print('Stories :', input_sequence)\n",
        "print('Question:', question)"
      ],
      "execution_count": 98,
      "outputs": [
        {
          "output_type": "stream",
          "name": "stdout",
          "text": [
            "Stories : KerasTensor(type_spec=TensorSpec(shape=(None, 40), dtype=tf.float32, name='input_3'), name='input_3', description=\"created by layer 'input_3'\")\n",
            "Question: KerasTensor(type_spec=TensorSpec(shape=(None, 3), dtype=tf.float32, name='input_4'), name='input_4', description=\"created by layer 'input_4'\")\n"
          ]
        }
      ]
    },
    {
      "cell_type": "code",
      "metadata": {
        "id": "JtFK6x2iP-9H"
      },
      "source": [
        "  # 스토리를 위한 첫번째 임베딩. 그림에서의 Embedding A\n",
        "input_encoder_m = Sequential()\n",
        "input_encoder_m.add(Embedding(input_dim=vocab_size,\n",
        "                              output_dim=embed_size))\n",
        "input_encoder_m.add(Dropout(dropout_rate))\n",
        "# 결과 : (samples, story_max_len, embedding_dim) / 샘플의 수, 문장의 최대 길이, 임베딩 벡터의 차원\n",
        "\n",
        "# 스토리를 위한 두번째 임베딩. 그림에서의 Embedding C\n",
        "# 임베딩 벡터의 차원을 question_max_len(질문의 최대 길이)로 한다.\n",
        "input_encoder_c = Sequential()\n",
        "input_encoder_c.add(Embedding(input_dim=vocab_size,\n",
        "                              output_dim=question_max_len))\n",
        "input_encoder_c.add(Dropout(dropout_rate))\n",
        "# 결과 : (samples, story_max_len, question_max_len) / 샘플의 수, 문장의 최대 길이, 질문의 최대 길이(임베딩 벡터의 차원)"
      ],
      "execution_count": 99,
      "outputs": []
    },
    {
      "cell_type": "code",
      "metadata": {
        "id": "VH6_0prDQzox"
      },
      "source": [
        "# 질문을 위한 임베딩. 그림에서의 Embedding B\n",
        "question_encoder = Sequential()\n",
        "question_encoder.add(Embedding(input_dim=vocab_size,\n",
        "                               output_dim=embed_size,\n",
        "                               input_length=question_max_len))\n",
        "question_encoder.add(Dropout(dropout_rate))\n",
        "# 결과 : (samples, question_max_len, embedding_dim) / 샘플의 수, 질문의 최대 길이, 임베딩 벡터의 차원"
      ],
      "execution_count": 100,
      "outputs": []
    },
    {
      "cell_type": "code",
      "metadata": {
        "colab": {
          "base_uri": "https://localhost:8080/"
        },
        "id": "RqWsX-_1Q0_c",
        "outputId": "6a7af841-e58d-4d8f-d2cb-d6a5ac8d75df"
      },
      "source": [
        "# 실질적인 임베딩 과정\n",
        "input_encoded_m = input_encoder_m(input_sequence)\n",
        "input_encoded_c = input_encoder_c(input_sequence)\n",
        "question_encoded = question_encoder(question)\n",
        "\n",
        "print('Input encoded m', input_encoded_m)\n",
        "print('Input encoded c', input_encoded_c)\n",
        "print('Question encoded', question_encoded)"
      ],
      "execution_count": 101,
      "outputs": [
        {
          "output_type": "stream",
          "name": "stdout",
          "text": [
            "Input encoded m KerasTensor(type_spec=TensorSpec(shape=(None, 40, 50), dtype=tf.float32, name=None), name='sequential_3/dropout_4/Identity:0', description=\"created by layer 'sequential_3'\")\n",
            "Input encoded c KerasTensor(type_spec=TensorSpec(shape=(None, 40, 3), dtype=tf.float32, name=None), name='sequential_4/dropout_5/Identity:0', description=\"created by layer 'sequential_4'\")\n",
            "Question encoded KerasTensor(type_spec=TensorSpec(shape=(None, 3, 50), dtype=tf.float32, name=None), name='sequential_5/dropout_6/Identity:0', description=\"created by layer 'sequential_5'\")\n"
          ]
        }
      ]
    },
    {
      "cell_type": "code",
      "metadata": {
        "colab": {
          "base_uri": "https://localhost:8080/"
        },
        "id": "egUMYaGdRCVa",
        "outputId": "5d4b0ac1-6bc5-4e4a-86f2-aaec553434cb"
      },
      "source": [
        "# 스토리 단어들과 질문 단어들 간의 유사도를 구하는 과정\n",
        "# 유사도는 내적을 사용한다.\n",
        "match = dot([input_encoded_m, question_encoded], axes=-1, normalize=False)\n",
        "match = Activation('softmax')(match)\n",
        "print('Match shape', match)\n",
        "# 결과 : (samples, story_maxlen, question_max_len) / 샘플의 수, 문장의 최대 길이, 질문의 최대 길이\n"
      ],
      "execution_count": 102,
      "outputs": [
        {
          "output_type": "stream",
          "name": "stdout",
          "text": [
            "Match shape KerasTensor(type_spec=TensorSpec(shape=(None, 40, 3), dtype=tf.float32, name=None), name='activation_2/Softmax:0', description=\"created by layer 'activation_2'\")\n"
          ]
        }
      ]
    },
    {
      "cell_type": "code",
      "metadata": {
        "colab": {
          "base_uri": "https://localhost:8080/"
        },
        "id": "1mey7yDWRCVa",
        "outputId": "98703a53-3dee-4967-db5b-d03977179aa8"
      },
      "source": [
        "# add the match matrix with the second input vector sequence\n",
        "response = add([match, input_encoded_c])  # (samples, story_max_len, question_max_len)\n",
        "response = Permute((2, 1))(response)  # (samples, question_max_len, story_max_len)\n",
        "print('Response shape', response)\n"
      ],
      "execution_count": 103,
      "outputs": [
        {
          "output_type": "stream",
          "name": "stdout",
          "text": [
            "Response shape KerasTensor(type_spec=TensorSpec(shape=(None, 3, 40), dtype=tf.float32, name=None), name='permute_1/transpose:0', description=\"created by layer 'permute_1'\")\n"
          ]
        }
      ]
    },
    {
      "cell_type": "code",
      "metadata": {
        "colab": {
          "base_uri": "https://localhost:8080/"
        },
        "id": "0BmfF_ZZRCVb",
        "outputId": "47ba51df-b9d0-40d7-cb46-a9a954d94b0c"
      },
      "source": [
        "\n",
        "# concatenate the response vector with the question vector sequence\n",
        "answer = concatenate([response, question_encoded])\n",
        "print('Answer shape', answer)\n"
      ],
      "execution_count": 104,
      "outputs": [
        {
          "output_type": "stream",
          "name": "stdout",
          "text": [
            "Answer shape KerasTensor(type_spec=TensorSpec(shape=(None, 3, 90), dtype=tf.float32, name=None), name='concatenate_1/concat:0', description=\"created by layer 'concatenate_1'\")\n"
          ]
        }
      ]
    },
    {
      "cell_type": "code",
      "metadata": {
        "id": "wHRW-zEnRCVb"
      },
      "source": [
        "answer = LSTM(lstm_size)(answer)  # Generate tensors of shape 32\n",
        "answer = Dropout(dropout_rate)(answer)\n",
        "answer = Dense(vocab_size)(answer)  # (samples, vocab_size)\n",
        "# we output a probability distribution over the vocabulary\n",
        "answer = Activation('softmax')(answer)"
      ],
      "execution_count": 105,
      "outputs": []
    },
    {
      "cell_type": "code",
      "metadata": {
        "colab": {
          "base_uri": "https://localhost:8080/"
        },
        "id": "1kcOVNBRRCVb",
        "outputId": "a66856be-9a91-4c41-b8ea-30104c6ed90d"
      },
      "source": [
        "# build the final model\n",
        "model = Model([input_sequence, question], answer)\n",
        "model.compile(optimizer='rmsprop', loss='categorical_crossentropy',\n",
        "              metrics=['acc'])\n",
        "\n",
        "print(model.summary())\n",
        "\n",
        "# start training the model\n",
        "history = model.fit([Xstrain, Xqtrain],\n",
        "         Ytrain, batch_size, train_epochs,\n",
        "         validation_data=([Xstest, Xqtest], Ytest))\n",
        "\n",
        "# save model\n",
        "model.save('model.h5')"
      ],
      "execution_count": 106,
      "outputs": [
        {
          "output_type": "stream",
          "name": "stdout",
          "text": [
            "Model: \"model_1\"\n",
            "__________________________________________________________________________________________________\n",
            "Layer (type)                    Output Shape         Param #     Connected to                     \n",
            "==================================================================================================\n",
            "input_3 (InputLayer)            [(None, 40)]         0                                            \n",
            "__________________________________________________________________________________________________\n",
            "input_4 (InputLayer)            [(None, 3)]          0                                            \n",
            "__________________________________________________________________________________________________\n",
            "sequential_3 (Sequential)       (None, None, 50)     1250        input_3[0][0]                    \n",
            "__________________________________________________________________________________________________\n",
            "sequential_5 (Sequential)       (None, 3, 50)        1250        input_4[0][0]                    \n",
            "__________________________________________________________________________________________________\n",
            "dot_1 (Dot)                     (None, 40, 3)        0           sequential_3[0][0]               \n",
            "                                                                 sequential_5[0][0]               \n",
            "__________________________________________________________________________________________________\n",
            "activation_2 (Activation)       (None, 40, 3)        0           dot_1[0][0]                      \n",
            "__________________________________________________________________________________________________\n",
            "sequential_4 (Sequential)       (None, None, 3)      75          input_3[0][0]                    \n",
            "__________________________________________________________________________________________________\n",
            "add_1 (Add)                     (None, 40, 3)        0           activation_2[0][0]               \n",
            "                                                                 sequential_4[0][0]               \n",
            "__________________________________________________________________________________________________\n",
            "permute_1 (Permute)             (None, 3, 40)        0           add_1[0][0]                      \n",
            "__________________________________________________________________________________________________\n",
            "concatenate_1 (Concatenate)     (None, 3, 90)        0           permute_1[0][0]                  \n",
            "                                                                 sequential_5[0][0]               \n",
            "__________________________________________________________________________________________________\n",
            "lstm_1 (LSTM)                   (None, 64)           39680       concatenate_1[0][0]              \n",
            "__________________________________________________________________________________________________\n",
            "dropout_7 (Dropout)             (None, 64)           0           lstm_1[0][0]                     \n",
            "__________________________________________________________________________________________________\n",
            "dense_1 (Dense)                 (None, 25)           1625        dropout_7[0][0]                  \n",
            "__________________________________________________________________________________________________\n",
            "activation_3 (Activation)       (None, 25)           0           dense_1[0][0]                    \n",
            "==================================================================================================\n",
            "Total params: 43,880\n",
            "Trainable params: 43,880\n",
            "Non-trainable params: 0\n",
            "__________________________________________________________________________________________________\n",
            "None\n",
            "Epoch 1/120\n",
            "313/313 [==============================] - 5s 10ms/step - loss: 1.8883 - acc: 0.1727 - val_loss: 1.7811 - val_acc: 0.1990\n",
            "Epoch 2/120\n",
            "313/313 [==============================] - 2s 8ms/step - loss: 1.7204 - acc: 0.2536 - val_loss: 1.6295 - val_acc: 0.3240\n",
            "Epoch 3/120\n",
            "313/313 [==============================] - 2s 8ms/step - loss: 1.5493 - acc: 0.3742 - val_loss: 1.4797 - val_acc: 0.3810\n",
            "Epoch 4/120\n",
            "313/313 [==============================] - 2s 7ms/step - loss: 1.4962 - acc: 0.3927 - val_loss: 1.5428 - val_acc: 0.3770\n",
            "Epoch 5/120\n",
            "313/313 [==============================] - 2s 7ms/step - loss: 1.4510 - acc: 0.4362 - val_loss: 1.3915 - val_acc: 0.4330\n",
            "Epoch 6/120\n",
            "313/313 [==============================] - 2s 7ms/step - loss: 1.4118 - acc: 0.4508 - val_loss: 1.3647 - val_acc: 0.4520\n",
            "Epoch 7/120\n",
            "313/313 [==============================] - 2s 7ms/step - loss: 1.3913 - acc: 0.4532 - val_loss: 1.3476 - val_acc: 0.4560\n",
            "Epoch 8/120\n",
            "313/313 [==============================] - 2s 8ms/step - loss: 1.3748 - acc: 0.4583 - val_loss: 1.3602 - val_acc: 0.4620\n",
            "Epoch 9/120\n",
            "313/313 [==============================] - 2s 8ms/step - loss: 1.3622 - acc: 0.4663 - val_loss: 1.3309 - val_acc: 0.4650\n",
            "Epoch 10/120\n",
            "313/313 [==============================] - 2s 7ms/step - loss: 1.3485 - acc: 0.4690 - val_loss: 1.3228 - val_acc: 0.4870\n",
            "Epoch 11/120\n",
            "313/313 [==============================] - 2s 7ms/step - loss: 1.3318 - acc: 0.4723 - val_loss: 1.2954 - val_acc: 0.4960\n",
            "Epoch 12/120\n",
            "313/313 [==============================] - 2s 7ms/step - loss: 1.3233 - acc: 0.4908 - val_loss: 1.2809 - val_acc: 0.5020\n",
            "Epoch 13/120\n",
            "313/313 [==============================] - 2s 8ms/step - loss: 1.2977 - acc: 0.4941 - val_loss: 1.2592 - val_acc: 0.5210\n",
            "Epoch 14/120\n",
            "313/313 [==============================] - 2s 8ms/step - loss: 1.2783 - acc: 0.5041 - val_loss: 1.2491 - val_acc: 0.5130\n",
            "Epoch 15/120\n",
            "313/313 [==============================] - 2s 8ms/step - loss: 1.2510 - acc: 0.5133 - val_loss: 1.2374 - val_acc: 0.5090\n",
            "Epoch 16/120\n",
            "313/313 [==============================] - 2s 8ms/step - loss: 1.2572 - acc: 0.5123 - val_loss: 1.2325 - val_acc: 0.5230\n",
            "Epoch 17/120\n",
            "313/313 [==============================] - 2s 8ms/step - loss: 1.2367 - acc: 0.5187 - val_loss: 1.2257 - val_acc: 0.5340\n",
            "Epoch 18/120\n",
            "313/313 [==============================] - 2s 7ms/step - loss: 1.2338 - acc: 0.5191 - val_loss: 1.2167 - val_acc: 0.5220\n",
            "Epoch 19/120\n",
            "313/313 [==============================] - 2s 7ms/step - loss: 1.2206 - acc: 0.5294 - val_loss: 1.2437 - val_acc: 0.4980\n",
            "Epoch 20/120\n",
            "313/313 [==============================] - 2s 8ms/step - loss: 1.2166 - acc: 0.5238 - val_loss: 1.2066 - val_acc: 0.5230\n",
            "Epoch 21/120\n",
            "313/313 [==============================] - 2s 8ms/step - loss: 1.2025 - acc: 0.5231 - val_loss: 1.1882 - val_acc: 0.5390\n",
            "Epoch 22/120\n",
            "313/313 [==============================] - 2s 8ms/step - loss: 1.1232 - acc: 0.5633 - val_loss: 0.9779 - val_acc: 0.6510\n",
            "Epoch 23/120\n",
            "313/313 [==============================] - 2s 7ms/step - loss: 0.8695 - acc: 0.6929 - val_loss: 0.7432 - val_acc: 0.7350\n",
            "Epoch 24/120\n",
            "313/313 [==============================] - 2s 8ms/step - loss: 0.7131 - acc: 0.7428 - val_loss: 0.6615 - val_acc: 0.7390\n",
            "Epoch 25/120\n",
            "313/313 [==============================] - 2s 8ms/step - loss: 0.6320 - acc: 0.7666 - val_loss: 0.5727 - val_acc: 0.7750\n",
            "Epoch 26/120\n",
            "313/313 [==============================] - 2s 8ms/step - loss: 0.5422 - acc: 0.7930 - val_loss: 0.4955 - val_acc: 0.8030\n",
            "Epoch 27/120\n",
            "313/313 [==============================] - 3s 8ms/step - loss: 0.4713 - acc: 0.8212 - val_loss: 0.4538 - val_acc: 0.8160\n",
            "Epoch 28/120\n",
            "313/313 [==============================] - 2s 8ms/step - loss: 0.4365 - acc: 0.8302 - val_loss: 0.4209 - val_acc: 0.8410\n",
            "Epoch 29/120\n",
            "313/313 [==============================] - 2s 8ms/step - loss: 0.4037 - acc: 0.8465 - val_loss: 0.4064 - val_acc: 0.8510\n",
            "Epoch 30/120\n",
            "313/313 [==============================] - 2s 8ms/step - loss: 0.3865 - acc: 0.8511 - val_loss: 0.3896 - val_acc: 0.8550\n",
            "Epoch 31/120\n",
            "313/313 [==============================] - 3s 8ms/step - loss: 0.3651 - acc: 0.8609 - val_loss: 0.3900 - val_acc: 0.8460\n",
            "Epoch 32/120\n",
            "313/313 [==============================] - 2s 8ms/step - loss: 0.3574 - acc: 0.8617 - val_loss: 0.3724 - val_acc: 0.8500\n",
            "Epoch 33/120\n",
            "313/313 [==============================] - 2s 8ms/step - loss: 0.3398 - acc: 0.8669 - val_loss: 0.3525 - val_acc: 0.8600\n",
            "Epoch 34/120\n",
            "313/313 [==============================] - 2s 8ms/step - loss: 0.3248 - acc: 0.8737 - val_loss: 0.3177 - val_acc: 0.8660\n",
            "Epoch 35/120\n",
            "313/313 [==============================] - 2s 7ms/step - loss: 0.3067 - acc: 0.8805 - val_loss: 0.2927 - val_acc: 0.8890\n",
            "Epoch 36/120\n",
            "313/313 [==============================] - 2s 8ms/step - loss: 0.2874 - acc: 0.8900 - val_loss: 0.2587 - val_acc: 0.9040\n",
            "Epoch 37/120\n",
            "313/313 [==============================] - 2s 8ms/step - loss: 0.2591 - acc: 0.9006 - val_loss: 0.2276 - val_acc: 0.9230\n",
            "Epoch 38/120\n",
            "313/313 [==============================] - 2s 8ms/step - loss: 0.2404 - acc: 0.9111 - val_loss: 0.2090 - val_acc: 0.9230\n",
            "Epoch 39/120\n",
            "313/313 [==============================] - 2s 8ms/step - loss: 0.2245 - acc: 0.9193 - val_loss: 0.1877 - val_acc: 0.9330\n",
            "Epoch 40/120\n",
            "313/313 [==============================] - 2s 8ms/step - loss: 0.2027 - acc: 0.9275 - val_loss: 0.1933 - val_acc: 0.9380\n",
            "Epoch 41/120\n",
            "313/313 [==============================] - 2s 7ms/step - loss: 0.1905 - acc: 0.9320 - val_loss: 0.1687 - val_acc: 0.9330\n",
            "Epoch 42/120\n",
            "313/313 [==============================] - 2s 8ms/step - loss: 0.1774 - acc: 0.9373 - val_loss: 0.1720 - val_acc: 0.9440\n",
            "Epoch 43/120\n",
            "313/313 [==============================] - 2s 8ms/step - loss: 0.1699 - acc: 0.9425 - val_loss: 0.1623 - val_acc: 0.9400\n",
            "Epoch 44/120\n",
            "313/313 [==============================] - 2s 8ms/step - loss: 0.1628 - acc: 0.9417 - val_loss: 0.1423 - val_acc: 0.9420\n",
            "Epoch 45/120\n",
            "313/313 [==============================] - 2s 8ms/step - loss: 0.1580 - acc: 0.9453 - val_loss: 0.1423 - val_acc: 0.9420\n",
            "Epoch 46/120\n",
            "313/313 [==============================] - 2s 8ms/step - loss: 0.1453 - acc: 0.9481 - val_loss: 0.1299 - val_acc: 0.9500\n",
            "Epoch 47/120\n",
            "313/313 [==============================] - 2s 8ms/step - loss: 0.1426 - acc: 0.9478 - val_loss: 0.1244 - val_acc: 0.9510\n",
            "Epoch 48/120\n",
            "313/313 [==============================] - 2s 8ms/step - loss: 0.1396 - acc: 0.9513 - val_loss: 0.1184 - val_acc: 0.9620\n",
            "Epoch 49/120\n",
            "313/313 [==============================] - 2s 8ms/step - loss: 0.1258 - acc: 0.9556 - val_loss: 0.1211 - val_acc: 0.9530\n",
            "Epoch 50/120\n",
            "313/313 [==============================] - 2s 8ms/step - loss: 0.1241 - acc: 0.9561 - val_loss: 0.1153 - val_acc: 0.9580\n",
            "Epoch 51/120\n",
            "313/313 [==============================] - 2s 8ms/step - loss: 0.1239 - acc: 0.9542 - val_loss: 0.1117 - val_acc: 0.9560\n",
            "Epoch 52/120\n",
            "313/313 [==============================] - 2s 8ms/step - loss: 0.1104 - acc: 0.9586 - val_loss: 0.1019 - val_acc: 0.9660\n",
            "Epoch 53/120\n",
            "313/313 [==============================] - 2s 8ms/step - loss: 0.1041 - acc: 0.9618 - val_loss: 0.1241 - val_acc: 0.9510\n",
            "Epoch 54/120\n",
            "313/313 [==============================] - 2s 8ms/step - loss: 0.1023 - acc: 0.9633 - val_loss: 0.0879 - val_acc: 0.9720\n",
            "Epoch 55/120\n",
            "313/313 [==============================] - 3s 8ms/step - loss: 0.0907 - acc: 0.9687 - val_loss: 0.0850 - val_acc: 0.9660\n",
            "Epoch 56/120\n",
            "313/313 [==============================] - 2s 8ms/step - loss: 0.0912 - acc: 0.9677 - val_loss: 0.0728 - val_acc: 0.9730\n",
            "Epoch 57/120\n",
            "313/313 [==============================] - 2s 8ms/step - loss: 0.0838 - acc: 0.9716 - val_loss: 0.0602 - val_acc: 0.9810\n",
            "Epoch 58/120\n",
            "313/313 [==============================] - 2s 8ms/step - loss: 0.0746 - acc: 0.9736 - val_loss: 0.0614 - val_acc: 0.9790\n",
            "Epoch 59/120\n",
            "313/313 [==============================] - 2s 8ms/step - loss: 0.0680 - acc: 0.9766 - val_loss: 0.0597 - val_acc: 0.9790\n",
            "Epoch 60/120\n",
            "313/313 [==============================] - 2s 8ms/step - loss: 0.0658 - acc: 0.9772 - val_loss: 0.0454 - val_acc: 0.9810\n",
            "Epoch 61/120\n",
            "313/313 [==============================] - 2s 8ms/step - loss: 0.0610 - acc: 0.9776 - val_loss: 0.0404 - val_acc: 0.9870\n",
            "Epoch 62/120\n",
            "313/313 [==============================] - 2s 8ms/step - loss: 0.0555 - acc: 0.9816 - val_loss: 0.0357 - val_acc: 0.9920\n",
            "Epoch 63/120\n",
            "313/313 [==============================] - 2s 8ms/step - loss: 0.0533 - acc: 0.9818 - val_loss: 0.0340 - val_acc: 0.9890\n",
            "Epoch 64/120\n",
            "313/313 [==============================] - 2s 8ms/step - loss: 0.0508 - acc: 0.9837 - val_loss: 0.0326 - val_acc: 0.9880\n",
            "Epoch 65/120\n",
            "313/313 [==============================] - 2s 8ms/step - loss: 0.0426 - acc: 0.9851 - val_loss: 0.0243 - val_acc: 0.9950\n",
            "Epoch 66/120\n",
            "313/313 [==============================] - 2s 8ms/step - loss: 0.0406 - acc: 0.9853 - val_loss: 0.0342 - val_acc: 0.9860\n",
            "Epoch 67/120\n",
            "313/313 [==============================] - 2s 8ms/step - loss: 0.0370 - acc: 0.9887 - val_loss: 0.0191 - val_acc: 0.9970\n",
            "Epoch 68/120\n",
            "313/313 [==============================] - 2s 8ms/step - loss: 0.0358 - acc: 0.9889 - val_loss: 0.0188 - val_acc: 0.9940\n",
            "Epoch 69/120\n",
            "313/313 [==============================] - 3s 8ms/step - loss: 0.0320 - acc: 0.9909 - val_loss: 0.0126 - val_acc: 0.9990\n",
            "Epoch 70/120\n",
            "313/313 [==============================] - 2s 8ms/step - loss: 0.0307 - acc: 0.9906 - val_loss: 0.0125 - val_acc: 0.9990\n",
            "Epoch 71/120\n",
            "313/313 [==============================] - 2s 8ms/step - loss: 0.0278 - acc: 0.9915 - val_loss: 0.0190 - val_acc: 0.9920\n",
            "Epoch 72/120\n",
            "313/313 [==============================] - 2s 8ms/step - loss: 0.0254 - acc: 0.9918 - val_loss: 0.0131 - val_acc: 0.9970\n",
            "Epoch 73/120\n",
            "313/313 [==============================] - 2s 8ms/step - loss: 0.0204 - acc: 0.9932 - val_loss: 0.0077 - val_acc: 0.9960\n",
            "Epoch 74/120\n",
            "313/313 [==============================] - 2s 7ms/step - loss: 0.0223 - acc: 0.9936 - val_loss: 0.0076 - val_acc: 0.9990\n",
            "Epoch 75/120\n",
            "313/313 [==============================] - 2s 8ms/step - loss: 0.0234 - acc: 0.9932 - val_loss: 0.0121 - val_acc: 0.9970\n",
            "Epoch 76/120\n",
            "313/313 [==============================] - 2s 8ms/step - loss: 0.0283 - acc: 0.9924 - val_loss: 0.0113 - val_acc: 0.9960\n",
            "Epoch 77/120\n",
            "313/313 [==============================] - 2s 8ms/step - loss: 0.0226 - acc: 0.9941 - val_loss: 0.0057 - val_acc: 0.9980\n",
            "Epoch 78/120\n",
            "313/313 [==============================] - 2s 8ms/step - loss: 0.0173 - acc: 0.9953 - val_loss: 0.0049 - val_acc: 0.9990\n",
            "Epoch 79/120\n",
            "313/313 [==============================] - 2s 7ms/step - loss: 0.0144 - acc: 0.9951 - val_loss: 0.0038 - val_acc: 0.9990\n",
            "Epoch 80/120\n",
            "313/313 [==============================] - 2s 8ms/step - loss: 0.0178 - acc: 0.9947 - val_loss: 0.0063 - val_acc: 0.9980\n",
            "Epoch 81/120\n",
            "313/313 [==============================] - 2s 7ms/step - loss: 0.0223 - acc: 0.9938 - val_loss: 0.0077 - val_acc: 0.9990\n",
            "Epoch 82/120\n",
            "313/313 [==============================] - 2s 8ms/step - loss: 0.0148 - acc: 0.9959 - val_loss: 0.0158 - val_acc: 0.9980\n",
            "Epoch 83/120\n",
            "313/313 [==============================] - 2s 8ms/step - loss: 0.0164 - acc: 0.9962 - val_loss: 0.0029 - val_acc: 0.9990\n",
            "Epoch 84/120\n",
            "313/313 [==============================] - 2s 8ms/step - loss: 0.0200 - acc: 0.9951 - val_loss: 0.0025 - val_acc: 0.9990\n",
            "Epoch 85/120\n",
            "313/313 [==============================] - 2s 7ms/step - loss: 0.0196 - acc: 0.9952 - val_loss: 0.0051 - val_acc: 0.9980\n",
            "Epoch 86/120\n",
            "313/313 [==============================] - 2s 8ms/step - loss: 0.0158 - acc: 0.9960 - val_loss: 0.0041 - val_acc: 0.9990\n",
            "Epoch 87/120\n",
            "313/313 [==============================] - 2s 8ms/step - loss: 0.0110 - acc: 0.9966 - val_loss: 0.0030 - val_acc: 0.9990\n",
            "Epoch 88/120\n",
            "313/313 [==============================] - 2s 8ms/step - loss: 0.0230 - acc: 0.9951 - val_loss: 9.9406e-04 - val_acc: 1.0000\n",
            "Epoch 89/120\n",
            "313/313 [==============================] - 2s 8ms/step - loss: 0.0160 - acc: 0.9946 - val_loss: 0.0041 - val_acc: 0.9980\n",
            "Epoch 90/120\n",
            "313/313 [==============================] - 2s 8ms/step - loss: 0.0163 - acc: 0.9954 - val_loss: 0.0011 - val_acc: 1.0000\n",
            "Epoch 91/120\n",
            "313/313 [==============================] - 2s 7ms/step - loss: 0.0162 - acc: 0.9962 - val_loss: 0.0047 - val_acc: 0.9990\n",
            "Epoch 92/120\n",
            "313/313 [==============================] - 2s 8ms/step - loss: 0.0143 - acc: 0.9964 - val_loss: 0.0020 - val_acc: 0.9990\n",
            "Epoch 93/120\n",
            "313/313 [==============================] - 2s 8ms/step - loss: 0.0175 - acc: 0.9948 - val_loss: 0.0026 - val_acc: 0.9990\n",
            "Epoch 94/120\n",
            "313/313 [==============================] - 2s 8ms/step - loss: 0.0158 - acc: 0.9965 - val_loss: 3.7407e-04 - val_acc: 1.0000\n",
            "Epoch 95/120\n",
            "313/313 [==============================] - 2s 8ms/step - loss: 0.0128 - acc: 0.9967 - val_loss: 0.0014 - val_acc: 1.0000\n",
            "Epoch 96/120\n",
            "313/313 [==============================] - 2s 8ms/step - loss: 0.0133 - acc: 0.9966 - val_loss: 0.0025 - val_acc: 0.9990\n",
            "Epoch 97/120\n",
            "313/313 [==============================] - 2s 8ms/step - loss: 0.0148 - acc: 0.9962 - val_loss: 0.0037 - val_acc: 0.9980\n",
            "Epoch 98/120\n",
            "313/313 [==============================] - 2s 8ms/step - loss: 0.0160 - acc: 0.9957 - val_loss: 0.0015 - val_acc: 0.9990\n",
            "Epoch 99/120\n",
            "313/313 [==============================] - 2s 8ms/step - loss: 0.0139 - acc: 0.9956 - val_loss: 0.0015 - val_acc: 0.9990\n",
            "Epoch 100/120\n",
            "313/313 [==============================] - 2s 8ms/step - loss: 0.0139 - acc: 0.9971 - val_loss: 0.0020 - val_acc: 0.9980\n",
            "Epoch 101/120\n",
            "313/313 [==============================] - 2s 8ms/step - loss: 0.0159 - acc: 0.9964 - val_loss: 2.4793e-04 - val_acc: 1.0000\n",
            "Epoch 102/120\n",
            "313/313 [==============================] - 2s 8ms/step - loss: 0.0087 - acc: 0.9978 - val_loss: 0.0016 - val_acc: 0.9990\n",
            "Epoch 103/120\n",
            "313/313 [==============================] - 2s 8ms/step - loss: 0.0155 - acc: 0.9967 - val_loss: 6.5248e-04 - val_acc: 1.0000\n",
            "Epoch 104/120\n",
            "313/313 [==============================] - 2s 8ms/step - loss: 0.0131 - acc: 0.9963 - val_loss: 6.4210e-04 - val_acc: 1.0000\n",
            "Epoch 105/120\n",
            "313/313 [==============================] - 2s 8ms/step - loss: 0.0119 - acc: 0.9967 - val_loss: 0.0010 - val_acc: 1.0000\n",
            "Epoch 106/120\n",
            "313/313 [==============================] - 2s 8ms/step - loss: 0.0134 - acc: 0.9971 - val_loss: 0.0018 - val_acc: 0.9990\n",
            "Epoch 107/120\n",
            "313/313 [==============================] - 3s 8ms/step - loss: 0.0138 - acc: 0.9971 - val_loss: 2.1926e-04 - val_acc: 1.0000\n",
            "Epoch 108/120\n",
            "313/313 [==============================] - 2s 8ms/step - loss: 0.0095 - acc: 0.9975 - val_loss: 7.8593e-04 - val_acc: 1.0000\n",
            "Epoch 109/120\n",
            "313/313 [==============================] - 2s 8ms/step - loss: 0.0114 - acc: 0.9971 - val_loss: 0.0127 - val_acc: 0.9970\n",
            "Epoch 110/120\n",
            "313/313 [==============================] - 3s 8ms/step - loss: 0.0136 - acc: 0.9960 - val_loss: 1.8800e-04 - val_acc: 1.0000\n",
            "Epoch 111/120\n",
            "313/313 [==============================] - 2s 8ms/step - loss: 0.0090 - acc: 0.9975 - val_loss: 6.9424e-04 - val_acc: 1.0000\n",
            "Epoch 112/120\n",
            "313/313 [==============================] - 2s 8ms/step - loss: 0.0098 - acc: 0.9968 - val_loss: 9.3058e-04 - val_acc: 1.0000\n",
            "Epoch 113/120\n",
            "313/313 [==============================] - 2s 8ms/step - loss: 0.0126 - acc: 0.9968 - val_loss: 6.1358e-04 - val_acc: 1.0000\n",
            "Epoch 114/120\n",
            "313/313 [==============================] - 2s 8ms/step - loss: 0.0097 - acc: 0.9962 - val_loss: 0.0015 - val_acc: 0.9990\n",
            "Epoch 115/120\n",
            "313/313 [==============================] - 2s 8ms/step - loss: 0.0146 - acc: 0.9963 - val_loss: 3.6481e-04 - val_acc: 1.0000\n",
            "Epoch 116/120\n",
            "313/313 [==============================] - 2s 7ms/step - loss: 0.0144 - acc: 0.9971 - val_loss: 2.6663e-04 - val_acc: 1.0000\n",
            "Epoch 117/120\n",
            "313/313 [==============================] - 2s 8ms/step - loss: 0.0102 - acc: 0.9974 - val_loss: 1.3274e-04 - val_acc: 1.0000\n",
            "Epoch 118/120\n",
            "313/313 [==============================] - 2s 8ms/step - loss: 0.0100 - acc: 0.9977 - val_loss: 2.7853e-04 - val_acc: 1.0000\n",
            "Epoch 119/120\n",
            "313/313 [==============================] - 2s 8ms/step - loss: 0.0156 - acc: 0.9964 - val_loss: 1.9395e-04 - val_acc: 1.0000\n",
            "Epoch 120/120\n",
            "313/313 [==============================] - 2s 8ms/step - loss: 0.0158 - acc: 0.9965 - val_loss: 1.8590e-04 - val_acc: 1.0000\n"
          ]
        },
        {
          "output_type": "stream",
          "name": "stderr",
          "text": [
            "/usr/local/lib/python3.7/dist-packages/keras/utils/generic_utils.py:497: CustomMaskWarning: Custom mask layers require a config and must override get_config. When loading, the custom mask layer must be passed to the custom_objects argument.\n",
            "  category=CustomMaskWarning)\n"
          ]
        }
      ]
    },
    {
      "cell_type": "code",
      "metadata": {
        "colab": {
          "base_uri": "https://localhost:8080/"
        },
        "id": "6tYpFJmxRCVb",
        "outputId": "5ce5dd52-37d0-400b-d546-240540a63002"
      },
      "source": [
        "print(\"\\n 테스트 정확도: %.4f\" % (model.evaluate([Xstest, Xqtest], Ytest)[1]))"
      ],
      "execution_count": 107,
      "outputs": [
        {
          "output_type": "stream",
          "name": "stdout",
          "text": [
            "32/32 [==============================] - 0s 2ms/step - loss: 1.8590e-04 - acc: 1.0000\n",
            "\n",
            " 테스트 정확도: 1.0000\n"
          ]
        }
      ]
    },
    {
      "cell_type": "code",
      "metadata": {
        "colab": {
          "base_uri": "https://localhost:8080/",
          "height": 296
        },
        "id": "8ECMWGKPRCVc",
        "outputId": "4e2abb05-734f-46a7-fa20-0b375ec1d76f"
      },
      "source": [
        "# Plot accuracy and loss plot\n",
        "plt.subplot(211)\n",
        "plt.title(\"Accuracy\")\n",
        "plt.plot(history.history[\"acc\"], color=\"g\", label=\"train\")\n",
        "plt.plot(history.history[\"val_acc\"], color=\"b\", label=\"validation\")\n",
        "plt.legend(loc=\"best\")\n",
        "\n",
        "plt.subplot(212)\n",
        "plt.title(\"Loss\")\n",
        "plt.plot(history.history[\"loss\"], color=\"g\", label=\"train\")\n",
        "plt.plot(history.history[\"val_loss\"], color=\"b\", label=\"validation\")\n",
        "plt.legend(loc=\"best\")\n",
        "\n",
        "plt.tight_layout()\n",
        "plt.show()\n",
        "\n",
        "# labels\n",
        "ytest = np.argmax(Ytest, axis=1)\n",
        "\n",
        "# get predictions\n",
        "Ytest_ = model.predict([Xstest, Xqtest])\n",
        "ytest_ = np.argmax(Ytest_, axis=1)"
      ],
      "execution_count": 108,
      "outputs": [
        {
          "output_type": "display_data",
          "data": {
            "image/png": "[encoded data removed]",
            "text/plain": [
              "<Figure size 432x288 with 2 Axes>"
            ]
          },
          "metadata": {
            "needs_background": "light"
          }
        }
      ]
    },
    {
      "cell_type": "code",
      "metadata": {
        "colab": {
          "base_uri": "https://localhost:8080/"
        },
        "id": "j1Vdv6cAQ2k6",
        "outputId": "4b226dd3-f064-4be4-f694-f5737442b842"
      },
      "source": [
        "NUM_DISPLAY = 30\n",
        "\n",
        "print(\"{:18}|{:5}|{}\".format(\"질문\", \"실제값\", \"예측값\"))\n",
        "print(39 * \"-\")\n",
        "\n",
        "for i in range(NUM_DISPLAY):\n",
        "    question = \" \".join([idx2word[x] for x in Xqtest[i].tolist()])\n",
        "    label = idx2word[ytest[i]]\n",
        "    prediction = idx2word[ytest_[i]]\n",
        "    print(\"{:20}: {:7} {}\".format(question, label, prediction))"
      ],
      "execution_count": 109,
      "outputs": [
        {
          "output_type": "stream",
          "name": "stdout",
          "text": [
            "질문                |실제값  |예측값\n",
            "---------------------------------------\n",
            "은경이는 어디야 ?          : 복도      복도\n",
            "필웅이는 어디야 ?          : 화장실     화장실\n",
            "경임이는 어디야 ?          : 부엌      부엌\n",
            "경임이는 어디야 ?          : 복도      복도\n",
            "경임이는 어디야 ?          : 부엌      부엌\n",
            "경임이는 어디야 ?          : 복도      복도\n",
            "경임이는 어디야 ?          : 정원      정원\n",
            "수종이는 어디야 ?          : 복도      복도\n",
            "경임이는 어디야 ?          : 사무실     사무실\n",
            "수종이는 어디야 ?          : 사무실     사무실\n",
            "필웅이는 어디야 ?          : 부엌      부엌\n",
            "필웅이는 어디야 ?          : 정원      정원\n",
            "수종이는 어디야 ?          : 사무실     사무실\n",
            "필웅이는 어디야 ?          : 침실      침실\n",
            "필웅이는 어디야 ?          : 침실      침실\n",
            "은경이는 어디야 ?          : 부엌      부엌\n",
            "은경이는 어디야 ?          : 정원      정원\n",
            "은경이는 어디야 ?          : 부엌      부엌\n",
            "수종이는 어디야 ?          : 사무실     사무실\n",
            "은경이는 어디야 ?          : 부엌      부엌\n",
            "필웅이는 어디야 ?          : 복도      복도\n",
            "은경이는 어디야 ?          : 사무실     사무실\n",
            "은경이는 어디야 ?          : 사무실     사무실\n",
            "경임이는 어디야 ?          : 복도      복도\n",
            "수종이는 어디야 ?          : 침실      침실\n",
            "경임이는 어디야 ?          : 침실      침실\n",
            "필웅이는 어디야 ?          : 침실      침실\n",
            "수종이는 어디야 ?          : 부엌      부엌\n",
            "수종이는 어디야 ?          : 부엌      부엌\n",
            "수종이는 어디야 ?          : 부엌      부엌\n"
          ]
        }
      ]
    }
  ]
}