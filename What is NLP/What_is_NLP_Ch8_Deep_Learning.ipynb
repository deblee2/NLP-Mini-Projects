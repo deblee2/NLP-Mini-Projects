{
  "nbformat": 4,
  "nbformat_minor": 0,
  "metadata": {
    "colab": {
      "name": "What_is_NLP_Ch8_Deep_Learning.ipynb",
      "provenance": [],
      "collapsed_sections": []
    },
    "kernelspec": {
      "name": "python3",
      "display_name": "Python 3"
    },
    "language_info": {
      "name": "python"
    }
  },
  "cells": [
    {
      "cell_type": "markdown",
      "metadata": {
        "id": "Qdemm4BqUqTx"
      },
      "source": [
        "## 8) 딥러닝\n",
        "### 1) 퍼셉트론\n",
        "* 단층 퍼셉트론은 AND, NAND, OR 게이트 구현 가능하지만 XOR 게이트는 불가능\n",
        "  * XOR 게이트는 직선이 아닌 비선형 영역으로 분리하면 구현 가능해짐\n",
        "* **다층 퍼셉트론MultiLayer Perceptron, MLP**\n",
        "  * 단층과의 차이: 중간에 은닉층이 존재함\n",
        "* **심층 신경망Deep Neural Network, DNN**: 은닉층 2개 이상\n",
        "* 학습Training: 기계가 가중치를 스스로 찾아내도록 자동화해야 됨\n",
        "  * 손실 함수Loss function과 옵티마이저 사용\n",
        "  * 학습 시키는 인공 신경망이 심층 신경망일 경우에는 딥러닝Deep Learning이라고 함"
      ]
    },
    {
      "cell_type": "markdown",
      "metadata": {
        "id": "NHfcqkBxCMdW"
      },
      "source": [
        "### 2) 인공 신경망 훑어보기\n",
        "#### 1. Feed-Forward Neural Network, FFNN\n",
        "#### 2. 전결합층 Fully-connected layer, FC, Dense layer\n",
        "* FC: 어떤 층의 모든 뉴런이 이전 층의 모든 뉴런과 연결되어 있는 층. 다층 퍼셉트론의 모든 은닉층과 출력층은 FC\n",
        "* 동일한 의미로 밀집층Dense layer이라고 부르기도 함. 케라스에서는 Dense()\n",
        "\n",
        "#### 3. Activation Function\n",
        "* 은닉층과 출력층의 뉴런에서 출력값을 결정하는 함수\n",
        "  1. Nonlinear function이어야 함\n",
        "    * 선형 함수로는 은닉층을 여러 번 추가하더라도 1회 추가한 것과 차이를 줄 수 없음\n",
        "  2. 계단함수\n",
        "  3. 시그모이드 함수와 기울기 소실\n",
        "    * 입력에 대해 forward propagation 연산을 하고, 순전파 연산을 통해 나온 예측값과 실제값의 오차를 loss function을 통해 계산\n",
        "    * 이 손실loss를 미분을 통해서 gradient를 구하고, 이를 통해 back propagation을 수행함  \n",
        "\n",
        "    * 시그모이드의 문제! **기울기 소실 문제 Vanishing gradient problem** 발생\n",
        "      * 깊은 인공 신경망 학습 시, 역전파 과정에서 입력층으로 갈수록 Gradient가 점차 작아짐\n",
        "      * 입력층에 가까운 층들에서 가중치 업데이트가 제대로 되지 않으면 결국 최적의 모델을 찾을 수 없음\n",
        "  4. Hyperbolic tangent function\n",
        "    * tanh는 입력값을 -1과 0 사이\n",
        "    * -1과 1에 가까운 출력값을 출력할 때, 시그모이드 함수와 같은 문제 발생. 그러나 tanh는 시그모이드와 달리 0을 중심으로 함. 그래서 시그모이드보다는 Vanishing gradient problem이 적은 편\n",
        "  5. ReLU\n",
        "    * 수식: f(x) = max(0, x)\n",
        "    * 음수 입력하면 0, 양수 입력하면 입력값을 그대로 반환\n",
        "    * 특정 양수값에 수렴하지 않아 깊은 신경망에서 시그모이드보다 훨씬 더 작동하고, 단순 임계값이라 연산속도도 빠름\n",
        "    * 하지만 dying ReLU 발생 가능.. 입력값이 음수면 기울기도 0이 됨\n",
        "  6. Leaky ReLU\n",
        "    * 입력값이 음수일 경우에 0이 아니라 0.0001과 같은 매우 작은 수 반환\n",
        "    * 수식: f(x) = max(ax, x)   a는 일반적으로 0.001\n",
        "  7. Softmax function\n",
        "    * 분류 문제를 로지스틱 회귀나 소프트맥스 회귀를 출력층에 적용하여 사용\n",
        "    * 소프트맥스 함수는 시그모이드 함수처럼 *출력층의 뉴런*에서 사용\n",
        "      * 시그모이드는 Binary classification, 소프트맥스는 MultiClass classification  \n",
        "\n",
        "#### 4. 행렬의 곱셈을 이용한 Forward propagation  \n"
      ]
    },
    {
      "cell_type": "markdown",
      "metadata": {
        "id": "2-uw5Cy8EVXO"
      },
      "source": [
        "### 3) 딥러닝의 학습 방법\n",
        "#### 1. Forward Propagation\n",
        "#### 2. 손실함수\n",
        "* 실제값과 예측값 차이를 수치화해주는 함수\n",
        "* 회귀에서는 MSE(오차 제곱 평균, 연속형 변수에 사용)\n",
        "* 분류에서는 Cross-Entropy(keras의 model.compile()에서 binary_crossentropy, categorical_crossentropy)\n",
        "* **손실 함수의 값을 최소화하는 두 개의 매개변수인 W와 b를 찾아가는 것이 딥러닝의 핵심 과정이므로 손실 함수의 선정은 매우 중요**\n",
        "\n",
        "#### 3. Optimizer\n",
        "* 손실 함수의 값을 줄여나가면서 학습하는 방법은 어떤 옵티마이저를 사용하느냐에 따라 달라짐\n",
        "* **Batch**: 가중치 등의 매개 변수의 값을 조정하기 위해 사용하는 데이터의 양\n",
        "  1. **배치 경사 하강법 Batch Gradient Descent**\n",
        "    * 기본적인 경사 하강법\n",
        "    * 옵티마이저 중 하나로 오차loss를 구할 때 전체 데이터를 고려\n",
        "    * 머신러닝에서는 1번의 훈련 횟수를 1에포크라고 하는데, 배치 경사 하강법은 한 번의 에포크에 모든 매개변수 업데이트를 단 한 번 수행\n",
        "    * :( 에포크당 시간 오래 걸리고 메모리 크게 요구\n",
        "    * :) 글로벌 미니멈을 찾을 수 있음\n",
        "  2. **확률적 경사 하강법 Stochastic Gradient Descent, SGD**\n",
        "    * 매개변수 값을 조정 시 전체 데이터가 아니라 랜덤으로 선택한 하나의 데이터에 대해서만 계산하는 방법\n",
        "    * :( 매개변수의 변경폭이 불안정하고, 정확도가 낮을 수 있음\n",
        "    * :) 더 적은 데이터를 사용하므로 더 빠르게 계산 가능\n",
        "  3. **미니 배치 경사 하강법 Mini-Batch Gradient Descent**\n",
        "    * 정해진 양에 대해서만 계산하여 매개 변수의 값을 조정\n",
        "    * 전체 데이터 계산보다 빠르고, SGD보다 안정적\n",
        "  4. **모멘텀 Momentum**\n",
        "    * 관성을 응용한 방법\n",
        "    * 경사 하강법Gradient Descent에서 계산된 접선의 기울기에 한 시점 전의 접선의 기울기 값을 일정한 비율만큼 반영\n",
        "      * 언덕에서 공이 내려올 때, 중간에 작은 웅덩이에 빠지더라도 관섬의 힘으로 넘어서는 효과 가능\n",
        "    * **로컬 미니멈에 도달 시, 기존의 경사 하강법은 글로벌 미니멈으로 잘못 인식하여 계산 끝내지만 모멘텀은 값이 조절되어 로컬 미니멈에서 탈출 가능**\n",
        "      > keras.optimizers.SGD(lr = 0.01, momentum= 0.9)\n",
        "  5. **아다그라드 Adagrad**\n",
        "    * 각 매개변수에 서로 다른 학습률을 적용\n",
        "    * 변화가 많은 매개변수는 학습률이 작게 설정되고, 변화가 적은 매개변수는 학습률을 높게 설정\n",
        "      > keras.optimizers.Adagrad(lr=0.01, epsilon=1e-6)\n",
        "  6. **알엠에스프롭 RMSprop**\n",
        "    * 아다그라드는 나중에 학습률이 지나치게 떨어진다는 단점이 있는데 이를 다른 수식으로 대체하여 개선\n",
        "  7. **아담 Adam**\n",
        "    * RMSprop + Momentum\n",
        "    * 방향과 학습률을 다 잡기 위함\n",
        "    > keras.optimizers.Adam(lr=0.001, beta_1=0.9, beta_2=0.999, epsilon=None, decay=0.0, amsgrad=False)\n",
        "\n",
        "#### 4. 역전파 BackPropagation\n",
        "#### 5. 에포크와 배치 크기와 이터레이션 Epochs and Batch size and Iteration\n",
        "* 기계는 실제값과 예측값의 오차로부터 옵티마이저를 통해서 가중치를 업데이트함(이는 곧 학습)\n",
        "1. 에포크 Epoch\n",
        "  * 인공 신경망에서 전체 데이터에 대해서 순전파와 역전파가 끝난 상태\n",
        "  * ex) 모든 문제를 끝까지 다 풀고, 채점하여 문제지에 대한 공부를 한 번 끝낸 상태. Epoch=50이면 문제지 50번 푼 것\n",
        "  * 과적합, 과소적합 발생 가능\n",
        "2. 배치 크기 Batch size\n",
        "  * **몇 개의 데이터 단위로 매개변수를 업데이트 하는지**\n",
        "  * ex) 몇 개씩 문제를 풀고나서 정답지를 확인하는가\n",
        "  * 배치 크기 != 배치 수\n",
        "    * 전체 데이터가 2,000일 때 배치 크기를 200으로 주면 배치의 수(iteration)는 10\n",
        "3. 이터레이션 Iteration\n",
        "  * 한 번의 에포크를 끝내기 위해서 필요한 배치의 수"
      ]
    },
    {
      "cell_type": "markdown",
      "metadata": {
        "id": "bn2e2Jr-HyWp"
      },
      "source": [
        "### 4) 과적합 Overfitting\n",
        "1. Data Augmentation\n",
        "2. 모델의 복잡도 줄이기\n",
        "3. 가중치 규제 Regularization 적용하기\n",
        "* 복잡한 모델이 간단한 모델(적은 수의 매개변수 가진 모델)보다 과적합될 가능성이 높음\n",
        "* 간단하게 하는 방법으로 Regularization이 있음\n",
        "  1. L1 규제: 가중치들의 절대값 합계를 비용 함수에 추가. L1 Norm\n",
        "  2. L2 규제: 모든 가중치들의 제곱합을 비용 함수에 추가. L2 Norm. 가중치 감소 weight decay라고도 부름\n",
        "    * 모두 비용 함수를 최소화하기 위해서는 가중치들의 값이 작아져야 한다는 특징이 있음\n",
        "    * L1 규제는 어떤 특성들이 모델에 영향을 주고 있는지를 정확히 판단하고자 할 때 유용. 이런 판단이 필요 없다면 L2 규제 사용하기.\n",
        "4. Dropout\n",
        "* 학습 과정에서 신경망의 일부를 사용하지 않음\n",
        "* ** 학습 시에만 사용하고, 예측 시에는 사용하지 않는 것이 일반적**\n",
        "* 학습 시 인공 신경망이 특정 뉴런/조합에 너무 의존적이게 되는 것을 방지\n",
        "* 매번 랜덤 선택으로 뉴런들을 사용하지 않으므로 서로 다른 신경망들을 앙상블하여 사용하는 것 같은 효과를 냄"
      ]
    },
    {
      "cell_type": "markdown",
      "metadata": {
        "id": "HdntnlptKQCS"
      },
      "source": [
        "### 5) 기울기 소실 Gradient Vanishing과 폭주 Exploding\n",
        "* Gradient Vanishing: 역전파 과정에서 입력층으로 갈 수록 Gradient가 점차적으로 작아지는 현상. 입력층에서 가까운 층들에서 가중치들의 업데이터가 제대로 되지 않으면 결국 최적의 모델을 찾을 수 없음\n",
        "* Gradient Exploding: 기울기가 점차 커지더니 가중치들이 비정상적으로 큰 값이 되면서 결국 발산\n",
        "  * RNN에서 발생 가능\n",
        "\n",
        "#### 기울기 소실/폭주 막는 방법\n",
        "1. ReLU와 ReLU의 변형들\n",
        "  * **은닉층의 활성화 함수**로 ReLU나 Leaky ReLU를 사용하는 것\n",
        "2. Gradient Clipping\n",
        "  * 말 그대로 기울기 값을 자르는 것\n",
        "  * 임계치만큼 크기를 감소시키기. RNN에서 유용함.\n",
        "3. Weight initialization\n",
        "  1. 세이비어 초기화 Xavier initialization\n",
        "  2. He 초기화 He initialization\n",
        "  * Sigmoid/tanh + Xavier 초기화, ReLU + He 초기화\n",
        "4. 배치 정규화 Batch normalization\n",
        "  1. 내부 공변량 변화 Internal covariate shift\n",
        "    * 정의: 학습 과정에서 층 별로 입력 데이터 분포가 달라지는 현상\n",
        "    * 배치 정규화를 제안한 논문 왈, 기울기 소실/폭주 등 딥러닝 모델의 불안전성이 층마다 입력의 분포가 달라지기 때문이라고 주장\n",
        "\n",
        "    * 공변량 변화: 훈련 데이터의 분포와 테스트 데이터의 분포가 다른 경우\n",
        "    * 내부 공변량 변화: 신경망 층 사이에서 발생하는 입력 데이터의 분포 변화\n",
        "  2. 배치 정규화 Batch normalization\n",
        "    * 한 번의 들어오는 배치 단위로 정규화\n",
        "    * **각 층에서 활성화 함수를 통화하기 전에 수행**\n",
        "    * 요약: 입력에 대해 평균을 0으로 만들고, 정규화를 함. 그리고 정규화된 데이터에 대해서 스케일과 시프트를 수행.\n",
        "      * 2개의 매개변수는 스케일과 시프트에 사용\n",
        "    * 배치 단위의 평균과 분산들을 차례대로 받아 이동 평균과 이동 분산을 *저장*해놓았다가, *테스트* 할 때는 해당 배치의 평균과 분산을 구하지 않고 *구해놓았던 평균과 분산으로 정규화* 가능\n",
        "\n",
        "  3. 배치 정규화의 한계\n",
        "    1. 미니 배치 크기에 의존적\n",
        "    2. RNN에 적용하기 어려움\n",
        "5. 층 정규화 Layer Normalization\n",
        "  * 미니 배치는 동일한 특성응ㄹ 가진 다수의 샘플들, 미니 배치는 행으로..\n"
      ]
    },
    {
      "cell_type": "markdown",
      "metadata": {
        "id": "g2TnE_RENra_"
      },
      "source": [
        "### 6) 케라스\n",
        "* 파이썬 라이브러리 for easy deep learning\n",
        "* 유저가 손쉽게 딥러닝 구현할 수 있는 사위 레벨의 인터베이스\n",
        "#### 1. 전처리 Preprocessing\n",
        "* Tokenizer(): 토큰화와 정수 인코딩(단어에 대한 인덱싱)을 위해 사용됨"
      ]
    },
    {
      "cell_type": "code",
      "metadata": {
        "id": "rmY5RRBPOHFB"
      },
      "source": [
        "import tensorflow"
      ],
      "execution_count": 2,
      "outputs": []
    },
    {
      "cell_type": "code",
      "metadata": {
        "id": "4WnsLIRRNpTh"
      },
      "source": [
        "from tensorflow.keras.preprocessing.text import Tokenizer\n",
        "from tensorflow.keras.preprocessing.sequence import pad_sequences"
      ],
      "execution_count": 3,
      "outputs": []
    },
    {
      "cell_type": "code",
      "metadata": {
        "colab": {
          "base_uri": "https://localhost:8080/"
        },
        "id": "ot6HY0x0OEwZ",
        "outputId": "caa2de5e-c6f0-497e-bd04-df36b1da15b7"
      },
      "source": [
        "tokenizer = Tokenizer()\n",
        "fit_text = \"The earth is an awesome place live\"\n",
        "tokenizer.fit_on_texts([fit_text])\n",
        "\n",
        "test_text = \"The earth is an great place live\"\n",
        "sequences = tokenizer.texts_to_sequences([test_text])[0]\n",
        "\n",
        "print(\"정수 인코딩 : \",sequences)\n",
        "print(\"단어 집합 : \",tokenizer.word_index)"
      ],
      "execution_count": 4,
      "outputs": [
        {
          "output_type": "stream",
          "name": "stdout",
          "text": [
            "정수 인코딩 :  [1, 2, 3, 4, 6, 7]\n",
            "단어 집합 :  {'the': 1, 'earth': 2, 'is': 3, 'an': 4, 'awesome': 5, 'place': 6, 'live': 7}\n"
          ]
        }
      ]
    },
    {
      "cell_type": "markdown",
      "metadata": {
        "id": "e05dXNy3BS_O"
      },
      "source": [
        "* 케라스에서는 패딩을 위해 pad_sequence()를 사용. 패딩은 샘플의 길이를 동일하게 맞추는 작업."
      ]
    },
    {
      "cell_type": "code",
      "metadata": {
        "id": "11472fitOKAZ",
        "colab": {
          "base_uri": "https://localhost:8080/"
        },
        "outputId": "ee9a9164-784d-4194-c235-9dd70377328d"
      },
      "source": [
        "# 첫번째 인자: 패딩을 진행할 데이터, maxlen: 정규화 길이, padding: pre는 앞에 0, post는 뒤에 0\n",
        "pad_sequences([[1, 2, 3], [3, 4, 5, 6], [7, 8]], maxlen=3, padding='pre')"
      ],
      "execution_count": 5,
      "outputs": [
        {
          "output_type": "execute_result",
          "data": {
            "text/plain": [
              "array([[1, 2, 3],\n",
              "       [4, 5, 6],\n",
              "       [0, 7, 8]], dtype=int32)"
            ]
          },
          "metadata": {},
          "execution_count": 5
        }
      ]
    },
    {
      "cell_type": "markdown",
      "metadata": {
        "id": "64XPezcgBsc6"
      },
      "source": [
        "### 2. Word Embedding\n",
        "* 정의: 텍스트 내의 단어들을 밀집 벡터 Dense vector로 만드는 것\n",
        "* 원-핫 벡터는 희소 벡터\n",
        "  * 희소 벡터의 장점: 단어의 수만큼 벡터의 차원을 가지며 단어 간 유사도가 모두 동일\n",
        "* 밀집 벡터는 대부분의 값이 실수, 상대적으로 저차원인 밀집 벡터 Dense vector  \n",
        "\n",
        "\n",
        "* 원-핫 인코딩: 단어를 원-핫 벡터로. 차원이 주로 20,000 이상 넘어감.\n",
        "* Word embedding: 단어를 밀집 벡터로. embedding vector. 256, 512, 1024 등의 차원을 가짐.  \n",
        "\n",
        "* Embedding(): 단어를 밀집 벡터로 만드는 역할.\n",
        "  * (단어 목록의 크기, 인풋 시퀀스 길이)인 2D 정수 텐서를 입력받음\n",
        "  * 각 sample은 정수 인코딩이 된 결과로, 정수의 시퀀스\n",
        "  * (단어 목록의 크기, 인풋 시퀀스 길이, 임베딩 차원) 3D 텐서 리턴\n",
        "\n",
        "  > Embedding(vocab_size, embedding_dim, input_length=5)\n",
        "\n",
        "\n",
        "### 3. 모델링 Modeling\n",
        "* Sequential(): 이를 model로 선헌한 뒤 model.add() 코드로 층을 단계적으로 추가\n",
        "  > from tensorflow.keras.models import Sequential\n",
        "  \n",
        "  > from tensorflow.keras.layers import Dense\n",
        "\n",
        "  > model = Sequential()\n",
        "  \n",
        "  > model.add(Embedding(vocabulary, output_dim, input_length))\n",
        "* Dense(): 전결합층 Fully-connected layer을 추가\n",
        "  > model = Sequential()\n",
        "  > 출력 뉴런의 수, 입력 뉴런의 수, 활성화 함수\n",
        "  \n",
        "  > model.add(Dense(1, input_dim=3, activation='relu'))\n",
        "  > model.add(Dense(1, activation='sigmoid'))\n",
        "\n",
        "\n",
        "### 4. Compile and 훈련 Training\n",
        "* compile() : 모델을 기계가 이해할 수 있도록 컴파일. 오차 함수와 최적화 방법, 메트릭 함수를 선택 가능."
      ]
    },
    {
      "cell_type": "code",
      "metadata": {
        "id": "kl5YgW5tBeH-"
      },
      "source": [
        "from tensorflow.keras.layers import SimpleRNN, Embedding, Dense\n",
        "from tensorflow.keras.models import Sequential\n",
        "\n",
        "vocab_size = 10000\n",
        "embedding_dim = 32\n",
        "hidden_units = 32\n",
        "\n",
        "model = Sequential()\n",
        "model.add(Embedding(vocab_size, embedding_dim))\n",
        "model.add(SimpleRNN(hidden_units))\n",
        "model.add(Dense(1, activation='sigmoid'))\n",
        "# optimizer 예시: adam, sgd\n",
        "model.compile(optimizer='rmsprop', loss='binary_crossentropy', metrics=['acc'])"
      ],
      "execution_count": 6,
      "outputs": []
    },
    {
      "cell_type": "markdown",
      "metadata": {
        "id": "no9DzN2iIIJe"
      },
      "source": [
        "* fit(): 모델 학습. 모델이 오차로부터 매개변수를 업데이트 시키는 과정. "
      ]
    },
    {
      "cell_type": "code",
      "metadata": {
        "id": "ACEdXdGkIGF3"
      },
      "source": [
        "# (훈련 데이터, 지도학습에서 레이블 데이터, 총 훈련 횟수, 배치 크기)\n",
        "model.fit(X_train, y_train, epochs=10, batch_size=32)\n",
        "\n",
        "# 검증 데이터(validation data)를 사용. 검증 데이터의 loss가 낮아지다가 높아지기 시작하면 이는 과적합(overfitting)의 신호.\n",
        "model.fit(X_train, y_train, epochs=10, batch_size=32, verbose=0, validation_data(X_val, y_val))\n",
        "\n",
        "# 훈련 데이터의 20%를 검증 데이터로 사용\n",
        "model.fit(X_train, y_train, epochs=10, batch_size=32, verbose=0, validation_split=0.2))"
      ],
      "execution_count": null,
      "outputs": []
    },
    {
      "cell_type": "markdown",
      "metadata": {
        "id": "iX4m4clQJCgF"
      },
      "source": [
        "### 5. Evaluation과 Prediction\n",
        "* evaluate(): 테스트 데이터를 통해 학습한 모델에 대한 정확도 평가"
      ]
    },
    {
      "cell_type": "code",
      "metadata": {
        "id": "NqqSotCLJhsX"
      },
      "source": [
        "model.evaluate(X_test, y_test, batch_size=32)"
      ],
      "execution_count": null,
      "outputs": []
    },
    {
      "cell_type": "markdown",
      "metadata": {
        "id": "mvyluiXfJkLY"
      },
      "source": [
        "* predict(): 임의의 입력에 대한 모델의 출력값 확인"
      ]
    },
    {
      "cell_type": "code",
      "metadata": {
        "id": "j-iRfTRbJo5r"
      },
      "source": [
        "# (예측하고자 하는 데이터, 배치 크기)\n",
        "model.predict(X_input, batch_size=32)"
      ],
      "execution_count": null,
      "outputs": []
    },
    {
      "cell_type": "markdown",
      "metadata": {
        "id": "GGRwLOVdJ5m7"
      },
      "source": [
        "### 6. 모델의 Save와 Load"
      ]
    },
    {
      "cell_type": "code",
      "metadata": {
        "id": "hgH69SXlKO3S"
      },
      "source": [
        "# save() : 인공 신경망 모델을 hdf5 파일에 저장\n",
        "model.save(\"model_name.h5\")\n",
        "\n",
        "# load_model() : 저장해둔 모델을 불러옴\n",
        "from tensorflow.keras.models import load_model\n",
        "\n",
        "model = load_model(\"model_name.h5\")"
      ],
      "execution_count": null,
      "outputs": []
    },
    {
      "cell_type": "markdown",
      "metadata": {
        "id": "pSOKqr58Kd1f"
      },
      "source": [
        "## 07) 케라스의 함수형 API(Keras Functional API)\n",
        "* 각 층을 일종의 함수(function)로서 정의\n",
        "* 입력의 크기(shape)를 명시한 입력층(Input layer)을 모델의 앞단에 정의해주어야 함"
      ]
    },
    {
      "cell_type": "code",
      "metadata": {
        "id": "jAl0gfWlK6oL"
      },
      "source": [
        "from tensorflow.keras.layers import Input, Dense\n",
        "from tensorflow.keras.models import Model\n",
        "\n",
        "inputs = Input(shape=(10,))\n",
        "hidden1 = Dense(64, activation='relu')(inputs)\n",
        "hidden2 = Dense(64, activation='relu')(hidden1)\n",
        "output = Dense(1, activation='sigmoid')(hidden2)\n",
        "model = Model(inputs=inputs, outputs=output) # <- 새로 추가"
      ],
      "execution_count": 7,
      "outputs": []
    },
    {
      "cell_type": "code",
      "metadata": {
        "id": "VE1W9uVhLYdG"
      },
      "source": [
        "model.compile(optimizer='rmsprop', loss='categorical_crossentropy', metrics=['accuracy'])\n",
        "# model.fit(data, labels)"
      ],
      "execution_count": 8,
      "outputs": []
    },
    {
      "cell_type": "markdown",
      "metadata": {
        "id": "_kHiIy_3M0AN"
      },
      "source": [
        "### 2) 선형 회귀(Linear Regression)"
      ]
    },
    {
      "cell_type": "code",
      "metadata": {
        "colab": {
          "base_uri": "https://localhost:8080/"
        },
        "id": "9Ej-eSrsLcD9",
        "outputId": "1f0c2819-eb22-412d-ba52-96df6371c4cd"
      },
      "source": [
        "from tensorflow.keras.layers import Input, Dense\n",
        "from tensorflow.keras import optimizers\n",
        "from tensorflow.keras.models import Model\n",
        "\n",
        "X = [1, 2, 3, 4, 5, 6, 7, 8, 9] # 공부하는 시간\n",
        "y = [11, 22, 33, 44, 53, 66, 77, 87, 95] # 각 공부하는 시간에 맵핑되는 성적\n",
        "\n",
        "inputs = Input(shape=(1,))\n",
        "output = Dense(1, activation='linear')(inputs)\n",
        "linear_model = Model(inputs, output)\n",
        "\n",
        "sgd = optimizers.SGD(lr=0.01)\n",
        "\n",
        "linear_model.compile(optimizer=sgd ,loss='mse',metrics=['mse'])\n",
        "linear_model.fit(X, y, epochs=300)"
      ],
      "execution_count": 9,
      "outputs": [
        {
          "output_type": "stream",
          "name": "stderr",
          "text": [
            "/usr/local/lib/python3.7/dist-packages/keras/optimizer_v2/optimizer_v2.py:356: UserWarning: The `lr` argument is deprecated, use `learning_rate` instead.\n",
            "  \"The `lr` argument is deprecated, use `learning_rate` instead.\")\n"
          ]
        },
        {
          "output_type": "stream",
          "name": "stdout",
          "text": [
            "Epoch 1/300\n",
            "1/1 [==============================] - 0s 453ms/step - loss: 4971.2363 - mse: 4971.2363\n",
            "Epoch 2/300\n",
            "1/1 [==============================] - 0s 4ms/step - loss: 612.8391 - mse: 612.8391\n",
            "Epoch 3/300\n",
            "1/1 [==============================] - 0s 3ms/step - loss: 76.5690 - mse: 76.5690\n",
            "Epoch 4/300\n",
            "1/1 [==============================] - 0s 6ms/step - loss: 10.5831 - mse: 10.5831\n",
            "Epoch 5/300\n",
            "1/1 [==============================] - 0s 7ms/step - loss: 2.4622 - mse: 2.4622\n",
            "Epoch 6/300\n",
            "1/1 [==============================] - 0s 6ms/step - loss: 1.4610 - mse: 1.4610\n",
            "Epoch 7/300\n",
            "1/1 [==============================] - 0s 3ms/step - loss: 1.3360 - mse: 1.3360\n",
            "Epoch 8/300\n",
            "1/1 [==============================] - 0s 4ms/step - loss: 1.3187 - mse: 1.3187\n",
            "Epoch 9/300\n",
            "1/1 [==============================] - 0s 3ms/step - loss: 1.3148 - mse: 1.3148\n",
            "Epoch 10/300\n",
            "1/1 [==============================] - 0s 3ms/step - loss: 1.3125 - mse: 1.3125\n",
            "Epoch 11/300\n",
            "1/1 [==============================] - 0s 8ms/step - loss: 1.3104 - mse: 1.3104\n",
            "Epoch 12/300\n",
            "1/1 [==============================] - 0s 4ms/step - loss: 1.3083 - mse: 1.3083\n",
            "Epoch 13/300\n",
            "1/1 [==============================] - 0s 6ms/step - loss: 1.3063 - mse: 1.3063\n",
            "Epoch 14/300\n",
            "1/1 [==============================] - 0s 3ms/step - loss: 1.3043 - mse: 1.3043\n",
            "Epoch 15/300\n",
            "1/1 [==============================] - 0s 8ms/step - loss: 1.3023 - mse: 1.3023\n",
            "Epoch 16/300\n",
            "1/1 [==============================] - 0s 6ms/step - loss: 1.3003 - mse: 1.3003\n",
            "Epoch 17/300\n",
            "1/1 [==============================] - 0s 6ms/step - loss: 1.2983 - mse: 1.2983\n",
            "Epoch 18/300\n",
            "1/1 [==============================] - 0s 4ms/step - loss: 1.2963 - mse: 1.2963\n",
            "Epoch 19/300\n",
            "1/1 [==============================] - 0s 4ms/step - loss: 1.2944 - mse: 1.2944\n",
            "Epoch 20/300\n",
            "1/1 [==============================] - 0s 4ms/step - loss: 1.2925 - mse: 1.2925\n",
            "Epoch 21/300\n",
            "1/1 [==============================] - 0s 3ms/step - loss: 1.2906 - mse: 1.2906\n",
            "Epoch 22/300\n",
            "1/1 [==============================] - 0s 3ms/step - loss: 1.2887 - mse: 1.2887\n",
            "Epoch 23/300\n",
            "1/1 [==============================] - 0s 4ms/step - loss: 1.2868 - mse: 1.2868\n",
            "Epoch 24/300\n",
            "1/1 [==============================] - 0s 4ms/step - loss: 1.2849 - mse: 1.2849\n",
            "Epoch 25/300\n",
            "1/1 [==============================] - 0s 3ms/step - loss: 1.2831 - mse: 1.2831\n",
            "Epoch 26/300\n",
            "1/1 [==============================] - 0s 4ms/step - loss: 1.2813 - mse: 1.2813\n",
            "Epoch 27/300\n",
            "1/1 [==============================] - 0s 4ms/step - loss: 1.2795 - mse: 1.2795\n",
            "Epoch 28/300\n",
            "1/1 [==============================] - 0s 4ms/step - loss: 1.2777 - mse: 1.2777\n",
            "Epoch 29/300\n",
            "1/1 [==============================] - 0s 6ms/step - loss: 1.2759 - mse: 1.2759\n",
            "Epoch 30/300\n",
            "1/1 [==============================] - 0s 4ms/step - loss: 1.2741 - mse: 1.2741\n",
            "Epoch 31/300\n",
            "1/1 [==============================] - 0s 4ms/step - loss: 1.2723 - mse: 1.2723\n",
            "Epoch 32/300\n",
            "1/1 [==============================] - 0s 6ms/step - loss: 1.2706 - mse: 1.2706\n",
            "Epoch 33/300\n",
            "1/1 [==============================] - 0s 7ms/step - loss: 1.2689 - mse: 1.2689\n",
            "Epoch 34/300\n",
            "1/1 [==============================] - 0s 14ms/step - loss: 1.2672 - mse: 1.2672\n",
            "Epoch 35/300\n",
            "1/1 [==============================] - 0s 4ms/step - loss: 1.2655 - mse: 1.2655\n",
            "Epoch 36/300\n",
            "1/1 [==============================] - 0s 5ms/step - loss: 1.2638 - mse: 1.2638\n",
            "Epoch 37/300\n",
            "1/1 [==============================] - 0s 4ms/step - loss: 1.2621 - mse: 1.2621\n",
            "Epoch 38/300\n",
            "1/1 [==============================] - 0s 4ms/step - loss: 1.2604 - mse: 1.2604\n",
            "Epoch 39/300\n",
            "1/1 [==============================] - 0s 4ms/step - loss: 1.2588 - mse: 1.2588\n",
            "Epoch 40/300\n",
            "1/1 [==============================] - 0s 4ms/step - loss: 1.2572 - mse: 1.2572\n",
            "Epoch 41/300\n",
            "1/1 [==============================] - 0s 4ms/step - loss: 1.2556 - mse: 1.2556\n",
            "Epoch 42/300\n",
            "1/1 [==============================] - 0s 4ms/step - loss: 1.2539 - mse: 1.2539\n",
            "Epoch 43/300\n",
            "1/1 [==============================] - 0s 4ms/step - loss: 1.2524 - mse: 1.2524\n",
            "Epoch 44/300\n",
            "1/1 [==============================] - 0s 3ms/step - loss: 1.2508 - mse: 1.2508\n",
            "Epoch 45/300\n",
            "1/1 [==============================] - 0s 4ms/step - loss: 1.2492 - mse: 1.2492\n",
            "Epoch 46/300\n",
            "1/1 [==============================] - 0s 6ms/step - loss: 1.2477 - mse: 1.2477\n",
            "Epoch 47/300\n",
            "1/1 [==============================] - 0s 3ms/step - loss: 1.2461 - mse: 1.2461\n",
            "Epoch 48/300\n",
            "1/1 [==============================] - 0s 4ms/step - loss: 1.2446 - mse: 1.2446\n",
            "Epoch 49/300\n",
            "1/1 [==============================] - 0s 3ms/step - loss: 1.2431 - mse: 1.2431\n",
            "Epoch 50/300\n",
            "1/1 [==============================] - 0s 11ms/step - loss: 1.2416 - mse: 1.2416\n",
            "Epoch 51/300\n",
            "1/1 [==============================] - 0s 4ms/step - loss: 1.2401 - mse: 1.2401\n",
            "Epoch 52/300\n",
            "1/1 [==============================] - 0s 3ms/step - loss: 1.2386 - mse: 1.2386\n",
            "Epoch 53/300\n",
            "1/1 [==============================] - 0s 7ms/step - loss: 1.2371 - mse: 1.2371\n",
            "Epoch 54/300\n",
            "1/1 [==============================] - 0s 3ms/step - loss: 1.2357 - mse: 1.2357\n",
            "Epoch 55/300\n",
            "1/1 [==============================] - 0s 3ms/step - loss: 1.2343 - mse: 1.2343\n",
            "Epoch 56/300\n",
            "1/1 [==============================] - 0s 3ms/step - loss: 1.2328 - mse: 1.2328\n",
            "Epoch 57/300\n",
            "1/1 [==============================] - 0s 3ms/step - loss: 1.2314 - mse: 1.2314\n",
            "Epoch 58/300\n",
            "1/1 [==============================] - 0s 3ms/step - loss: 1.2300 - mse: 1.2300\n",
            "Epoch 59/300\n",
            "1/1 [==============================] - 0s 3ms/step - loss: 1.2286 - mse: 1.2286\n",
            "Epoch 60/300\n",
            "1/1 [==============================] - 0s 4ms/step - loss: 1.2272 - mse: 1.2272\n",
            "Epoch 61/300\n",
            "1/1 [==============================] - 0s 4ms/step - loss: 1.2259 - mse: 1.2259\n",
            "Epoch 62/300\n",
            "1/1 [==============================] - 0s 11ms/step - loss: 1.2245 - mse: 1.2245\n",
            "Epoch 63/300\n",
            "1/1 [==============================] - 0s 4ms/step - loss: 1.2231 - mse: 1.2231\n",
            "Epoch 64/300\n",
            "1/1 [==============================] - 0s 3ms/step - loss: 1.2218 - mse: 1.2218\n",
            "Epoch 65/300\n",
            "1/1 [==============================] - 0s 7ms/step - loss: 1.2205 - mse: 1.2205\n",
            "Epoch 66/300\n",
            "1/1 [==============================] - 0s 7ms/step - loss: 1.2192 - mse: 1.2192\n",
            "Epoch 67/300\n",
            "1/1 [==============================] - 0s 4ms/step - loss: 1.2178 - mse: 1.2178\n",
            "Epoch 68/300\n",
            "1/1 [==============================] - 0s 4ms/step - loss: 1.2166 - mse: 1.2166\n",
            "Epoch 69/300\n",
            "1/1 [==============================] - 0s 7ms/step - loss: 1.2153 - mse: 1.2153\n",
            "Epoch 70/300\n",
            "1/1 [==============================] - 0s 7ms/step - loss: 1.2140 - mse: 1.2140\n",
            "Epoch 71/300\n",
            "1/1 [==============================] - 0s 5ms/step - loss: 1.2127 - mse: 1.2127\n",
            "Epoch 72/300\n",
            "1/1 [==============================] - 0s 3ms/step - loss: 1.2115 - mse: 1.2115\n",
            "Epoch 73/300\n",
            "1/1 [==============================] - 0s 4ms/step - loss: 1.2102 - mse: 1.2102\n",
            "Epoch 74/300\n",
            "1/1 [==============================] - 0s 4ms/step - loss: 1.2090 - mse: 1.2090\n",
            "Epoch 75/300\n",
            "1/1 [==============================] - 0s 4ms/step - loss: 1.2078 - mse: 1.2078\n",
            "Epoch 76/300\n",
            "1/1 [==============================] - 0s 3ms/step - loss: 1.2066 - mse: 1.2066\n",
            "Epoch 77/300\n",
            "1/1 [==============================] - 0s 3ms/step - loss: 1.2054 - mse: 1.2054\n",
            "Epoch 78/300\n",
            "1/1 [==============================] - 0s 3ms/step - loss: 1.2042 - mse: 1.2042\n",
            "Epoch 79/300\n",
            "1/1 [==============================] - 0s 3ms/step - loss: 1.2030 - mse: 1.2030\n",
            "Epoch 80/300\n",
            "1/1 [==============================] - 0s 3ms/step - loss: 1.2018 - mse: 1.2018\n",
            "Epoch 81/300\n",
            "1/1 [==============================] - 0s 4ms/step - loss: 1.2007 - mse: 1.2007\n",
            "Epoch 82/300\n",
            "1/1 [==============================] - 0s 3ms/step - loss: 1.1995 - mse: 1.1995\n",
            "Epoch 83/300\n",
            "1/1 [==============================] - 0s 3ms/step - loss: 1.1984 - mse: 1.1984\n",
            "Epoch 84/300\n",
            "1/1 [==============================] - 0s 3ms/step - loss: 1.1972 - mse: 1.1972\n",
            "Epoch 85/300\n",
            "1/1 [==============================] - 0s 4ms/step - loss: 1.1961 - mse: 1.1961\n",
            "Epoch 86/300\n",
            "1/1 [==============================] - 0s 4ms/step - loss: 1.1950 - mse: 1.1950\n",
            "Epoch 87/300\n",
            "1/1 [==============================] - 0s 5ms/step - loss: 1.1939 - mse: 1.1939\n",
            "Epoch 88/300\n",
            "1/1 [==============================] - 0s 3ms/step - loss: 1.1928 - mse: 1.1928\n",
            "Epoch 89/300\n",
            "1/1 [==============================] - 0s 5ms/step - loss: 1.1917 - mse: 1.1917\n",
            "Epoch 90/300\n",
            "1/1 [==============================] - 0s 5ms/step - loss: 1.1906 - mse: 1.1906\n",
            "Epoch 91/300\n",
            "1/1 [==============================] - 0s 4ms/step - loss: 1.1895 - mse: 1.1895\n",
            "Epoch 92/300\n",
            "1/1 [==============================] - 0s 3ms/step - loss: 1.1885 - mse: 1.1885\n",
            "Epoch 93/300\n",
            "1/1 [==============================] - 0s 4ms/step - loss: 1.1874 - mse: 1.1874\n",
            "Epoch 94/300\n",
            "1/1 [==============================] - 0s 3ms/step - loss: 1.1864 - mse: 1.1864\n",
            "Epoch 95/300\n",
            "1/1 [==============================] - 0s 4ms/step - loss: 1.1853 - mse: 1.1853\n",
            "Epoch 96/300\n",
            "1/1 [==============================] - 0s 3ms/step - loss: 1.1843 - mse: 1.1843\n",
            "Epoch 97/300\n",
            "1/1 [==============================] - 0s 3ms/step - loss: 1.1833 - mse: 1.1833\n",
            "Epoch 98/300\n",
            "1/1 [==============================] - 0s 3ms/step - loss: 1.1823 - mse: 1.1823\n",
            "Epoch 99/300\n",
            "1/1 [==============================] - 0s 4ms/step - loss: 1.1813 - mse: 1.1813\n",
            "Epoch 100/300\n",
            "1/1 [==============================] - 0s 5ms/step - loss: 1.1803 - mse: 1.1803\n",
            "Epoch 101/300\n",
            "1/1 [==============================] - 0s 5ms/step - loss: 1.1793 - mse: 1.1793\n",
            "Epoch 102/300\n",
            "1/1 [==============================] - 0s 3ms/step - loss: 1.1783 - mse: 1.1783\n",
            "Epoch 103/300\n",
            "1/1 [==============================] - 0s 4ms/step - loss: 1.1773 - mse: 1.1773\n",
            "Epoch 104/300\n",
            "1/1 [==============================] - 0s 3ms/step - loss: 1.1764 - mse: 1.1764\n",
            "Epoch 105/300\n",
            "1/1 [==============================] - 0s 4ms/step - loss: 1.1754 - mse: 1.1754\n",
            "Epoch 106/300\n",
            "1/1 [==============================] - 0s 3ms/step - loss: 1.1745 - mse: 1.1745\n",
            "Epoch 107/300\n",
            "1/1 [==============================] - 0s 4ms/step - loss: 1.1735 - mse: 1.1735\n",
            "Epoch 108/300\n",
            "1/1 [==============================] - 0s 3ms/step - loss: 1.1726 - mse: 1.1726\n",
            "Epoch 109/300\n",
            "1/1 [==============================] - 0s 5ms/step - loss: 1.1717 - mse: 1.1717\n",
            "Epoch 110/300\n",
            "1/1 [==============================] - 0s 5ms/step - loss: 1.1708 - mse: 1.1708\n",
            "Epoch 111/300\n",
            "1/1 [==============================] - 0s 4ms/step - loss: 1.1698 - mse: 1.1698\n",
            "Epoch 112/300\n",
            "1/1 [==============================] - 0s 5ms/step - loss: 1.1690 - mse: 1.1690\n",
            "Epoch 113/300\n",
            "1/1 [==============================] - 0s 4ms/step - loss: 1.1681 - mse: 1.1681\n",
            "Epoch 114/300\n",
            "1/1 [==============================] - 0s 6ms/step - loss: 1.1672 - mse: 1.1672\n",
            "Epoch 115/300\n",
            "1/1 [==============================] - 0s 3ms/step - loss: 1.1663 - mse: 1.1663\n",
            "Epoch 116/300\n",
            "1/1 [==============================] - 0s 4ms/step - loss: 1.1654 - mse: 1.1654\n",
            "Epoch 117/300\n",
            "1/1 [==============================] - 0s 10ms/step - loss: 1.1646 - mse: 1.1646\n",
            "Epoch 118/300\n",
            "1/1 [==============================] - 0s 3ms/step - loss: 1.1637 - mse: 1.1637\n",
            "Epoch 119/300\n",
            "1/1 [==============================] - 0s 4ms/step - loss: 1.1628 - mse: 1.1628\n",
            "Epoch 120/300\n",
            "1/1 [==============================] - 0s 5ms/step - loss: 1.1620 - mse: 1.1620\n",
            "Epoch 121/300\n",
            "1/1 [==============================] - 0s 3ms/step - loss: 1.1612 - mse: 1.1612\n",
            "Epoch 122/300\n",
            "1/1 [==============================] - 0s 3ms/step - loss: 1.1603 - mse: 1.1603\n",
            "Epoch 123/300\n",
            "1/1 [==============================] - 0s 4ms/step - loss: 1.1595 - mse: 1.1595\n",
            "Epoch 124/300\n",
            "1/1 [==============================] - 0s 4ms/step - loss: 1.1587 - mse: 1.1587\n",
            "Epoch 125/300\n",
            "1/1 [==============================] - 0s 3ms/step - loss: 1.1579 - mse: 1.1579\n",
            "Epoch 126/300\n",
            "1/1 [==============================] - 0s 5ms/step - loss: 1.1571 - mse: 1.1571\n",
            "Epoch 127/300\n",
            "1/1 [==============================] - 0s 4ms/step - loss: 1.1563 - mse: 1.1563\n",
            "Epoch 128/300\n",
            "1/1 [==============================] - 0s 3ms/step - loss: 1.1555 - mse: 1.1555\n",
            "Epoch 129/300\n",
            "1/1 [==============================] - 0s 4ms/step - loss: 1.1547 - mse: 1.1547\n",
            "Epoch 130/300\n",
            "1/1 [==============================] - 0s 3ms/step - loss: 1.1539 - mse: 1.1539\n",
            "Epoch 131/300\n",
            "1/1 [==============================] - 0s 5ms/step - loss: 1.1532 - mse: 1.1532\n",
            "Epoch 132/300\n",
            "1/1 [==============================] - 0s 3ms/step - loss: 1.1524 - mse: 1.1524\n",
            "Epoch 133/300\n",
            "1/1 [==============================] - 0s 3ms/step - loss: 1.1516 - mse: 1.1516\n",
            "Epoch 134/300\n",
            "1/1 [==============================] - 0s 4ms/step - loss: 1.1509 - mse: 1.1509\n",
            "Epoch 135/300\n",
            "1/1 [==============================] - 0s 5ms/step - loss: 1.1501 - mse: 1.1501\n",
            "Epoch 136/300\n",
            "1/1 [==============================] - 0s 3ms/step - loss: 1.1494 - mse: 1.1494\n",
            "Epoch 137/300\n",
            "1/1 [==============================] - 0s 4ms/step - loss: 1.1487 - mse: 1.1487\n",
            "Epoch 138/300\n",
            "1/1 [==============================] - 0s 5ms/step - loss: 1.1479 - mse: 1.1479\n",
            "Epoch 139/300\n",
            "1/1 [==============================] - 0s 5ms/step - loss: 1.1472 - mse: 1.1472\n",
            "Epoch 140/300\n",
            "1/1 [==============================] - 0s 3ms/step - loss: 1.1465 - mse: 1.1465\n",
            "Epoch 141/300\n",
            "1/1 [==============================] - 0s 4ms/step - loss: 1.1458 - mse: 1.1458\n",
            "Epoch 142/300\n",
            "1/1 [==============================] - 0s 3ms/step - loss: 1.1451 - mse: 1.1451\n",
            "Epoch 143/300\n",
            "1/1 [==============================] - 0s 4ms/step - loss: 1.1444 - mse: 1.1444\n",
            "Epoch 144/300\n",
            "1/1 [==============================] - 0s 4ms/step - loss: 1.1437 - mse: 1.1437\n",
            "Epoch 145/300\n",
            "1/1 [==============================] - 0s 5ms/step - loss: 1.1430 - mse: 1.1430\n",
            "Epoch 146/300\n",
            "1/1 [==============================] - 0s 3ms/step - loss: 1.1423 - mse: 1.1423\n",
            "Epoch 147/300\n",
            "1/1 [==============================] - 0s 4ms/step - loss: 1.1416 - mse: 1.1416\n",
            "Epoch 148/300\n",
            "1/1 [==============================] - 0s 4ms/step - loss: 1.1410 - mse: 1.1410\n",
            "Epoch 149/300\n",
            "1/1 [==============================] - 0s 6ms/step - loss: 1.1403 - mse: 1.1403\n",
            "Epoch 150/300\n",
            "1/1 [==============================] - 0s 4ms/step - loss: 1.1396 - mse: 1.1396\n",
            "Epoch 151/300\n",
            "1/1 [==============================] - 0s 4ms/step - loss: 1.1390 - mse: 1.1390\n",
            "Epoch 152/300\n",
            "1/1 [==============================] - 0s 4ms/step - loss: 1.1383 - mse: 1.1383\n",
            "Epoch 153/300\n",
            "1/1 [==============================] - 0s 3ms/step - loss: 1.1377 - mse: 1.1377\n",
            "Epoch 154/300\n",
            "1/1 [==============================] - 0s 4ms/step - loss: 1.1371 - mse: 1.1371\n",
            "Epoch 155/300\n",
            "1/1 [==============================] - 0s 3ms/step - loss: 1.1364 - mse: 1.1364\n",
            "Epoch 156/300\n",
            "1/1 [==============================] - 0s 4ms/step - loss: 1.1358 - mse: 1.1358\n",
            "Epoch 157/300\n",
            "1/1 [==============================] - 0s 6ms/step - loss: 1.1352 - mse: 1.1352\n",
            "Epoch 158/300\n",
            "1/1 [==============================] - 0s 3ms/step - loss: 1.1346 - mse: 1.1346\n",
            "Epoch 159/300\n",
            "1/1 [==============================] - 0s 3ms/step - loss: 1.1340 - mse: 1.1340\n",
            "Epoch 160/300\n",
            "1/1 [==============================] - 0s 4ms/step - loss: 1.1333 - mse: 1.1333\n",
            "Epoch 161/300\n",
            "1/1 [==============================] - 0s 4ms/step - loss: 1.1327 - mse: 1.1327\n",
            "Epoch 162/300\n",
            "1/1 [==============================] - 0s 3ms/step - loss: 1.1321 - mse: 1.1321\n",
            "Epoch 163/300\n",
            "1/1 [==============================] - 0s 3ms/step - loss: 1.1316 - mse: 1.1316\n",
            "Epoch 164/300\n",
            "1/1 [==============================] - 0s 9ms/step - loss: 1.1310 - mse: 1.1310\n",
            "Epoch 165/300\n",
            "1/1 [==============================] - 0s 3ms/step - loss: 1.1304 - mse: 1.1304\n",
            "Epoch 166/300\n",
            "1/1 [==============================] - 0s 3ms/step - loss: 1.1298 - mse: 1.1298\n",
            "Epoch 167/300\n",
            "1/1 [==============================] - 0s 4ms/step - loss: 1.1292 - mse: 1.1292\n",
            "Epoch 168/300\n",
            "1/1 [==============================] - 0s 3ms/step - loss: 1.1287 - mse: 1.1287\n",
            "Epoch 169/300\n",
            "1/1 [==============================] - 0s 5ms/step - loss: 1.1281 - mse: 1.1281\n",
            "Epoch 170/300\n",
            "1/1 [==============================] - 0s 3ms/step - loss: 1.1275 - mse: 1.1275\n",
            "Epoch 171/300\n",
            "1/1 [==============================] - 0s 5ms/step - loss: 1.1270 - mse: 1.1270\n",
            "Epoch 172/300\n",
            "1/1 [==============================] - 0s 3ms/step - loss: 1.1264 - mse: 1.1264\n",
            "Epoch 173/300\n",
            "1/1 [==============================] - 0s 3ms/step - loss: 1.1259 - mse: 1.1259\n",
            "Epoch 174/300\n",
            "1/1 [==============================] - 0s 5ms/step - loss: 1.1253 - mse: 1.1253\n",
            "Epoch 175/300\n",
            "1/1 [==============================] - 0s 3ms/step - loss: 1.1248 - mse: 1.1248\n",
            "Epoch 176/300\n",
            "1/1 [==============================] - 0s 4ms/step - loss: 1.1243 - mse: 1.1243\n",
            "Epoch 177/300\n",
            "1/1 [==============================] - 0s 4ms/step - loss: 1.1238 - mse: 1.1238\n",
            "Epoch 178/300\n",
            "1/1 [==============================] - 0s 4ms/step - loss: 1.1232 - mse: 1.1232\n",
            "Epoch 179/300\n",
            "1/1 [==============================] - 0s 3ms/step - loss: 1.1227 - mse: 1.1227\n",
            "Epoch 180/300\n",
            "1/1 [==============================] - 0s 4ms/step - loss: 1.1222 - mse: 1.1222\n",
            "Epoch 181/300\n",
            "1/1 [==============================] - 0s 3ms/step - loss: 1.1217 - mse: 1.1217\n",
            "Epoch 182/300\n",
            "1/1 [==============================] - 0s 3ms/step - loss: 1.1212 - mse: 1.1212\n",
            "Epoch 183/300\n",
            "1/1 [==============================] - 0s 5ms/step - loss: 1.1207 - mse: 1.1207\n",
            "Epoch 184/300\n",
            "1/1 [==============================] - 0s 5ms/step - loss: 1.1202 - mse: 1.1202\n",
            "Epoch 185/300\n",
            "1/1 [==============================] - 0s 4ms/step - loss: 1.1197 - mse: 1.1197\n",
            "Epoch 186/300\n",
            "1/1 [==============================] - 0s 7ms/step - loss: 1.1192 - mse: 1.1192\n",
            "Epoch 187/300\n",
            "1/1 [==============================] - 0s 10ms/step - loss: 1.1187 - mse: 1.1187\n",
            "Epoch 188/300\n",
            "1/1 [==============================] - 0s 4ms/step - loss: 1.1182 - mse: 1.1182\n",
            "Epoch 189/300\n",
            "1/1 [==============================] - 0s 4ms/step - loss: 1.1177 - mse: 1.1177\n",
            "Epoch 190/300\n",
            "1/1 [==============================] - 0s 4ms/step - loss: 1.1173 - mse: 1.1173\n",
            "Epoch 191/300\n",
            "1/1 [==============================] - 0s 7ms/step - loss: 1.1168 - mse: 1.1168\n",
            "Epoch 192/300\n",
            "1/1 [==============================] - 0s 3ms/step - loss: 1.1163 - mse: 1.1163\n",
            "Epoch 193/300\n",
            "1/1 [==============================] - 0s 4ms/step - loss: 1.1159 - mse: 1.1159\n",
            "Epoch 194/300\n",
            "1/1 [==============================] - 0s 3ms/step - loss: 1.1154 - mse: 1.1154\n",
            "Epoch 195/300\n",
            "1/1 [==============================] - 0s 4ms/step - loss: 1.1150 - mse: 1.1150\n",
            "Epoch 196/300\n",
            "1/1 [==============================] - 0s 4ms/step - loss: 1.1145 - mse: 1.1145\n",
            "Epoch 197/300\n",
            "1/1 [==============================] - 0s 3ms/step - loss: 1.1141 - mse: 1.1141\n",
            "Epoch 198/300\n",
            "1/1 [==============================] - 0s 3ms/step - loss: 1.1136 - mse: 1.1136\n",
            "Epoch 199/300\n",
            "1/1 [==============================] - 0s 3ms/step - loss: 1.1132 - mse: 1.1132\n",
            "Epoch 200/300\n",
            "1/1 [==============================] - 0s 4ms/step - loss: 1.1127 - mse: 1.1127\n",
            "Epoch 201/300\n",
            "1/1 [==============================] - 0s 4ms/step - loss: 1.1123 - mse: 1.1123\n",
            "Epoch 202/300\n",
            "1/1 [==============================] - 0s 4ms/step - loss: 1.1119 - mse: 1.1119\n",
            "Epoch 203/300\n",
            "1/1 [==============================] - 0s 4ms/step - loss: 1.1114 - mse: 1.1114\n",
            "Epoch 204/300\n",
            "1/1 [==============================] - 0s 6ms/step - loss: 1.1110 - mse: 1.1110\n",
            "Epoch 205/300\n",
            "1/1 [==============================] - 0s 5ms/step - loss: 1.1106 - mse: 1.1106\n",
            "Epoch 206/300\n",
            "1/1 [==============================] - 0s 3ms/step - loss: 1.1102 - mse: 1.1102\n",
            "Epoch 207/300\n",
            "1/1 [==============================] - 0s 4ms/step - loss: 1.1098 - mse: 1.1098\n",
            "Epoch 208/300\n",
            "1/1 [==============================] - 0s 4ms/step - loss: 1.1094 - mse: 1.1094\n",
            "Epoch 209/300\n",
            "1/1 [==============================] - 0s 3ms/step - loss: 1.1090 - mse: 1.1090\n",
            "Epoch 210/300\n",
            "1/1 [==============================] - 0s 3ms/step - loss: 1.1086 - mse: 1.1086\n",
            "Epoch 211/300\n",
            "1/1 [==============================] - 0s 6ms/step - loss: 1.1082 - mse: 1.1082\n",
            "Epoch 212/300\n",
            "1/1 [==============================] - 0s 4ms/step - loss: 1.1078 - mse: 1.1078\n",
            "Epoch 213/300\n",
            "1/1 [==============================] - 0s 5ms/step - loss: 1.1074 - mse: 1.1074\n",
            "Epoch 214/300\n",
            "1/1 [==============================] - 0s 6ms/step - loss: 1.1070 - mse: 1.1070\n",
            "Epoch 215/300\n",
            "1/1 [==============================] - 0s 3ms/step - loss: 1.1066 - mse: 1.1066\n",
            "Epoch 216/300\n",
            "1/1 [==============================] - 0s 3ms/step - loss: 1.1062 - mse: 1.1062\n",
            "Epoch 217/300\n",
            "1/1 [==============================] - 0s 3ms/step - loss: 1.1058 - mse: 1.1058\n",
            "Epoch 218/300\n",
            "1/1 [==============================] - 0s 3ms/step - loss: 1.1055 - mse: 1.1055\n",
            "Epoch 219/300\n",
            "1/1 [==============================] - 0s 3ms/step - loss: 1.1051 - mse: 1.1051\n",
            "Epoch 220/300\n",
            "1/1 [==============================] - 0s 3ms/step - loss: 1.1047 - mse: 1.1047\n",
            "Epoch 221/300\n",
            "1/1 [==============================] - 0s 4ms/step - loss: 1.1043 - mse: 1.1043\n",
            "Epoch 222/300\n",
            "1/1 [==============================] - 0s 4ms/step - loss: 1.1040 - mse: 1.1040\n",
            "Epoch 223/300\n",
            "1/1 [==============================] - 0s 3ms/step - loss: 1.1036 - mse: 1.1036\n",
            "Epoch 224/300\n",
            "1/1 [==============================] - 0s 3ms/step - loss: 1.1033 - mse: 1.1033\n",
            "Epoch 225/300\n",
            "1/1 [==============================] - 0s 4ms/step - loss: 1.1029 - mse: 1.1029\n",
            "Epoch 226/300\n",
            "1/1 [==============================] - 0s 5ms/step - loss: 1.1025 - mse: 1.1025\n",
            "Epoch 227/300\n",
            "1/1 [==============================] - 0s 8ms/step - loss: 1.1022 - mse: 1.1022\n",
            "Epoch 228/300\n",
            "1/1 [==============================] - 0s 5ms/step - loss: 1.1019 - mse: 1.1019\n",
            "Epoch 229/300\n",
            "1/1 [==============================] - 0s 3ms/step - loss: 1.1015 - mse: 1.1015\n",
            "Epoch 230/300\n",
            "1/1 [==============================] - 0s 5ms/step - loss: 1.1012 - mse: 1.1012\n",
            "Epoch 231/300\n",
            "1/1 [==============================] - 0s 4ms/step - loss: 1.1008 - mse: 1.1008\n",
            "Epoch 232/300\n",
            "1/1 [==============================] - 0s 5ms/step - loss: 1.1005 - mse: 1.1005\n",
            "Epoch 233/300\n",
            "1/1 [==============================] - 0s 4ms/step - loss: 1.1002 - mse: 1.1002\n",
            "Epoch 234/300\n",
            "1/1 [==============================] - 0s 4ms/step - loss: 1.0998 - mse: 1.0998\n",
            "Epoch 235/300\n",
            "1/1 [==============================] - 0s 5ms/step - loss: 1.0995 - mse: 1.0995\n",
            "Epoch 236/300\n",
            "1/1 [==============================] - 0s 5ms/step - loss: 1.0992 - mse: 1.0992\n",
            "Epoch 237/300\n",
            "1/1 [==============================] - 0s 4ms/step - loss: 1.0989 - mse: 1.0989\n",
            "Epoch 238/300\n",
            "1/1 [==============================] - 0s 4ms/step - loss: 1.0985 - mse: 1.0985\n",
            "Epoch 239/300\n",
            "1/1 [==============================] - 0s 4ms/step - loss: 1.0982 - mse: 1.0982\n",
            "Epoch 240/300\n",
            "1/1 [==============================] - 0s 6ms/step - loss: 1.0979 - mse: 1.0979\n",
            "Epoch 241/300\n",
            "1/1 [==============================] - 0s 4ms/step - loss: 1.0976 - mse: 1.0976\n",
            "Epoch 242/300\n",
            "1/1 [==============================] - 0s 6ms/step - loss: 1.0973 - mse: 1.0973\n",
            "Epoch 243/300\n",
            "1/1 [==============================] - 0s 4ms/step - loss: 1.0970 - mse: 1.0970\n",
            "Epoch 244/300\n",
            "1/1 [==============================] - 0s 4ms/step - loss: 1.0967 - mse: 1.0967\n",
            "Epoch 245/300\n",
            "1/1 [==============================] - 0s 4ms/step - loss: 1.0964 - mse: 1.0964\n",
            "Epoch 246/300\n",
            "1/1 [==============================] - 0s 4ms/step - loss: 1.0961 - mse: 1.0961\n",
            "Epoch 247/300\n",
            "1/1 [==============================] - 0s 6ms/step - loss: 1.0958 - mse: 1.0958\n",
            "Epoch 248/300\n",
            "1/1 [==============================] - 0s 4ms/step - loss: 1.0955 - mse: 1.0955\n",
            "Epoch 249/300\n",
            "1/1 [==============================] - 0s 4ms/step - loss: 1.0952 - mse: 1.0952\n",
            "Epoch 250/300\n",
            "1/1 [==============================] - 0s 4ms/step - loss: 1.0949 - mse: 1.0949\n",
            "Epoch 251/300\n",
            "1/1 [==============================] - 0s 6ms/step - loss: 1.0946 - mse: 1.0946\n",
            "Epoch 252/300\n",
            "1/1 [==============================] - 0s 4ms/step - loss: 1.0943 - mse: 1.0943\n",
            "Epoch 253/300\n",
            "1/1 [==============================] - 0s 4ms/step - loss: 1.0940 - mse: 1.0940\n",
            "Epoch 254/300\n",
            "1/1 [==============================] - 0s 3ms/step - loss: 1.0938 - mse: 1.0938\n",
            "Epoch 255/300\n",
            "1/1 [==============================] - 0s 4ms/step - loss: 1.0935 - mse: 1.0935\n",
            "Epoch 256/300\n",
            "1/1 [==============================] - 0s 3ms/step - loss: 1.0932 - mse: 1.0932\n",
            "Epoch 257/300\n",
            "1/1 [==============================] - 0s 3ms/step - loss: 1.0929 - mse: 1.0929\n",
            "Epoch 258/300\n",
            "1/1 [==============================] - 0s 4ms/step - loss: 1.0927 - mse: 1.0927\n",
            "Epoch 259/300\n",
            "1/1 [==============================] - 0s 4ms/step - loss: 1.0924 - mse: 1.0924\n",
            "Epoch 260/300\n",
            "1/1 [==============================] - 0s 3ms/step - loss: 1.0921 - mse: 1.0921\n",
            "Epoch 261/300\n",
            "1/1 [==============================] - 0s 5ms/step - loss: 1.0919 - mse: 1.0919\n",
            "Epoch 262/300\n",
            "1/1 [==============================] - 0s 4ms/step - loss: 1.0916 - mse: 1.0916\n",
            "Epoch 263/300\n",
            "1/1 [==============================] - 0s 5ms/step - loss: 1.0913 - mse: 1.0913\n",
            "Epoch 264/300\n",
            "1/1 [==============================] - 0s 8ms/step - loss: 1.0911 - mse: 1.0911\n",
            "Epoch 265/300\n",
            "1/1 [==============================] - 0s 4ms/step - loss: 1.0908 - mse: 1.0908\n",
            "Epoch 266/300\n",
            "1/1 [==============================] - 0s 4ms/step - loss: 1.0906 - mse: 1.0906\n",
            "Epoch 267/300\n",
            "1/1 [==============================] - 0s 3ms/step - loss: 1.0903 - mse: 1.0903\n",
            "Epoch 268/300\n",
            "1/1 [==============================] - 0s 4ms/step - loss: 1.0901 - mse: 1.0901\n",
            "Epoch 269/300\n",
            "1/1 [==============================] - 0s 4ms/step - loss: 1.0898 - mse: 1.0898\n",
            "Epoch 270/300\n",
            "1/1 [==============================] - 0s 5ms/step - loss: 1.0896 - mse: 1.0896\n",
            "Epoch 271/300\n",
            "1/1 [==============================] - 0s 3ms/step - loss: 1.0893 - mse: 1.0893\n",
            "Epoch 272/300\n",
            "1/1 [==============================] - 0s 4ms/step - loss: 1.0891 - mse: 1.0891\n",
            "Epoch 273/300\n",
            "1/1 [==============================] - 0s 7ms/step - loss: 1.0889 - mse: 1.0889\n",
            "Epoch 274/300\n",
            "1/1 [==============================] - 0s 3ms/step - loss: 1.0886 - mse: 1.0886\n",
            "Epoch 275/300\n",
            "1/1 [==============================] - 0s 6ms/step - loss: 1.0884 - mse: 1.0884\n",
            "Epoch 276/300\n",
            "1/1 [==============================] - 0s 4ms/step - loss: 1.0881 - mse: 1.0881\n",
            "Epoch 277/300\n",
            "1/1 [==============================] - 0s 9ms/step - loss: 1.0879 - mse: 1.0879\n",
            "Epoch 278/300\n",
            "1/1 [==============================] - 0s 10ms/step - loss: 1.0877 - mse: 1.0877\n",
            "Epoch 279/300\n",
            "1/1 [==============================] - 0s 7ms/step - loss: 1.0875 - mse: 1.0875\n",
            "Epoch 280/300\n",
            "1/1 [==============================] - 0s 10ms/step - loss: 1.0872 - mse: 1.0872\n",
            "Epoch 281/300\n",
            "1/1 [==============================] - 0s 7ms/step - loss: 1.0870 - mse: 1.0870\n",
            "Epoch 282/300\n",
            "1/1 [==============================] - 0s 4ms/step - loss: 1.0868 - mse: 1.0868\n",
            "Epoch 283/300\n",
            "1/1 [==============================] - 0s 4ms/step - loss: 1.0866 - mse: 1.0866\n",
            "Epoch 284/300\n",
            "1/1 [==============================] - 0s 4ms/step - loss: 1.0864 - mse: 1.0864\n",
            "Epoch 285/300\n",
            "1/1 [==============================] - 0s 5ms/step - loss: 1.0861 - mse: 1.0861\n",
            "Epoch 286/300\n",
            "1/1 [==============================] - 0s 4ms/step - loss: 1.0859 - mse: 1.0859\n",
            "Epoch 287/300\n",
            "1/1 [==============================] - 0s 7ms/step - loss: 1.0857 - mse: 1.0857\n",
            "Epoch 288/300\n",
            "1/1 [==============================] - 0s 7ms/step - loss: 1.0855 - mse: 1.0855\n",
            "Epoch 289/300\n",
            "1/1 [==============================] - 0s 5ms/step - loss: 1.0853 - mse: 1.0853\n",
            "Epoch 290/300\n",
            "1/1 [==============================] - 0s 4ms/step - loss: 1.0851 - mse: 1.0851\n",
            "Epoch 291/300\n",
            "1/1 [==============================] - 0s 5ms/step - loss: 1.0849 - mse: 1.0849\n",
            "Epoch 292/300\n",
            "1/1 [==============================] - 0s 6ms/step - loss: 1.0847 - mse: 1.0847\n",
            "Epoch 293/300\n",
            "1/1 [==============================] - 0s 5ms/step - loss: 1.0845 - mse: 1.0845\n",
            "Epoch 294/300\n",
            "1/1 [==============================] - 0s 4ms/step - loss: 1.0843 - mse: 1.0843\n",
            "Epoch 295/300\n",
            "1/1 [==============================] - 0s 7ms/step - loss: 1.0841 - mse: 1.0841\n",
            "Epoch 296/300\n",
            "1/1 [==============================] - 0s 3ms/step - loss: 1.0839 - mse: 1.0839\n",
            "Epoch 297/300\n",
            "1/1 [==============================] - 0s 5ms/step - loss: 1.0837 - mse: 1.0837\n",
            "Epoch 298/300\n",
            "1/1 [==============================] - 0s 3ms/step - loss: 1.0835 - mse: 1.0835\n",
            "Epoch 299/300\n",
            "1/1 [==============================] - 0s 6ms/step - loss: 1.0833 - mse: 1.0833\n",
            "Epoch 300/300\n",
            "1/1 [==============================] - 0s 10ms/step - loss: 1.0831 - mse: 1.0831\n"
          ]
        },
        {
          "output_type": "execute_result",
          "data": {
            "text/plain": [
              "<keras.callbacks.History at 0x7fde7e2c4210>"
            ]
          },
          "metadata": {},
          "execution_count": 9
        }
      ]
    },
    {
      "cell_type": "markdown",
      "metadata": {
        "id": "Rr3Iu9hAM-VC"
      },
      "source": [
        "### 3) 로지스틱 회귀(Logistic Regression)"
      ]
    },
    {
      "cell_type": "code",
      "metadata": {
        "id": "QQd6CK8HM8BA"
      },
      "source": [
        "from tensorflow.keras.layers import Input, Dense\n",
        "from tensorflow.keras.models import Model\n",
        "\n",
        "inputs = Input(shape=(3,))\n",
        "output = Dense(1, activation='sigmoid')(inputs)\n",
        "logistic_model = Model(inputs, output)"
      ],
      "execution_count": 10,
      "outputs": []
    },
    {
      "cell_type": "markdown",
      "metadata": {
        "id": "bzZrsq3CNJiR"
      },
      "source": [
        "### 4) 다중 입력을 받는 모델(model that accepts multiple inputs)"
      ]
    },
    {
      "cell_type": "code",
      "metadata": {
        "id": "vSZCSANyNIbr"
      },
      "source": [
        "# 최종 완성된 다중 입력, 다중 출력 모델의 예\n",
        "model = Model(inputs=[a1, a2], outputs=[b1, b2, b3])"
      ],
      "execution_count": null,
      "outputs": []
    },
    {
      "cell_type": "code",
      "metadata": {
        "id": "xcEaeQVCNRe1"
      },
      "source": [
        "from tensorflow.keras.layers import Input, Dense, concatenate\n",
        "from tensorflow.keras.models import Model\n",
        "\n",
        "# 두 개의 입력층을 정의\n",
        "inputA = Input(shape=(64,))\n",
        "inputB = Input(shape=(128,))\n",
        "\n",
        "# 첫번째 입력층으로부터 분기되어 진행되는 인공 신경망을 정의\n",
        "x = Dense(16, activation=\"relu\")(inputA)\n",
        "x = Dense(8, activation=\"relu\")(x)\n",
        "x = Model(inputs=inputA, outputs=x)\n",
        "\n",
        "# 두번째 입력층으로부터 분기되어 진행되는 인공 신경망을 정의\n",
        "y = Dense(64, activation=\"relu\")(inputB)\n",
        "y = Dense(32, activation=\"relu\")(y)\n",
        "y = Dense(8, activation=\"relu\")(y)\n",
        "y = Model(inputs=inputB, outputs=y)\n",
        "\n",
        "# 두개의 인공 신경망의 출력을 연결(concatenate)\n",
        "result = concatenate([x.output, y.output])\n",
        "\n",
        "z = Dense(2, activation=\"relu\")(result)\n",
        "z = Dense(1, activation=\"linear\")(z)\n",
        "\n",
        "model = Model(inputs=[x.input, y.input], outputs=z)"
      ],
      "execution_count": null,
      "outputs": []
    },
    {
      "cell_type": "markdown",
      "metadata": {
        "id": "6TJKeWkwNmd_"
      },
      "source": [
        "### 5) RNN(Recurrence Neural Network) 은닉층 사용하기"
      ]
    },
    {
      "cell_type": "code",
      "metadata": {
        "id": "31-_7iohNx0Q"
      },
      "source": [
        "from tensorflow.keras.layers import Input, Dense, LSTM\n",
        "from tensorflow.keras.models import Model\n",
        "\n",
        "inputs = Input(shape=(50,1))\n",
        "lstm_layer = LSTM(10)(inputs)\n",
        "x = Dense(10, activation='relu')(lstm_layer)\n",
        "output = Dense(1, activation='sigmoid')(x)\n",
        "\n",
        "model = Model(inputs=inputs, outputs=output)"
      ],
      "execution_count": null,
      "outputs": []
    },
    {
      "cell_type": "markdown",
      "metadata": {
        "id": "YHWXvZAjNyga"
      },
      "source": [
        "## 08) 케라스 서브클래싱 API(Keras Subclassing API)\n",
        "### 1. 서브클래싱 API로 구현한 선형 회귀"
      ]
    },
    {
      "cell_type": "code",
      "metadata": {
        "id": "uk4sTULMOVFe"
      },
      "source": [
        "import tensorflow as tf\n",
        "\n",
        "class LinearRegression(tf.keras.Model):\n",
        "  def __init__(self):\n",
        "    super(LinearRegression, self).__init__()\n",
        "    self.linear_layer = tf.keras.layers.Dense(1, input_dim=1, activation='linear')\n",
        "\n",
        "  def call(self, x):\n",
        "    y_pred = self.linear_layer(x)\n",
        "\n",
        "    return y_pred\n",
        "\n",
        "model = LinearRegression()\n",
        "\n",
        "X = [1, 2, 3, 4, 5, 6, 7, 8, 9] # 공부하는 시간\n",
        "y = [11, 22, 33, 44, 53, 66, 77, 87, 95] # 각 공부하는 시간에 맵핑되는 성적\n",
        "\n",
        "sgd = tf.keras.optimizers.SGD(lr=0.01)\n",
        "model.compile(optimizer=sgd, loss='mse', metrics=['mse'])\n",
        "model.fit(X, y, epochs=300)"
      ],
      "execution_count": null,
      "outputs": []
    },
    {
      "cell_type": "markdown",
      "metadata": {
        "id": "VTKYwCrJOpMr"
      },
      "source": [
        "* 클래스(class) 형태의 모델은 tf.keras.Model을 상속받음 \n",
        "* 그리고 init()에서 모델의 구조와 동적을 정의하는 생성자를 정의. 이는 파이썬에서 객체가 갖는 속성값을 초기화하는 역할로, 객체가 생성될 때 자동으호 호출됨. \n",
        "* super() 함수를 부르면 여기서 만든 클래스는 tf.keras.Model 클래스의 속성들을 가지고 초기화 됨. \n",
        "* call() 함수는 모델이 데이터를 입력받아 예측값을 리턴하는 포워드(forward) 연산을 진행시키는 함수"
      ]
    },
    {
      "cell_type": "code",
      "metadata": {
        "id": "1tdQBJr7O1tN"
      },
      "source": [
        ""
      ],
      "execution_count": null,
      "outputs": []
    }
  ]
}