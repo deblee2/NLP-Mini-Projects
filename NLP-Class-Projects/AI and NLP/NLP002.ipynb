{
 "cells": [
  {
   "cell_type": "markdown",
   "metadata": {},
   "source": [
    "# 1. Text cleaning and tokenization with regular expression"
   ]
  },
  {
   "cell_type": "code",
   "execution_count": 53,
   "metadata": {},
   "outputs": [
    {
     "name": "stdout",
     "output_type": "stream",
     "text": [
      "Sunil ==> Sunil\n",
      "tweeted, ==> tweeted \n",
      "\"Witnessing ==>  Witnessing\n",
      "70th ==> 70th\n",
      "Republic ==> Republic\n",
      "Day ==> Day\n",
      "of ==> of\n",
      "India ==> India\n",
      "from ==> from\n",
      "Rajpath, ==> Rajpath \n",
      "New ==> New\n",
      "Delhi. ==> Delhi \n",
      "Mesmerizing ==> Mesmerizing\n",
      "performance ==> performance\n",
      "by ==> by\n",
      "Indian ==> Indian\n",
      "Army! ==> Army \n",
      "Awesome ==> Awesome\n",
      "airshow! ==> airshow \n",
      "@india_official ==>  india official\n",
      "@indian_army ==>  indian army\n",
      "#India ==>  India\n",
      "#70thRepublic_Day. ==>  70thRepublic Day \n",
      "For ==> For\n",
      "more ==> more\n",
      "photos ==> photos\n",
      "ping ==> ping\n",
      "me ==> me\n",
      "sunil@photoking.com ==> sunil photoking com\n",
      ":)\" ==>  \n"
     ]
    }
   ],
   "source": [
    "import re\n",
    "#텍스트 정규화 작업\n",
    "#text regularization\n",
    "#US, us, USA, usa...(변이형, variation) ==> U.S.A.(기본형) 동일한 형식으로 \n",
    "#같은 의미 지니는 것들을 한 번에\n",
    "\n",
    "sentence = 'Sunil tweeted, \"Witnessing 70th Republic Day of India from Rajpath, \\\n",
    "New Delhi. Mesmerizing performance by Indian Army! Awesome airshow! @india_official \\\n",
    "@indian_army #India #70thRepublic_Day. For more photos ping me sunil@photoking.com :)\"'\n",
    "\n",
    "ret = re.sub(r'([^\\s\\w|_])+', ' ', sentence).split()\n",
    "#print(ret)\n",
    "\n",
    "for i in sentence.split():\n",
    "    print(i, \"==>\", re.sub(r'([^\\s\\w]|_)+', ' ', i))"
   ]
  },
  {
   "cell_type": "markdown",
   "metadata": {},
   "source": [
    "# 2. N-gram extraction"
   ]
  },
  {
   "cell_type": "code",
   "execution_count": 12,
   "metadata": {},
   "outputs": [],
   "source": [
    "import re\n",
    "\n",
    "def n_gram_extractor(sentence, n):\n",
    "    tokens = re.sub(r'([^\\s\\w]|_)+', ' ', sentence).split()\n",
    "    for i in range(len(tokens)-n+1):\n",
    "        print(tokens[i:i+n])"
   ]
  },
  {
   "cell_type": "code",
   "execution_count": 10,
   "metadata": {},
   "outputs": [
    {
     "name": "stdout",
     "output_type": "stream",
     "text": [
      "['The', 'cute']\n",
      "['cute', 'little']\n",
      "['little', 'boy']\n",
      "['boy', 'is']\n",
      "['is', 'playing']\n",
      "['playing', 'with']\n",
      "['with', 'the']\n",
      "['the', 'kitten']\n"
     ]
    }
   ],
   "source": [
    "n_gram_extractor('The cute little boy is playing with the kitten.', 2)\n",
    "#bi-gram, uni-gram, tri-gram, quadrogram\n",
    "# ngram 확률\n",
    "# count(해당 ngram)/총 ngram 개수\n",
    "# smoothing ==> unknown words\n",
    "# Add-one, Laplace\n",
    "# N + 1/Total + Vocabulary_size(단어 개수)\n"
   ]
  },
  {
   "cell_type": "code",
   "execution_count": 11,
   "metadata": {},
   "outputs": [
    {
     "name": "stdout",
     "output_type": "stream",
     "text": [
      "['The', 'cute', 'little']\n",
      "['cute', 'little', 'boy']\n",
      "['little', 'boy', 'is']\n",
      "['boy', 'is', 'playing']\n",
      "['is', 'playing', 'with']\n",
      "['playing', 'with', 'the']\n",
      "['with', 'the', 'kitten']\n"
     ]
    }
   ],
   "source": [
    "n_gram_extractor('The cute little boy is playing with the kitten.', 3)\n",
    "\n"
   ]
  },
  {
   "cell_type": "code",
   "execution_count": 56,
   "metadata": {},
   "outputs": [
    {
     "name": "stdout",
     "output_type": "stream",
     "text": [
      "<generator object ngrams at 0x000002516E39D7C8>\n",
      "<class 'generator'>\n",
      "<class 'tuple'> ('The', 'cute')\n",
      "<class 'tuple'> ('cute', 'little')\n",
      "<class 'tuple'> ('little', 'boy')\n",
      "<class 'tuple'> ('boy', 'is')\n",
      "<class 'tuple'> ('is', 'playing')\n",
      "<class 'tuple'> ('playing', 'with')\n",
      "<class 'tuple'> ('with', 'the')\n",
      "<class 'tuple'> ('the', 'kitten.')\n"
     ]
    }
   ],
   "source": [
    "from nltk import ngrams\n",
    "\n",
    "#list(ngrams('The cute little boy is playing with the kitten.'.split(), 2))\n",
    "\n",
    "ret = ngrams('The cute little boy is playing with the kitten.'.split(), 2)\n",
    "list = ngrams('The cute little boy is playing with the kitten.'.split(), 2)\n",
    "\n",
    "print(ret); \n",
    "print(type(ret))\n",
    "\n",
    "for r in list:\n",
    "    print(type(r), r)\n",
    "    #print(r[0], r[1])\n",
    "#kitten. vs. kitten ==> 서로 다른 단어로 간주\n",
    "# kitten. ==> kitten(공백). ==> kitten과 punctuation을 따로 세는 것이 좋음\n",
    "##regex를 먼저 하고, (punctuation을 공백으로 띄우고) nltk ngram을 사용하는 것이 좋음\n"
   ]
  },
  {
   "cell_type": "markdown",
   "metadata": {},
   "source": [
    "### 연습문제\n",
    "\n",
    "\n",
    "다음 텍스트에서 bigram과 trigram 단위를 n_gram_extractor와 nltk를 활용해서 추출하시오.\n",
    "\n",
    "\n",
    "sent = 'Collapsing oil prices are another unanticipated blow for Iran, which was already battling a severe outbreak and the economic impacts of American sanctions. A lockdown in the Philippine capital has been extended to mid-May.'"
   ]
  },
  {
   "cell_type": "code",
   "execution_count": 75,
   "metadata": {},
   "outputs": [
    {
     "name": "stdout",
     "output_type": "stream",
     "text": [
      "Bigram: \n",
      "['Collapsing', 'oil']\n",
      "['oil', 'prices']\n",
      "['prices', 'are']\n",
      "['are', 'another']\n",
      "['another', 'unanticipated']\n",
      "['unanticipated', 'blow']\n",
      "['blow', 'for']\n",
      "['for', 'Iran']\n",
      "['Iran', 'which']\n",
      "['which', 'was']\n",
      "['was', 'already']\n",
      "['already', 'battling']\n",
      "['battling', 'a']\n",
      "['a', 'severe']\n",
      "['severe', 'outbreak']\n",
      "['outbreak', 'and']\n",
      "['and', 'the']\n",
      "['the', 'economic']\n",
      "['economic', 'impacts']\n",
      "['impacts', 'of']\n",
      "['of', 'American']\n",
      "['American', 'sanctions']\n",
      "['sanctions', 'A']\n",
      "['A', 'lockdown']\n",
      "['lockdown', 'in']\n",
      "['in', 'the']\n",
      "['the', 'Philippine']\n",
      "['Philippine', 'capital']\n",
      "['capital', 'has']\n",
      "['has', 'been']\n",
      "['been', 'extended']\n",
      "['extended', 'to']\n",
      "['to', 'mid']\n",
      "['mid', 'May']\n",
      "\n",
      "Trigram: \n",
      "['Collapsing', 'oil', 'prices']\n",
      "['oil', 'prices', 'are']\n",
      "['prices', 'are', 'another']\n",
      "['are', 'another', 'unanticipated']\n",
      "['another', 'unanticipated', 'blow']\n",
      "['unanticipated', 'blow', 'for']\n",
      "['blow', 'for', 'Iran']\n",
      "['for', 'Iran', 'which']\n",
      "['Iran', 'which', 'was']\n",
      "['which', 'was', 'already']\n",
      "['was', 'already', 'battling']\n",
      "['already', 'battling', 'a']\n",
      "['battling', 'a', 'severe']\n",
      "['a', 'severe', 'outbreak']\n",
      "['severe', 'outbreak', 'and']\n",
      "['outbreak', 'and', 'the']\n",
      "['and', 'the', 'economic']\n",
      "['the', 'economic', 'impacts']\n",
      "['economic', 'impacts', 'of']\n",
      "['impacts', 'of', 'American']\n",
      "['of', 'American', 'sanctions']\n",
      "['American', 'sanctions', 'A']\n",
      "['sanctions', 'A', 'lockdown']\n",
      "['A', 'lockdown', 'in']\n",
      "['lockdown', 'in', 'the']\n",
      "['in', 'the', 'Philippine']\n",
      "['the', 'Philippine', 'capital']\n",
      "['Philippine', 'capital', 'has']\n",
      "['capital', 'has', 'been']\n",
      "['has', 'been', 'extended']\n",
      "['been', 'extended', 'to']\n",
      "['extended', 'to', 'mid']\n",
      "['to', 'mid', 'May']\n",
      "\n"
     ]
    }
   ],
   "source": [
    "sent = 'Collapsing oil prices are another unanticipated blow for Iran, which was already battling a severe outbreak and the economic impacts of American sanctions. A lockdown in the Philippine capital has been extended to mid-May.'\n",
    "\n",
    "#n_gram_extractor을 활용하여 추출\n",
    "print('Bigram: ')\n",
    "n_gram_extractor(sent, 2)\n",
    "print(end='\\n')\n",
    "\n",
    "print('Trigram: ')\n",
    "n_gram_extractor(sent, 3)\n",
    "print(end='\\n')"
   ]
  },
  {
   "cell_type": "code",
   "execution_count": 76,
   "metadata": {},
   "outputs": [
    {
     "name": "stdout",
     "output_type": "stream",
     "text": [
      "Bigram: \n",
      "('Collapsing', 'oil')\n",
      "('oil', 'prices')\n",
      "('prices', 'are')\n",
      "('are', 'another')\n",
      "('another', 'unanticipated')\n",
      "('unanticipated', 'blow')\n",
      "('blow', 'for')\n",
      "('for', 'Iran,')\n",
      "('Iran,', 'which')\n",
      "('which', 'was')\n",
      "('was', 'already')\n",
      "('already', 'battling')\n",
      "('battling', 'a')\n",
      "('a', 'severe')\n",
      "('severe', 'outbreak')\n",
      "('outbreak', 'and')\n",
      "('and', 'the')\n",
      "('the', 'economic')\n",
      "('economic', 'impacts')\n",
      "('impacts', 'of')\n",
      "('of', 'American')\n",
      "('American', 'sanctions.')\n",
      "('sanctions.', 'A')\n",
      "('A', 'lockdown')\n",
      "('lockdown', 'in')\n",
      "('in', 'the')\n",
      "('the', 'Philippine')\n",
      "('Philippine', 'capital')\n",
      "('capital', 'has')\n",
      "('has', 'been')\n",
      "('been', 'extended')\n",
      "('extended', 'to')\n",
      "('to', 'mid-May.')\n",
      "\n",
      "Trigram: \n",
      "('Collapsing', 'oil', 'prices')\n",
      "('oil', 'prices', 'are')\n",
      "('prices', 'are', 'another')\n",
      "('are', 'another', 'unanticipated')\n",
      "('another', 'unanticipated', 'blow')\n",
      "('unanticipated', 'blow', 'for')\n",
      "('blow', 'for', 'Iran,')\n",
      "('for', 'Iran,', 'which')\n",
      "('Iran,', 'which', 'was')\n",
      "('which', 'was', 'already')\n",
      "('was', 'already', 'battling')\n",
      "('already', 'battling', 'a')\n",
      "('battling', 'a', 'severe')\n",
      "('a', 'severe', 'outbreak')\n",
      "('severe', 'outbreak', 'and')\n",
      "('outbreak', 'and', 'the')\n",
      "('and', 'the', 'economic')\n",
      "('the', 'economic', 'impacts')\n",
      "('economic', 'impacts', 'of')\n",
      "('impacts', 'of', 'American')\n",
      "('of', 'American', 'sanctions.')\n",
      "('American', 'sanctions.', 'A')\n",
      "('sanctions.', 'A', 'lockdown')\n",
      "('A', 'lockdown', 'in')\n",
      "('lockdown', 'in', 'the')\n",
      "('in', 'the', 'Philippine')\n",
      "('the', 'Philippine', 'capital')\n",
      "('Philippine', 'capital', 'has')\n",
      "('capital', 'has', 'been')\n",
      "('has', 'been', 'extended')\n",
      "('been', 'extended', 'to')\n",
      "('extended', 'to', 'mid-May.')\n"
     ]
    }
   ],
   "source": [
    "#nltk를 활용하여 추출\n",
    "from nltk import ngrams\n",
    "\n",
    "list_r = sent.split()\n",
    "ret_1 = ngrams(list_r, 2)\n",
    "ret_2 = ngrams(list_r, 3)\n",
    "\n",
    "print('Bigram: ')\n",
    "for j in ret_1:\n",
    "    print(j)\n",
    "print(end='\\n')\n",
    "\n",
    "print('Trigram: ')\n",
    "for i in ret_2:\n",
    "    print(i)"
   ]
  },
  {
   "cell_type": "markdown",
   "metadata": {},
   "source": [
    "# 3. Feature extraction"
   ]
  },
  {
   "cell_type": "code",
   "execution_count": 24,
   "metadata": {},
   "outputs": [
    {
     "name": "stdout",
     "output_type": "stream",
     "text": [
      "Collecting Textblob\n",
      "  Downloading textblob-0.15.3-py2.py3-none-any.whl (636 kB)\n",
      "Requirement already satisfied: nltk>=3.1 in c:\\users\\user\\anaconda3\\lib\\site-packages (from Textblob) (3.4.5)\n",
      "Requirement already satisfied: six in c:\\users\\user\\anaconda3\\lib\\site-packages (from nltk>=3.1->Textblob) (1.12.0)\n",
      "Installing collected packages: Textblob\n",
      "Successfully installed Textblob-0.15.3\n"
     ]
    }
   ],
   "source": [
    "!pip install Textblob"
   ]
  },
  {
   "cell_type": "code",
   "execution_count": 72,
   "metadata": {},
   "outputs": [
    {
     "data": {
      "text/html": [
       "<div>\n",
       "<style scoped>\n",
       "    .dataframe tbody tr th:only-of-type {\n",
       "        vertical-align: middle;\n",
       "    }\n",
       "\n",
       "    .dataframe tbody tr th {\n",
       "        vertical-align: top;\n",
       "    }\n",
       "\n",
       "    .dataframe thead th {\n",
       "        text-align: right;\n",
       "    }\n",
       "</style>\n",
       "<table border=\"1\" class=\"dataframe\">\n",
       "  <thead>\n",
       "    <tr style=\"text-align: right;\">\n",
       "      <th></th>\n",
       "      <th>text</th>\n",
       "    </tr>\n",
       "  </thead>\n",
       "  <tbody>\n",
       "    <tr>\n",
       "      <td>0</td>\n",
       "      <td>The interim budget for 2019 will be announced ...</td>\n",
       "    </tr>\n",
       "    <tr>\n",
       "      <td>1</td>\n",
       "      <td>Do you know how much expectation the middle-cl...</td>\n",
       "    </tr>\n",
       "    <tr>\n",
       "      <td>2</td>\n",
       "      <td>February is the shortest month in a year.</td>\n",
       "    </tr>\n",
       "    <tr>\n",
       "      <td>3</td>\n",
       "      <td>This financial year will end on 31st March.</td>\n",
       "    </tr>\n",
       "  </tbody>\n",
       "</table>\n",
       "</div>"
      ],
      "text/plain": [
       "                                                text\n",
       "0  The interim budget for 2019 will be announced ...\n",
       "1  Do you know how much expectation the middle-cl...\n",
       "2          February is the shortest month in a year.\n",
       "3        This financial year will end on 31st March."
      ]
     },
     "execution_count": 72,
     "metadata": {},
     "output_type": "execute_result"
    }
   ],
   "source": [
    "import pandas as pd #data science(database) #excel유형의 spreadsheet으로 텍스트 관리하는 python 모듈\n",
    "#import numpy, science computing(Data type을 python에 맞게 바꿔줌)\n",
    "\n",
    "df = pd.DataFrame([['The interim budget for 2019 will be announced on 1st February.'],\n",
    "                   ['Do you know how much expectation the middle-class working population is having from this budget?'],\n",
    "                   ['February is the shortest month in a year.'],\n",
    "                   ['This financial year will end on 31st March.']]) #list[list, list] list of list형식\n",
    "\n",
    "df.columns = ['text']\n",
    "\n",
    "df"
   ]
  },
  {
   "cell_type": "code",
   "execution_count": 74,
   "metadata": {},
   "outputs": [
    {
     "data": {
      "text/plain": [
       "0    11\n",
       "1    15\n",
       "2     8\n",
       "3     8\n",
       "Name: number_of_words, dtype: int64"
      ]
     },
     "execution_count": 74,
     "metadata": {},
     "output_type": "execute_result"
    }
   ],
   "source": [
    "from textblob import TextBlob\n",
    "\n",
    "df['number_of_words'] = df['text'].apply(lambda x : len(TextBlob(str(x)).words))\n",
    "\n",
    "df['number_of_words']"
   ]
  },
  {
   "cell_type": "code",
   "execution_count": 27,
   "metadata": {},
   "outputs": [
    {
     "data": {
      "text/html": [
       "<div>\n",
       "<style scoped>\n",
       "    .dataframe tbody tr th:only-of-type {\n",
       "        vertical-align: middle;\n",
       "    }\n",
       "\n",
       "    .dataframe tbody tr th {\n",
       "        vertical-align: top;\n",
       "    }\n",
       "\n",
       "    .dataframe thead th {\n",
       "        text-align: right;\n",
       "    }\n",
       "</style>\n",
       "<table border=\"1\" class=\"dataframe\">\n",
       "  <thead>\n",
       "    <tr style=\"text-align: right;\">\n",
       "      <th></th>\n",
       "      <th>text</th>\n",
       "      <th>number_of_words</th>\n",
       "    </tr>\n",
       "  </thead>\n",
       "  <tbody>\n",
       "    <tr>\n",
       "      <th>0</th>\n",
       "      <td>The interim budget for 2019 will be announced ...</td>\n",
       "      <td>11</td>\n",
       "    </tr>\n",
       "    <tr>\n",
       "      <th>1</th>\n",
       "      <td>Do you know how much expectation the middle-cl...</td>\n",
       "      <td>15</td>\n",
       "    </tr>\n",
       "    <tr>\n",
       "      <th>2</th>\n",
       "      <td>February is the shortest month in a year.</td>\n",
       "      <td>8</td>\n",
       "    </tr>\n",
       "    <tr>\n",
       "      <th>3</th>\n",
       "      <td>This financial year will end on 31st March.</td>\n",
       "      <td>8</td>\n",
       "    </tr>\n",
       "  </tbody>\n",
       "</table>\n",
       "</div>"
      ],
      "text/plain": [
       "                                                text  number_of_words\n",
       "0  The interim budget for 2019 will be announced ...               11\n",
       "1  Do you know how much expectation the middle-cl...               15\n",
       "2          February is the shortest month in a year.                8\n",
       "3        This financial year will end on 31st March.                8"
      ]
     },
     "execution_count": 27,
     "metadata": {},
     "output_type": "execute_result"
    }
   ],
   "source": [
    "df"
   ]
  },
  {
   "cell_type": "code",
   "execution_count": 79,
   "metadata": {},
   "outputs": [
    {
     "data": {
      "text/plain": [
       "0    False\n",
       "1     True\n",
       "2    False\n",
       "3    False\n",
       "Name: is_wh_words_present, dtype: bool"
      ]
     },
     "execution_count": 79,
     "metadata": {},
     "output_type": "execute_result"
    }
   ],
   "source": [
    "wh_words = set(['why', 'who', 'which', 'what', 'where', 'when', 'how'])\n",
    "df['is_wh_words_present'] = df['text'].apply(lambda x : True if \\\n",
    "                                             len(set(TextBlob(str(x)).words).intersection(wh_words))>0 else False)\n",
    "df['is_wh_words_present']"
   ]
  },
  {
   "cell_type": "code",
   "execution_count": 80,
   "metadata": {},
   "outputs": [
    {
     "data": {
      "text/html": [
       "<div>\n",
       "<style scoped>\n",
       "    .dataframe tbody tr th:only-of-type {\n",
       "        vertical-align: middle;\n",
       "    }\n",
       "\n",
       "    .dataframe tbody tr th {\n",
       "        vertical-align: top;\n",
       "    }\n",
       "\n",
       "    .dataframe thead th {\n",
       "        text-align: right;\n",
       "    }\n",
       "</style>\n",
       "<table border=\"1\" class=\"dataframe\">\n",
       "  <thead>\n",
       "    <tr style=\"text-align: right;\">\n",
       "      <th></th>\n",
       "      <th>text</th>\n",
       "      <th>number_of_words</th>\n",
       "      <th>is_wh_words_present</th>\n",
       "    </tr>\n",
       "  </thead>\n",
       "  <tbody>\n",
       "    <tr>\n",
       "      <td>0</td>\n",
       "      <td>The interim budget for 2019 will be announced ...</td>\n",
       "      <td>11</td>\n",
       "      <td>False</td>\n",
       "    </tr>\n",
       "    <tr>\n",
       "      <td>1</td>\n",
       "      <td>Do you know how much expectation the middle-cl...</td>\n",
       "      <td>15</td>\n",
       "      <td>True</td>\n",
       "    </tr>\n",
       "    <tr>\n",
       "      <td>2</td>\n",
       "      <td>February is the shortest month in a year.</td>\n",
       "      <td>8</td>\n",
       "      <td>False</td>\n",
       "    </tr>\n",
       "    <tr>\n",
       "      <td>3</td>\n",
       "      <td>This financial year will end on 31st March.</td>\n",
       "      <td>8</td>\n",
       "      <td>False</td>\n",
       "    </tr>\n",
       "  </tbody>\n",
       "</table>\n",
       "</div>"
      ],
      "text/plain": [
       "                                                text  number_of_words  \\\n",
       "0  The interim budget for 2019 will be announced ...               11   \n",
       "1  Do you know how much expectation the middle-cl...               15   \n",
       "2          February is the shortest month in a year.                8   \n",
       "3        This financial year will end on 31st March.                8   \n",
       "\n",
       "   is_wh_words_present  \n",
       "0                False  \n",
       "1                 True  \n",
       "2                False  \n",
       "3                False  "
      ]
     },
     "execution_count": 80,
     "metadata": {},
     "output_type": "execute_result"
    }
   ],
   "source": [
    "df"
   ]
  },
  {
   "cell_type": "code",
   "execution_count": 45,
   "metadata": {},
   "outputs": [
    {
     "data": {
      "text/plain": [
       "0    0.0\n",
       "1    0.2\n",
       "2    0.0\n",
       "3    0.0\n",
       "Name: polarity, dtype: float64"
      ]
     },
     "execution_count": 45,
     "metadata": {},
     "output_type": "execute_result"
    }
   ],
   "source": [
    "df['polarity'] = df['text'].apply(lambda x : TextBlob(str(x)).sentiment.polarity)\n",
    "df['polarity']"
   ]
  },
  {
   "cell_type": "code",
   "execution_count": 46,
   "metadata": {},
   "outputs": [
    {
     "data": {
      "text/html": [
       "<div>\n",
       "<style scoped>\n",
       "    .dataframe tbody tr th:only-of-type {\n",
       "        vertical-align: middle;\n",
       "    }\n",
       "\n",
       "    .dataframe tbody tr th {\n",
       "        vertical-align: top;\n",
       "    }\n",
       "\n",
       "    .dataframe thead th {\n",
       "        text-align: right;\n",
       "    }\n",
       "</style>\n",
       "<table border=\"1\" class=\"dataframe\">\n",
       "  <thead>\n",
       "    <tr style=\"text-align: right;\">\n",
       "      <th></th>\n",
       "      <th>text</th>\n",
       "      <th>number_of_words</th>\n",
       "      <th>is_wh_words_present</th>\n",
       "      <th>polarity</th>\n",
       "    </tr>\n",
       "  </thead>\n",
       "  <tbody>\n",
       "    <tr>\n",
       "      <th>0</th>\n",
       "      <td>The interim budget for 2019 will be announced ...</td>\n",
       "      <td>11</td>\n",
       "      <td>False</td>\n",
       "      <td>0.0</td>\n",
       "    </tr>\n",
       "    <tr>\n",
       "      <th>1</th>\n",
       "      <td>Do you know how much expectation the middle-cl...</td>\n",
       "      <td>15</td>\n",
       "      <td>True</td>\n",
       "      <td>0.2</td>\n",
       "    </tr>\n",
       "    <tr>\n",
       "      <th>2</th>\n",
       "      <td>February is the shortest month in a year.</td>\n",
       "      <td>8</td>\n",
       "      <td>False</td>\n",
       "      <td>0.0</td>\n",
       "    </tr>\n",
       "    <tr>\n",
       "      <th>3</th>\n",
       "      <td>This financial year will end on 31st March.</td>\n",
       "      <td>8</td>\n",
       "      <td>False</td>\n",
       "      <td>0.0</td>\n",
       "    </tr>\n",
       "  </tbody>\n",
       "</table>\n",
       "</div>"
      ],
      "text/plain": [
       "                                                text  number_of_words  \\\n",
       "0  The interim budget for 2019 will be announced ...               11   \n",
       "1  Do you know how much expectation the middle-cl...               15   \n",
       "2          February is the shortest month in a year.                8   \n",
       "3        This financial year will end on 31st March.                8   \n",
       "\n",
       "   is_wh_words_present  polarity  \n",
       "0                False       0.0  \n",
       "1                 True       0.2  \n",
       "2                False       0.0  \n",
       "3                False       0.0  "
      ]
     },
     "execution_count": 46,
     "metadata": {},
     "output_type": "execute_result"
    }
   ],
   "source": [
    "df"
   ]
  },
  {
   "cell_type": "code",
   "execution_count": 47,
   "metadata": {},
   "outputs": [
    {
     "data": {
      "text/plain": [
       "0    en\n",
       "1    en\n",
       "2    en\n",
       "3    en\n",
       "Name: language, dtype: object"
      ]
     },
     "execution_count": 47,
     "metadata": {},
     "output_type": "execute_result"
    }
   ],
   "source": [
    "df['language'] = df['text'].apply(lambda x : TextBlob(str(x)).detect_language())\n",
    "df['language']"
   ]
  },
  {
   "cell_type": "code",
   "execution_count": 48,
   "metadata": {},
   "outputs": [
    {
     "data": {
      "text/html": [
       "<div>\n",
       "<style scoped>\n",
       "    .dataframe tbody tr th:only-of-type {\n",
       "        vertical-align: middle;\n",
       "    }\n",
       "\n",
       "    .dataframe tbody tr th {\n",
       "        vertical-align: top;\n",
       "    }\n",
       "\n",
       "    .dataframe thead th {\n",
       "        text-align: right;\n",
       "    }\n",
       "</style>\n",
       "<table border=\"1\" class=\"dataframe\">\n",
       "  <thead>\n",
       "    <tr style=\"text-align: right;\">\n",
       "      <th></th>\n",
       "      <th>text</th>\n",
       "      <th>number_of_words</th>\n",
       "      <th>is_wh_words_present</th>\n",
       "      <th>polarity</th>\n",
       "      <th>language</th>\n",
       "    </tr>\n",
       "  </thead>\n",
       "  <tbody>\n",
       "    <tr>\n",
       "      <th>0</th>\n",
       "      <td>The interim budget for 2019 will be announced ...</td>\n",
       "      <td>11</td>\n",
       "      <td>False</td>\n",
       "      <td>0.0</td>\n",
       "      <td>en</td>\n",
       "    </tr>\n",
       "    <tr>\n",
       "      <th>1</th>\n",
       "      <td>Do you know how much expectation the middle-cl...</td>\n",
       "      <td>15</td>\n",
       "      <td>True</td>\n",
       "      <td>0.2</td>\n",
       "      <td>en</td>\n",
       "    </tr>\n",
       "    <tr>\n",
       "      <th>2</th>\n",
       "      <td>February is the shortest month in a year.</td>\n",
       "      <td>8</td>\n",
       "      <td>False</td>\n",
       "      <td>0.0</td>\n",
       "      <td>en</td>\n",
       "    </tr>\n",
       "    <tr>\n",
       "      <th>3</th>\n",
       "      <td>This financial year will end on 31st March.</td>\n",
       "      <td>8</td>\n",
       "      <td>False</td>\n",
       "      <td>0.0</td>\n",
       "      <td>en</td>\n",
       "    </tr>\n",
       "  </tbody>\n",
       "</table>\n",
       "</div>"
      ],
      "text/plain": [
       "                                                text  number_of_words  \\\n",
       "0  The interim budget for 2019 will be announced ...               11   \n",
       "1  Do you know how much expectation the middle-cl...               15   \n",
       "2          February is the shortest month in a year.                8   \n",
       "3        This financial year will end on 31st March.                8   \n",
       "\n",
       "   is_wh_words_present  polarity language  \n",
       "0                False       0.0       en  \n",
       "1                 True       0.2       en  \n",
       "2                False       0.0       en  \n",
       "3                False       0.0       en  "
      ]
     },
     "execution_count": 48,
     "metadata": {},
     "output_type": "execute_result"
    }
   ],
   "source": [
    "df"
   ]
  },
  {
   "cell_type": "code",
   "execution_count": 49,
   "metadata": {},
   "outputs": [
    {
     "data": {
      "text/plain": [
       "42"
      ]
     },
     "execution_count": 49,
     "metadata": {},
     "output_type": "execute_result"
    }
   ],
   "source": [
    "df[\"number_of_words\"].sum()"
   ]
  },
  {
   "cell_type": "markdown",
   "metadata": {},
   "source": [
    "### lambda "
   ]
  },
  {
   "cell_type": "code",
   "execution_count": 51,
   "metadata": {},
   "outputs": [
    {
     "data": {
      "text/plain": [
       "11"
      ]
     },
     "execution_count": 51,
     "metadata": {},
     "output_type": "execute_result"
    }
   ],
   "source": [
    "def plus_ten(x):\n",
    "    return x + 10\n",
    "\n",
    "plus_ten(1)"
   ]
  },
  {
   "cell_type": "code",
   "execution_count": 52,
   "metadata": {},
   "outputs": [
    {
     "data": {
      "text/plain": [
       "20"
      ]
     },
     "execution_count": 52,
     "metadata": {},
     "output_type": "execute_result"
    }
   ],
   "source": [
    "plus_tenn = lambda x: x + 10   #lambda y, z, k\n",
    "\n",
    "plus_tenn(10)"
   ]
  },
  {
   "cell_type": "code",
   "execution_count": 53,
   "metadata": {},
   "outputs": [
    {
     "data": {
      "text/plain": [
       "11"
      ]
     },
     "execution_count": 53,
     "metadata": {},
     "output_type": "execute_result"
    }
   ],
   "source": [
    "(lambda x: x + 10)(1)"
   ]
  },
  {
   "cell_type": "markdown",
   "metadata": {},
   "source": [
    "### 연습문제"
   ]
  },
  {
   "cell_type": "code",
   "execution_count": 87,
   "metadata": {},
   "outputs": [
    {
     "data": {
      "text/html": [
       "<div>\n",
       "<style scoped>\n",
       "    .dataframe tbody tr th:only-of-type {\n",
       "        vertical-align: middle;\n",
       "    }\n",
       "\n",
       "    .dataframe tbody tr th {\n",
       "        vertical-align: top;\n",
       "    }\n",
       "\n",
       "    .dataframe thead th {\n",
       "        text-align: right;\n",
       "    }\n",
       "</style>\n",
       "<table border=\"1\" class=\"dataframe\">\n",
       "  <thead>\n",
       "    <tr style=\"text-align: right;\">\n",
       "      <th></th>\n",
       "      <th>text</th>\n",
       "    </tr>\n",
       "  </thead>\n",
       "  <tbody>\n",
       "    <tr>\n",
       "      <td>0</td>\n",
       "      <td>ALICE'S ADVENTURES IN WONDERLAND              ...</td>\n",
       "    </tr>\n",
       "    <tr>\n",
       "      <td>1</td>\n",
       "      <td>Once or twice she had peeped into thebook her ...</td>\n",
       "    </tr>\n",
       "    <tr>\n",
       "      <td>2</td>\n",
       "      <td>\"So she was considering in her own mind (as we...</td>\n",
       "    </tr>\n",
       "    <tr>\n",
       "      <td>3</td>\n",
       "      <td>Ohdear!</td>\n",
       "    </tr>\n",
       "    <tr>\n",
       "      <td>4</td>\n",
       "      <td>I shall be too late!\"</td>\n",
       "    </tr>\n",
       "    <tr>\n",
       "      <td>...</td>\n",
       "      <td>...</td>\n",
       "    </tr>\n",
       "    <tr>\n",
       "      <td>560</td>\n",
       "      <td>\"Why, what a long sleep you'vehad!</td>\n",
       "    </tr>\n",
       "    <tr>\n",
       "      <td>561</td>\n",
       "      <td>\"\"Oh, I've had such a curious dream!\"</td>\n",
       "    </tr>\n",
       "    <tr>\n",
       "      <td>562</td>\n",
       "      <td>said Alice.</td>\n",
       "    </tr>\n",
       "    <tr>\n",
       "      <td>563</td>\n",
       "      <td>And she told hersister, as well as she could r...</td>\n",
       "    </tr>\n",
       "    <tr>\n",
       "      <td>564</td>\n",
       "      <td>Alice got up and ran off,thinking while she ra...</td>\n",
       "    </tr>\n",
       "  </tbody>\n",
       "</table>\n",
       "<p>565 rows × 1 columns</p>\n",
       "</div>"
      ],
      "text/plain": [
       "                                                  text\n",
       "0    ALICE'S ADVENTURES IN WONDERLAND              ...\n",
       "1    Once or twice she had peeped into thebook her ...\n",
       "2    \"So she was considering in her own mind (as we...\n",
       "3                                              Ohdear!\n",
       "4                                I shall be too late!\"\n",
       "..                                                 ...\n",
       "560                 \"Why, what a long sleep you'vehad!\n",
       "561              \"\"Oh, I've had such a curious dream!\"\n",
       "562                                        said Alice.\n",
       "563  And she told hersister, as well as she could r...\n",
       "564  Alice got up and ran off,thinking while she ra...\n",
       "\n",
       "[565 rows x 1 columns]"
      ]
     },
     "execution_count": 87,
     "metadata": {},
     "output_type": "execute_result"
    }
   ],
   "source": [
    "from nltk.tokenize import sent_tokenize\n",
    "\n",
    "data_str = open('alice.txt', 'r').read().replace('\\n', '')\n",
    "\n",
    "sent_tokenize_list = sent_tokenize(data_str)\n",
    "\n",
    "aList = []    \n",
    "\n",
    "for ss in sent_tokenize_list:\n",
    "    aa = []    \n",
    "    aa.append(ss)\n",
    "    aList.append(aa)\n",
    "\n",
    "df = pd.DataFrame(aList)\n",
    "df.columns = ['text']\n",
    "\n",
    "df"
   ]
  },
  {
   "cell_type": "markdown",
   "metadata": {},
   "source": [
    "### 실행할 내용\n",
    "<br>\n",
    "<br>\n",
    "\n",
    "문장 당 단어 개수, wh_words = set(['why', 'who', 'which', 'what', 'where', 'when', 'how']) 유무, polarity item 지수를 계산해 보시오."
   ]
  },
  {
   "cell_type": "code",
   "execution_count": null,
   "metadata": {},
   "outputs": [],
   "source": [
    "!pip install Textblob\n",
    "!pip install pandas"
   ]
  },
  {
   "cell_type": "code",
   "execution_count": 88,
   "metadata": {},
   "outputs": [
    {
     "data": {
      "text/plain": [
       "0      50\n",
       "1      33\n",
       "2      77\n",
       "3       1\n",
       "4       5\n",
       "       ..\n",
       "560     6\n",
       "561     8\n",
       "562     2\n",
       "563    23\n",
       "564    20\n",
       "Name: number_of_words, Length: 565, dtype: int64"
      ]
     },
     "execution_count": 88,
     "metadata": {},
     "output_type": "execute_result"
    }
   ],
   "source": [
    "import pandas as pd\n",
    "from textblob import TextBlob\n",
    "\n",
    "df['number_of_words'] = df['text'].apply(lambda x : len(TextBlob(str(x)).words))\n",
    "\n",
    "df['number_of_words']\n"
   ]
  },
  {
   "cell_type": "code",
   "execution_count": 89,
   "metadata": {},
   "outputs": [
    {
     "data": {
      "text/html": [
       "<div>\n",
       "<style scoped>\n",
       "    .dataframe tbody tr th:only-of-type {\n",
       "        vertical-align: middle;\n",
       "    }\n",
       "\n",
       "    .dataframe tbody tr th {\n",
       "        vertical-align: top;\n",
       "    }\n",
       "\n",
       "    .dataframe thead th {\n",
       "        text-align: right;\n",
       "    }\n",
       "</style>\n",
       "<table border=\"1\" class=\"dataframe\">\n",
       "  <thead>\n",
       "    <tr style=\"text-align: right;\">\n",
       "      <th></th>\n",
       "      <th>text</th>\n",
       "      <th>number_of_words</th>\n",
       "    </tr>\n",
       "  </thead>\n",
       "  <tbody>\n",
       "    <tr>\n",
       "      <td>0</td>\n",
       "      <td>ALICE'S ADVENTURES IN WONDERLAND              ...</td>\n",
       "      <td>50</td>\n",
       "    </tr>\n",
       "    <tr>\n",
       "      <td>1</td>\n",
       "      <td>Once or twice she had peeped into thebook her ...</td>\n",
       "      <td>33</td>\n",
       "    </tr>\n",
       "    <tr>\n",
       "      <td>2</td>\n",
       "      <td>\"So she was considering in her own mind (as we...</td>\n",
       "      <td>77</td>\n",
       "    </tr>\n",
       "    <tr>\n",
       "      <td>3</td>\n",
       "      <td>Ohdear!</td>\n",
       "      <td>1</td>\n",
       "    </tr>\n",
       "    <tr>\n",
       "      <td>4</td>\n",
       "      <td>I shall be too late!\"</td>\n",
       "      <td>5</td>\n",
       "    </tr>\n",
       "    <tr>\n",
       "      <td>...</td>\n",
       "      <td>...</td>\n",
       "      <td>...</td>\n",
       "    </tr>\n",
       "    <tr>\n",
       "      <td>560</td>\n",
       "      <td>\"Why, what a long sleep you'vehad!</td>\n",
       "      <td>6</td>\n",
       "    </tr>\n",
       "    <tr>\n",
       "      <td>561</td>\n",
       "      <td>\"\"Oh, I've had such a curious dream!\"</td>\n",
       "      <td>8</td>\n",
       "    </tr>\n",
       "    <tr>\n",
       "      <td>562</td>\n",
       "      <td>said Alice.</td>\n",
       "      <td>2</td>\n",
       "    </tr>\n",
       "    <tr>\n",
       "      <td>563</td>\n",
       "      <td>And she told hersister, as well as she could r...</td>\n",
       "      <td>23</td>\n",
       "    </tr>\n",
       "    <tr>\n",
       "      <td>564</td>\n",
       "      <td>Alice got up and ran off,thinking while she ra...</td>\n",
       "      <td>20</td>\n",
       "    </tr>\n",
       "  </tbody>\n",
       "</table>\n",
       "<p>565 rows × 2 columns</p>\n",
       "</div>"
      ],
      "text/plain": [
       "                                                  text  number_of_words\n",
       "0    ALICE'S ADVENTURES IN WONDERLAND              ...               50\n",
       "1    Once or twice she had peeped into thebook her ...               33\n",
       "2    \"So she was considering in her own mind (as we...               77\n",
       "3                                              Ohdear!                1\n",
       "4                                I shall be too late!\"                5\n",
       "..                                                 ...              ...\n",
       "560                 \"Why, what a long sleep you'vehad!                6\n",
       "561              \"\"Oh, I've had such a curious dream!\"                8\n",
       "562                                        said Alice.                2\n",
       "563  And she told hersister, as well as she could r...               23\n",
       "564  Alice got up and ran off,thinking while she ra...               20\n",
       "\n",
       "[565 rows x 2 columns]"
      ]
     },
     "execution_count": 89,
     "metadata": {},
     "output_type": "execute_result"
    }
   ],
   "source": [
    "df"
   ]
  },
  {
   "cell_type": "code",
   "execution_count": 90,
   "metadata": {},
   "outputs": [
    {
     "data": {
      "text/plain": [
       "0      False\n",
       "1       True\n",
       "2       True\n",
       "3      False\n",
       "4      False\n",
       "       ...  \n",
       "560     True\n",
       "561    False\n",
       "562    False\n",
       "563    False\n",
       "564     True\n",
       "Name: is_wh_words_present, Length: 565, dtype: bool"
      ]
     },
     "execution_count": 90,
     "metadata": {},
     "output_type": "execute_result"
    }
   ],
   "source": [
    "wh_words = set(['why', 'who', 'which', 'what', 'where', 'when', 'how'])\n",
    "a = lambda x : True if len(set(TextBlob(str(x)).words).intersection(wh_words))>0 else False\n",
    "\n",
    "df['is_wh_words_present'] = df['text'].apply(a)\n",
    "df['is_wh_words_present']"
   ]
  },
  {
   "cell_type": "code",
   "execution_count": 91,
   "metadata": {},
   "outputs": [
    {
     "data": {
      "text/html": [
       "<div>\n",
       "<style scoped>\n",
       "    .dataframe tbody tr th:only-of-type {\n",
       "        vertical-align: middle;\n",
       "    }\n",
       "\n",
       "    .dataframe tbody tr th {\n",
       "        vertical-align: top;\n",
       "    }\n",
       "\n",
       "    .dataframe thead th {\n",
       "        text-align: right;\n",
       "    }\n",
       "</style>\n",
       "<table border=\"1\" class=\"dataframe\">\n",
       "  <thead>\n",
       "    <tr style=\"text-align: right;\">\n",
       "      <th></th>\n",
       "      <th>text</th>\n",
       "      <th>number_of_words</th>\n",
       "      <th>is_wh_words_present</th>\n",
       "    </tr>\n",
       "  </thead>\n",
       "  <tbody>\n",
       "    <tr>\n",
       "      <td>0</td>\n",
       "      <td>ALICE'S ADVENTURES IN WONDERLAND              ...</td>\n",
       "      <td>50</td>\n",
       "      <td>False</td>\n",
       "    </tr>\n",
       "    <tr>\n",
       "      <td>1</td>\n",
       "      <td>Once or twice she had peeped into thebook her ...</td>\n",
       "      <td>33</td>\n",
       "      <td>True</td>\n",
       "    </tr>\n",
       "    <tr>\n",
       "      <td>2</td>\n",
       "      <td>\"So she was considering in her own mind (as we...</td>\n",
       "      <td>77</td>\n",
       "      <td>True</td>\n",
       "    </tr>\n",
       "    <tr>\n",
       "      <td>3</td>\n",
       "      <td>Ohdear!</td>\n",
       "      <td>1</td>\n",
       "      <td>False</td>\n",
       "    </tr>\n",
       "    <tr>\n",
       "      <td>4</td>\n",
       "      <td>I shall be too late!\"</td>\n",
       "      <td>5</td>\n",
       "      <td>False</td>\n",
       "    </tr>\n",
       "    <tr>\n",
       "      <td>...</td>\n",
       "      <td>...</td>\n",
       "      <td>...</td>\n",
       "      <td>...</td>\n",
       "    </tr>\n",
       "    <tr>\n",
       "      <td>560</td>\n",
       "      <td>\"Why, what a long sleep you'vehad!</td>\n",
       "      <td>6</td>\n",
       "      <td>True</td>\n",
       "    </tr>\n",
       "    <tr>\n",
       "      <td>561</td>\n",
       "      <td>\"\"Oh, I've had such a curious dream!\"</td>\n",
       "      <td>8</td>\n",
       "      <td>False</td>\n",
       "    </tr>\n",
       "    <tr>\n",
       "      <td>562</td>\n",
       "      <td>said Alice.</td>\n",
       "      <td>2</td>\n",
       "      <td>False</td>\n",
       "    </tr>\n",
       "    <tr>\n",
       "      <td>563</td>\n",
       "      <td>And she told hersister, as well as she could r...</td>\n",
       "      <td>23</td>\n",
       "      <td>False</td>\n",
       "    </tr>\n",
       "    <tr>\n",
       "      <td>564</td>\n",
       "      <td>Alice got up and ran off,thinking while she ra...</td>\n",
       "      <td>20</td>\n",
       "      <td>True</td>\n",
       "    </tr>\n",
       "  </tbody>\n",
       "</table>\n",
       "<p>565 rows × 3 columns</p>\n",
       "</div>"
      ],
      "text/plain": [
       "                                                  text  number_of_words  \\\n",
       "0    ALICE'S ADVENTURES IN WONDERLAND              ...               50   \n",
       "1    Once or twice she had peeped into thebook her ...               33   \n",
       "2    \"So she was considering in her own mind (as we...               77   \n",
       "3                                              Ohdear!                1   \n",
       "4                                I shall be too late!\"                5   \n",
       "..                                                 ...              ...   \n",
       "560                 \"Why, what a long sleep you'vehad!                6   \n",
       "561              \"\"Oh, I've had such a curious dream!\"                8   \n",
       "562                                        said Alice.                2   \n",
       "563  And she told hersister, as well as she could r...               23   \n",
       "564  Alice got up and ran off,thinking while she ra...               20   \n",
       "\n",
       "     is_wh_words_present  \n",
       "0                  False  \n",
       "1                   True  \n",
       "2                   True  \n",
       "3                  False  \n",
       "4                  False  \n",
       "..                   ...  \n",
       "560                 True  \n",
       "561                False  \n",
       "562                False  \n",
       "563                False  \n",
       "564                 True  \n",
       "\n",
       "[565 rows x 3 columns]"
      ]
     },
     "execution_count": 91,
     "metadata": {},
     "output_type": "execute_result"
    }
   ],
   "source": [
    "df"
   ]
  },
  {
   "cell_type": "code",
   "execution_count": 93,
   "metadata": {},
   "outputs": [
    {
     "data": {
      "text/plain": [
       "0     -0.082424\n",
       "1      0.000000\n",
       "2      0.136111\n",
       "3      0.000000\n",
       "4     -0.375000\n",
       "         ...   \n",
       "560   -0.062500\n",
       "561   -0.062500\n",
       "562    0.000000\n",
       "563   -0.050000\n",
       "564    1.000000\n",
       "Name: polarity, Length: 565, dtype: float64"
      ]
     },
     "execution_count": 93,
     "metadata": {},
     "output_type": "execute_result"
    }
   ],
   "source": [
    "df['polarity'] = df['text'].apply(lambda x : TextBlob(str(x)).sentiment.polarity)\n",
    "df['polarity']"
   ]
  },
  {
   "cell_type": "code",
   "execution_count": 94,
   "metadata": {},
   "outputs": [
    {
     "data": {
      "text/html": [
       "<div>\n",
       "<style scoped>\n",
       "    .dataframe tbody tr th:only-of-type {\n",
       "        vertical-align: middle;\n",
       "    }\n",
       "\n",
       "    .dataframe tbody tr th {\n",
       "        vertical-align: top;\n",
       "    }\n",
       "\n",
       "    .dataframe thead th {\n",
       "        text-align: right;\n",
       "    }\n",
       "</style>\n",
       "<table border=\"1\" class=\"dataframe\">\n",
       "  <thead>\n",
       "    <tr style=\"text-align: right;\">\n",
       "      <th></th>\n",
       "      <th>text</th>\n",
       "      <th>number_of_words</th>\n",
       "      <th>is_wh_words_present</th>\n",
       "      <th>polarity</th>\n",
       "    </tr>\n",
       "  </thead>\n",
       "  <tbody>\n",
       "    <tr>\n",
       "      <td>0</td>\n",
       "      <td>ALICE'S ADVENTURES IN WONDERLAND              ...</td>\n",
       "      <td>50</td>\n",
       "      <td>False</td>\n",
       "      <td>-0.082424</td>\n",
       "    </tr>\n",
       "    <tr>\n",
       "      <td>1</td>\n",
       "      <td>Once or twice she had peeped into thebook her ...</td>\n",
       "      <td>33</td>\n",
       "      <td>True</td>\n",
       "      <td>0.000000</td>\n",
       "    </tr>\n",
       "    <tr>\n",
       "      <td>2</td>\n",
       "      <td>\"So she was considering in her own mind (as we...</td>\n",
       "      <td>77</td>\n",
       "      <td>True</td>\n",
       "      <td>0.136111</td>\n",
       "    </tr>\n",
       "    <tr>\n",
       "      <td>3</td>\n",
       "      <td>Ohdear!</td>\n",
       "      <td>1</td>\n",
       "      <td>False</td>\n",
       "      <td>0.000000</td>\n",
       "    </tr>\n",
       "    <tr>\n",
       "      <td>4</td>\n",
       "      <td>I shall be too late!\"</td>\n",
       "      <td>5</td>\n",
       "      <td>False</td>\n",
       "      <td>-0.375000</td>\n",
       "    </tr>\n",
       "    <tr>\n",
       "      <td>...</td>\n",
       "      <td>...</td>\n",
       "      <td>...</td>\n",
       "      <td>...</td>\n",
       "      <td>...</td>\n",
       "    </tr>\n",
       "    <tr>\n",
       "      <td>560</td>\n",
       "      <td>\"Why, what a long sleep you'vehad!</td>\n",
       "      <td>6</td>\n",
       "      <td>True</td>\n",
       "      <td>-0.062500</td>\n",
       "    </tr>\n",
       "    <tr>\n",
       "      <td>561</td>\n",
       "      <td>\"\"Oh, I've had such a curious dream!\"</td>\n",
       "      <td>8</td>\n",
       "      <td>False</td>\n",
       "      <td>-0.062500</td>\n",
       "    </tr>\n",
       "    <tr>\n",
       "      <td>562</td>\n",
       "      <td>said Alice.</td>\n",
       "      <td>2</td>\n",
       "      <td>False</td>\n",
       "      <td>0.000000</td>\n",
       "    </tr>\n",
       "    <tr>\n",
       "      <td>563</td>\n",
       "      <td>And she told hersister, as well as she could r...</td>\n",
       "      <td>23</td>\n",
       "      <td>False</td>\n",
       "      <td>-0.050000</td>\n",
       "    </tr>\n",
       "    <tr>\n",
       "      <td>564</td>\n",
       "      <td>Alice got up and ran off,thinking while she ra...</td>\n",
       "      <td>20</td>\n",
       "      <td>True</td>\n",
       "      <td>1.000000</td>\n",
       "    </tr>\n",
       "  </tbody>\n",
       "</table>\n",
       "<p>565 rows × 4 columns</p>\n",
       "</div>"
      ],
      "text/plain": [
       "                                                  text  number_of_words  \\\n",
       "0    ALICE'S ADVENTURES IN WONDERLAND              ...               50   \n",
       "1    Once or twice she had peeped into thebook her ...               33   \n",
       "2    \"So she was considering in her own mind (as we...               77   \n",
       "3                                              Ohdear!                1   \n",
       "4                                I shall be too late!\"                5   \n",
       "..                                                 ...              ...   \n",
       "560                 \"Why, what a long sleep you'vehad!                6   \n",
       "561              \"\"Oh, I've had such a curious dream!\"                8   \n",
       "562                                        said Alice.                2   \n",
       "563  And she told hersister, as well as she could r...               23   \n",
       "564  Alice got up and ran off,thinking while she ra...               20   \n",
       "\n",
       "     is_wh_words_present  polarity  \n",
       "0                  False -0.082424  \n",
       "1                   True  0.000000  \n",
       "2                   True  0.136111  \n",
       "3                  False  0.000000  \n",
       "4                  False -0.375000  \n",
       "..                   ...       ...  \n",
       "560                 True -0.062500  \n",
       "561                False -0.062500  \n",
       "562                False  0.000000  \n",
       "563                False -0.050000  \n",
       "564                 True  1.000000  \n",
       "\n",
       "[565 rows x 4 columns]"
      ]
     },
     "execution_count": 94,
     "metadata": {},
     "output_type": "execute_result"
    }
   ],
   "source": [
    "df"
   ]
  },
  {
   "cell_type": "code",
   "execution_count": null,
   "metadata": {},
   "outputs": [],
   "source": []
  }
 ],
 "metadata": {
  "kernelspec": {
   "display_name": "Python 3",
   "language": "python",
   "name": "python3"
  },
  "language_info": {
   "codemirror_mode": {
    "name": "ipython",
    "version": 3
   },
   "file_extension": ".py",
   "mimetype": "text/x-python",
   "name": "python",
   "nbconvert_exporter": "python",
   "pygments_lexer": "ipython3",
   "version": "3.7.4"
  }
 },
 "nbformat": 4,
 "nbformat_minor": 2
}
