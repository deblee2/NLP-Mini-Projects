{
  "nbformat": 4,
  "nbformat_minor": 0,
  "metadata": {
    "kernelspec": {
      "display_name": "Python 3",
      "language": "python",
      "name": "python3"
    },
    "language_info": {
      "codemirror_mode": {
        "name": "ipython",
        "version": 3
      },
      "file_extension": ".py",
      "mimetype": "text/x-python",
      "name": "python",
      "nbconvert_exporter": "python",
      "pygments_lexer": "ipython3",
      "version": "3.7.3"
    },
    "colab": {
      "name": "colab_13_Boston.ipynb",
      "provenance": [],
      "collapsed_sections": []
    }
  },
  "cells": [
    {
      "cell_type": "markdown",
      "metadata": {
        "id": "dfvyDNeGVJxE"
      },
      "source": [
        "# **15장 선형 회귀 적용하기**\n",
        "\n",
        "1978년, 집값에 가장 큰 영향을 미치는 것이 '깨끗한 공기'라는 연구 결과가 하버드대학교 도시개발학과에서 발표되었습니다. 이들은 자신의 주장을 뒷받침하기 위해 집값의 변동에 영향을 미치는 여러 가지 요인을 모아서 환경과 집값의 변동을 보여주는 데이터셋을 만들었습니다. 그로부터 수십년 후, 이 데이터셋은 머신러닝의 선형 회귀를 테스트하는 가장 유명한 데이터로 쓰이고 있습니다."
      ]
    },
    {
      "cell_type": "markdown",
      "metadata": {
        "id": "3YZtkWTfVnZZ"
      },
      "source": [
        "딥러닝에서의 선형 회귀\n",
        "\n",
        "지금까지는 classification만 해봤는데 새로운 유형인 회귀(예측)가 등장했습니다."
      ]
    },
    {
      "cell_type": "code",
      "metadata": {
        "id": "2aLglv9OiUqx",
        "colab": {
          "resources": {
            "http://localhost:8080/nbextensions/google.colab/files.js": {
              "data": "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",
              "ok": true,
              "headers": [
                [
                  "content-type",
                  "application/javascript"
                ]
              ],
              "status": 200,
              "status_text": ""
            }
          },
          "base_uri": "https://localhost:8080/",
          "height": 72
        },
        "outputId": "41edf747-a55e-4912-c25d-a49bc6298a31"
      },
      "source": [
        "#데이터 입력\n",
        "from google.colab import files\n",
        "uploaded = files.upload()\n",
        "my_data = 'housing.csv'"
      ],
      "execution_count": null,
      "outputs": [
        {
          "output_type": "display_data",
          "data": {
            "text/html": [
              "\n",
              "     <input type=\"file\" id=\"files-4a1bc82e-3390-4cc9-ae80-f3fb7dd7bb46\" name=\"files[]\" multiple disabled\n",
              "        style=\"border:none\" />\n",
              "     <output id=\"result-4a1bc82e-3390-4cc9-ae80-f3fb7dd7bb46\">\n",
              "      Upload widget is only available when the cell has been executed in the\n",
              "      current browser session. Please rerun this cell to enable.\n",
              "      </output>\n",
              "      <script src=\"/nbextensions/google.colab/files.js\"></script> "
            ],
            "text/plain": [
              "<IPython.core.display.HTML object>"
            ]
          },
          "metadata": {
            "tags": []
          }
        },
        {
          "output_type": "stream",
          "text": [
            "Saving housing.csv to housing.csv\n"
          ],
          "name": "stdout"
        }
      ]
    },
    {
      "cell_type": "code",
      "metadata": {
        "id": "d_Bkbk-OVmKT"
      },
      "source": [
        "#-*- coding: utf-8 -*-\n",
        "from keras.models import Sequential\n",
        "from keras.layers import Dense\n",
        "from sklearn.model_selection import train_test_split\n",
        "\n",
        "import numpy\n",
        "import pandas as pd\n",
        "import tensorflow as tf\n",
        "\n",
        "# seed 값 설정\n",
        "seed = 0\n",
        "numpy.random.seed(seed)\n",
        "tf.random.set_seed(3)"
      ],
      "execution_count": null,
      "outputs": []
    },
    {
      "cell_type": "markdown",
      "metadata": {
        "id": "vdtiD7_7VyZ8"
      },
      "source": [
        "index가 506개이므로 총 샘플의 수는 506개, 컬럼 수는 14개이므로 13개의 속성과 1개의 클래스(아마 집값)로 이루어졌음을 짐작할 수 있습니다."
      ]
    },
    {
      "cell_type": "code",
      "metadata": {
        "id": "PlmMSV2UiUq4",
        "colab": {
          "base_uri": "https://localhost:8080/",
          "height": 35
        },
        "outputId": "f9c34c50-9926-449d-ed55-6abe1987086a"
      },
      "source": [
        "df = pd.read_csv(my_data, delim_whitespace=True, header=None)\n",
        "'''\n",
        "print(df.info())\n",
        "print(df.head())\n",
        "'''"
      ],
      "execution_count": null,
      "outputs": [
        {
          "output_type": "execute_result",
          "data": {
            "application/vnd.google.colaboratory.intrinsic+json": {
              "type": "string"
            },
            "text/plain": [
              "'\\nprint(df.info())\\nprint(df.head())\\n'"
            ]
          },
          "metadata": {
            "tags": []
          },
          "execution_count": 6
        }
      ]
    },
    {
      "cell_type": "code",
      "metadata": {
        "id": "MfZsOekcWZ2J"
      },
      "source": [
        "dataset = df.values\n",
        "X = dataset[:,0:13]\n",
        "Y = dataset[:,13]\n",
        "\n",
        "X_train, X_test, Y_train, Y_test = train_test_split(X, Y, test_size=0.3, random_state=seed)\n",
        "\n",
        "model = Sequential()\n",
        "model.add(Dense(30, input_dim=13, activation='relu'))\n",
        "model.add(Dense(6, activation='relu'))\n",
        "model.add(Dense(1)) #활성화 함수(sigmoid) 지정하지 않고 숫자가 나오게 됩니다."
      ],
      "execution_count": null,
      "outputs": []
    },
    {
      "cell_type": "markdown",
      "metadata": {
        "id": "-lCa547AWaZR"
      },
      "source": [
        "선형 회귀 데이터는 마지막에 참과 거짓을 비교할 필요가 없습니다. 출력층에 활성화 함수를 지정할 필요도 없습니다."
      ]
    },
    {
      "cell_type": "code",
      "metadata": {
        "colab": {
          "base_uri": "https://localhost:8080/"
        },
        "id": "Czn1y7W7V7MG",
        "outputId": "95a89f67-3ffc-4334-a806-d449d9545579"
      },
      "source": [
        "model.compile(loss='mean_squared_error',\n",
        "              optimizer='adam')\n",
        "\n",
        "model.fit(X_train, Y_train, epochs=200, batch_size=10)"
      ],
      "execution_count": null,
      "outputs": [
        {
          "output_type": "stream",
          "text": [
            "Epoch 1/200\n",
            "36/36 [==============================] - 0s 1ms/step - loss: 1524.5135\n",
            "Epoch 2/200\n",
            "36/36 [==============================] - 0s 1ms/step - loss: 256.2866\n",
            "Epoch 3/200\n",
            "36/36 [==============================] - 0s 1ms/step - loss: 186.9009\n",
            "Epoch 4/200\n",
            "36/36 [==============================] - 0s 1ms/step - loss: 142.4742\n",
            "Epoch 5/200\n",
            "36/36 [==============================] - 0s 1ms/step - loss: 111.1944\n",
            "Epoch 6/200\n",
            "36/36 [==============================] - 0s 2ms/step - loss: 90.2427\n",
            "Epoch 7/200\n",
            "36/36 [==============================] - 0s 1ms/step - loss: 76.8148\n",
            "Epoch 8/200\n",
            "36/36 [==============================] - 0s 1ms/step - loss: 67.9618\n",
            "Epoch 9/200\n",
            "36/36 [==============================] - 0s 1ms/step - loss: 65.9340\n",
            "Epoch 10/200\n",
            "36/36 [==============================] - 0s 1ms/step - loss: 59.2987\n",
            "Epoch 11/200\n",
            "36/36 [==============================] - 0s 1ms/step - loss: 58.5852\n",
            "Epoch 12/200\n",
            "36/36 [==============================] - 0s 1ms/step - loss: 55.7488\n",
            "Epoch 13/200\n",
            "36/36 [==============================] - 0s 1ms/step - loss: 53.8004\n",
            "Epoch 14/200\n",
            "36/36 [==============================] - 0s 1ms/step - loss: 52.6133\n",
            "Epoch 15/200\n",
            "36/36 [==============================] - 0s 1ms/step - loss: 51.1337\n",
            "Epoch 16/200\n",
            "36/36 [==============================] - 0s 1ms/step - loss: 51.9028\n",
            "Epoch 17/200\n",
            "36/36 [==============================] - 0s 1ms/step - loss: 54.2911\n",
            "Epoch 18/200\n",
            "36/36 [==============================] - 0s 1ms/step - loss: 50.4121\n",
            "Epoch 19/200\n",
            "36/36 [==============================] - 0s 1ms/step - loss: 47.2831\n",
            "Epoch 20/200\n",
            "36/36 [==============================] - 0s 2ms/step - loss: 47.5381\n",
            "Epoch 21/200\n",
            "36/36 [==============================] - 0s 1ms/step - loss: 46.8204\n",
            "Epoch 22/200\n",
            "36/36 [==============================] - 0s 1ms/step - loss: 45.1531\n",
            "Epoch 23/200\n",
            "36/36 [==============================] - 0s 1ms/step - loss: 46.8094\n",
            "Epoch 24/200\n",
            "36/36 [==============================] - 0s 1ms/step - loss: 51.4414\n",
            "Epoch 25/200\n",
            "36/36 [==============================] - 0s 2ms/step - loss: 45.3950\n",
            "Epoch 26/200\n",
            "36/36 [==============================] - 0s 1ms/step - loss: 43.9517\n",
            "Epoch 27/200\n",
            "36/36 [==============================] - 0s 1ms/step - loss: 41.9813\n",
            "Epoch 28/200\n",
            "36/36 [==============================] - 0s 1ms/step - loss: 40.9878\n",
            "Epoch 29/200\n",
            "36/36 [==============================] - 0s 1ms/step - loss: 41.5143\n",
            "Epoch 30/200\n",
            "36/36 [==============================] - 0s 1ms/step - loss: 40.8767\n",
            "Epoch 31/200\n",
            "36/36 [==============================] - 0s 1ms/step - loss: 39.4589\n",
            "Epoch 32/200\n",
            "36/36 [==============================] - 0s 1ms/step - loss: 39.3771\n",
            "Epoch 33/200\n",
            "36/36 [==============================] - 0s 1ms/step - loss: 40.4477\n",
            "Epoch 34/200\n",
            "36/36 [==============================] - 0s 1ms/step - loss: 39.4941\n",
            "Epoch 35/200\n",
            "36/36 [==============================] - 0s 1ms/step - loss: 38.6455\n",
            "Epoch 36/200\n",
            "36/36 [==============================] - 0s 1ms/step - loss: 38.4625\n",
            "Epoch 37/200\n",
            "36/36 [==============================] - 0s 1ms/step - loss: 36.7980\n",
            "Epoch 38/200\n",
            "36/36 [==============================] - 0s 1ms/step - loss: 37.0644\n",
            "Epoch 39/200\n",
            "36/36 [==============================] - 0s 1ms/step - loss: 35.5902\n",
            "Epoch 40/200\n",
            "36/36 [==============================] - 0s 1ms/step - loss: 38.8377\n",
            "Epoch 41/200\n",
            "36/36 [==============================] - 0s 1ms/step - loss: 34.9630\n",
            "Epoch 42/200\n",
            "36/36 [==============================] - 0s 2ms/step - loss: 35.7443\n",
            "Epoch 43/200\n",
            "36/36 [==============================] - 0s 1ms/step - loss: 34.5492\n",
            "Epoch 44/200\n",
            "36/36 [==============================] - 0s 2ms/step - loss: 35.6233\n",
            "Epoch 45/200\n",
            "36/36 [==============================] - 0s 1ms/step - loss: 35.8558\n",
            "Epoch 46/200\n",
            "36/36 [==============================] - 0s 1ms/step - loss: 35.5242\n",
            "Epoch 47/200\n",
            "36/36 [==============================] - 0s 1ms/step - loss: 36.8155\n",
            "Epoch 48/200\n",
            "36/36 [==============================] - 0s 1ms/step - loss: 43.6640\n",
            "Epoch 49/200\n",
            "36/36 [==============================] - 0s 1ms/step - loss: 35.2339\n",
            "Epoch 50/200\n",
            "36/36 [==============================] - 0s 1ms/step - loss: 38.2003\n",
            "Epoch 51/200\n",
            "36/36 [==============================] - 0s 1ms/step - loss: 36.2862\n",
            "Epoch 52/200\n",
            "36/36 [==============================] - 0s 2ms/step - loss: 34.8008\n",
            "Epoch 53/200\n",
            "36/36 [==============================] - 0s 2ms/step - loss: 34.6273\n",
            "Epoch 54/200\n",
            "36/36 [==============================] - 0s 1ms/step - loss: 32.8141\n",
            "Epoch 55/200\n",
            "36/36 [==============================] - 0s 2ms/step - loss: 34.4405\n",
            "Epoch 56/200\n",
            "36/36 [==============================] - 0s 1ms/step - loss: 34.2651\n",
            "Epoch 57/200\n",
            "36/36 [==============================] - 0s 2ms/step - loss: 37.4957\n",
            "Epoch 58/200\n",
            "36/36 [==============================] - 0s 1ms/step - loss: 32.7160\n",
            "Epoch 59/200\n",
            "36/36 [==============================] - 0s 1ms/step - loss: 32.3432\n",
            "Epoch 60/200\n",
            "36/36 [==============================] - 0s 1ms/step - loss: 32.2775\n",
            "Epoch 61/200\n",
            "36/36 [==============================] - 0s 1ms/step - loss: 32.1259\n",
            "Epoch 62/200\n",
            "36/36 [==============================] - 0s 2ms/step - loss: 32.8933\n",
            "Epoch 63/200\n",
            "36/36 [==============================] - 0s 1ms/step - loss: 32.7366\n",
            "Epoch 64/200\n",
            "36/36 [==============================] - 0s 1ms/step - loss: 31.0622\n",
            "Epoch 65/200\n",
            "36/36 [==============================] - 0s 1ms/step - loss: 31.4459\n",
            "Epoch 66/200\n",
            "36/36 [==============================] - 0s 1ms/step - loss: 42.6871\n",
            "Epoch 67/200\n",
            "36/36 [==============================] - 0s 2ms/step - loss: 31.3790\n",
            "Epoch 68/200\n",
            "36/36 [==============================] - 0s 1ms/step - loss: 33.4417\n",
            "Epoch 69/200\n",
            "36/36 [==============================] - 0s 1ms/step - loss: 31.1856\n",
            "Epoch 70/200\n",
            "36/36 [==============================] - 0s 1ms/step - loss: 31.4325\n",
            "Epoch 71/200\n",
            "36/36 [==============================] - 0s 1ms/step - loss: 33.7948\n",
            "Epoch 72/200\n",
            "36/36 [==============================] - 0s 2ms/step - loss: 30.7863\n",
            "Epoch 73/200\n",
            "36/36 [==============================] - 0s 1ms/step - loss: 33.5328\n",
            "Epoch 74/200\n",
            "36/36 [==============================] - 0s 1ms/step - loss: 32.4257\n",
            "Epoch 75/200\n",
            "36/36 [==============================] - 0s 1ms/step - loss: 32.6570\n",
            "Epoch 76/200\n",
            "36/36 [==============================] - 0s 1ms/step - loss: 34.6533\n",
            "Epoch 77/200\n",
            "36/36 [==============================] - 0s 1ms/step - loss: 32.8118\n",
            "Epoch 78/200\n",
            "36/36 [==============================] - 0s 1ms/step - loss: 32.7801\n",
            "Epoch 79/200\n",
            "36/36 [==============================] - 0s 1ms/step - loss: 29.3970\n",
            "Epoch 80/200\n",
            "36/36 [==============================] - 0s 1ms/step - loss: 33.5264\n",
            "Epoch 81/200\n",
            "36/36 [==============================] - 0s 2ms/step - loss: 33.0006\n",
            "Epoch 82/200\n",
            "36/36 [==============================] - 0s 1ms/step - loss: 29.2389\n",
            "Epoch 83/200\n",
            "36/36 [==============================] - 0s 2ms/step - loss: 31.6681\n",
            "Epoch 84/200\n",
            "36/36 [==============================] - 0s 1ms/step - loss: 32.6682\n",
            "Epoch 85/200\n",
            "36/36 [==============================] - 0s 1ms/step - loss: 31.7807\n",
            "Epoch 86/200\n",
            "36/36 [==============================] - 0s 1ms/step - loss: 30.4222\n",
            "Epoch 87/200\n",
            "36/36 [==============================] - 0s 1ms/step - loss: 29.0192\n",
            "Epoch 88/200\n",
            "36/36 [==============================] - 0s 2ms/step - loss: 31.0338\n",
            "Epoch 89/200\n",
            "36/36 [==============================] - 0s 1ms/step - loss: 31.9085\n",
            "Epoch 90/200\n",
            "36/36 [==============================] - 0s 1ms/step - loss: 32.5938\n",
            "Epoch 91/200\n",
            "36/36 [==============================] - 0s 1ms/step - loss: 28.2115\n",
            "Epoch 92/200\n",
            "36/36 [==============================] - 0s 1ms/step - loss: 34.5850\n",
            "Epoch 93/200\n",
            "36/36 [==============================] - 0s 1ms/step - loss: 29.0746\n",
            "Epoch 94/200\n",
            "36/36 [==============================] - 0s 1ms/step - loss: 28.1836\n",
            "Epoch 95/200\n",
            "36/36 [==============================] - 0s 2ms/step - loss: 28.7925\n",
            "Epoch 96/200\n",
            "36/36 [==============================] - 0s 1ms/step - loss: 30.9835\n",
            "Epoch 97/200\n",
            "36/36 [==============================] - 0s 1ms/step - loss: 30.6852\n",
            "Epoch 98/200\n",
            "36/36 [==============================] - 0s 2ms/step - loss: 30.3997\n",
            "Epoch 99/200\n",
            "36/36 [==============================] - 0s 2ms/step - loss: 27.9163\n",
            "Epoch 100/200\n",
            "36/36 [==============================] - 0s 2ms/step - loss: 31.1031\n",
            "Epoch 101/200\n",
            "36/36 [==============================] - 0s 2ms/step - loss: 31.9964\n",
            "Epoch 102/200\n",
            "36/36 [==============================] - 0s 2ms/step - loss: 28.0754\n",
            "Epoch 103/200\n",
            "36/36 [==============================] - 0s 1ms/step - loss: 27.5909\n",
            "Epoch 104/200\n",
            "36/36 [==============================] - 0s 2ms/step - loss: 32.5387\n",
            "Epoch 105/200\n",
            "36/36 [==============================] - 0s 2ms/step - loss: 32.6221\n",
            "Epoch 106/200\n",
            "36/36 [==============================] - 0s 1ms/step - loss: 28.3966\n",
            "Epoch 107/200\n",
            "36/36 [==============================] - 0s 1ms/step - loss: 28.0617\n",
            "Epoch 108/200\n",
            "36/36 [==============================] - 0s 1ms/step - loss: 29.0810\n",
            "Epoch 109/200\n",
            "36/36 [==============================] - 0s 2ms/step - loss: 28.3541\n",
            "Epoch 110/200\n",
            "36/36 [==============================] - 0s 2ms/step - loss: 27.4052\n",
            "Epoch 111/200\n",
            "36/36 [==============================] - 0s 1ms/step - loss: 26.0202\n",
            "Epoch 112/200\n",
            "36/36 [==============================] - 0s 2ms/step - loss: 27.8633\n",
            "Epoch 113/200\n",
            "36/36 [==============================] - 0s 1ms/step - loss: 27.7775\n",
            "Epoch 114/200\n",
            "36/36 [==============================] - 0s 1ms/step - loss: 29.0331\n",
            "Epoch 115/200\n",
            "36/36 [==============================] - 0s 1ms/step - loss: 27.3174\n",
            "Epoch 116/200\n",
            "36/36 [==============================] - 0s 1ms/step - loss: 27.0096\n",
            "Epoch 117/200\n",
            "36/36 [==============================] - 0s 2ms/step - loss: 27.3243\n",
            "Epoch 118/200\n",
            "36/36 [==============================] - 0s 2ms/step - loss: 26.4840\n",
            "Epoch 119/200\n",
            "36/36 [==============================] - 0s 1ms/step - loss: 27.0537\n",
            "Epoch 120/200\n",
            "36/36 [==============================] - 0s 1ms/step - loss: 26.8156\n",
            "Epoch 121/200\n",
            "36/36 [==============================] - 0s 2ms/step - loss: 29.4614\n",
            "Epoch 122/200\n",
            "36/36 [==============================] - 0s 1ms/step - loss: 26.1401\n",
            "Epoch 123/200\n",
            "36/36 [==============================] - 0s 1ms/step - loss: 29.0999\n",
            "Epoch 124/200\n",
            "36/36 [==============================] - 0s 1ms/step - loss: 28.4544\n",
            "Epoch 125/200\n",
            "36/36 [==============================] - 0s 1ms/step - loss: 27.3241\n",
            "Epoch 126/200\n",
            "36/36 [==============================] - 0s 1ms/step - loss: 28.5097\n",
            "Epoch 127/200\n",
            "36/36 [==============================] - 0s 2ms/step - loss: 27.1466\n",
            "Epoch 128/200\n",
            "36/36 [==============================] - 0s 1ms/step - loss: 31.5387\n",
            "Epoch 129/200\n",
            "36/36 [==============================] - 0s 1ms/step - loss: 25.2471\n",
            "Epoch 130/200\n",
            "36/36 [==============================] - 0s 1ms/step - loss: 26.2744\n",
            "Epoch 131/200\n",
            "36/36 [==============================] - 0s 1ms/step - loss: 27.2407\n",
            "Epoch 132/200\n",
            "36/36 [==============================] - 0s 2ms/step - loss: 25.9992\n",
            "Epoch 133/200\n",
            "36/36 [==============================] - 0s 1ms/step - loss: 25.8209\n",
            "Epoch 134/200\n",
            "36/36 [==============================] - 0s 1ms/step - loss: 26.8927\n",
            "Epoch 135/200\n",
            "36/36 [==============================] - 0s 1ms/step - loss: 28.9892\n",
            "Epoch 136/200\n",
            "36/36 [==============================] - 0s 2ms/step - loss: 26.2590\n",
            "Epoch 137/200\n",
            "36/36 [==============================] - 0s 1ms/step - loss: 31.7749\n",
            "Epoch 138/200\n",
            "36/36 [==============================] - 0s 1ms/step - loss: 32.1451\n",
            "Epoch 139/200\n",
            "36/36 [==============================] - 0s 1ms/step - loss: 24.6844\n",
            "Epoch 140/200\n",
            "36/36 [==============================] - 0s 2ms/step - loss: 25.2241\n",
            "Epoch 141/200\n",
            "36/36 [==============================] - 0s 1ms/step - loss: 30.4539\n",
            "Epoch 142/200\n",
            "36/36 [==============================] - 0s 1ms/step - loss: 26.5010\n",
            "Epoch 143/200\n",
            "36/36 [==============================] - 0s 2ms/step - loss: 27.2791\n",
            "Epoch 144/200\n",
            "36/36 [==============================] - 0s 1ms/step - loss: 24.6645\n",
            "Epoch 145/200\n",
            "36/36 [==============================] - 0s 1ms/step - loss: 24.6258\n",
            "Epoch 146/200\n",
            "36/36 [==============================] - 0s 1ms/step - loss: 27.8329\n",
            "Epoch 147/200\n",
            "36/36 [==============================] - 0s 1ms/step - loss: 26.1898\n",
            "Epoch 148/200\n",
            "36/36 [==============================] - 0s 1ms/step - loss: 25.5312\n",
            "Epoch 149/200\n",
            "36/36 [==============================] - 0s 1ms/step - loss: 27.5780\n",
            "Epoch 150/200\n",
            "36/36 [==============================] - 0s 2ms/step - loss: 24.6408\n",
            "Epoch 151/200\n",
            "36/36 [==============================] - 0s 1ms/step - loss: 25.6315\n",
            "Epoch 152/200\n",
            "36/36 [==============================] - 0s 1ms/step - loss: 26.0993\n",
            "Epoch 153/200\n",
            "36/36 [==============================] - 0s 1ms/step - loss: 24.8676\n",
            "Epoch 154/200\n",
            "36/36 [==============================] - 0s 1ms/step - loss: 26.3717\n",
            "Epoch 155/200\n",
            "36/36 [==============================] - 0s 1ms/step - loss: 26.5880\n",
            "Epoch 156/200\n",
            "36/36 [==============================] - 0s 1ms/step - loss: 27.1573\n",
            "Epoch 157/200\n",
            "36/36 [==============================] - 0s 1ms/step - loss: 25.1771\n",
            "Epoch 158/200\n",
            "36/36 [==============================] - 0s 1ms/step - loss: 26.3315\n",
            "Epoch 159/200\n",
            "36/36 [==============================] - 0s 2ms/step - loss: 26.2650\n",
            "Epoch 160/200\n",
            "36/36 [==============================] - 0s 1ms/step - loss: 25.5492\n",
            "Epoch 161/200\n",
            "36/36 [==============================] - 0s 2ms/step - loss: 26.4864\n",
            "Epoch 162/200\n",
            "36/36 [==============================] - 0s 1ms/step - loss: 27.2164\n",
            "Epoch 163/200\n",
            "36/36 [==============================] - 0s 1ms/step - loss: 28.2463\n",
            "Epoch 164/200\n",
            "36/36 [==============================] - 0s 1ms/step - loss: 28.4545\n",
            "Epoch 165/200\n",
            "36/36 [==============================] - 0s 2ms/step - loss: 24.5646\n",
            "Epoch 166/200\n",
            "36/36 [==============================] - 0s 1ms/step - loss: 24.9823\n",
            "Epoch 167/200\n",
            "36/36 [==============================] - 0s 1ms/step - loss: 25.2599\n",
            "Epoch 168/200\n",
            "36/36 [==============================] - 0s 1ms/step - loss: 23.1375\n",
            "Epoch 169/200\n",
            "36/36 [==============================] - 0s 1ms/step - loss: 25.8219\n",
            "Epoch 170/200\n",
            "36/36 [==============================] - 0s 2ms/step - loss: 26.0744\n",
            "Epoch 171/200\n",
            "36/36 [==============================] - 0s 2ms/step - loss: 24.3813\n",
            "Epoch 172/200\n",
            "36/36 [==============================] - 0s 1ms/step - loss: 24.3354\n",
            "Epoch 173/200\n",
            "36/36 [==============================] - 0s 2ms/step - loss: 25.6699\n",
            "Epoch 174/200\n",
            "36/36 [==============================] - 0s 1ms/step - loss: 25.0133\n",
            "Epoch 175/200\n",
            "36/36 [==============================] - 0s 2ms/step - loss: 25.0578\n",
            "Epoch 176/200\n",
            "36/36 [==============================] - 0s 2ms/step - loss: 23.1862\n",
            "Epoch 177/200\n",
            "36/36 [==============================] - 0s 2ms/step - loss: 23.7787\n",
            "Epoch 178/200\n",
            "36/36 [==============================] - 0s 1ms/step - loss: 24.7538\n",
            "Epoch 179/200\n",
            "36/36 [==============================] - 0s 1ms/step - loss: 23.9547\n",
            "Epoch 180/200\n",
            "36/36 [==============================] - 0s 2ms/step - loss: 24.7296\n",
            "Epoch 181/200\n",
            "36/36 [==============================] - 0s 1ms/step - loss: 30.0296\n",
            "Epoch 182/200\n",
            "36/36 [==============================] - 0s 1ms/step - loss: 24.0140\n",
            "Epoch 183/200\n",
            "36/36 [==============================] - 0s 1ms/step - loss: 23.1410\n",
            "Epoch 184/200\n",
            "36/36 [==============================] - 0s 1ms/step - loss: 27.1600\n",
            "Epoch 185/200\n",
            "36/36 [==============================] - 0s 2ms/step - loss: 22.4611\n",
            "Epoch 186/200\n",
            "36/36 [==============================] - 0s 1ms/step - loss: 21.7000\n",
            "Epoch 187/200\n",
            "36/36 [==============================] - 0s 1ms/step - loss: 23.1122\n",
            "Epoch 188/200\n",
            "36/36 [==============================] - 0s 2ms/step - loss: 24.6129\n",
            "Epoch 189/200\n",
            "36/36 [==============================] - 0s 1ms/step - loss: 22.3229\n",
            "Epoch 190/200\n",
            "36/36 [==============================] - 0s 1ms/step - loss: 22.2727\n",
            "Epoch 191/200\n",
            "36/36 [==============================] - 0s 1ms/step - loss: 23.1899\n",
            "Epoch 192/200\n",
            "36/36 [==============================] - 0s 2ms/step - loss: 24.3736\n",
            "Epoch 193/200\n",
            "36/36 [==============================] - 0s 2ms/step - loss: 21.4754\n",
            "Epoch 194/200\n",
            "36/36 [==============================] - 0s 2ms/step - loss: 26.9502\n",
            "Epoch 195/200\n",
            "36/36 [==============================] - 0s 1ms/step - loss: 22.7155\n",
            "Epoch 196/200\n",
            "36/36 [==============================] - 0s 1ms/step - loss: 22.4674\n",
            "Epoch 197/200\n",
            "36/36 [==============================] - 0s 1ms/step - loss: 22.7241\n",
            "Epoch 198/200\n",
            "36/36 [==============================] - 0s 2ms/step - loss: 23.2604\n",
            "Epoch 199/200\n",
            "36/36 [==============================] - 0s 2ms/step - loss: 24.0380\n",
            "Epoch 200/200\n",
            "36/36 [==============================] - 0s 2ms/step - loss: 21.6593\n"
          ],
          "name": "stdout"
        },
        {
          "output_type": "execute_result",
          "data": {
            "text/plain": [
              "<tensorflow.python.keras.callbacks.History at 0x7fe51b455630>"
            ]
          },
          "metadata": {
            "tags": []
          },
          "execution_count": 8
        }
      ]
    },
    {
      "cell_type": "markdown",
      "metadata": {
        "id": "RWgc26hkWRfu"
      },
      "source": [
        "모델의 학습이 어느 정도 되었는지 확인하기 위해 예측 값과 실제 값을 비교하는 부분을 추가합니다"
      ]
    },
    {
      "cell_type": "code",
      "metadata": {
        "colab": {
          "base_uri": "https://localhost:8080/"
        },
        "id": "RLk4iv9NV-6Z",
        "outputId": "3fc9e272-6be6-429e-deef-ad081c1b5321"
      },
      "source": [
        "# 예측 값과 실제 값의 비교\n",
        "Y_prediction = model.predict(X_test).flatten()\n",
        "for i in range(10):\n",
        "    label = Y_test[i]\n",
        "    prediction = Y_prediction[i]\n",
        "    print(\"실제가격: {:.3f}, 예상가격: {:.3f}\".format(label, prediction))"
      ],
      "execution_count": null,
      "outputs": [
        {
          "output_type": "stream",
          "text": [
            "실제가격: 22.600, 예상가격: 22.205\n",
            "실제가격: 50.000, 예상가격: 25.234\n",
            "실제가격: 23.000, 예상가격: 27.837\n",
            "실제가격: 8.300, 예상가격: 15.557\n",
            "실제가격: 21.200, 예상가격: 22.732\n",
            "실제가격: 19.900, 예상가격: 22.981\n",
            "실제가격: 20.600, 예상가격: 22.903\n",
            "실제가격: 18.700, 예상가격: 24.656\n",
            "실제가격: 16.100, 예상가격: 20.703\n",
            "실제가격: 18.600, 예상가격: 11.654\n"
          ],
          "name": "stdout"
        }
      ]
    },
    {
      "cell_type": "code",
      "metadata": {
        "id": "NUDesfa9WVnd"
      },
      "source": [
        ""
      ],
      "execution_count": null,
      "outputs": []
    }
  ]
}