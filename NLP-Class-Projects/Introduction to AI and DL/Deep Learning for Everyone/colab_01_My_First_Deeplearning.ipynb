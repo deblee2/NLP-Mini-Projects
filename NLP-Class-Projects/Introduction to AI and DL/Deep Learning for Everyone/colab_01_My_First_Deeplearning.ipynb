{
  "nbformat": 4,
  "nbformat_minor": 0,
  "metadata": {
    "kernelspec": {
      "display_name": "Python 3",
      "language": "python",
      "name": "python3"
    },
    "language_info": {
      "codemirror_mode": {
        "name": "ipython",
        "version": 3
      },
      "file_extension": ".py",
      "mimetype": "text/x-python",
      "name": "python",
      "nbconvert_exporter": "python",
      "pygments_lexer": "ipython3",
      "version": "3.7.3"
    },
    "colab": {
      "name": "colab_01_My_First_Deeplearning.ipynb",
      "provenance": [],
      "collapsed_sections": []
    }
  },
  "cells": [
    {
      "cell_type": "markdown",
      "metadata": {
        "id": "sBqgCr4jgux7"
      },
      "source": [
        "# **10장. 모델 설계하기**\n",
        "폴란드의 브로츠와프 의과대학에서 2013년 공개한 폐암 수술 환자의 수술 전 진단 데이터와 수술 후 생존 결과를 기록한 실제 의료 기록 입니다."
      ]
    },
    {
      "cell_type": "code",
      "metadata": {
        "colab": {
          "base_uri": "https://localhost:8080/",
          "height": 35
        },
        "id": "ClWg_L4Lh6Cp",
        "outputId": "479f920c-3463-4e9a-a9a3-3c17c6f9f35d"
      },
      "source": [
        "import sys\n",
        "sys.version"
      ],
      "execution_count": null,
      "outputs": [
        {
          "output_type": "execute_result",
          "data": {
            "application/vnd.google.colaboratory.intrinsic+json": {
              "type": "string"
            },
            "text/plain": [
              "'3.6.9 (default, Oct  8 2020, 12:12:24) \\n[GCC 8.4.0]'"
            ]
          },
          "metadata": {
            "tags": []
          },
          "execution_count": 1
        }
      ]
    },
    {
      "cell_type": "code",
      "metadata": {
        "colab": {
          "base_uri": "https://localhost:8080/",
          "height": 35
        },
        "id": "9nRtZXENiFr7",
        "outputId": "658b502c-2e1d-498f-d58d-1c36689cdffb"
      },
      "source": [
        "# 필요한 라이브러리를 불러옵니다.\n",
        "import numpy as np\n",
        "import tensorflow as tf\n",
        "tf.__version__"
      ],
      "execution_count": null,
      "outputs": [
        {
          "output_type": "execute_result",
          "data": {
            "application/vnd.google.colaboratory.intrinsic+json": {
              "type": "string"
            },
            "text/plain": [
              "'2.3.0'"
            ]
          },
          "metadata": {
            "tags": []
          },
          "execution_count": 2
        }
      ]
    },
    {
      "cell_type": "code",
      "metadata": {
        "id": "f9ze0bFpjsoV",
        "colab": {
          "resources": {
            "http://localhost:8080/nbextensions/google.colab/files.js": {
              "data": "Ly8gQ29weXJpZ2h0IDIwMTcgR29vZ2xlIExMQwovLwovLyBMaWNlbnNlZCB1bmRlciB0aGUgQXBhY2hlIExpY2Vuc2UsIFZlcnNpb24gMi4wICh0aGUgIkxpY2Vuc2UiKTsKLy8geW91IG1heSBub3QgdXNlIHRoaXMgZmlsZSBleGNlcHQgaW4gY29tcGxpYW5jZSB3aXRoIHRoZSBMaWNlbnNlLgovLyBZb3UgbWF5IG9idGFpbiBhIGNvcHkgb2YgdGhlIExpY2Vuc2UgYXQKLy8KLy8gICAgICBodHRwOi8vd3d3LmFwYWNoZS5vcmcvbGljZW5zZXMvTElDRU5TRS0yLjAKLy8KLy8gVW5sZXNzIHJlcXVpcmVkIGJ5IGFwcGxpY2FibGUgbGF3IG9yIGFncmVlZCB0byBpbiB3cml0aW5nLCBzb2Z0d2FyZQovLyBkaXN0cmlidXRlZCB1bmRlciB0aGUgTGljZW5zZSBpcyBkaXN0cmlidXRlZCBvbiBhbiAiQVMgSVMiIEJBU0lTLAovLyBXSVRIT1VUIFdBUlJBTlRJRVMgT1IgQ09ORElUSU9OUyBPRiBBTlkgS0lORCwgZWl0aGVyIGV4cHJlc3Mgb3IgaW1wbGllZC4KLy8gU2VlIHRoZSBMaWNlbnNlIGZvciB0aGUgc3BlY2lmaWMgbGFuZ3VhZ2UgZ292ZXJuaW5nIHBlcm1pc3Npb25zIGFuZAovLyBsaW1pdGF0aW9ucyB1bmRlciB0aGUgTGljZW5zZS4KCi8qKgogKiBAZmlsZW92ZXJ2aWV3IEhlbHBlcnMgZm9yIGdvb2dsZS5jb2xhYiBQeXRob24gbW9kdWxlLgogKi8KKGZ1bmN0aW9uKHNjb3BlKSB7CmZ1bmN0aW9uIHNwYW4odGV4dCwgc3R5bGVBdHRyaWJ1dGVzID0ge30pIHsKICBjb25zdCBlbGVtZW50ID0gZG9jdW1lbnQuY3JlYXRlRWxlbWVudCgnc3BhbicpOwogIGVsZW1lbnQudGV4dENvbnRlbnQgPSB0ZXh0OwogIGZvciAoY29uc3Qga2V5IG9mIE9iamVjdC5rZXlzKHN0eWxlQXR0cmlidXRlcykpIHsKICAgIGVsZW1lbnQuc3R5bGVba2V5XSA9IHN0eWxlQXR0cmlidXRlc1trZXldOwogIH0KICByZXR1cm4gZWxlbWVudDsKfQoKLy8gTWF4IG51bWJlciBvZiBieXRlcyB3aGljaCB3aWxsIGJlIHVwbG9hZGVkIGF0IGEgdGltZS4KY29uc3QgTUFYX1BBWUxPQURfU0laRSA9IDEwMCAqIDEwMjQ7CgpmdW5jdGlvbiBfdXBsb2FkRmlsZXMoaW5wdXRJZCwgb3V0cHV0SWQpIHsKICBjb25zdCBzdGVwcyA9IHVwbG9hZEZpbGVzU3RlcChpbnB1dElkLCBvdXRwdXRJZCk7CiAgY29uc3Qgb3V0cHV0RWxlbWVudCA9IGRvY3VtZW50LmdldEVsZW1lbnRCeUlkKG91dHB1dElkKTsKICAvLyBDYWNoZSBzdGVwcyBvbiB0aGUgb3V0cHV0RWxlbWVudCB0byBtYWtlIGl0IGF2YWlsYWJsZSBmb3IgdGhlIG5leHQgY2FsbAogIC8vIHRvIHVwbG9hZEZpbGVzQ29udGludWUgZnJvbSBQeXRob24uCiAgb3V0cHV0RWxlbWVudC5zdGVwcyA9IHN0ZXBzOwoKICByZXR1cm4gX3VwbG9hZEZpbGVzQ29udGludWUob3V0cHV0SWQpOwp9CgovLyBUaGlzIGlzIHJvdWdobHkgYW4gYXN5bmMgZ2VuZXJhdG9yIChub3Qgc3VwcG9ydGVkIGluIHRoZSBicm93c2VyIHlldCksCi8vIHdoZXJlIHRoZXJlIGFyZSBtdWx0aXBsZSBhc3luY2hyb25vdXMgc3RlcHMgYW5kIHRoZSBQeXRob24gc2lkZSBpcyBnb2luZwovLyB0byBwb2xsIGZvciBjb21wbGV0aW9uIG9mIGVhY2ggc3RlcC4KLy8gVGhpcyB1c2VzIGEgUHJvbWlzZSB0byBibG9jayB0aGUgcHl0aG9uIHNpZGUgb24gY29tcGxldGlvbiBvZiBlYWNoIHN0ZXAsCi8vIHRoZW4gcGFzc2VzIHRoZSByZXN1bHQgb2YgdGhlIHByZXZpb3VzIHN0ZXAgYXMgdGhlIGlucHV0IHRvIHRoZSBuZXh0IHN0ZXAuCmZ1bmN0aW9uIF91cGxvYWRGaWxlc0NvbnRpbnVlKG91dHB1dElkKSB7CiAgY29uc3Qgb3V0cHV0RWxlbWVudCA9IGRvY3VtZW50LmdldEVsZW1lbnRCeUlkKG91dHB1dElkKTsKICBjb25zdCBzdGVwcyA9IG91dHB1dEVsZW1lbnQuc3RlcHM7CgogIGNvbnN0IG5leHQgPSBzdGVwcy5uZXh0KG91dHB1dEVsZW1lbnQubGFzdFByb21pc2VWYWx1ZSk7CiAgcmV0dXJuIFByb21pc2UucmVzb2x2ZShuZXh0LnZhbHVlLnByb21pc2UpLnRoZW4oKHZhbHVlKSA9PiB7CiAgICAvLyBDYWNoZSB0aGUgbGFzdCBwcm9taXNlIHZhbHVlIHRvIG1ha2UgaXQgYXZhaWxhYmxlIHRvIHRoZSBuZXh0CiAgICAvLyBzdGVwIG9mIHRoZSBnZW5lcmF0b3IuCiAgICBvdXRwdXRFbGVtZW50Lmxhc3RQcm9taXNlVmFsdWUgPSB2YWx1ZTsKICAgIHJldHVybiBuZXh0LnZhbHVlLnJlc3BvbnNlOwogIH0pOwp9CgovKioKICogR2VuZXJhdG9yIGZ1bmN0aW9uIHdoaWNoIGlzIGNhbGxlZCBiZXR3ZWVuIGVhY2ggYXN5bmMgc3RlcCBvZiB0aGUgdXBsb2FkCiAqIHByb2Nlc3MuCiAqIEBwYXJhbSB7c3RyaW5nfSBpbnB1dElkIEVsZW1lbnQgSUQgb2YgdGhlIGlucHV0IGZpbGUgcGlja2VyIGVsZW1lbnQuCiAqIEBwYXJhbSB7c3RyaW5nfSBvdXRwdXRJZCBFbGVtZW50IElEIG9mIHRoZSBvdXRwdXQgZGlzcGxheS4KICogQHJldHVybiB7IUl0ZXJhYmxlPCFPYmplY3Q+fSBJdGVyYWJsZSBvZiBuZXh0IHN0ZXBzLgogKi8KZnVuY3Rpb24qIHVwbG9hZEZpbGVzU3RlcChpbnB1dElkLCBvdXRwdXRJZCkgewogIGNvbnN0IGlucHV0RWxlbWVudCA9IGRvY3VtZW50LmdldEVsZW1lbnRCeUlkKGlucHV0SWQpOwogIGlucHV0RWxlbWVudC5kaXNhYmxlZCA9IGZhbHNlOwoKICBjb25zdCBvdXRwdXRFbGVtZW50ID0gZG9jdW1lbnQuZ2V0RWxlbWVudEJ5SWQob3V0cHV0SWQpOwogIG91dHB1dEVsZW1lbnQuaW5uZXJIVE1MID0gJyc7CgogIGNvbnN0IHBpY2tlZFByb21pc2UgPSBuZXcgUHJvbWlzZSgocmVzb2x2ZSkgPT4gewogICAgaW5wdXRFbGVtZW50LmFkZEV2ZW50TGlzdGVuZXIoJ2NoYW5nZScsIChlKSA9PiB7CiAgICAgIHJlc29sdmUoZS50YXJnZXQuZmlsZXMpOwogICAgfSk7CiAgfSk7CgogIGNvbnN0IGNhbmNlbCA9IGRvY3VtZW50LmNyZWF0ZUVsZW1lbnQoJ2J1dHRvbicpOwogIGlucHV0RWxlbWVudC5wYXJlbnRFbGVtZW50LmFwcGVuZENoaWxkKGNhbmNlbCk7CiAgY2FuY2VsLnRleHRDb250ZW50ID0gJ0NhbmNlbCB1cGxvYWQnOwogIGNvbnN0IGNhbmNlbFByb21pc2UgPSBuZXcgUHJvbWlzZSgocmVzb2x2ZSkgPT4gewogICAgY2FuY2VsLm9uY2xpY2sgPSAoKSA9PiB7CiAgICAgIHJlc29sdmUobnVsbCk7CiAgICB9OwogIH0pOwoKICAvLyBXYWl0IGZvciB0aGUgdXNlciB0byBwaWNrIHRoZSBmaWxlcy4KICBjb25zdCBmaWxlcyA9IHlpZWxkIHsKICAgIHByb21pc2U6IFByb21pc2UucmFjZShbcGlja2VkUHJvbWlzZSwgY2FuY2VsUHJvbWlzZV0pLAogICAgcmVzcG9uc2U6IHsKICAgICAgYWN0aW9uOiAnc3RhcnRpbmcnLAogICAgfQogIH07CgogIGNhbmNlbC5yZW1vdmUoKTsKCiAgLy8gRGlzYWJsZSB0aGUgaW5wdXQgZWxlbWVudCBzaW5jZSBmdXJ0aGVyIHBpY2tzIGFyZSBub3QgYWxsb3dlZC4KICBpbnB1dEVsZW1lbnQuZGlzYWJsZWQgPSB0cnVlOwoKICBpZiAoIWZpbGVzKSB7CiAgICByZXR1cm4gewogICAgICByZXNwb25zZTogewogICAgICAgIGFjdGlvbjogJ2NvbXBsZXRlJywKICAgICAgfQogICAgfTsKICB9CgogIGZvciAoY29uc3QgZmlsZSBvZiBmaWxlcykgewogICAgY29uc3QgbGkgPSBkb2N1bWVudC5jcmVhdGVFbGVtZW50KCdsaScpOwogICAgbGkuYXBwZW5kKHNwYW4oZmlsZS5uYW1lLCB7Zm9udFdlaWdodDogJ2JvbGQnfSkpOwogICAgbGkuYXBwZW5kKHNwYW4oCiAgICAgICAgYCgke2ZpbGUudHlwZSB8fCAnbi9hJ30pIC0gJHtmaWxlLnNpemV9IGJ5dGVzLCBgICsKICAgICAgICBgbGFzdCBtb2RpZmllZDogJHsKICAgICAgICAgICAgZmlsZS5sYXN0TW9kaWZpZWREYXRlID8gZmlsZS5sYXN0TW9kaWZpZWREYXRlLnRvTG9jYWxlRGF0ZVN0cmluZygpIDoKICAgICAgICAgICAgICAgICAgICAgICAgICAgICAgICAgICAgJ24vYSd9IC0gYCkpOwogICAgY29uc3QgcGVyY2VudCA9IHNwYW4oJzAlIGRvbmUnKTsKICAgIGxpLmFwcGVuZENoaWxkKHBlcmNlbnQpOwoKICAgIG91dHB1dEVsZW1lbnQuYXBwZW5kQ2hpbGQobGkpOwoKICAgIGNvbnN0IGZpbGVEYXRhUHJvbWlzZSA9IG5ldyBQcm9taXNlKChyZXNvbHZlKSA9PiB7CiAgICAgIGNvbnN0IHJlYWRlciA9IG5ldyBGaWxlUmVhZGVyKCk7CiAgICAgIHJlYWRlci5vbmxvYWQgPSAoZSkgPT4gewogICAgICAgIHJlc29sdmUoZS50YXJnZXQucmVzdWx0KTsKICAgICAgfTsKICAgICAgcmVhZGVyLnJlYWRBc0FycmF5QnVmZmVyKGZpbGUpOwogICAgfSk7CiAgICAvLyBXYWl0IGZvciB0aGUgZGF0YSB0byBiZSByZWFkeS4KICAgIGxldCBmaWxlRGF0YSA9IHlpZWxkIHsKICAgICAgcHJvbWlzZTogZmlsZURhdGFQcm9taXNlLAogICAgICByZXNwb25zZTogewogICAgICAgIGFjdGlvbjogJ2NvbnRpbnVlJywKICAgICAgfQogICAgfTsKCiAgICAvLyBVc2UgYSBjaHVua2VkIHNlbmRpbmcgdG8gYXZvaWQgbWVzc2FnZSBzaXplIGxpbWl0cy4gU2VlIGIvNjIxMTU2NjAuCiAgICBsZXQgcG9zaXRpb24gPSAwOwogICAgd2hpbGUgKHBvc2l0aW9uIDwgZmlsZURhdGEuYnl0ZUxlbmd0aCkgewogICAgICBjb25zdCBsZW5ndGggPSBNYXRoLm1pbihmaWxlRGF0YS5ieXRlTGVuZ3RoIC0gcG9zaXRpb24sIE1BWF9QQVlMT0FEX1NJWkUpOwogICAgICBjb25zdCBjaHVuayA9IG5ldyBVaW50OEFycmF5KGZpbGVEYXRhLCBwb3NpdGlvbiwgbGVuZ3RoKTsKICAgICAgcG9zaXRpb24gKz0gbGVuZ3RoOwoKICAgICAgY29uc3QgYmFzZTY0ID0gYnRvYShTdHJpbmcuZnJvbUNoYXJDb2RlLmFwcGx5KG51bGwsIGNodW5rKSk7CiAgICAgIHlpZWxkIHsKICAgICAgICByZXNwb25zZTogewogICAgICAgICAgYWN0aW9uOiAnYXBwZW5kJywKICAgICAgICAgIGZpbGU6IGZpbGUubmFtZSwKICAgICAgICAgIGRhdGE6IGJhc2U2NCwKICAgICAgICB9LAogICAgICB9OwogICAgICBwZXJjZW50LnRleHRDb250ZW50ID0KICAgICAgICAgIGAke01hdGgucm91bmQoKHBvc2l0aW9uIC8gZmlsZURhdGEuYnl0ZUxlbmd0aCkgKiAxMDApfSUgZG9uZWA7CiAgICB9CiAgfQoKICAvLyBBbGwgZG9uZS4KICB5aWVsZCB7CiAgICByZXNwb25zZTogewogICAgICBhY3Rpb246ICdjb21wbGV0ZScsCiAgICB9CiAgfTsKfQoKc2NvcGUuZ29vZ2xlID0gc2NvcGUuZ29vZ2xlIHx8IHt9OwpzY29wZS5nb29nbGUuY29sYWIgPSBzY29wZS5nb29nbGUuY29sYWIgfHwge307CnNjb3BlLmdvb2dsZS5jb2xhYi5fZmlsZXMgPSB7CiAgX3VwbG9hZEZpbGVzLAogIF91cGxvYWRGaWxlc0NvbnRpbnVlLAp9Owp9KShzZWxmKTsK",
              "ok": true,
              "headers": [
                [
                  "content-type",
                  "application/javascript"
                ]
              ],
              "status": 200,
              "status_text": ""
            }
          },
          "base_uri": "https://localhost:8080/",
          "height": 89
        },
        "outputId": "915e3c16-c1cd-4a16-ec07-820d59666965"
      },
      "source": [
        "# 파일 선택을 통해 예제 데이터를 내 컴퓨터에서 불러옵니다.\n",
        "from google.colab import files\n",
        "uploaded = files.upload()\n",
        "my_data = 'ThoraricSurgery.csv'\n",
        "\n",
        "# 딥러닝을 구동하는 데 필요한 케라스 함수를 불러옵니다.\n",
        "from tensorflow.keras.models import Sequential\n",
        "from tensorflow.keras.layers import Dense\n",
        "\n",
        "# 실행할 때마다 같은 결과를 출력하기 위해 설정하는 부분입니다.\n",
        "np.random.seed(3)\n",
        "tf.random.set_seed(3)\n",
        "\n",
        "# 불러온 데이터를 적용합니다.\n",
        "Data_set = np.loadtxt(my_data, delimiter=\",\") #콤마 단위로 자르면서 로딩"
      ],
      "execution_count": null,
      "outputs": [
        {
          "output_type": "display_data",
          "data": {
            "text/html": [
              "\n",
              "     <input type=\"file\" id=\"files-c88eae68-d26d-4867-9f56-736f33bdf0d9\" name=\"files[]\" multiple disabled\n",
              "        style=\"border:none\" />\n",
              "     <output id=\"result-c88eae68-d26d-4867-9f56-736f33bdf0d9\">\n",
              "      Upload widget is only available when the cell has been executed in the\n",
              "      current browser session. Please rerun this cell to enable.\n",
              "      </output>\n",
              "      <script src=\"/nbextensions/google.colab/files.js\"></script> "
            ],
            "text/plain": [
              "<IPython.core.display.HTML object>"
            ]
          },
          "metadata": {
            "tags": []
          }
        },
        {
          "output_type": "stream",
          "text": [
            "Saving ThoraricSurgery.csv to ThoraricSurgery.csv\n"
          ],
          "name": "stdout"
        },
        {
          "output_type": "execute_result",
          "data": {
            "text/plain": [
              "(470, 470)"
            ]
          },
          "metadata": {
            "tags": []
          },
          "execution_count": 3
        }
      ]
    },
    {
      "cell_type": "markdown",
      "metadata": {
        "id": "xruCqOH7rDLO"
      },
      "source": [
        "환자의 기록과 수술 결과를 X와 Y로 구분하여 저장합니다.\n",
        "\n",
        "X: 앞 17개 데이터가 feature set입니다.\n",
        "\n",
        "Y: 클래스. 머신러닝에서 레이블이라고 하는 부분입니다."
      ]
    },
    {
      "cell_type": "code",
      "metadata": {
        "colab": {
          "base_uri": "https://localhost:8080/"
        },
        "id": "m69Xgg4VjmS9",
        "outputId": "a638bbba-360e-48ea-89d1-8a85d4e85762"
      },
      "source": [
        "X = Data_set[:,0:17] \n",
        "Y = Data_set[:,17] \n",
        "len(X), X[1], Y[:10]"
      ],
      "execution_count": null,
      "outputs": [
        {
          "output_type": "execute_result",
          "data": {
            "text/plain": [
              "(470, array([ 1.  ,  2.  ,  2.88,  2.16,  1.  ,  0.  ,  0.  ,  0.  ,  1.  ,\n",
              "         1.  , 14.  ,  0.  ,  0.  ,  0.  ,  1.  ,  0.  , 60.  ]), array([0., 0., 1., 1., 0., 0., 0., 1., 0., 0.]))"
            ]
          },
          "metadata": {
            "tags": []
          },
          "execution_count": 5
        }
      ]
    },
    {
      "cell_type": "markdown",
      "metadata": {
        "id": "fCi1E-mNrS-X"
      },
      "source": [
        "x[1]의 결과로 17개의 field가 있음을 알 수 있습니다.\n",
        "\n",
        "Y[:10]의 결과로 사망했는지 생존했는지 10개의 데이터 클래스가 출력될 수 있습니다. "
      ]
    },
    {
      "cell_type": "code",
      "metadata": {
        "id": "bMeeWVFZjbX2"
      },
      "source": [
        "# 딥러닝 구조를 결정합니다(모델을 설정하고 실행하는 부분입니다).\n",
        "model = Sequential()\n",
        "\n",
        "#입력층(input layer)과 은닉층(hidden layer). tensorflow.keras에서는 입력층과 은닉층을 합칠 수 있습니다.\n",
        "#입력층 node는 17개, 첫번째 은닉층 node는 30개압니다.\n",
        "model.add(Dense(30, input_dim=17, activation='relu'))\n",
        "\n",
        "#출력층 node는 1개(생존 or 죽음)이고 활성화함수는 sigmoid 사용합니다.\n",
        "model.add(Dense(1, activation='sigmoid'))"
      ],
      "execution_count": null,
      "outputs": []
    },
    {
      "cell_type": "markdown",
      "metadata": {
        "id": "i6LpKlnmkSAE"
      },
      "source": [
        "레이어를 어떻게 구성할지 이걸 모델이라고 합니다.\n",
        "차례대로 넘어가는 구조인 Sequential을 사용합니다.\n",
        "\n",
        "\n",
        "**model=Sequential()** 딥러닝의 모델을 설정하고 구동하는 부분은 모두 model이라는 함수를 선언하며 시작됩니다. 먼저 model=Sequential()로 시작되는 부분은 딥러닝의 구조를 짜고 층을 설정하는 부분입니다. 이어서 나오는 model.compile() 부분은 위에서 정해진 모델을 컴퓨터가 알아들을 수 있게끔 컴파일하는 부분입니다. model.fit()으로 시작하는 부분은 모델을 실제로 수행하는 부분입니다.\n",
        "\n",
        "\n",
        "**model.add(Dense(30, input_dim=17, activation=\"relu\"))**\n",
        "model.add() 함수를 통해 새로운 층을 만들고 나면 Dense()함수를 통해 이 층에 몇 개의 노드를 만들 것인지 숫자로 써줍니다. keras는 입력층을 따로 만드는 것이 아니라, 첫번째 은닉층에서 *input_dim*을 적어줌으로써 *첫 번째 Dense가 은닉층과 입력층의 역할을 겸합*니다. 우리가 다루고 있는 폐암 수술 환자의 생존 여부 데이터는 17개의 입력값들이 있습니다. *데이터에서 17개의 값을 받아 은닉층의 30개 노드로 보낸다*는 뜻입니다. \n",
        "\n",
        "**model.add(Dense(1, activation=\"sigmoid\"))**\n",
        "마지막층이므로 이 층이 곧 출력층입니다. 출력 값을 하나로 정해서 보여줘야 하므로 출력층의 노드 수는 1개입니다. 이 노드에서 입력받은 값 역시 활성화 함수(여기서는 sigmoid)를 거쳐서 최종 출력값으로 나와야 합니다."
      ]
    },
    {
      "cell_type": "code",
      "metadata": {
        "colab": {
          "base_uri": "https://localhost:8080/"
        },
        "id": "qsbkF0hBkQcT",
        "outputId": "186163e5-f777-424b-f122-7bb0960ca4dc"
      },
      "source": [
        "# 딥러닝을 실행합니다.\n",
        "model.compile(loss='binary_crossentropy', optimizer='adam', metrics=['accuracy'])\n",
        "#생존 or 죽음, binary이기 때문에 binary_crossentropy를 사용합니다.\n",
        "model.fit(X, Y, epochs=100, batch_size=10)\n",
        "#epoch: 100번 재사용되면서 반복되는 것, batch_size: 한 번에 샘플을 몇 개씩 처리하는지 명시하는 지표입니다."
      ],
      "execution_count": null,
      "outputs": [
        {
          "output_type": "stream",
          "text": [
            "Epoch 1/100\n",
            "47/47 [==============================] - 0s 1ms/step - loss: 0.6482 - accuracy: 0.8128\n",
            "Epoch 2/100\n",
            "47/47 [==============================] - 0s 915us/step - loss: 0.4890 - accuracy: 0.8468\n",
            "Epoch 3/100\n",
            "47/47 [==============================] - 0s 1ms/step - loss: 0.4416 - accuracy: 0.8511\n",
            "Epoch 4/100\n",
            "47/47 [==============================] - 0s 944us/step - loss: 0.4863 - accuracy: 0.8489\n",
            "Epoch 5/100\n",
            "47/47 [==============================] - 0s 961us/step - loss: 0.4430 - accuracy: 0.8532\n",
            "Epoch 6/100\n",
            "47/47 [==============================] - 0s 936us/step - loss: 0.4303 - accuracy: 0.8532\n",
            "Epoch 7/100\n",
            "47/47 [==============================] - 0s 898us/step - loss: 0.4421 - accuracy: 0.8511\n",
            "Epoch 8/100\n",
            "47/47 [==============================] - 0s 909us/step - loss: 0.4363 - accuracy: 0.8489\n",
            "Epoch 9/100\n",
            "47/47 [==============================] - 0s 972us/step - loss: 0.4165 - accuracy: 0.8489\n",
            "Epoch 10/100\n",
            "47/47 [==============================] - 0s 1ms/step - loss: 0.4317 - accuracy: 0.8489\n",
            "Epoch 11/100\n",
            "47/47 [==============================] - 0s 1ms/step - loss: 0.4458 - accuracy: 0.8489\n",
            "Epoch 12/100\n",
            "47/47 [==============================] - 0s 986us/step - loss: 0.4384 - accuracy: 0.8532\n",
            "Epoch 13/100\n",
            "47/47 [==============================] - 0s 953us/step - loss: 0.4651 - accuracy: 0.8532\n",
            "Epoch 14/100\n",
            "47/47 [==============================] - 0s 948us/step - loss: 0.4475 - accuracy: 0.8319\n",
            "Epoch 15/100\n",
            "47/47 [==============================] - 0s 1ms/step - loss: 0.4934 - accuracy: 0.8255\n",
            "Epoch 16/100\n",
            "47/47 [==============================] - 0s 1ms/step - loss: 0.4472 - accuracy: 0.8447\n",
            "Epoch 17/100\n",
            "47/47 [==============================] - 0s 947us/step - loss: 0.4747 - accuracy: 0.8383\n",
            "Epoch 18/100\n",
            "47/47 [==============================] - 0s 958us/step - loss: 0.4488 - accuracy: 0.8468\n",
            "Epoch 19/100\n",
            "47/47 [==============================] - 0s 972us/step - loss: 0.4407 - accuracy: 0.8511\n",
            "Epoch 20/100\n",
            "47/47 [==============================] - 0s 957us/step - loss: 0.4380 - accuracy: 0.8511\n",
            "Epoch 21/100\n",
            "47/47 [==============================] - 0s 929us/step - loss: 0.4331 - accuracy: 0.8532\n",
            "Epoch 22/100\n",
            "47/47 [==============================] - 0s 939us/step - loss: 0.4242 - accuracy: 0.8511\n",
            "Epoch 23/100\n",
            "47/47 [==============================] - 0s 1ms/step - loss: 0.4183 - accuracy: 0.8532\n",
            "Epoch 24/100\n",
            "47/47 [==============================] - 0s 941us/step - loss: 0.4303 - accuracy: 0.8489\n",
            "Epoch 25/100\n",
            "47/47 [==============================] - 0s 961us/step - loss: 0.4246 - accuracy: 0.8511\n",
            "Epoch 26/100\n",
            "47/47 [==============================] - 0s 939us/step - loss: 0.4335 - accuracy: 0.8532\n",
            "Epoch 27/100\n",
            "47/47 [==============================] - 0s 940us/step - loss: 0.4492 - accuracy: 0.8383\n",
            "Epoch 28/100\n",
            "47/47 [==============================] - 0s 991us/step - loss: 0.4241 - accuracy: 0.8532\n",
            "Epoch 29/100\n",
            "47/47 [==============================] - 0s 1ms/step - loss: 0.4212 - accuracy: 0.8532\n",
            "Epoch 30/100\n",
            "47/47 [==============================] - 0s 938us/step - loss: 0.4136 - accuracy: 0.8511\n",
            "Epoch 31/100\n",
            "47/47 [==============================] - 0s 1ms/step - loss: 0.4389 - accuracy: 0.8511\n",
            "Epoch 32/100\n",
            "47/47 [==============================] - 0s 1ms/step - loss: 0.4188 - accuracy: 0.8553\n",
            "Epoch 33/100\n",
            "47/47 [==============================] - 0s 937us/step - loss: 0.4428 - accuracy: 0.8532\n",
            "Epoch 34/100\n",
            "47/47 [==============================] - 0s 928us/step - loss: 0.4103 - accuracy: 0.8489\n",
            "Epoch 35/100\n",
            "47/47 [==============================] - 0s 1ms/step - loss: 0.4178 - accuracy: 0.8489\n",
            "Epoch 36/100\n",
            "47/47 [==============================] - 0s 926us/step - loss: 0.4136 - accuracy: 0.8532\n",
            "Epoch 37/100\n",
            "47/47 [==============================] - 0s 968us/step - loss: 0.4429 - accuracy: 0.8511\n",
            "Epoch 38/100\n",
            "47/47 [==============================] - 0s 978us/step - loss: 0.4258 - accuracy: 0.8489\n",
            "Epoch 39/100\n",
            "47/47 [==============================] - 0s 972us/step - loss: 0.4714 - accuracy: 0.8319\n",
            "Epoch 40/100\n",
            "47/47 [==============================] - 0s 910us/step - loss: 0.4041 - accuracy: 0.8574\n",
            "Epoch 41/100\n",
            "47/47 [==============================] - 0s 951us/step - loss: 0.4210 - accuracy: 0.8511\n",
            "Epoch 42/100\n",
            "47/47 [==============================] - 0s 899us/step - loss: 0.4418 - accuracy: 0.8447\n",
            "Epoch 43/100\n",
            "47/47 [==============================] - 0s 964us/step - loss: 0.4096 - accuracy: 0.8511\n",
            "Epoch 44/100\n",
            "47/47 [==============================] - 0s 993us/step - loss: 0.4032 - accuracy: 0.8511\n",
            "Epoch 45/100\n",
            "47/47 [==============================] - 0s 966us/step - loss: 0.4067 - accuracy: 0.8532\n",
            "Epoch 46/100\n",
            "47/47 [==============================] - 0s 952us/step - loss: 0.4030 - accuracy: 0.8532\n",
            "Epoch 47/100\n",
            "47/47 [==============================] - 0s 960us/step - loss: 0.4132 - accuracy: 0.8447\n",
            "Epoch 48/100\n",
            "47/47 [==============================] - 0s 2ms/step - loss: 0.4026 - accuracy: 0.8532\n",
            "Epoch 49/100\n",
            "47/47 [==============================] - 0s 961us/step - loss: 0.4082 - accuracy: 0.8511\n",
            "Epoch 50/100\n",
            "47/47 [==============================] - 0s 978us/step - loss: 0.4097 - accuracy: 0.8511\n",
            "Epoch 51/100\n",
            "47/47 [==============================] - 0s 980us/step - loss: 0.4124 - accuracy: 0.8532\n",
            "Epoch 52/100\n",
            "47/47 [==============================] - 0s 956us/step - loss: 0.3972 - accuracy: 0.8553\n",
            "Epoch 53/100\n",
            "47/47 [==============================] - 0s 913us/step - loss: 0.4128 - accuracy: 0.8489\n",
            "Epoch 54/100\n",
            "47/47 [==============================] - 0s 1ms/step - loss: 0.4073 - accuracy: 0.8468\n",
            "Epoch 55/100\n",
            "47/47 [==============================] - 0s 1ms/step - loss: 0.4110 - accuracy: 0.8532\n",
            "Epoch 56/100\n",
            "47/47 [==============================] - 0s 908us/step - loss: 0.3921 - accuracy: 0.8532\n",
            "Epoch 57/100\n",
            "47/47 [==============================] - 0s 969us/step - loss: 0.4091 - accuracy: 0.8532\n",
            "Epoch 58/100\n",
            "47/47 [==============================] - 0s 952us/step - loss: 0.3995 - accuracy: 0.8574\n",
            "Epoch 59/100\n",
            "47/47 [==============================] - 0s 930us/step - loss: 0.3985 - accuracy: 0.8532\n",
            "Epoch 60/100\n",
            "47/47 [==============================] - 0s 943us/step - loss: 0.3899 - accuracy: 0.8574\n",
            "Epoch 61/100\n",
            "47/47 [==============================] - 0s 933us/step - loss: 0.4041 - accuracy: 0.8553\n",
            "Epoch 62/100\n",
            "47/47 [==============================] - 0s 967us/step - loss: 0.4246 - accuracy: 0.8468\n",
            "Epoch 63/100\n",
            "47/47 [==============================] - 0s 905us/step - loss: 0.4068 - accuracy: 0.8532\n",
            "Epoch 64/100\n",
            "47/47 [==============================] - 0s 977us/step - loss: 0.4318 - accuracy: 0.8511\n",
            "Epoch 65/100\n",
            "47/47 [==============================] - 0s 1ms/step - loss: 0.3902 - accuracy: 0.8553\n",
            "Epoch 66/100\n",
            "47/47 [==============================] - 0s 943us/step - loss: 0.4312 - accuracy: 0.8511\n",
            "Epoch 67/100\n",
            "47/47 [==============================] - 0s 1ms/step - loss: 0.4164 - accuracy: 0.8489\n",
            "Epoch 68/100\n",
            "47/47 [==============================] - 0s 927us/step - loss: 0.4090 - accuracy: 0.8511\n",
            "Epoch 69/100\n",
            "47/47 [==============================] - 0s 923us/step - loss: 0.4020 - accuracy: 0.8511\n",
            "Epoch 70/100\n",
            "47/47 [==============================] - 0s 979us/step - loss: 0.3986 - accuracy: 0.8574\n",
            "Epoch 71/100\n",
            "47/47 [==============================] - 0s 1ms/step - loss: 0.4027 - accuracy: 0.8511\n",
            "Epoch 72/100\n",
            "47/47 [==============================] - 0s 1ms/step - loss: 0.4196 - accuracy: 0.8340\n",
            "Epoch 73/100\n",
            "47/47 [==============================] - 0s 993us/step - loss: 0.4019 - accuracy: 0.8532\n",
            "Epoch 74/100\n",
            "47/47 [==============================] - 0s 914us/step - loss: 0.3907 - accuracy: 0.8553\n",
            "Epoch 75/100\n",
            "47/47 [==============================] - 0s 1ms/step - loss: 0.3890 - accuracy: 0.8553\n",
            "Epoch 76/100\n",
            "47/47 [==============================] - 0s 1ms/step - loss: 0.4077 - accuracy: 0.8553\n",
            "Epoch 77/100\n",
            "47/47 [==============================] - 0s 928us/step - loss: 0.4178 - accuracy: 0.8426\n",
            "Epoch 78/100\n",
            "47/47 [==============================] - 0s 935us/step - loss: 0.4080 - accuracy: 0.8553\n",
            "Epoch 79/100\n",
            "47/47 [==============================] - 0s 1ms/step - loss: 0.4148 - accuracy: 0.8426\n",
            "Epoch 80/100\n",
            "47/47 [==============================] - 0s 1ms/step - loss: 0.4019 - accuracy: 0.8468\n",
            "Epoch 81/100\n",
            "47/47 [==============================] - 0s 970us/step - loss: 0.4057 - accuracy: 0.8532\n",
            "Epoch 82/100\n",
            "47/47 [==============================] - 0s 1ms/step - loss: 0.4184 - accuracy: 0.8489\n",
            "Epoch 83/100\n",
            "47/47 [==============================] - 0s 951us/step - loss: 0.3944 - accuracy: 0.8532\n",
            "Epoch 84/100\n",
            "47/47 [==============================] - 0s 1ms/step - loss: 0.4345 - accuracy: 0.8468\n",
            "Epoch 85/100\n",
            "47/47 [==============================] - 0s 1ms/step - loss: 0.4050 - accuracy: 0.8489\n",
            "Epoch 86/100\n",
            "47/47 [==============================] - 0s 965us/step - loss: 0.3922 - accuracy: 0.8489\n",
            "Epoch 87/100\n",
            "47/47 [==============================] - 0s 896us/step - loss: 0.3976 - accuracy: 0.8511\n",
            "Epoch 88/100\n",
            "47/47 [==============================] - 0s 976us/step - loss: 0.3966 - accuracy: 0.8468\n",
            "Epoch 89/100\n",
            "47/47 [==============================] - 0s 923us/step - loss: 0.3886 - accuracy: 0.8468\n",
            "Epoch 90/100\n",
            "47/47 [==============================] - 0s 930us/step - loss: 0.3965 - accuracy: 0.8596\n",
            "Epoch 91/100\n",
            "47/47 [==============================] - 0s 978us/step - loss: 0.4220 - accuracy: 0.8532\n",
            "Epoch 92/100\n",
            "47/47 [==============================] - 0s 935us/step - loss: 0.4198 - accuracy: 0.8489\n",
            "Epoch 93/100\n",
            "47/47 [==============================] - 0s 1ms/step - loss: 0.3953 - accuracy: 0.8511\n",
            "Epoch 94/100\n",
            "47/47 [==============================] - 0s 1ms/step - loss: 0.3871 - accuracy: 0.8489\n",
            "Epoch 95/100\n",
            "47/47 [==============================] - 0s 928us/step - loss: 0.3864 - accuracy: 0.8574\n",
            "Epoch 96/100\n",
            "47/47 [==============================] - 0s 1ms/step - loss: 0.4229 - accuracy: 0.8426\n",
            "Epoch 97/100\n",
            "47/47 [==============================] - 0s 984us/step - loss: 0.4149 - accuracy: 0.8447\n",
            "Epoch 98/100\n",
            "47/47 [==============================] - 0s 1ms/step - loss: 0.3857 - accuracy: 0.8596\n",
            "Epoch 99/100\n",
            "47/47 [==============================] - 0s 983us/step - loss: 0.4051 - accuracy: 0.8532\n",
            "Epoch 100/100\n",
            "47/47 [==============================] - 0s 997us/step - loss: 0.3832 - accuracy: 0.8468\n"
          ],
          "name": "stdout"
        },
        {
          "output_type": "execute_result",
          "data": {
            "text/plain": [
              "<tensorflow.python.keras.callbacks.History at 0x7fba037b07b8>"
            ]
          },
          "metadata": {
            "tags": []
          },
          "execution_count": 8
        }
      ]
    },
    {
      "cell_type": "markdown",
      "metadata": {
        "id": "8m5h1eIRnuio"
      },
      "source": [
        "model.compile 부분은 앞서 지정한 모델이 효과적으로 구현될 수 있게 여러가지 환경을 설정해주면서 컴파일하는 부분입니다. 먼저 어떤 오차함수를 사용할지 정해야 합니다.\n",
        "\n",
        "오차 함수에는 평균 제곱 오차 계열의 함수 외에도 교차 엔트로피 계열의 함수가 있습니다. 평균 제곱 오차 계열의 함수는 수렴하기까지 속도가 많이 걸린다는 단점이 있습니다. 교차 엔트로피 계열의 함수는 출력 값에 로그를 취해서, 오차가 커지면 수렴 속도가 빨라지고 오차가 작아지면 수렴 속도가 감소하게끔 만든 것입니다. \n",
        "\n",
        "교차 엔트로피는 주로 분류 문제에서 많이 사용되는데, 특별히 예측값이 참과 거짓 둘 중 하나인 형식일 때는 binary_crossentropy(이항 교차 엔트로피)를 씁니다."
      ]
    },
    {
      "cell_type": "code",
      "metadata": {
        "id": "5SLS3C9Jjsoc",
        "colab": {
          "base_uri": "https://localhost:8080/"
        },
        "outputId": "2a132d79-a604-4ec0-b28d-bee4e51e3832"
      },
      "source": [
        "model.summary()\n",
        "#input layer가 생략되어 있습니다\n",
        "#1 hidden layer, 1 output layer"
      ],
      "execution_count": null,
      "outputs": [
        {
          "output_type": "stream",
          "text": [
            "Model: \"sequential\"\n",
            "_________________________________________________________________\n",
            "Layer (type)                 Output Shape              Param #   \n",
            "=================================================================\n",
            "dense (Dense)                (None, 30)                540       \n",
            "_________________________________________________________________\n",
            "dense_1 (Dense)              (None, 1)                 31        \n",
            "=================================================================\n",
            "Total params: 571\n",
            "Trainable params: 571\n",
            "Non-trainable params: 0\n",
            "_________________________________________________________________\n"
          ],
          "name": "stdout"
        }
      ]
    },
    {
      "cell_type": "code",
      "metadata": {
        "id": "6YOithlFZvse"
      },
      "source": [
        ""
      ],
      "execution_count": null,
      "outputs": []
    }
  ]
}